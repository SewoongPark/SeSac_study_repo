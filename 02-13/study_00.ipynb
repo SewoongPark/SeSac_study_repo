{
 "cells": [
  {
   "cell_type": "markdown",
   "metadata": {},
   "source": [
    "## **TIL**\n",
    "* **머신러닝과 딥러닝의 차이?**\n",
    "    * 머신러닝: 정형데이터 분석\n",
    "    * 딥러닝: 비정형 데이터 포함 분석\n",
    "\n",
    "* 머신러닝을 사용하지 않는 이상 대부분은 분류 task\n",
    "* **오차 계산에서의 차이점**\n",
    "    * 고전적인 회귀 분석 머신러닝: $f(x)$ 계산식이 고정이어서 오차 계산 하지 않음\n",
    "    * 딥러닝: $w, b$를 무작위로 만들어서 오차를 계산하고, 오차가 최소가 되도록 경사하강(미분, Gradient descent)하여 오차 계산하는 과정 반복\n",
    "        \n",
    "        > * 경사하강법: 딥러닝 알고리즘 학습 시 목표는 예측값과 정답값 간의 차이인 손실 함수의 크기를 최소화시키는 파라미터를 찾는 것\n",
    "\n",
    "        <img src = \"https://img1.daumcdn.net/thumb/R1280x0/?scode=mtistory2&fname=https%3A%2F%2Fblog.kakaocdn.net%2Fdn%2Fd0DKa4%2FbtrCKjA6dHH%2FKd6HN8fi77eYBUOkQQd0q1%2Fimg.png\" style = \"width: 30%;\">"
   ]
  },
  {
   "cell_type": "code",
   "execution_count": 6,
   "metadata": {},
   "outputs": [
    {
     "data": {
      "text/plain": [
       "<matplotlib.collections.PathCollection at 0x1d733531668>"
      ]
     },
     "execution_count": 6,
     "metadata": {},
     "output_type": "execute_result"
    },
    {
     "data": {
      "image/png": "[encoded data removed]",
      "text/plain": [
       "<Figure size 640x480 with 1 Axes>"
      ]
     },
     "metadata": {},
     "output_type": "display_data"
    }
   ],
   "source": [
    "import tensorflow as tf\n",
    "from sklearn.linear_model import LinearRegression\n",
    "import numpy as np\n",
    "import matplotlib.pyplot as plt\n",
    "\n",
    "x = np.array([1,2,1,1,1,2,2,1,1])\n",
    "y = np.array([100,200,100,50,10,20,20,10,10])\n",
    "\n",
    "len(x), len(y), x.mean(), y.mean()\n",
    "\n",
    "plt.scatter(x, y)\n"
   ]
  },
  {
   "cell_type": "code",
   "execution_count": 11,
   "metadata": {},
   "outputs": [
    {
     "data": {
      "text/plain": [
       "(33.33333333333333, 13.333333333333343)"
      ]
     },
     "execution_count": 11,
     "metadata": {},
     "output_type": "execute_result"
    }
   ],
   "source": [
    "w = np.sum((x-x.mean()) * (y - y.mean())) / np.sum((x-x.mean())**2)\n",
    "b = y.mean() - w * x.mean()\n",
    "w, b"
   ]
  },
  {
   "cell_type": "code",
   "execution_count": 12,
   "metadata": {},
   "outputs": [
    {
     "data": {
      "text/plain": [
       "(array([33.33333333]), 13.333333333333343)"
      ]
     },
     "execution_count": 12,
     "metadata": {},
     "output_type": "execute_result"
    }
   ],
   "source": [
    "model = LinearRegression()\n",
    "model.fit(np.reshape(x, (-1, 1)), y)\n",
    "model.coef_, model.intercept_"
   ]
  },
  {
   "cell_type": "code",
   "execution_count": 15,
   "metadata": {},
   "outputs": [
    {
     "data": {
      "text/plain": [
       "[<matplotlib.lines.Line2D at 0x1d733688b70>]"
      ]
     },
     "execution_count": 15,
     "metadata": {},
     "output_type": "execute_result"
    },
    {
     "data": {
      "image/png": "[encoded data removed]",
      "text/plain": [
       "<Figure size 640x480 with 1 Axes>"
      ]
     },
     "metadata": {},
     "output_type": "display_data"
    }
   ],
   "source": [
    "plt.scatter(x, y)\n",
    "plt.plot(x, model.predict(np.reshape(x, (-1, 1))), 'r')"
   ]
  },
  {
   "cell_type": "markdown",
   "metadata": {},
   "source": [
    "### **훈련 데이터와 테스트 데이터**\n",
    "\n",
    "<img src = \"https://velog.velcdn.com/images%2Frcchun%2Fpost%2Ffc232e11-de18-4b8f-8028-34378f8673f2%2Fimage.png\" style = \"width: 50%\">\n",
    "\n",
    "* **훈련 데이터(Training Data):**\n",
    "\n",
    "    > * 훈련 데이터는 **모델을 학습하는 데 사용**됩니다.\n",
    "    > * 모델이 예측하고자 하는 목표 변수(타겟 변수)와 그에 대한 입력 변수(특성)들이 포함됩니다.\n",
    "    > * 일반적으로 훈련 데이터는 모델이 학습하는 데 충분한 다양성과 양을 가지고 있어야 합니다.\n",
    "    > * 훈련 데이터는 모델이 일반화(generalization)하는 데 도움이 되는 다양한 패턴과 특징을 포착해야 합니다.\n",
    "\n",
    "* **테스트 데이터(Test Data):**\n",
    "\n",
    "    > * 테스트 데이터는 모델이 학습한 후에 모델의 **성능을 평가**하는 데 사용됩니다.\n",
    "    > * 테스트 데이터는 훈련 데이터와 유사하게 구성되어 있지만 모델이 **이전에 본 적이 없는 새로운 데이터**로 구성됩니다.\n",
    "    > * 테스트 데이터를 사용하여 모델의 예측을 평가하고 모델의 성능을 측정합니다.\n",
    "    > * 모델 $w, b$의 오차가 작은지, 일치 확률이 높은지 확인\n",
    "\n",
    "* **검증용 데이터(Validation Data):**\n",
    "    > * 모델의 **성능을 조정**하기 위한 용도입니다.\n",
    "    > * 과적합이 되고 있는지 판단하거나 하이퍼파라미터의 조정을 위한 용도입니다.\n",
    "    > * 훈련용 데이터로 훈련을 모두 시킨 모델은 검증용 데이터를 사용하여 **정확도를 검증하며 하이퍼파라미터를 튜닝(tuning)** 합니다. 훈련데이터에서 경사하강(오차역전파)을 통해 오차를 줄일 때 $w, b$를 넣고 $y$값의 오차를 확인\n",
    "\n",
    "* **비유하자면 훈련 데이터는 문제지, 검증 데이터는 모의고사, 테스트 데이터는 실력을 최종적으로 평가하는 수능 시험이라고 볼 수 있다.**\n",
    "* 검증 데이터와 테스트 데이터를 나눌 만큼 데이터가 충분하지 않다면 k-폴드 교차 검증이라는 또 다른 방법을 사용\n",
    "\n",
    "    > * k-fold 교차 검증은 데이터를 k개의 서브셋(또는 폴드)으로 나누고, 각각의 폴드를 한 번씩 테스트 세트로 사용하여 모델을 k번 평가합니다.\n",
    "    > * k-1개의 폴드를 합쳐서 훈련 세트로 사용하고, 나머지 1개의 폴드를 테스트 세트로 사용합니다.\n",
    "    > * 이 과정을 k번 반복하여 각 폴드가 한 번씩 테스트 세트로 사용되도록 합니다.\n",
    "    > * 각 폴드의 성능을 평균하여 모델의 최종 성능을 계산합니다. \n",
    "\n",
    "* **훈련과 테스트 데이터를 나누는 적절한 비율**은 다음의 요소에 의해 결정됨\n",
    "    * 데이터의 양, 모델의 복잡성, 데이터의 품질, 모델 평가의 목적, 교차 검증 사용 여부\n",
    "    \n",
    "    * 일반적으로 60%~80%의 데이터를 훈련에 사용\n",
    "    * 실험을 통해 여러 비율을 시도하고 모델의 성능을 평가하여 최적의 비율을 정하는 것이 좋음\n",
    "     * 참고: `stratify`\n",
    "        > * `stratify`는 데이터를 나눌 때 클래스(또는 레이블) 간의 분포를 유지하는 방법을 의미합니다. \n",
    "        > * 특히, 기계 학습에서 주로 사용되며, 데이터를 나눌 때 각 클래스의 비율을 유지하여 훈련 및 테스트 세트를 만듭니다. \n",
    "        > * 특히, 분류 문제에서 클래스가 불균형하게 분포되어 있는 경우에는 모델이 불균형한 클래스에 대해 더 잘 학습하도록 하는 데 도움이 될 수 있습니다.\n",
    "\n",
    "* **알아두기**\n",
    "> * 훈련 데이터는 fit하지만 테스트 데이터는 fit하지 않음. \n",
    "\n",
    "> * Scaling(정규화)할 때 훈련 데이터로 맞추는 것이 아니라 테스트 데이터로 맞춤\n",
    "* **공식 알아두기: Min-max Scaler**\n",
    "    * $xscaled​ = \\frac {x−min(x)} {max(x)−min(x)}​$ <br>\n",
    "* 공부 자료: <a>https://wikidocs.net/84617</a> \n"
   ]
  },
  {
   "cell_type": "markdown",
   "metadata": {},
   "source": [
    "#### 실습: 타이타닉 승객 분류"
   ]
  },
  {
   "cell_type": "code",
   "execution_count": 2,
   "metadata": {},
   "outputs": [],
   "source": [
    "import pandas as pd\n",
    "from sklearn.preprocessing import OneHotEncoder\n",
    "from sklearn.compose import make_column_transformer\n",
    "from sklearn.linear_model import LogisticRegression\n",
    "import numpy as np"
   ]
  },
  {
   "cell_type": "code",
   "execution_count": 3,
   "metadata": {},
   "outputs": [
    {
     "name": "stdout",
     "output_type": "stream",
     "text": [
      "Collecting openpyxl\n",
      "  Using cached openpyxl-3.1.2-py2.py3-none-any.whl (249 kB)\n",
      "Collecting et-xmlfile\n",
      "  Using cached et_xmlfile-1.1.0-py3-none-any.whl (4.7 kB)\n",
      "Installing collected packages: et-xmlfile, openpyxl\n",
      "Successfully installed et-xmlfile-1.1.0 openpyxl-3.1.2\n",
      "Note: you may need to restart the kernel to use updated packages.\n"
     ]
    }
   ],
   "source": [
    "# %pip install openpyxl"
   ]
  },
  {
   "cell_type": "code",
   "execution_count": 3,
   "metadata": {},
   "outputs": [],
   "source": [
    "##########데이터 로드\n",
    "\n",
    "train_df = pd.read_excel('https://github.com/cranberryai/todak_todak_python/blob/master/machine_learning/binary_classification/%E1%84%90%E1%85%A1%E1%84%8B%E1%85%B5%E1%84%90%E1%85%A1%E1%84%82%E1%85%B5%E1%86%A8_b0fdSDZ.xlsx?raw=true',engine = \"openpyxl\" , sheet_name='train')\n",
    "test_df = pd.read_excel('https://github.com/cranberryai/todak_todak_python/blob/master/machine_learning/binary_classification/%E1%84%90%E1%85%A1%E1%84%8B%E1%85%B5%E1%84%90%E1%85%A1%E1%84%82%E1%85%B5%E1%86%A8_b0fdSDZ.xlsx?raw=true', engine = \"openpyxl\" ,sheet_name='test')"
   ]
  },
  {
   "cell_type": "code",
   "execution_count": 5,
   "metadata": {},
   "outputs": [],
   "source": [
    "labels = ['사망', '생존']\n",
    "\n",
    "##########데이터 분석\n",
    "\n",
    "##########데이터 전처리\n",
    "\n",
    "x_train = train_df.drop(['name', 'ticket', 'survival'], axis=1)\n",
    "x_test = test_df.drop(['name', 'ticket', 'survival'], axis=1)\n",
    "y_train = train_df['survival']\n",
    "y_test = test_df['survival']"
   ]
  },
  {
   "cell_type": "code",
   "execution_count": 6,
   "metadata": {},
   "outputs": [
    {
     "data": {
      "text/html": [
       "<div>\n",
       "<style scoped>\n",
       "    .dataframe tbody tr th:only-of-type {\n",
       "        vertical-align: middle;\n",
       "    }\n",
       "\n",
       "    .dataframe tbody tr th {\n",
       "        vertical-align: top;\n",
       "    }\n",
       "\n",
       "    .dataframe thead th {\n",
       "        text-align: right;\n",
       "    }\n",
       "</style>\n",
       "<table border=\"1\" class=\"dataframe\">\n",
       "  <thead>\n",
       "    <tr style=\"text-align: right;\">\n",
       "      <th></th>\n",
       "      <th>pclass</th>\n",
       "      <th>sex</th>\n",
       "      <th>age</th>\n",
       "      <th>sibsp</th>\n",
       "      <th>parch</th>\n",
       "      <th>fare</th>\n",
       "      <th>embarked</th>\n",
       "    </tr>\n",
       "  </thead>\n",
       "  <tbody>\n",
       "    <tr>\n",
       "      <th>0</th>\n",
       "      <td>2</td>\n",
       "      <td>Female</td>\n",
       "      <td>17</td>\n",
       "      <td>0</td>\n",
       "      <td>0</td>\n",
       "      <td>12.00</td>\n",
       "      <td>C</td>\n",
       "    </tr>\n",
       "    <tr>\n",
       "      <th>1</th>\n",
       "      <td>3</td>\n",
       "      <td>Female</td>\n",
       "      <td>37</td>\n",
       "      <td>0</td>\n",
       "      <td>0</td>\n",
       "      <td>9.59</td>\n",
       "      <td>S</td>\n",
       "    </tr>\n",
       "    <tr>\n",
       "      <th>2</th>\n",
       "      <td>3</td>\n",
       "      <td>Male</td>\n",
       "      <td>18</td>\n",
       "      <td>1</td>\n",
       "      <td>1</td>\n",
       "      <td>20.21</td>\n",
       "      <td>S</td>\n",
       "    </tr>\n",
       "    <tr>\n",
       "      <th>3</th>\n",
       "      <td>3</td>\n",
       "      <td>Male</td>\n",
       "      <td>30</td>\n",
       "      <td>0</td>\n",
       "      <td>0</td>\n",
       "      <td>7.90</td>\n",
       "      <td>S</td>\n",
       "    </tr>\n",
       "    <tr>\n",
       "      <th>4</th>\n",
       "      <td>3</td>\n",
       "      <td>Male</td>\n",
       "      <td>25</td>\n",
       "      <td>0</td>\n",
       "      <td>0</td>\n",
       "      <td>7.65</td>\n",
       "      <td>S</td>\n",
       "    </tr>\n",
       "  </tbody>\n",
       "</table>\n",
       "</div>"
      ],
      "text/plain": [
       "   pclass     sex  age  sibsp  parch   fare embarked\n",
       "0       2  Female   17      0      0  12.00        C\n",
       "1       3  Female   37      0      0   9.59        S\n",
       "2       3    Male   18      1      1  20.21        S\n",
       "3       3    Male   30      0      0   7.90        S\n",
       "4       3    Male   25      0      0   7.65        S"
      ]
     },
     "execution_count": 6,
     "metadata": {},
     "output_type": "execute_result"
    }
   ],
   "source": [
    "x_train.head()"
   ]
  },
  {
   "cell_type": "code",
   "execution_count": 8,
   "metadata": {},
   "outputs": [
    {
     "data": {
      "text/plain": [
       "Index(['pclass', 'sex', 'age', 'sibsp', 'parch', 'fare', 'embarked'], dtype='object')"
      ]
     },
     "execution_count": 8,
     "metadata": {},
     "output_type": "execute_result"
    }
   ],
   "source": [
    "x_train.columns"
   ]
  },
  {
   "cell_type": "code",
   "execution_count": 9,
   "metadata": {},
   "outputs": [],
   "source": [
    "transformer = make_column_transformer(\n",
    "    (OneHotEncoder(), ['pclass', 'sex', 'embarked']),\n",
    "    remainder='passthrough')\n",
    "transformer.fit(x_train)\n",
    "x_train = transformer.transform(x_train)\n",
    "x_test = transformer.transform(x_test)"
   ]
  },
  {
   "cell_type": "code",
   "execution_count": 10,
   "metadata": {},
   "outputs": [
    {
     "data": {
      "text/plain": [
       "array([[  0.  ,   1.  ,   0.  , ...,   0.  ,   0.  ,  12.  ],\n",
       "       [  0.  ,   0.  ,   1.  , ...,   0.  ,   0.  ,   9.59],\n",
       "       [  0.  ,   0.  ,   1.  , ...,   1.  ,   1.  ,  20.21],\n",
       "       ...,\n",
       "       [  1.  ,   0.  ,   0.  , ...,   1.  ,   0.  , 113.28],\n",
       "       [  1.  ,   0.  ,   0.  , ...,   0.  ,   2.  , 113.28],\n",
       "       [  0.  ,   1.  ,   0.  , ...,   0.  ,   0.  ,  13.  ]])"
      ]
     },
     "execution_count": 10,
     "metadata": {},
     "output_type": "execute_result"
    }
   ],
   "source": [
    "x_train[:100]"
   ]
  },
  {
   "cell_type": "code",
   "execution_count": 13,
   "metadata": {},
   "outputs": [
    {
     "name": "stderr",
     "output_type": "stream",
     "text": [
      "c:\\Users\\bluecom001\\miniconda3\\envs\\konlpy\\lib\\site-packages\\sklearn\\linear_model\\_logistic.py:818: ConvergenceWarning: lbfgs failed to converge (status=1):\n",
      "STOP: TOTAL NO. of ITERATIONS REACHED LIMIT.\n",
      "\n",
      "Increase the number of iterations (max_iter) or scale the data as shown in:\n",
      "    https://scikit-learn.org/stable/modules/preprocessing.html\n",
      "Please also refer to the documentation for alternative solver options:\n",
      "    https://scikit-learn.org/stable/modules/linear_model.html#logistic-regression\n",
      "  extra_warning_msg=_LOGISTIC_SOLVER_CONVERGENCE_MSG,\n"
     ]
    },
    {
     "data": {
      "text/plain": [
       "LogisticRegression()"
      ]
     },
     "execution_count": 13,
     "metadata": {},
     "output_type": "execute_result"
    }
   ],
   "source": [
    "model = LogisticRegression()\n",
    "model.fit(x_train, y_train)"
   ]
  },
  {
   "cell_type": "code",
   "execution_count": 14,
   "metadata": {},
   "outputs": [
    {
     "name": "stdout",
     "output_type": "stream",
     "text": [
      "0.7945205479452054\n",
      "0.7763578274760383\n"
     ]
    }
   ],
   "source": [
    "##########모델 검증\n",
    "\n",
    "print(model.score(x_train, y_train)) #\n",
    "\n",
    "print(model.score(x_test, y_test)) #0.7795527156549521"
   ]
  }
 ],
 "metadata": {
  "kernelspec": {
   "display_name": "konlpy",
   "language": "python",
   "name": "python3"
  },
  "language_info": {
   "codemirror_mode": {
    "name": "ipython",
    "version": 3
   },
   "file_extension": ".py",
   "mimetype": "text/x-python",
   "name": "python",
   "nbconvert_exporter": "python",
   "pygments_lexer": "ipython3",
   "version": "3.7.0"
  }
 },
 "nbformat": 4,
 "nbformat_minor": 2
}
