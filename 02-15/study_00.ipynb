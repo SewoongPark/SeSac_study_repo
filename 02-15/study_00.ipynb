{
  "nbformat": 4,
  "nbformat_minor": 0,
  "metadata": {
    "colab": {
      "provenance": [],
      "authorship_tag": "ABX9TyNmkyxzcknOyNKiKI+XPJ1L",
      "include_colab_link": true
    },
    "kernelspec": {
      "name": "python3",
      "display_name": "Python 3"
    },
    "language_info": {
      "name": "python"
    }
  },
  "cells": [
    {
      "cell_type": "markdown",
      "metadata": {
        "id": "view-in-github",
        "colab_type": "text"
      },
      "source": [
        "<a href=\"https://colab.research.google.com/github/SewoongPark/SeSac_study_repo/blob/main/study_00.ipynb\" target=\"_parent\"><img src=\"https://colab.research.google.com/assets/colab-badge.svg\" alt=\"Open In Colab\"/></a>"
      ]
    },
    {
      "cell_type": "markdown",
      "source": [
        "## **TIL**\n",
        "\n",
        "### **전이 학습(Transfer Learning)**\n",
        "* 전이 학습은 다양한 사전 훈련된 모델이 있는 작업에 유용합니다. 예를 들어, 널리 사용되는 많은 CNN(컨벌루션 신경망)은 1,400만 개 이상의 영상과 수천 개의 영상 클래스를 포함하는 ImageNet 데이터셋에 대해 사전 훈련되었습니다. <br>만약 여러분이 정원의 꽃 영상(또는 ImageNet 데이터셋에 포함되지 않은 영상)을 분류해야 하는데 꽃 영상 수가 제한적인 경우, SqueezeNet 신경망에서 계층과 가중치를 전이하고 최종 계층을 교체한 후 보유한 영상으로 모델을 재훈련시킬 수 있습니다.<br>\n",
        "이 접근법으로 여러분은 전이 학습을 통해 더 짧은 시간에 더 높은 모델 정확도를 달성할 수 있습니다.\n",
        "<img src = \"https://kr.mathworks.com/discovery/transfer-learning/_jcr_content/mainParsys/band/mainParsys/lockedsubnav/mainParsys/columns_1336656927/a8810b41-e0c1-4c16-91f9-10b6a66488fe/image_copy_1488534355.adapt.full.medium.gif/1705253487834.gif\" style=\"width: 50%;\">\n",
        "\n",
        "* **모델 종류: Resnet 50**\n",
        "> * ResNet-50은 딥러닝에서 널리 사용되는 컨볼루션 신경망 중 하나로, Microsoft Research에서 개발되었습니다. \"ResNet\"은 \"Residual Network\"의 줄임말로, 네트워크의 깊이를 키우는 동안 그라디언트 소실 문제를 해결하기 위한 특별한 구조를 가지고 있습니다\n",
        "<img src = \"https://huggingface.co/datasets/huggingface/documentation-images/resolve/main/resnet_architecture.png\">\n",
        "\n",
        "* 우수 활용 사례: tensorflow Airbnb\n",
        "  * 방 유형을 분류해서 사진을 업로드해야하는 상황(주방이냐, 거실이냐 등)\n",
        "  * 데이터 라벨링을 위해 하이브리드(사람 검수 + 자동화)방법 도입\n",
        "  * 사람들이 인터넷에 업로드한 사진과 설명을 사용하여 라벨링에 이용\n",
        "  > * 주방 사진만 가져오기 위해서 SQL로 필터링\n",
        "  \n",
        "    ``` SQL\n",
        "    WHERE LOWER(caption) NOT LIKE \"%livingroom%\"\n",
        "    WHERE LOWER(caption) NOT LIKE \"%bed%\"\n",
        "    WHERE LOWER(caption) NOT LIKE \"%bath%\"\n",
        "    ```\n",
        "\n",
        "* #### ResNet-50 모델의 특징\n",
        "* **깊이:**<br>\n",
        " > ResNet-50은 50개의 레이어로 구성됩니다. 이는 이전의 네트워크 아키텍처인 VGG나 AlexNet보다 더 깊은 네트워크입니다.\n",
        "* **Residual connections:** <br>\n",
        "> ResNet의 핵심 아이디어는 잔차 학습(Residual Learning)입니다. 각 블록에서 입력이 출력에 직접 추가되는 잔차 연결(residual connection)이 있습니다. 이를 통해 네트워크가 더 쉽게 학습하고 최적화할 수 있습니다.\n",
        "* **Bottleneck 구조:** <br>\n",
        "  > ResNet-50은 \"bottleneck\" 구조를 사용합니다. 이는 1x1, 3x3, 1x1 컨볼루션 레이어로 구성된 블록으로, 연산량을 줄이고 효율적으로 학습을 진행할 수 있도록 도와줍니다.\n",
        "\n",
        "* **Pre-trained 모델:** <br>\n",
        "> ResNet-50은 대규모 이미지 데이터셋(ImageNet)에 대해 사전 훈련된 가중치를 가진 모델로 제공됩니다. 이를 통해 전이 학습(transfer learning)을 사용하여 다양한 컴퓨터 비전 작업에 쉽게 적용할 수 있습니다.\n",
        "\n",
        "* **AlexNet**\n",
        "\n",
        "<img src = \"https://img1.daumcdn.net/thumb/R1280x0/?scode=mtistory2&fname=https%3A%2F%2Fblog.kakaocdn.net%2Fdn%2Fbxzopl%2FbtqO7hUvidV%2FSTksKg4JDu6O34PpbVFxl1%2Fimg.png\" style = \"width:70%\">\n",
        "\n",
        "* ConV층에서 Pooling은 지난 강의에서 보통 max Pooling으로 receptive field에서 지정한 구간내의 max값을 취한다고 했었죠? 그러므로 맥스풀링에서는 파라미터가 없습니다.\n",
        "* 그렇게 ConV layer를 거치면 이 feature map들을 flatten해주므로 4096개 뉴런이 있는 FC layer로 진입합니다.\n",
        "* FC층에서 FC6,7 layer에서는 가장 흔히 쓰는 Relu함수를 비선형 함수로 이용합니다\n",
        "* 그리고 출력층 FC8에서는 1000개의 class score를 뱉기 위한 softmax함수를 이용합니다.\n",
        "* 2개의 Normalization층은 실험 결과, 크게 효과가 없다고 밝혀져서 현재는 잘 사용하지 않지만 AlexNet에서는 쓰였습니다.\n"
      ],
      "metadata": {
        "id": "C74Q4s_oK6nq"
      }
    },
    {
      "cell_type": "markdown",
      "source": [
        "## **CNN**\n",
        "\n",
        "* Convolution Neural Network란?\n",
        "> * Convolutional neural network(CNN 또는 ConvNet)란 데이터로부터 직접 학습하는 딥러닝의 신경망 아키텍처입니다.\n",
        "> * CNN은 영상에서 객체, 클래스, 범주 인식을 위한 패턴을 찾을 때 특히 유용합니다. 또한, 오디오, 시계열 및 신호 데이터를 분류하는 데도 매우 효과적입니다.\n",
        "\n",
        "* #### 특징 학습, 계층 및 분류\n",
        "* CNN은 입력 계층, 출력 계층, 그리고 그 사이의 은닉 계층으로 구성됩니다.\n",
        "<img src = \"https://kr.mathworks.com/discovery/convolutional-neural-network/_jcr_content/mainParsys/band_copy_copy/mainParsys/lockedsubnav/mainParsys/columns/a32c7d5d-8012-4de1-bc76-8bd092f97db8/image_792810770_copy.adapt.full.medium.jpg/1704399443460.jpg\" style = \"width: 70%\">\n",
        "\n",
        "> * **컨볼루션 계층**은 입력 영상을 일련의 컨볼루션 필터에 통과시킵니다. <br>각 **필터는 영상에서 feature를** 활성화합니다.<br>행과 열에 대해서 Inner product연산을 수행하기 때문에 Convolution 2D라고 칭합니다. -> feature map을 추출합니다.\n",
        "  * 필터(kernel) 곧 weight이고, 필터는 많으면 많을수록 좋다.\n",
        "  * 연산 중 channel의 수는 bias의 수와 동일하다.\n",
        "\n",
        "> * **ReLU(Rectified Linear Unit) 계층**은 음수 값은 0에 매핑하고 양수 값은 그대로 두어서 더 빠르고 효과적인 훈련이 이루어지도록 합니다. <br>이때 활성화된 특징만 다음 계층으로 전달되므로 이를 활성화라고도 합니다.\n",
        "\n",
        "> * **풀링 계층**은 비선형 다운샘플링(down-sampling)을 수행하여 신경망이 학습해야 하는 파라미터의 개수를 줄임으로써 출력을 단순화합니다.<br>\n",
        "  * Max Pooling은 각 영역에서 가장 큰 값을 선택하여 해당 영역을 대표하는 값을 출력합니다. 일반적으로 2x2 윈도우 크기와 2x2 스트라이드(stride)를 사용합니다. 이는 특징 맵의 크기를 절반으로 줄입니다.\n",
        "  * 예를 들어, 2x2 Max Pooling은 2x2 영역에서 가장 큰 값을 선택하여 2x2 픽셀 영역을 1개의 픽셀로 대체합니다.\n",
        "  이러한 연산이 수십 또는 수백 개의 계층에 대해 반복되며, 각 계층은 서로 다른 특징을 식별하도록 학습합니다.\n",
        "  > * **Max Pooling에서 데이터 손실은 없는가?**\n",
        "    * Max Pooling에서는 각 영역에서 가장 큰 값을 선택하고, 선택된 값만 사용하여 특징 맵을 다운샘플링합니다. 이러한 과정에서 선택되지 않은 값들은 버려지게 됩니다. 따라서 Max Pooling은 데이터의 일부 손실을 유발합니다.\n",
        "    * 그러나 이 손실이 항상 부정적인 영향을 미치는 것은 아닙니다. Max Pooling은 불필요한 세부 정보를 제거하고 중요한 특징을 강조하는 역할을 하며, 과적합을 방지하고 모델의 일반화 성능을 향상시킬 수 있습니다. 또한, 최종적으로는 손실된 세부 정보가 네트워크의 다른 레이어에서 보정될 수 있습니다.<br>\n",
        "  따라서 Max Pooling은 데이터 손실을 유발하지만, 이는 모델의 학습과 일반화에 긍정적인 영향을 미칠 수 있습니다.\n",
        "\n",
        "    * 컴퓨터의 성능이 좋아지고 있으므로, 이미지의 크기를 줄이는 과정은 사라지는 추세임.\n",
        "  \n",
        "  \n",
        "\n",
        "> * **Fully Connected 레이어:**\n",
        "  * Fully Connected 레이어는 모든 입력 뉴런과 출력 뉴런이 서로 연결된 레이어입니다. 이는 각 입력과 출력 사이의 모든 가능한 연결을 가집니다.\n",
        "  * Fully Connected 레이어는 주로 분류(classification)나 회귀(regression)와 같은 작업을 위해 사용됩니다. 주로 출력 레이어로 사용되며, 입력 데이터를 평탄화(flatten)한 후에 사용됩니다.\n",
        "  * 예를 들어, 입력 이미지의 특징을 추출한 후에 Fully Connected 레이어를 사용하여 이미지에 대한 분류를 수행할 수 있습니다. 이때, Fully Connected 레이어의 출력은 각 클래스에 대한 확률 값을 나타냅니다.\n",
        "  * Fully Connected 레이어의 출력은 보통 클래스 수와 같은 크기를 가지며, 각 클래스에 대한 점수를 나타냅니다. 이 점수는 일반적으로 활성화 함수를 통해 클래스에 속할 확률로 변환됩니다. Softmax 함수는 이 점수를 확률로 변환하여 각 클래스에 속할 확률을 계산합니다.\n",
        "\n",
        "<img src = \"https://kr.mathworks.com/discovery/convolutional-neural-network/_jcr_content/mainParsys/band_copy_copy/mainParsys/lockedsubnav/mainParsys/columns/a32c7d5d-8012-4de1-bc76-8bd092f97db8/image_2109075398_cop.adapt.full.medium.jpg/1704399443473.jpg\" style = \"width: 70%\">\n",
        "\n",
        "> 여러 컨볼루션 계층이 있는 신경망의 예. 각 훈련 영상에 서로 다른 해상도의 필터가 적용되고, 컨볼루션된 각 영상은 다음 계층의 입력으로 사용됩니다.\n",
        "\n",
        "## **CNN 작동원리**\n",
        "<img src = \"https://velog.velcdn.com/images/nayeon_p00/post/e6e205e9-4bd7-4789-bf58-8c1b42fde7bd/image.png\">\n",
        "\n",
        "> 위 input image에서 순서대로 필터와 같은 크기 부분과 필터의 inner product 연산을 해주면 아래 빨간색 테두리 처럼 해당위치의 결과값은 4가 나옵니다. 이과정을 순서대로 위치를 옮겨가며 진행하게 됩니다.\n",
        "\n",
        "<img src = \"https://velog.velcdn.com/images/nayeon_p00/post/218f9c49-9030-4e02-9cb3-160766b82ef3/image.png\">\n",
        "\n",
        "> 3 * 3 결과 행렬에는 필터의 값과 이미지 행렬의 값을 곱하고 총합해준 값들이 저장됩니다.  \n"
      ],
      "metadata": {
        "id": "dfORWibvZ7ez"
      }
    },
    {
      "cell_type": "markdown",
      "source": [
        "### **CNN 레이어 검증**"
      ],
      "metadata": {
        "id": "j4lWGH8dKh_5"
      }
    },
    {
      "cell_type": "markdown",
      "source": [
        "**1. 텐서플로우 데이터셋의 흑백 28 * 28 손글씨 자료 50개를 갖고와서 CNN에 넣기 위하여 (28 * 28 * 1)로 변경:**"
      ],
      "metadata": {
        "id": "2UGs3hjSKlkQ"
      }
    },
    {
      "cell_type": "code",
      "execution_count": 63,
      "metadata": {
        "id": "cj8utYAjHcVs"
      },
      "outputs": [],
      "source": [
        "from tensorflow.keras import datasets, layers, models\n",
        "(train_images, train_labels), (test_images, test_labels) = datasets.mnist.load_data()\n",
        "\n",
        "train_images = train_images.reshape((60000, 28, 28, 1))[:50]\n",
        "test_images = test_images.reshape((10000, 28, 28, 1))[:50]\n",
        "train_labels = train_labels[:50]\n",
        "test_labels = test_labels[:50]"
      ]
    },
    {
      "cell_type": "markdown",
      "source": [
        "**2. 학습의편의성을위하여50개이미지를높이, 너비를10,10 으로변경**"
      ],
      "metadata": {
        "id": "uCZcbehtLRxR"
      }
    },
    {
      "cell_type": "code",
      "source": [
        "from skimage.transform import resize\n",
        "import numpy as np\n",
        "import matplotlib.pyplot as plt\n",
        "\n",
        "train_images = resize(train_images, (50, 10, 10, 1))\n",
        "test_images = resize(test_images, (50, 10, 10, 1))\n",
        "np.shape(train_images)\n",
        "plt.imshow(np.hstack(train_images[:10]), cmap = \"gray\")"
      ],
      "metadata": {
        "colab": {
          "base_uri": "https://localhost:8080/",
          "height": 130
        },
        "id": "ab4jv4rMLVlj",
        "outputId": "e3715704-0bde-4b8a-8505-c1909836ab8a"
      },
      "execution_count": 64,
      "outputs": [
        {
          "output_type": "execute_result",
          "data": {
            "text/plain": [
              "<matplotlib.image.AxesImage at 0x7c4a6b5cbdf0>"
            ]
          },
          "metadata": {},
          "execution_count": 64
        },
        {
          "output_type": "display_data",
          "data": {
            "text/plain": [
              "<Figure size 640x480 with 1 Axes>"
            ],
            "image/png": "[encoded data removed]"
          },
          "metadata": {}
        }
      ]
    },
    {
      "cell_type": "markdown",
      "source": [
        "**3. 계산 검증의 편의성을 위하여 float를 int로 변경**"
      ],
      "metadata": {
        "id": "GeFtspE6L80t"
      }
    },
    {
      "cell_type": "code",
      "source": [
        "import pandas as pd\n",
        "\n",
        "pd.DataFrame(np.vstack(train_images[0]).reshape(10, 10))"
      ],
      "metadata": {
        "colab": {
          "base_uri": "https://localhost:8080/",
          "height": 363
        },
        "id": "FgZeMVZqL7gC",
        "outputId": "ab86a989-bfef-405b-c5e2-8f0ff2825318"
      },
      "execution_count": 65,
      "outputs": [
        {
          "output_type": "execute_result",
          "data": {
            "text/plain": [
              "          0             1             2             3             4         5  \\\n",
              "0  0.000000  0.000000e+00  0.000000e+00  3.779813e-09  5.703982e-07  0.000004   \n",
              "1  0.000000  3.493966e-07  7.807178e-04  7.999273e-03  2.619184e-02  0.059819   \n",
              "2  0.000000  9.857660e-05  1.036307e-01  5.545328e-01  7.500384e-01  0.815209   \n",
              "3  0.000000  2.617595e-05  5.656854e-02  4.300613e-01  8.046835e-01  0.233121   \n",
              "4  0.000000  9.748591e-09  1.279662e-04  2.502775e-02  5.374982e-01  0.290856   \n",
              "5  0.000000  0.000000e+00  6.266862e-09  2.610279e-04  6.696573e-02  0.564458   \n",
              "6  0.000000  4.497760e-08  3.063738e-05  3.220381e-03  7.633813e-02  0.401042   \n",
              "7  0.000008  5.200728e-03  7.889449e-02  3.434775e-01  7.748787e-01  0.739755   \n",
              "8  0.000387  2.102920e-01  6.982965e-01  7.215174e-01  3.777502e-01  0.048582   \n",
              "9  0.000029  1.430609e-02  3.384249e-02  1.997844e-02  1.852532e-03  0.000012   \n",
              "\n",
              "              6         7             8             9  \n",
              "0  1.042152e-05  0.000015  8.009369e-06  1.619335e-08  \n",
              "1  1.155171e-01  0.155306  7.679844e-02  1.519801e-04  \n",
              "2  6.413300e-01  0.491694  1.539254e-01  2.481732e-04  \n",
              "3  1.624373e-01  0.008346  1.218553e-03  5.837837e-07  \n",
              "4  3.380014e-02  0.000305  1.190274e-08  0.000000e+00  \n",
              "5  5.666593e-01  0.047100  1.411354e-05  0.000000e+00  \n",
              "6  8.656932e-01  0.157746  1.073702e-04  0.000000e+00  \n",
              "7  3.174749e-01  0.021589  2.289392e-06  0.000000e+00  \n",
              "8  1.853358e-03  0.000010  1.813034e-10  0.000000e+00  \n",
              "9  1.298005e-08  0.000000  0.000000e+00  0.000000e+00  "
            ],
            "text/html": [
              "\n",
              "  <div id=\"df-3e4adde7-efa7-4276-8179-bda92987eee3\" class=\"colab-df-container\">\n",
              "    <div>\n",
              "<style scoped>\n",
              "    .dataframe tbody tr th:only-of-type {\n",
              "        vertical-align: middle;\n",
              "    }\n",
              "\n",
              "    .dataframe tbody tr th {\n",
              "        vertical-align: top;\n",
              "    }\n",
              "\n",
              "    .dataframe thead th {\n",
              "        text-align: right;\n",
              "    }\n",
              "</style>\n",
              "<table border=\"1\" class=\"dataframe\">\n",
              "  <thead>\n",
              "    <tr style=\"text-align: right;\">\n",
              "      <th></th>\n",
              "      <th>0</th>\n",
              "      <th>1</th>\n",
              "      <th>2</th>\n",
              "      <th>3</th>\n",
              "      <th>4</th>\n",
              "      <th>5</th>\n",
              "      <th>6</th>\n",
              "      <th>7</th>\n",
              "      <th>8</th>\n",
              "      <th>9</th>\n",
              "    </tr>\n",
              "  </thead>\n",
              "  <tbody>\n",
              "    <tr>\n",
              "      <th>0</th>\n",
              "      <td>0.000000</td>\n",
              "      <td>0.000000e+00</td>\n",
              "      <td>0.000000e+00</td>\n",
              "      <td>3.779813e-09</td>\n",
              "      <td>5.703982e-07</td>\n",
              "      <td>0.000004</td>\n",
              "      <td>1.042152e-05</td>\n",
              "      <td>0.000015</td>\n",
              "      <td>8.009369e-06</td>\n",
              "      <td>1.619335e-08</td>\n",
              "    </tr>\n",
              "    <tr>\n",
              "      <th>1</th>\n",
              "      <td>0.000000</td>\n",
              "      <td>3.493966e-07</td>\n",
              "      <td>7.807178e-04</td>\n",
              "      <td>7.999273e-03</td>\n",
              "      <td>2.619184e-02</td>\n",
              "      <td>0.059819</td>\n",
              "      <td>1.155171e-01</td>\n",
              "      <td>0.155306</td>\n",
              "      <td>7.679844e-02</td>\n",
              "      <td>1.519801e-04</td>\n",
              "    </tr>\n",
              "    <tr>\n",
              "      <th>2</th>\n",
              "      <td>0.000000</td>\n",
              "      <td>9.857660e-05</td>\n",
              "      <td>1.036307e-01</td>\n",
              "      <td>5.545328e-01</td>\n",
              "      <td>7.500384e-01</td>\n",
              "      <td>0.815209</td>\n",
              "      <td>6.413300e-01</td>\n",
              "      <td>0.491694</td>\n",
              "      <td>1.539254e-01</td>\n",
              "      <td>2.481732e-04</td>\n",
              "    </tr>\n",
              "    <tr>\n",
              "      <th>3</th>\n",
              "      <td>0.000000</td>\n",
              "      <td>2.617595e-05</td>\n",
              "      <td>5.656854e-02</td>\n",
              "      <td>4.300613e-01</td>\n",
              "      <td>8.046835e-01</td>\n",
              "      <td>0.233121</td>\n",
              "      <td>1.624373e-01</td>\n",
              "      <td>0.008346</td>\n",
              "      <td>1.218553e-03</td>\n",
              "      <td>5.837837e-07</td>\n",
              "    </tr>\n",
              "    <tr>\n",
              "      <th>4</th>\n",
              "      <td>0.000000</td>\n",
              "      <td>9.748591e-09</td>\n",
              "      <td>1.279662e-04</td>\n",
              "      <td>2.502775e-02</td>\n",
              "      <td>5.374982e-01</td>\n",
              "      <td>0.290856</td>\n",
              "      <td>3.380014e-02</td>\n",
              "      <td>0.000305</td>\n",
              "      <td>1.190274e-08</td>\n",
              "      <td>0.000000e+00</td>\n",
              "    </tr>\n",
              "    <tr>\n",
              "      <th>5</th>\n",
              "      <td>0.000000</td>\n",
              "      <td>0.000000e+00</td>\n",
              "      <td>6.266862e-09</td>\n",
              "      <td>2.610279e-04</td>\n",
              "      <td>6.696573e-02</td>\n",
              "      <td>0.564458</td>\n",
              "      <td>5.666593e-01</td>\n",
              "      <td>0.047100</td>\n",
              "      <td>1.411354e-05</td>\n",
              "      <td>0.000000e+00</td>\n",
              "    </tr>\n",
              "    <tr>\n",
              "      <th>6</th>\n",
              "      <td>0.000000</td>\n",
              "      <td>4.497760e-08</td>\n",
              "      <td>3.063738e-05</td>\n",
              "      <td>3.220381e-03</td>\n",
              "      <td>7.633813e-02</td>\n",
              "      <td>0.401042</td>\n",
              "      <td>8.656932e-01</td>\n",
              "      <td>0.157746</td>\n",
              "      <td>1.073702e-04</td>\n",
              "      <td>0.000000e+00</td>\n",
              "    </tr>\n",
              "    <tr>\n",
              "      <th>7</th>\n",
              "      <td>0.000008</td>\n",
              "      <td>5.200728e-03</td>\n",
              "      <td>7.889449e-02</td>\n",
              "      <td>3.434775e-01</td>\n",
              "      <td>7.748787e-01</td>\n",
              "      <td>0.739755</td>\n",
              "      <td>3.174749e-01</td>\n",
              "      <td>0.021589</td>\n",
              "      <td>2.289392e-06</td>\n",
              "      <td>0.000000e+00</td>\n",
              "    </tr>\n",
              "    <tr>\n",
              "      <th>8</th>\n",
              "      <td>0.000387</td>\n",
              "      <td>2.102920e-01</td>\n",
              "      <td>6.982965e-01</td>\n",
              "      <td>7.215174e-01</td>\n",
              "      <td>3.777502e-01</td>\n",
              "      <td>0.048582</td>\n",
              "      <td>1.853358e-03</td>\n",
              "      <td>0.000010</td>\n",
              "      <td>1.813034e-10</td>\n",
              "      <td>0.000000e+00</td>\n",
              "    </tr>\n",
              "    <tr>\n",
              "      <th>9</th>\n",
              "      <td>0.000029</td>\n",
              "      <td>1.430609e-02</td>\n",
              "      <td>3.384249e-02</td>\n",
              "      <td>1.997844e-02</td>\n",
              "      <td>1.852532e-03</td>\n",
              "      <td>0.000012</td>\n",
              "      <td>1.298005e-08</td>\n",
              "      <td>0.000000</td>\n",
              "      <td>0.000000e+00</td>\n",
              "      <td>0.000000e+00</td>\n",
              "    </tr>\n",
              "  </tbody>\n",
              "</table>\n",
              "</div>\n",
              "    <div class=\"colab-df-buttons\">\n",
              "\n",
              "  <div class=\"colab-df-container\">\n",
              "    <button class=\"colab-df-convert\" onclick=\"convertToInteractive('df-3e4adde7-efa7-4276-8179-bda92987eee3')\"\n",
              "            title=\"Convert this dataframe to an interactive table.\"\n",
              "            style=\"display:none;\">\n",
              "\n",
              "  <svg xmlns=\"http://www.w3.org/2000/svg\" height=\"24px\" viewBox=\"0 -960 960 960\">\n",
              "    <path d=\"M120-120v-720h720v720H120Zm60-500h600v-160H180v160Zm220 220h160v-160H400v160Zm0 220h160v-160H400v160ZM180-400h160v-160H180v160Zm440 0h160v-160H620v160ZM180-180h160v-160H180v160Zm440 0h160v-160H620v160Z\"/>\n",
              "  </svg>\n",
              "    </button>\n",
              "\n",
              "  <style>\n",
              "    .colab-df-container {\n",
              "      display:flex;\n",
              "      gap: 12px;\n",
              "    }\n",
              "\n",
              "    .colab-df-convert {\n",
              "      background-color: #E8F0FE;\n",
              "      border: none;\n",
              "      border-radius: 50%;\n",
              "      cursor: pointer;\n",
              "      display: none;\n",
              "      fill: #1967D2;\n",
              "      height: 32px;\n",
              "      padding: 0 0 0 0;\n",
              "      width: 32px;\n",
              "    }\n",
              "\n",
              "    .colab-df-convert:hover {\n",
              "      background-color: #E2EBFA;\n",
              "      box-shadow: 0px 1px 2px rgba(60, 64, 67, 0.3), 0px 1px 3px 1px rgba(60, 64, 67, 0.15);\n",
              "      fill: #174EA6;\n",
              "    }\n",
              "\n",
              "    .colab-df-buttons div {\n",
              "      margin-bottom: 4px;\n",
              "    }\n",
              "\n",
              "    [theme=dark] .colab-df-convert {\n",
              "      background-color: #3B4455;\n",
              "      fill: #D2E3FC;\n",
              "    }\n",
              "\n",
              "    [theme=dark] .colab-df-convert:hover {\n",
              "      background-color: #434B5C;\n",
              "      box-shadow: 0px 1px 3px 1px rgba(0, 0, 0, 0.15);\n",
              "      filter: drop-shadow(0px 1px 2px rgba(0, 0, 0, 0.3));\n",
              "      fill: #FFFFFF;\n",
              "    }\n",
              "  </style>\n",
              "\n",
              "    <script>\n",
              "      const buttonEl =\n",
              "        document.querySelector('#df-3e4adde7-efa7-4276-8179-bda92987eee3 button.colab-df-convert');\n",
              "      buttonEl.style.display =\n",
              "        google.colab.kernel.accessAllowed ? 'block' : 'none';\n",
              "\n",
              "      async function convertToInteractive(key) {\n",
              "        const element = document.querySelector('#df-3e4adde7-efa7-4276-8179-bda92987eee3');\n",
              "        const dataTable =\n",
              "          await google.colab.kernel.invokeFunction('convertToInteractive',\n",
              "                                                    [key], {});\n",
              "        if (!dataTable) return;\n",
              "\n",
              "        const docLinkHtml = 'Like what you see? Visit the ' +\n",
              "          '<a target=\"_blank\" href=https://colab.research.google.com/notebooks/data_table.ipynb>data table notebook</a>'\n",
              "          + ' to learn more about interactive tables.';\n",
              "        element.innerHTML = '';\n",
              "        dataTable['output_type'] = 'display_data';\n",
              "        await google.colab.output.renderOutput(dataTable, element);\n",
              "        const docLink = document.createElement('div');\n",
              "        docLink.innerHTML = docLinkHtml;\n",
              "        element.appendChild(docLink);\n",
              "      }\n",
              "    </script>\n",
              "  </div>\n",
              "\n",
              "\n",
              "<div id=\"df-4142f32e-7356-4717-9299-aa559c31a86d\">\n",
              "  <button class=\"colab-df-quickchart\" onclick=\"quickchart('df-4142f32e-7356-4717-9299-aa559c31a86d')\"\n",
              "            title=\"Suggest charts\"\n",
              "            style=\"display:none;\">\n",
              "\n",
              "<svg xmlns=\"http://www.w3.org/2000/svg\" height=\"24px\"viewBox=\"0 0 24 24\"\n",
              "     width=\"24px\">\n",
              "    <g>\n",
              "        <path d=\"M19 3H5c-1.1 0-2 .9-2 2v14c0 1.1.9 2 2 2h14c1.1 0 2-.9 2-2V5c0-1.1-.9-2-2-2zM9 17H7v-7h2v7zm4 0h-2V7h2v10zm4 0h-2v-4h2v4z\"/>\n",
              "    </g>\n",
              "</svg>\n",
              "  </button>\n",
              "\n",
              "<style>\n",
              "  .colab-df-quickchart {\n",
              "      --bg-color: #E8F0FE;\n",
              "      --fill-color: #1967D2;\n",
              "      --hover-bg-color: #E2EBFA;\n",
              "      --hover-fill-color: #174EA6;\n",
              "      --disabled-fill-color: #AAA;\n",
              "      --disabled-bg-color: #DDD;\n",
              "  }\n",
              "\n",
              "  [theme=dark] .colab-df-quickchart {\n",
              "      --bg-color: #3B4455;\n",
              "      --fill-color: #D2E3FC;\n",
              "      --hover-bg-color: #434B5C;\n",
              "      --hover-fill-color: #FFFFFF;\n",
              "      --disabled-bg-color: #3B4455;\n",
              "      --disabled-fill-color: #666;\n",
              "  }\n",
              "\n",
              "  .colab-df-quickchart {\n",
              "    background-color: var(--bg-color);\n",
              "    border: none;\n",
              "    border-radius: 50%;\n",
              "    cursor: pointer;\n",
              "    display: none;\n",
              "    fill: var(--fill-color);\n",
              "    height: 32px;\n",
              "    padding: 0;\n",
              "    width: 32px;\n",
              "  }\n",
              "\n",
              "  .colab-df-quickchart:hover {\n",
              "    background-color: var(--hover-bg-color);\n",
              "    box-shadow: 0 1px 2px rgba(60, 64, 67, 0.3), 0 1px 3px 1px rgba(60, 64, 67, 0.15);\n",
              "    fill: var(--button-hover-fill-color);\n",
              "  }\n",
              "\n",
              "  .colab-df-quickchart-complete:disabled,\n",
              "  .colab-df-quickchart-complete:disabled:hover {\n",
              "    background-color: var(--disabled-bg-color);\n",
              "    fill: var(--disabled-fill-color);\n",
              "    box-shadow: none;\n",
              "  }\n",
              "\n",
              "  .colab-df-spinner {\n",
              "    border: 2px solid var(--fill-color);\n",
              "    border-color: transparent;\n",
              "    border-bottom-color: var(--fill-color);\n",
              "    animation:\n",
              "      spin 1s steps(1) infinite;\n",
              "  }\n",
              "\n",
              "  @keyframes spin {\n",
              "    0% {\n",
              "      border-color: transparent;\n",
              "      border-bottom-color: var(--fill-color);\n",
              "      border-left-color: var(--fill-color);\n",
              "    }\n",
              "    20% {\n",
              "      border-color: transparent;\n",
              "      border-left-color: var(--fill-color);\n",
              "      border-top-color: var(--fill-color);\n",
              "    }\n",
              "    30% {\n",
              "      border-color: transparent;\n",
              "      border-left-color: var(--fill-color);\n",
              "      border-top-color: var(--fill-color);\n",
              "      border-right-color: var(--fill-color);\n",
              "    }\n",
              "    40% {\n",
              "      border-color: transparent;\n",
              "      border-right-color: var(--fill-color);\n",
              "      border-top-color: var(--fill-color);\n",
              "    }\n",
              "    60% {\n",
              "      border-color: transparent;\n",
              "      border-right-color: var(--fill-color);\n",
              "    }\n",
              "    80% {\n",
              "      border-color: transparent;\n",
              "      border-right-color: var(--fill-color);\n",
              "      border-bottom-color: var(--fill-color);\n",
              "    }\n",
              "    90% {\n",
              "      border-color: transparent;\n",
              "      border-bottom-color: var(--fill-color);\n",
              "    }\n",
              "  }\n",
              "</style>\n",
              "\n",
              "  <script>\n",
              "    async function quickchart(key) {\n",
              "      const quickchartButtonEl =\n",
              "        document.querySelector('#' + key + ' button');\n",
              "      quickchartButtonEl.disabled = true;  // To prevent multiple clicks.\n",
              "      quickchartButtonEl.classList.add('colab-df-spinner');\n",
              "      try {\n",
              "        const charts = await google.colab.kernel.invokeFunction(\n",
              "            'suggestCharts', [key], {});\n",
              "      } catch (error) {\n",
              "        console.error('Error during call to suggestCharts:', error);\n",
              "      }\n",
              "      quickchartButtonEl.classList.remove('colab-df-spinner');\n",
              "      quickchartButtonEl.classList.add('colab-df-quickchart-complete');\n",
              "    }\n",
              "    (() => {\n",
              "      let quickchartButtonEl =\n",
              "        document.querySelector('#df-4142f32e-7356-4717-9299-aa559c31a86d button');\n",
              "      quickchartButtonEl.style.display =\n",
              "        google.colab.kernel.accessAllowed ? 'block' : 'none';\n",
              "    })();\n",
              "  </script>\n",
              "</div>\n",
              "\n",
              "    </div>\n",
              "  </div>\n"
            ],
            "application/vnd.google.colaboratory.intrinsic+json": {
              "type": "dataframe",
              "summary": "{\n  \"name\": \"pd\",\n  \"rows\": 10,\n  \"fields\": [\n    {\n      \"column\": 0,\n      \"properties\": {\n        \"dtype\": \"number\",\n        \"std\": 0.00012131604894216553,\n        \"min\": 0.0,\n        \"max\": 0.000386624240142809,\n        \"samples\": [\n          7.550907162818471e-06,\n          2.9393640040052114e-05,\n          0.0\n        ],\n        \"num_unique_values\": 4,\n        \"semantic_type\": \"\",\n        \"description\": \"\"\n      }\n    },\n    {\n      \"column\": 1,\n      \"properties\": {\n        \"dtype\": \"number\",\n        \"std\": 0.06596964613862283,\n        \"min\": 0.0,\n        \"max\": 0.2102920103221654,\n        \"samples\": [\n          0.2102920103221654,\n          3.493965911210518e-07,\n          4.497759637837323e-08\n        ],\n        \"num_unique_values\": 9,\n        \"semantic_type\": \"\",\n        \"description\": \"\"\n      }\n    },\n    {\n      \"column\": 2,\n      \"properties\": {\n        \"dtype\": \"number\",\n        \"std\": 0.2145837580595958,\n        \"min\": 0.0,\n        \"max\": 0.698296455729064,\n        \"samples\": [\n          0.698296455729064,\n          0.0007807177618634851,\n          6.266861617963348e-09\n        ],\n        \"num_unique_values\": 10,\n        \"semantic_type\": \"\",\n        \"description\": \"\"\n      }\n    },\n    {\n      \"column\": 3,\n      \"properties\": {\n        \"dtype\": \"number\",\n        \"std\": 0.2765999784059981,\n        \"min\": 3.779812748676506e-09,\n        \"max\": 0.721517447591548,\n        \"samples\": [\n          0.721517447591548,\n          0.007999272530380151,\n          0.0002610279034572794\n        ],\n        \"num_unique_values\": 10,\n        \"semantic_type\": \"\",\n        \"description\": \"\"\n      }\n    },\n    {\n      \"column\": 4,\n      \"properties\": {\n        \"dtype\": \"number\",\n        \"std\": 0.3473823090347376,\n        \"min\": 5.703982330883101e-07,\n        \"max\": 0.8046834541555998,\n        \"samples\": [\n          0.3777501826312691,\n          0.02619184203051296,\n          0.06696572867621402\n        ],\n        \"num_unique_values\": 10,\n        \"semantic_type\": \"\",\n        \"description\": \"\"\n      }\n    },\n    {\n      \"column\": 5,\n      \"properties\": {\n        \"dtype\": \"number\",\n        \"std\": 0.30588318111970525,\n        \"min\": 3.6814123398553605e-06,\n        \"max\": 0.8152088840810892,\n        \"samples\": [\n          0.048581870557918766,\n          0.05981908664272224,\n          0.5644584771737972\n        ],\n        \"num_unique_values\": 10,\n        \"semantic_type\": \"\",\n        \"description\": \"\"\n      }\n    },\n    {\n      \"column\": 6,\n      \"properties\": {\n        \"dtype\": \"number\",\n        \"std\": 0.3148044735975715,\n        \"min\": 1.2980046119408328e-08,\n        \"max\": 0.8656931778328572,\n        \"samples\": [\n          0.0018533575217824455,\n          0.11551707171568679,\n          0.5666592748711952\n        ],\n        \"num_unique_values\": 10,\n        \"semantic_type\": \"\",\n        \"description\": \"\"\n      }\n    },\n    {\n      \"column\": 7,\n      \"properties\": {\n        \"dtype\": \"number\",\n        \"std\": 0.15481484737673465,\n        \"min\": 0.0,\n        \"max\": 0.49169380042080424,\n        \"samples\": [\n          1.02522855840472e-05,\n          0.15530618154185505,\n          0.04710048833622955\n        ],\n        \"num_unique_values\": 10,\n        \"semantic_type\": \"\",\n        \"description\": \"\"\n      }\n    },\n    {\n      \"column\": 8,\n      \"properties\": {\n        \"dtype\": \"number\",\n        \"std\": 0.05186166480536626,\n        \"min\": 0.0,\n        \"max\": 0.15392543061420264,\n        \"samples\": [\n          1.813033893658572e-10,\n          0.07679843530787585,\n          1.4113536225635636e-05\n        ],\n        \"num_unique_values\": 10,\n        \"semantic_type\": \"\",\n        \"description\": \"\"\n      }\n    },\n    {\n      \"column\": 9,\n      \"properties\": {\n        \"dtype\": \"number\",\n        \"std\": 8.732309033526115e-05,\n        \"min\": 0.0,\n        \"max\": 0.00024817315953265176,\n        \"samples\": [\n          0.000151980125190823,\n          0.0,\n          0.00024817315953265176\n        ],\n        \"num_unique_values\": 5,\n        \"semantic_type\": \"\",\n        \"description\": \"\"\n      }\n    }\n  ]\n}"
            }
          },
          "metadata": {},
          "execution_count": 65
        }
      ]
    },
    {
      "cell_type": "code",
      "source": [
        "train_images = (train_images * 10).astype('int32')\n",
        "test_images = (test_images * 10).astype('int32')\n",
        "pd.DataFrame(np.vstack(train_images[0]).reshape(10, 10))"
      ],
      "metadata": {
        "colab": {
          "base_uri": "https://localhost:8080/",
          "height": 363
        },
        "id": "iIOtL9XBMUIW",
        "outputId": "0bd5eb52-2e7e-4f6d-d8be-4d1396e1d590"
      },
      "execution_count": 66,
      "outputs": [
        {
          "output_type": "execute_result",
          "data": {
            "text/plain": [
              "   0  1  2  3  4  5  6  7  8  9\n",
              "0  0  0  0  0  0  0  0  0  0  0\n",
              "1  0  0  0  0  0  0  1  1  0  0\n",
              "2  0  0  1  5  7  8  6  4  1  0\n",
              "3  0  0  0  4  8  2  1  0  0  0\n",
              "4  0  0  0  0  5  2  0  0  0  0\n",
              "5  0  0  0  0  0  5  5  0  0  0\n",
              "6  0  0  0  0  0  4  8  1  0  0\n",
              "7  0  0  0  3  7  7  3  0  0  0\n",
              "8  0  2  6  7  3  0  0  0  0  0\n",
              "9  0  0  0  0  0  0  0  0  0  0"
            ],
            "text/html": [
              "\n",
              "  <div id=\"df-7b79de74-2306-4e19-95e2-5770375bac37\" class=\"colab-df-container\">\n",
              "    <div>\n",
              "<style scoped>\n",
              "    .dataframe tbody tr th:only-of-type {\n",
              "        vertical-align: middle;\n",
              "    }\n",
              "\n",
              "    .dataframe tbody tr th {\n",
              "        vertical-align: top;\n",
              "    }\n",
              "\n",
              "    .dataframe thead th {\n",
              "        text-align: right;\n",
              "    }\n",
              "</style>\n",
              "<table border=\"1\" class=\"dataframe\">\n",
              "  <thead>\n",
              "    <tr style=\"text-align: right;\">\n",
              "      <th></th>\n",
              "      <th>0</th>\n",
              "      <th>1</th>\n",
              "      <th>2</th>\n",
              "      <th>3</th>\n",
              "      <th>4</th>\n",
              "      <th>5</th>\n",
              "      <th>6</th>\n",
              "      <th>7</th>\n",
              "      <th>8</th>\n",
              "      <th>9</th>\n",
              "    </tr>\n",
              "  </thead>\n",
              "  <tbody>\n",
              "    <tr>\n",
              "      <th>0</th>\n",
              "      <td>0</td>\n",
              "      <td>0</td>\n",
              "      <td>0</td>\n",
              "      <td>0</td>\n",
              "      <td>0</td>\n",
              "      <td>0</td>\n",
              "      <td>0</td>\n",
              "      <td>0</td>\n",
              "      <td>0</td>\n",
              "      <td>0</td>\n",
              "    </tr>\n",
              "    <tr>\n",
              "      <th>1</th>\n",
              "      <td>0</td>\n",
              "      <td>0</td>\n",
              "      <td>0</td>\n",
              "      <td>0</td>\n",
              "      <td>0</td>\n",
              "      <td>0</td>\n",
              "      <td>1</td>\n",
              "      <td>1</td>\n",
              "      <td>0</td>\n",
              "      <td>0</td>\n",
              "    </tr>\n",
              "    <tr>\n",
              "      <th>2</th>\n",
              "      <td>0</td>\n",
              "      <td>0</td>\n",
              "      <td>1</td>\n",
              "      <td>5</td>\n",
              "      <td>7</td>\n",
              "      <td>8</td>\n",
              "      <td>6</td>\n",
              "      <td>4</td>\n",
              "      <td>1</td>\n",
              "      <td>0</td>\n",
              "    </tr>\n",
              "    <tr>\n",
              "      <th>3</th>\n",
              "      <td>0</td>\n",
              "      <td>0</td>\n",
              "      <td>0</td>\n",
              "      <td>4</td>\n",
              "      <td>8</td>\n",
              "      <td>2</td>\n",
              "      <td>1</td>\n",
              "      <td>0</td>\n",
              "      <td>0</td>\n",
              "      <td>0</td>\n",
              "    </tr>\n",
              "    <tr>\n",
              "      <th>4</th>\n",
              "      <td>0</td>\n",
              "      <td>0</td>\n",
              "      <td>0</td>\n",
              "      <td>0</td>\n",
              "      <td>5</td>\n",
              "      <td>2</td>\n",
              "      <td>0</td>\n",
              "      <td>0</td>\n",
              "      <td>0</td>\n",
              "      <td>0</td>\n",
              "    </tr>\n",
              "    <tr>\n",
              "      <th>5</th>\n",
              "      <td>0</td>\n",
              "      <td>0</td>\n",
              "      <td>0</td>\n",
              "      <td>0</td>\n",
              "      <td>0</td>\n",
              "      <td>5</td>\n",
              "      <td>5</td>\n",
              "      <td>0</td>\n",
              "      <td>0</td>\n",
              "      <td>0</td>\n",
              "    </tr>\n",
              "    <tr>\n",
              "      <th>6</th>\n",
              "      <td>0</td>\n",
              "      <td>0</td>\n",
              "      <td>0</td>\n",
              "      <td>0</td>\n",
              "      <td>0</td>\n",
              "      <td>4</td>\n",
              "      <td>8</td>\n",
              "      <td>1</td>\n",
              "      <td>0</td>\n",
              "      <td>0</td>\n",
              "    </tr>\n",
              "    <tr>\n",
              "      <th>7</th>\n",
              "      <td>0</td>\n",
              "      <td>0</td>\n",
              "      <td>0</td>\n",
              "      <td>3</td>\n",
              "      <td>7</td>\n",
              "      <td>7</td>\n",
              "      <td>3</td>\n",
              "      <td>0</td>\n",
              "      <td>0</td>\n",
              "      <td>0</td>\n",
              "    </tr>\n",
              "    <tr>\n",
              "      <th>8</th>\n",
              "      <td>0</td>\n",
              "      <td>2</td>\n",
              "      <td>6</td>\n",
              "      <td>7</td>\n",
              "      <td>3</td>\n",
              "      <td>0</td>\n",
              "      <td>0</td>\n",
              "      <td>0</td>\n",
              "      <td>0</td>\n",
              "      <td>0</td>\n",
              "    </tr>\n",
              "    <tr>\n",
              "      <th>9</th>\n",
              "      <td>0</td>\n",
              "      <td>0</td>\n",
              "      <td>0</td>\n",
              "      <td>0</td>\n",
              "      <td>0</td>\n",
              "      <td>0</td>\n",
              "      <td>0</td>\n",
              "      <td>0</td>\n",
              "      <td>0</td>\n",
              "      <td>0</td>\n",
              "    </tr>\n",
              "  </tbody>\n",
              "</table>\n",
              "</div>\n",
              "    <div class=\"colab-df-buttons\">\n",
              "\n",
              "  <div class=\"colab-df-container\">\n",
              "    <button class=\"colab-df-convert\" onclick=\"convertToInteractive('df-7b79de74-2306-4e19-95e2-5770375bac37')\"\n",
              "            title=\"Convert this dataframe to an interactive table.\"\n",
              "            style=\"display:none;\">\n",
              "\n",
              "  <svg xmlns=\"http://www.w3.org/2000/svg\" height=\"24px\" viewBox=\"0 -960 960 960\">\n",
              "    <path d=\"M120-120v-720h720v720H120Zm60-500h600v-160H180v160Zm220 220h160v-160H400v160Zm0 220h160v-160H400v160ZM180-400h160v-160H180v160Zm440 0h160v-160H620v160ZM180-180h160v-160H180v160Zm440 0h160v-160H620v160Z\"/>\n",
              "  </svg>\n",
              "    </button>\n",
              "\n",
              "  <style>\n",
              "    .colab-df-container {\n",
              "      display:flex;\n",
              "      gap: 12px;\n",
              "    }\n",
              "\n",
              "    .colab-df-convert {\n",
              "      background-color: #E8F0FE;\n",
              "      border: none;\n",
              "      border-radius: 50%;\n",
              "      cursor: pointer;\n",
              "      display: none;\n",
              "      fill: #1967D2;\n",
              "      height: 32px;\n",
              "      padding: 0 0 0 0;\n",
              "      width: 32px;\n",
              "    }\n",
              "\n",
              "    .colab-df-convert:hover {\n",
              "      background-color: #E2EBFA;\n",
              "      box-shadow: 0px 1px 2px rgba(60, 64, 67, 0.3), 0px 1px 3px 1px rgba(60, 64, 67, 0.15);\n",
              "      fill: #174EA6;\n",
              "    }\n",
              "\n",
              "    .colab-df-buttons div {\n",
              "      margin-bottom: 4px;\n",
              "    }\n",
              "\n",
              "    [theme=dark] .colab-df-convert {\n",
              "      background-color: #3B4455;\n",
              "      fill: #D2E3FC;\n",
              "    }\n",
              "\n",
              "    [theme=dark] .colab-df-convert:hover {\n",
              "      background-color: #434B5C;\n",
              "      box-shadow: 0px 1px 3px 1px rgba(0, 0, 0, 0.15);\n",
              "      filter: drop-shadow(0px 1px 2px rgba(0, 0, 0, 0.3));\n",
              "      fill: #FFFFFF;\n",
              "    }\n",
              "  </style>\n",
              "\n",
              "    <script>\n",
              "      const buttonEl =\n",
              "        document.querySelector('#df-7b79de74-2306-4e19-95e2-5770375bac37 button.colab-df-convert');\n",
              "      buttonEl.style.display =\n",
              "        google.colab.kernel.accessAllowed ? 'block' : 'none';\n",
              "\n",
              "      async function convertToInteractive(key) {\n",
              "        const element = document.querySelector('#df-7b79de74-2306-4e19-95e2-5770375bac37');\n",
              "        const dataTable =\n",
              "          await google.colab.kernel.invokeFunction('convertToInteractive',\n",
              "                                                    [key], {});\n",
              "        if (!dataTable) return;\n",
              "\n",
              "        const docLinkHtml = 'Like what you see? Visit the ' +\n",
              "          '<a target=\"_blank\" href=https://colab.research.google.com/notebooks/data_table.ipynb>data table notebook</a>'\n",
              "          + ' to learn more about interactive tables.';\n",
              "        element.innerHTML = '';\n",
              "        dataTable['output_type'] = 'display_data';\n",
              "        await google.colab.output.renderOutput(dataTable, element);\n",
              "        const docLink = document.createElement('div');\n",
              "        docLink.innerHTML = docLinkHtml;\n",
              "        element.appendChild(docLink);\n",
              "      }\n",
              "    </script>\n",
              "  </div>\n",
              "\n",
              "\n",
              "<div id=\"df-43aa5f33-c6a2-45f1-b5cd-d7b2fc2eb31e\">\n",
              "  <button class=\"colab-df-quickchart\" onclick=\"quickchart('df-43aa5f33-c6a2-45f1-b5cd-d7b2fc2eb31e')\"\n",
              "            title=\"Suggest charts\"\n",
              "            style=\"display:none;\">\n",
              "\n",
              "<svg xmlns=\"http://www.w3.org/2000/svg\" height=\"24px\"viewBox=\"0 0 24 24\"\n",
              "     width=\"24px\">\n",
              "    <g>\n",
              "        <path d=\"M19 3H5c-1.1 0-2 .9-2 2v14c0 1.1.9 2 2 2h14c1.1 0 2-.9 2-2V5c0-1.1-.9-2-2-2zM9 17H7v-7h2v7zm4 0h-2V7h2v10zm4 0h-2v-4h2v4z\"/>\n",
              "    </g>\n",
              "</svg>\n",
              "  </button>\n",
              "\n",
              "<style>\n",
              "  .colab-df-quickchart {\n",
              "      --bg-color: #E8F0FE;\n",
              "      --fill-color: #1967D2;\n",
              "      --hover-bg-color: #E2EBFA;\n",
              "      --hover-fill-color: #174EA6;\n",
              "      --disabled-fill-color: #AAA;\n",
              "      --disabled-bg-color: #DDD;\n",
              "  }\n",
              "\n",
              "  [theme=dark] .colab-df-quickchart {\n",
              "      --bg-color: #3B4455;\n",
              "      --fill-color: #D2E3FC;\n",
              "      --hover-bg-color: #434B5C;\n",
              "      --hover-fill-color: #FFFFFF;\n",
              "      --disabled-bg-color: #3B4455;\n",
              "      --disabled-fill-color: #666;\n",
              "  }\n",
              "\n",
              "  .colab-df-quickchart {\n",
              "    background-color: var(--bg-color);\n",
              "    border: none;\n",
              "    border-radius: 50%;\n",
              "    cursor: pointer;\n",
              "    display: none;\n",
              "    fill: var(--fill-color);\n",
              "    height: 32px;\n",
              "    padding: 0;\n",
              "    width: 32px;\n",
              "  }\n",
              "\n",
              "  .colab-df-quickchart:hover {\n",
              "    background-color: var(--hover-bg-color);\n",
              "    box-shadow: 0 1px 2px rgba(60, 64, 67, 0.3), 0 1px 3px 1px rgba(60, 64, 67, 0.15);\n",
              "    fill: var(--button-hover-fill-color);\n",
              "  }\n",
              "\n",
              "  .colab-df-quickchart-complete:disabled,\n",
              "  .colab-df-quickchart-complete:disabled:hover {\n",
              "    background-color: var(--disabled-bg-color);\n",
              "    fill: var(--disabled-fill-color);\n",
              "    box-shadow: none;\n",
              "  }\n",
              "\n",
              "  .colab-df-spinner {\n",
              "    border: 2px solid var(--fill-color);\n",
              "    border-color: transparent;\n",
              "    border-bottom-color: var(--fill-color);\n",
              "    animation:\n",
              "      spin 1s steps(1) infinite;\n",
              "  }\n",
              "\n",
              "  @keyframes spin {\n",
              "    0% {\n",
              "      border-color: transparent;\n",
              "      border-bottom-color: var(--fill-color);\n",
              "      border-left-color: var(--fill-color);\n",
              "    }\n",
              "    20% {\n",
              "      border-color: transparent;\n",
              "      border-left-color: var(--fill-color);\n",
              "      border-top-color: var(--fill-color);\n",
              "    }\n",
              "    30% {\n",
              "      border-color: transparent;\n",
              "      border-left-color: var(--fill-color);\n",
              "      border-top-color: var(--fill-color);\n",
              "      border-right-color: var(--fill-color);\n",
              "    }\n",
              "    40% {\n",
              "      border-color: transparent;\n",
              "      border-right-color: var(--fill-color);\n",
              "      border-top-color: var(--fill-color);\n",
              "    }\n",
              "    60% {\n",
              "      border-color: transparent;\n",
              "      border-right-color: var(--fill-color);\n",
              "    }\n",
              "    80% {\n",
              "      border-color: transparent;\n",
              "      border-right-color: var(--fill-color);\n",
              "      border-bottom-color: var(--fill-color);\n",
              "    }\n",
              "    90% {\n",
              "      border-color: transparent;\n",
              "      border-bottom-color: var(--fill-color);\n",
              "    }\n",
              "  }\n",
              "</style>\n",
              "\n",
              "  <script>\n",
              "    async function quickchart(key) {\n",
              "      const quickchartButtonEl =\n",
              "        document.querySelector('#' + key + ' button');\n",
              "      quickchartButtonEl.disabled = true;  // To prevent multiple clicks.\n",
              "      quickchartButtonEl.classList.add('colab-df-spinner');\n",
              "      try {\n",
              "        const charts = await google.colab.kernel.invokeFunction(\n",
              "            'suggestCharts', [key], {});\n",
              "      } catch (error) {\n",
              "        console.error('Error during call to suggestCharts:', error);\n",
              "      }\n",
              "      quickchartButtonEl.classList.remove('colab-df-spinner');\n",
              "      quickchartButtonEl.classList.add('colab-df-quickchart-complete');\n",
              "    }\n",
              "    (() => {\n",
              "      let quickchartButtonEl =\n",
              "        document.querySelector('#df-43aa5f33-c6a2-45f1-b5cd-d7b2fc2eb31e button');\n",
              "      quickchartButtonEl.style.display =\n",
              "        google.colab.kernel.accessAllowed ? 'block' : 'none';\n",
              "    })();\n",
              "  </script>\n",
              "</div>\n",
              "\n",
              "    </div>\n",
              "  </div>\n"
            ],
            "application/vnd.google.colaboratory.intrinsic+json": {
              "type": "dataframe",
              "summary": "{\n  \"name\": \"pd\",\n  \"rows\": 10,\n  \"fields\": [\n    {\n      \"column\": 0,\n      \"properties\": {\n        \"dtype\": \"int32\",\n        \"samples\": [\n          0\n        ],\n        \"num_unique_values\": 1,\n        \"semantic_type\": \"\",\n        \"description\": \"\"\n      }\n    },\n    {\n      \"column\": 1,\n      \"properties\": {\n        \"dtype\": \"int32\",\n        \"samples\": [\n          2\n        ],\n        \"num_unique_values\": 2,\n        \"semantic_type\": \"\",\n        \"description\": \"\"\n      }\n    },\n    {\n      \"column\": 2,\n      \"properties\": {\n        \"dtype\": \"int32\",\n        \"samples\": [\n          0\n        ],\n        \"num_unique_values\": 3,\n        \"semantic_type\": \"\",\n        \"description\": \"\"\n      }\n    },\n    {\n      \"column\": 3,\n      \"properties\": {\n        \"dtype\": \"int32\",\n        \"samples\": [\n          5\n        ],\n        \"num_unique_values\": 5,\n        \"semantic_type\": \"\",\n        \"description\": \"\"\n      }\n    },\n    {\n      \"column\": 4,\n      \"properties\": {\n        \"dtype\": \"int32\",\n        \"samples\": [\n          7\n        ],\n        \"num_unique_values\": 5,\n        \"semantic_type\": \"\",\n        \"description\": \"\"\n      }\n    },\n    {\n      \"column\": 5,\n      \"properties\": {\n        \"dtype\": \"int32\",\n        \"samples\": [\n          0\n        ],\n        \"num_unique_values\": 6,\n        \"semantic_type\": \"\",\n        \"description\": \"\"\n      }\n    },\n    {\n      \"column\": 6,\n      \"properties\": {\n        \"dtype\": \"int32\",\n        \"samples\": [\n          0\n        ],\n        \"num_unique_values\": 6,\n        \"semantic_type\": \"\",\n        \"description\": \"\"\n      }\n    },\n    {\n      \"column\": 7,\n      \"properties\": {\n        \"dtype\": \"int32\",\n        \"samples\": [\n          0\n        ],\n        \"num_unique_values\": 3,\n        \"semantic_type\": \"\",\n        \"description\": \"\"\n      }\n    },\n    {\n      \"column\": 8,\n      \"properties\": {\n        \"dtype\": \"int32\",\n        \"samples\": [\n          1\n        ],\n        \"num_unique_values\": 2,\n        \"semantic_type\": \"\",\n        \"description\": \"\"\n      }\n    },\n    {\n      \"column\": 9,\n      \"properties\": {\n        \"dtype\": \"int32\",\n        \"samples\": [\n          0\n        ],\n        \"num_unique_values\": 1,\n        \"semantic_type\": \"\",\n        \"description\": \"\"\n      }\n    }\n  ]\n}"
            }
          },
          "metadata": {},
          "execution_count": 66
        }
      ]
    },
    {
      "cell_type": "code",
      "source": [
        "plt.imshow(train_images[0], cmap = \"gray\")"
      ],
      "metadata": {
        "colab": {
          "base_uri": "https://localhost:8080/",
          "height": 447
        },
        "id": "7e2AAjI7Mlg1",
        "outputId": "d59258d5-e14e-49a6-dbe5-4c88392b12af"
      },
      "execution_count": 67,
      "outputs": [
        {
          "output_type": "execute_result",
          "data": {
            "text/plain": [
              "<matplotlib.image.AxesImage at 0x7c4a6b5c3490>"
            ]
          },
          "metadata": {},
          "execution_count": 67
        },
        {
          "output_type": "display_data",
          "data": {
            "text/plain": [
              "<Figure size 640x480 with 1 Axes>"
            ],
            "image/png": "[encoded data removed]"
          },
          "metadata": {}
        }
      ]
    },
    {
      "cell_type": "markdown",
      "source": [
        "**4. CNN 모델 제작**"
      ],
      "metadata": {
        "id": "29TLKiVnMsIN"
      }
    },
    {
      "cell_type": "code",
      "source": [
        "import tensorflow as tf\n",
        "tf.random.set_seed(123)\n",
        "model = models.Sequential()\n",
        "model.add(layers.Conv2D(1, (3, 3), activation = \"relu\", input_shape = (10, 10, 1))) # output: (10 - 3) + 1 = (8 * 8) (이미지 크기:10, 커널 크기: 3, 채널 1)\n",
        "model.add(layers.MaxPooling2D((2, 2))) # output: (4 * 4), 채널 1\n",
        "model.add(layers.Conv2D(2, (3, 3), activation = \"relu\")) # output: (4 - 3) + 1 = (2 * 2 * 3)\n",
        "\n",
        "model.add(layers.Flatten()) # output: (2 * 2 * 3) = (12, )\n",
        "model.add(layers.Dense(2, activation = \"relu\")) # output: {(12 + 1) + (12 + 1)} * 2 = (26, )\n",
        "model.add(layers.Dense(10, activation = \"softmax\")) # output: 26 params\n"
      ],
      "metadata": {
        "id": "9p_GTP0HMrSw"
      },
      "execution_count": 68,
      "outputs": []
    },
    {
      "cell_type": "code",
      "source": [
        "import tensorflow as tf\n",
        "\n",
        "get_layer_name = [layer.name for layer in model.layers]\n",
        "get_output = [layer.output for layer in model.layers]\n",
        "\n",
        "get_output"
      ],
      "metadata": {
        "colab": {
          "base_uri": "https://localhost:8080/"
        },
        "id": "MaA8eN1aPEPp",
        "outputId": "730e39ea-de41-48d9-f633-ad8c7c491a2c"
      },
      "execution_count": 82,
      "outputs": [
        {
          "output_type": "execute_result",
          "data": {
            "text/plain": [
              "[<KerasTensor: shape=(None, 8, 8, 1) dtype=float32 (created by layer 'conv2d_6')>,\n",
              " <KerasTensor: shape=(None, 4, 4, 1) dtype=float32 (created by layer 'max_pooling2d_3')>,\n",
              " <KerasTensor: shape=(None, 2, 2, 2) dtype=float32 (created by layer 'conv2d_7')>,\n",
              " <KerasTensor: shape=(None, 8) dtype=float32 (created by layer 'flatten_3')>,\n",
              " <KerasTensor: shape=(None, 2) dtype=float32 (created by layer 'dense_6')>,\n",
              " <KerasTensor: shape=(None, 10) dtype=float32 (created by layer 'dense_7')>]"
            ]
          },
          "metadata": {},
          "execution_count": 82
        }
      ]
    },
    {
      "cell_type": "markdown",
      "source": [
        "**5. 모델w값setting**"
      ],
      "metadata": {
        "id": "1JeX8_ULPTMd"
      }
    },
    {
      "cell_type": "code",
      "source": [
        "# 첫번째 레이어만 조회\n",
        "visual_model = tf.keras.models.Model(inputs = model.input, outputs = get_output[0])\n",
        "visual_model.summary()\n",
        "test_img = np.expand_dims(test_images[0], axis = 0)\n",
        "feature_maps = visual_model.predict(test_img)"
      ],
      "metadata": {
        "colab": {
          "base_uri": "https://localhost:8080/"
        },
        "id": "22lrFBXLPSpz",
        "outputId": "ccec588a-18be-46ac-dc17-3f3ca500ffd3"
      },
      "execution_count": 83,
      "outputs": [
        {
          "output_type": "stream",
          "name": "stdout",
          "text": [
            "Model: \"model_12\"\n",
            "_________________________________________________________________\n",
            " Layer (type)                Output Shape              Param #   \n",
            "=================================================================\n",
            " conv2d_6_input (InputLayer  [(None, 10, 10, 1)]       0         \n",
            " )                                                               \n",
            "                                                                 \n",
            " conv2d_6 (Conv2D)           (None, 8, 8, 1)           10        \n",
            "                                                                 \n",
            "=================================================================\n",
            "Total params: 10 (40.00 Byte)\n",
            "Trainable params: 10 (40.00 Byte)\n",
            "Non-trainable params: 0 (0.00 Byte)\n",
            "_________________________________________________________________\n",
            "1/1 [==============================] - 0s 44ms/step\n"
          ]
        }
      ]
    },
    {
      "cell_type": "code",
      "source": [
        "len(visual_model.get_weights()),\\\n",
        "visual_model.get_weights()[0],\\\n",
        "visual_model.get_weights()[1]"
      ],
      "metadata": {
        "colab": {
          "base_uri": "https://localhost:8080/"
        },
        "id": "8ql0iU_WQN2r",
        "outputId": "9abebc5d-9325-4e54-d44b-90e9f8cc7e6c"
      },
      "execution_count": 84,
      "outputs": [
        {
          "output_type": "execute_result",
          "data": {
            "text/plain": [
              "(2,\n",
              " array([[[[-0.4318703 ]],\n",
              " \n",
              "         [[ 0.08380783]],\n",
              " \n",
              "         [[-0.23193197]]],\n",
              " \n",
              " \n",
              "        [[[ 0.05313462]],\n",
              " \n",
              "         [[ 0.25442973]],\n",
              " \n",
              "         [[ 0.33345792]]],\n",
              " \n",
              " \n",
              "        [[[-0.22227043]],\n",
              " \n",
              "         [[-0.02131751]],\n",
              " \n",
              "         [[ 0.17737235]]]], dtype=float32),\n",
              " array([-0.00019932], dtype=float32))"
            ]
          },
          "metadata": {},
          "execution_count": 84
        }
      ]
    },
    {
      "cell_type": "code",
      "source": [
        "setW = np.array([[-0.4318703, 0.08380783, -0.23193197],\n",
        " [0.05313462, 0.25442973, 0.33345792],\n",
        "  [-0.22227043, -0.02131751, 0.17737235]])\n",
        "setB = np.array([-0.00019932])\n",
        "\n",
        "setW = setW.reshape(3,3,1,1)\n",
        "weights = setW, setB\n",
        "visual_model.set_weights(weights)"
      ],
      "metadata": {
        "id": "MJa7eOGCUGrM"
      },
      "execution_count": 89,
      "outputs": []
    },
    {
      "cell_type": "code",
      "source": [
        "w = visual_model.get_weights()[0]\n",
        "b = visual_model.get_weights()[1]\n",
        "\n",
        "np.shape(w), np.vstack(w).reshape(3, 3), b"
      ],
      "metadata": {
        "colab": {
          "base_uri": "https://localhost:8080/"
        },
        "id": "RqxFpJLLR5iv",
        "outputId": "13561fb5-f66f-4163-e503-9a6baeb47da9"
      },
      "execution_count": 90,
      "outputs": [
        {
          "output_type": "execute_result",
          "data": {
            "text/plain": [
              "((3, 3, 1, 1),\n",
              " array([[-0.4318703 ,  0.08380783, -0.23193197],\n",
              "        [ 0.05313462,  0.25442973,  0.33345792],\n",
              "        [-0.22227043, -0.02131751,  0.17737235]], dtype=float32),\n",
              " array([-0.00019932], dtype=float32))"
            ]
          },
          "metadata": {},
          "execution_count": 90
        }
      ]
    },
    {
      "cell_type": "code",
      "source": [
        "wVal = np.vstack(w).reshape(3, 3) # kernel화\n",
        "img = np.vstack(train_images[0]).reshape(10, 10)\n",
        "img[:3,:3]*wVal, np.sum(img[:3,:3]*wVal)+b"
      ],
      "metadata": {
        "colab": {
          "base_uri": "https://localhost:8080/"
        },
        "id": "T0R4BLJ4SLI3",
        "outputId": "86c510bc-def0-437c-c7e7-1b687554ff7f"
      },
      "execution_count": 87,
      "outputs": [
        {
          "output_type": "execute_result",
          "data": {
            "text/plain": [
              "(array([[-0.        ,  0.        , -0.        ],\n",
              "        [ 0.        ,  0.        ,  0.        ],\n",
              "        [-0.        , -0.        ,  0.17737235]]),\n",
              " array([0.17717303], dtype=float32))"
            ]
          },
          "metadata": {},
          "execution_count": 87
        }
      ]
    },
    {
      "cell_type": "code",
      "source": [
        "wVal, b"
      ],
      "metadata": {
        "colab": {
          "base_uri": "https://localhost:8080/"
        },
        "id": "WaSAuiiCda5b",
        "outputId": "708b3a71-081c-49df-f18e-3fa1bd51d532"
      },
      "execution_count": 92,
      "outputs": [
        {
          "output_type": "execute_result",
          "data": {
            "text/plain": [
              "(array([[-0.4318703 ,  0.08380783, -0.23193197],\n",
              "        [ 0.05313462,  0.25442973,  0.33345792],\n",
              "        [-0.22227043, -0.02131751,  0.17737235]], dtype=float32),\n",
              " array([-0.00019932], dtype=float32))"
            ]
          },
          "metadata": {},
          "execution_count": 92
        }
      ]
    },
    {
      "cell_type": "markdown",
      "source": [
        "**6. 모델 결과 계산(feature_maps 계산)**"
      ],
      "metadata": {
        "id": "LBpaUYAaTSmL"
      }
    },
    {
      "cell_type": "code",
      "source": [
        "wVal = np.vstack(w).reshape(3, 3)\n",
        "img = np.vstack(train_images[0]).reshape(10, 10)\n",
        "print(\"▶---0:3, 0:3에서 stride 1한 높이 0:3, 너비 1:4 인덱싱 값\")\n",
        "print(img[0:3, 1:4])\n",
        "\n",
        "print(\"\\n▶---img[0:3, 1:4] * w\")\n",
        "print(img[0:3, 1:4] * wVal )\n",
        "\n",
        "print(\"\\n▶---img[0:3, 1:4] * w의 합 + bias\")\n",
        "np.sum(img[0:3, 1:4]*wVal) + b\n"
      ],
      "metadata": {
        "colab": {
          "base_uri": "https://localhost:8080/"
        },
        "id": "mFZEkf6hTMX0",
        "outputId": "494f26ba-e6a6-4a2d-bf84-efd38933508e"
      },
      "execution_count": 98,
      "outputs": [
        {
          "output_type": "stream",
          "name": "stdout",
          "text": [
            "▶---0:3, 0:3에서 stride 1한 높이 0:3, 너비 1:4 인덱싱 값\n",
            "[[0 0 0]\n",
            " [0 0 0]\n",
            " [0 1 5]]\n",
            "\n",
            "▶---img[0:3, 1:4] * w\n",
            "[[-0.          0.         -0.        ]\n",
            " [ 0.          0.          0.        ]\n",
            " [-0.         -0.02131751  0.88686176]]\n",
            "\n",
            "▶---img[0:3, 1:4] * w의 합 + bias\n"
          ]
        },
        {
          "output_type": "execute_result",
          "data": {
            "text/plain": [
              "array([0.86534494], dtype=float32)"
            ]
          },
          "metadata": {},
          "execution_count": 98
        }
      ]
    },
    {
      "cell_type": "code",
      "source": [
        "wVal"
      ],
      "metadata": {
        "colab": {
          "base_uri": "https://localhost:8080/"
        },
        "id": "wD02TaCvV0IU",
        "outputId": "a6385533-2fd9-4d0b-954e-cd9206e8e662"
      },
      "execution_count": 23,
      "outputs": [
        {
          "output_type": "execute_result",
          "data": {
            "text/plain": [
              "array([[-0.4318703 ,  0.08380783, -0.23193197],\n",
              "       [ 0.05313462,  0.25442973,  0.33345792],\n",
              "       [-0.22227043, -0.02131751,  0.17737235]], dtype=float32)"
            ]
          },
          "metadata": {},
          "execution_count": 23
        }
      ]
    },
    {
      "cell_type": "markdown",
      "source": [
        "**7. 모델 최종값 계산- Relu 함수에 의해서– 값은 0으로 변경됨**"
      ],
      "metadata": {
        "id": "n5oBxAsMibhY"
      }
    },
    {
      "cell_type": "code",
      "source": [
        "## 최종출력\n",
        "len(feature_maps[0][0])\n",
        "plt.imshow(feature_maps[0], cmap = \"gray\")\n",
        "pd.DataFrame(np.vstack(feature_maps[0]).reshape(8,8))"
      ],
      "metadata": {
        "colab": {
          "base_uri": "https://localhost:8080/",
          "height": 713
        },
        "id": "_PKFY5MrU3Ie",
        "outputId": "fdc7f775-83b6-4806-95c9-8eec6228f788"
      },
      "execution_count": 99,
      "outputs": [
        {
          "output_type": "execute_result",
          "data": {
            "text/plain": [
              "          0         1         2         3         4         5         6    7\n",
              "0  0.354545  0.311910  0.000000  0.000000  0.000000  0.000000  0.000000  0.0\n",
              "1  1.021461  1.665058  1.326756  0.807420  0.487117  0.000000  0.000000  0.0\n",
              "2  0.202853  1.212786  1.608592  2.086778  3.845237  3.359437  0.004899  0.0\n",
              "3  0.000000  0.000000  0.000000  0.000000  0.000000  0.000000  0.000000  0.0\n",
              "4  0.000000  0.000000  0.000000  1.220120  1.343475  0.380702  0.000000  0.0\n",
              "5  0.000000  0.000000  0.531918  2.258068  0.000000  0.000000  0.000000  0.0\n",
              "6  0.000000  0.177173  2.397836  1.055281  0.000000  0.000000  0.000000  0.0\n",
              "7  0.000000  0.510631  3.091642  1.184737  0.000000  0.000000  0.000000  0.0"
            ],
            "text/html": [
              "\n",
              "  <div id=\"df-501873f4-675b-452b-9d92-d7f043ad63f8\" class=\"colab-df-container\">\n",
              "    <div>\n",
              "<style scoped>\n",
              "    .dataframe tbody tr th:only-of-type {\n",
              "        vertical-align: middle;\n",
              "    }\n",
              "\n",
              "    .dataframe tbody tr th {\n",
              "        vertical-align: top;\n",
              "    }\n",
              "\n",
              "    .dataframe thead th {\n",
              "        text-align: right;\n",
              "    }\n",
              "</style>\n",
              "<table border=\"1\" class=\"dataframe\">\n",
              "  <thead>\n",
              "    <tr style=\"text-align: right;\">\n",
              "      <th></th>\n",
              "      <th>0</th>\n",
              "      <th>1</th>\n",
              "      <th>2</th>\n",
              "      <th>3</th>\n",
              "      <th>4</th>\n",
              "      <th>5</th>\n",
              "      <th>6</th>\n",
              "      <th>7</th>\n",
              "    </tr>\n",
              "  </thead>\n",
              "  <tbody>\n",
              "    <tr>\n",
              "      <th>0</th>\n",
              "      <td>0.354545</td>\n",
              "      <td>0.311910</td>\n",
              "      <td>0.000000</td>\n",
              "      <td>0.000000</td>\n",
              "      <td>0.000000</td>\n",
              "      <td>0.000000</td>\n",
              "      <td>0.000000</td>\n",
              "      <td>0.0</td>\n",
              "    </tr>\n",
              "    <tr>\n",
              "      <th>1</th>\n",
              "      <td>1.021461</td>\n",
              "      <td>1.665058</td>\n",
              "      <td>1.326756</td>\n",
              "      <td>0.807420</td>\n",
              "      <td>0.487117</td>\n",
              "      <td>0.000000</td>\n",
              "      <td>0.000000</td>\n",
              "      <td>0.0</td>\n",
              "    </tr>\n",
              "    <tr>\n",
              "      <th>2</th>\n",
              "      <td>0.202853</td>\n",
              "      <td>1.212786</td>\n",
              "      <td>1.608592</td>\n",
              "      <td>2.086778</td>\n",
              "      <td>3.845237</td>\n",
              "      <td>3.359437</td>\n",
              "      <td>0.004899</td>\n",
              "      <td>0.0</td>\n",
              "    </tr>\n",
              "    <tr>\n",
              "      <th>3</th>\n",
              "      <td>0.000000</td>\n",
              "      <td>0.000000</td>\n",
              "      <td>0.000000</td>\n",
              "      <td>0.000000</td>\n",
              "      <td>0.000000</td>\n",
              "      <td>0.000000</td>\n",
              "      <td>0.000000</td>\n",
              "      <td>0.0</td>\n",
              "    </tr>\n",
              "    <tr>\n",
              "      <th>4</th>\n",
              "      <td>0.000000</td>\n",
              "      <td>0.000000</td>\n",
              "      <td>0.000000</td>\n",
              "      <td>1.220120</td>\n",
              "      <td>1.343475</td>\n",
              "      <td>0.380702</td>\n",
              "      <td>0.000000</td>\n",
              "      <td>0.0</td>\n",
              "    </tr>\n",
              "    <tr>\n",
              "      <th>5</th>\n",
              "      <td>0.000000</td>\n",
              "      <td>0.000000</td>\n",
              "      <td>0.531918</td>\n",
              "      <td>2.258068</td>\n",
              "      <td>0.000000</td>\n",
              "      <td>0.000000</td>\n",
              "      <td>0.000000</td>\n",
              "      <td>0.0</td>\n",
              "    </tr>\n",
              "    <tr>\n",
              "      <th>6</th>\n",
              "      <td>0.000000</td>\n",
              "      <td>0.177173</td>\n",
              "      <td>2.397836</td>\n",
              "      <td>1.055281</td>\n",
              "      <td>0.000000</td>\n",
              "      <td>0.000000</td>\n",
              "      <td>0.000000</td>\n",
              "      <td>0.0</td>\n",
              "    </tr>\n",
              "    <tr>\n",
              "      <th>7</th>\n",
              "      <td>0.000000</td>\n",
              "      <td>0.510631</td>\n",
              "      <td>3.091642</td>\n",
              "      <td>1.184737</td>\n",
              "      <td>0.000000</td>\n",
              "      <td>0.000000</td>\n",
              "      <td>0.000000</td>\n",
              "      <td>0.0</td>\n",
              "    </tr>\n",
              "  </tbody>\n",
              "</table>\n",
              "</div>\n",
              "    <div class=\"colab-df-buttons\">\n",
              "\n",
              "  <div class=\"colab-df-container\">\n",
              "    <button class=\"colab-df-convert\" onclick=\"convertToInteractive('df-501873f4-675b-452b-9d92-d7f043ad63f8')\"\n",
              "            title=\"Convert this dataframe to an interactive table.\"\n",
              "            style=\"display:none;\">\n",
              "\n",
              "  <svg xmlns=\"http://www.w3.org/2000/svg\" height=\"24px\" viewBox=\"0 -960 960 960\">\n",
              "    <path d=\"M120-120v-720h720v720H120Zm60-500h600v-160H180v160Zm220 220h160v-160H400v160Zm0 220h160v-160H400v160ZM180-400h160v-160H180v160Zm440 0h160v-160H620v160ZM180-180h160v-160H180v160Zm440 0h160v-160H620v160Z\"/>\n",
              "  </svg>\n",
              "    </button>\n",
              "\n",
              "  <style>\n",
              "    .colab-df-container {\n",
              "      display:flex;\n",
              "      gap: 12px;\n",
              "    }\n",
              "\n",
              "    .colab-df-convert {\n",
              "      background-color: #E8F0FE;\n",
              "      border: none;\n",
              "      border-radius: 50%;\n",
              "      cursor: pointer;\n",
              "      display: none;\n",
              "      fill: #1967D2;\n",
              "      height: 32px;\n",
              "      padding: 0 0 0 0;\n",
              "      width: 32px;\n",
              "    }\n",
              "\n",
              "    .colab-df-convert:hover {\n",
              "      background-color: #E2EBFA;\n",
              "      box-shadow: 0px 1px 2px rgba(60, 64, 67, 0.3), 0px 1px 3px 1px rgba(60, 64, 67, 0.15);\n",
              "      fill: #174EA6;\n",
              "    }\n",
              "\n",
              "    .colab-df-buttons div {\n",
              "      margin-bottom: 4px;\n",
              "    }\n",
              "\n",
              "    [theme=dark] .colab-df-convert {\n",
              "      background-color: #3B4455;\n",
              "      fill: #D2E3FC;\n",
              "    }\n",
              "\n",
              "    [theme=dark] .colab-df-convert:hover {\n",
              "      background-color: #434B5C;\n",
              "      box-shadow: 0px 1px 3px 1px rgba(0, 0, 0, 0.15);\n",
              "      filter: drop-shadow(0px 1px 2px rgba(0, 0, 0, 0.3));\n",
              "      fill: #FFFFFF;\n",
              "    }\n",
              "  </style>\n",
              "\n",
              "    <script>\n",
              "      const buttonEl =\n",
              "        document.querySelector('#df-501873f4-675b-452b-9d92-d7f043ad63f8 button.colab-df-convert');\n",
              "      buttonEl.style.display =\n",
              "        google.colab.kernel.accessAllowed ? 'block' : 'none';\n",
              "\n",
              "      async function convertToInteractive(key) {\n",
              "        const element = document.querySelector('#df-501873f4-675b-452b-9d92-d7f043ad63f8');\n",
              "        const dataTable =\n",
              "          await google.colab.kernel.invokeFunction('convertToInteractive',\n",
              "                                                    [key], {});\n",
              "        if (!dataTable) return;\n",
              "\n",
              "        const docLinkHtml = 'Like what you see? Visit the ' +\n",
              "          '<a target=\"_blank\" href=https://colab.research.google.com/notebooks/data_table.ipynb>data table notebook</a>'\n",
              "          + ' to learn more about interactive tables.';\n",
              "        element.innerHTML = '';\n",
              "        dataTable['output_type'] = 'display_data';\n",
              "        await google.colab.output.renderOutput(dataTable, element);\n",
              "        const docLink = document.createElement('div');\n",
              "        docLink.innerHTML = docLinkHtml;\n",
              "        element.appendChild(docLink);\n",
              "      }\n",
              "    </script>\n",
              "  </div>\n",
              "\n",
              "\n",
              "<div id=\"df-f82e2785-7687-4195-bf2c-b284cb75bbcf\">\n",
              "  <button class=\"colab-df-quickchart\" onclick=\"quickchart('df-f82e2785-7687-4195-bf2c-b284cb75bbcf')\"\n",
              "            title=\"Suggest charts\"\n",
              "            style=\"display:none;\">\n",
              "\n",
              "<svg xmlns=\"http://www.w3.org/2000/svg\" height=\"24px\"viewBox=\"0 0 24 24\"\n",
              "     width=\"24px\">\n",
              "    <g>\n",
              "        <path d=\"M19 3H5c-1.1 0-2 .9-2 2v14c0 1.1.9 2 2 2h14c1.1 0 2-.9 2-2V5c0-1.1-.9-2-2-2zM9 17H7v-7h2v7zm4 0h-2V7h2v10zm4 0h-2v-4h2v4z\"/>\n",
              "    </g>\n",
              "</svg>\n",
              "  </button>\n",
              "\n",
              "<style>\n",
              "  .colab-df-quickchart {\n",
              "      --bg-color: #E8F0FE;\n",
              "      --fill-color: #1967D2;\n",
              "      --hover-bg-color: #E2EBFA;\n",
              "      --hover-fill-color: #174EA6;\n",
              "      --disabled-fill-color: #AAA;\n",
              "      --disabled-bg-color: #DDD;\n",
              "  }\n",
              "\n",
              "  [theme=dark] .colab-df-quickchart {\n",
              "      --bg-color: #3B4455;\n",
              "      --fill-color: #D2E3FC;\n",
              "      --hover-bg-color: #434B5C;\n",
              "      --hover-fill-color: #FFFFFF;\n",
              "      --disabled-bg-color: #3B4455;\n",
              "      --disabled-fill-color: #666;\n",
              "  }\n",
              "\n",
              "  .colab-df-quickchart {\n",
              "    background-color: var(--bg-color);\n",
              "    border: none;\n",
              "    border-radius: 50%;\n",
              "    cursor: pointer;\n",
              "    display: none;\n",
              "    fill: var(--fill-color);\n",
              "    height: 32px;\n",
              "    padding: 0;\n",
              "    width: 32px;\n",
              "  }\n",
              "\n",
              "  .colab-df-quickchart:hover {\n",
              "    background-color: var(--hover-bg-color);\n",
              "    box-shadow: 0 1px 2px rgba(60, 64, 67, 0.3), 0 1px 3px 1px rgba(60, 64, 67, 0.15);\n",
              "    fill: var(--button-hover-fill-color);\n",
              "  }\n",
              "\n",
              "  .colab-df-quickchart-complete:disabled,\n",
              "  .colab-df-quickchart-complete:disabled:hover {\n",
              "    background-color: var(--disabled-bg-color);\n",
              "    fill: var(--disabled-fill-color);\n",
              "    box-shadow: none;\n",
              "  }\n",
              "\n",
              "  .colab-df-spinner {\n",
              "    border: 2px solid var(--fill-color);\n",
              "    border-color: transparent;\n",
              "    border-bottom-color: var(--fill-color);\n",
              "    animation:\n",
              "      spin 1s steps(1) infinite;\n",
              "  }\n",
              "\n",
              "  @keyframes spin {\n",
              "    0% {\n",
              "      border-color: transparent;\n",
              "      border-bottom-color: var(--fill-color);\n",
              "      border-left-color: var(--fill-color);\n",
              "    }\n",
              "    20% {\n",
              "      border-color: transparent;\n",
              "      border-left-color: var(--fill-color);\n",
              "      border-top-color: var(--fill-color);\n",
              "    }\n",
              "    30% {\n",
              "      border-color: transparent;\n",
              "      border-left-color: var(--fill-color);\n",
              "      border-top-color: var(--fill-color);\n",
              "      border-right-color: var(--fill-color);\n",
              "    }\n",
              "    40% {\n",
              "      border-color: transparent;\n",
              "      border-right-color: var(--fill-color);\n",
              "      border-top-color: var(--fill-color);\n",
              "    }\n",
              "    60% {\n",
              "      border-color: transparent;\n",
              "      border-right-color: var(--fill-color);\n",
              "    }\n",
              "    80% {\n",
              "      border-color: transparent;\n",
              "      border-right-color: var(--fill-color);\n",
              "      border-bottom-color: var(--fill-color);\n",
              "    }\n",
              "    90% {\n",
              "      border-color: transparent;\n",
              "      border-bottom-color: var(--fill-color);\n",
              "    }\n",
              "  }\n",
              "</style>\n",
              "\n",
              "  <script>\n",
              "    async function quickchart(key) {\n",
              "      const quickchartButtonEl =\n",
              "        document.querySelector('#' + key + ' button');\n",
              "      quickchartButtonEl.disabled = true;  // To prevent multiple clicks.\n",
              "      quickchartButtonEl.classList.add('colab-df-spinner');\n",
              "      try {\n",
              "        const charts = await google.colab.kernel.invokeFunction(\n",
              "            'suggestCharts', [key], {});\n",
              "      } catch (error) {\n",
              "        console.error('Error during call to suggestCharts:', error);\n",
              "      }\n",
              "      quickchartButtonEl.classList.remove('colab-df-spinner');\n",
              "      quickchartButtonEl.classList.add('colab-df-quickchart-complete');\n",
              "    }\n",
              "    (() => {\n",
              "      let quickchartButtonEl =\n",
              "        document.querySelector('#df-f82e2785-7687-4195-bf2c-b284cb75bbcf button');\n",
              "      quickchartButtonEl.style.display =\n",
              "        google.colab.kernel.accessAllowed ? 'block' : 'none';\n",
              "    })();\n",
              "  </script>\n",
              "</div>\n",
              "\n",
              "    </div>\n",
              "  </div>\n"
            ],
            "application/vnd.google.colaboratory.intrinsic+json": {
              "type": "dataframe",
              "summary": "{\n  \"name\": \"pd\",\n  \"rows\": 8,\n  \"fields\": [\n    {\n      \"column\": 0,\n      \"properties\": {\n        \"dtype\": \"float32\",\n        \"samples\": [\n          1.0214612483978271,\n          0.0,\n          0.35454538464546204\n        ],\n        \"num_unique_values\": 4,\n        \"semantic_type\": \"\",\n        \"description\": \"\"\n      }\n    },\n    {\n      \"column\": 1,\n      \"properties\": {\n        \"dtype\": \"float32\",\n        \"samples\": [\n          0.31191036105155945,\n          1.6650581359863281,\n          0.5106309652328491\n        ],\n        \"num_unique_values\": 6,\n        \"semantic_type\": \"\",\n        \"description\": \"\"\n      }\n    },\n    {\n      \"column\": 2,\n      \"properties\": {\n        \"dtype\": \"float32\",\n        \"samples\": [\n          0.0,\n          1.3267556428909302,\n          3.091642379760742\n        ],\n        \"num_unique_values\": 6,\n        \"semantic_type\": \"\",\n        \"description\": \"\"\n      }\n    },\n    {\n      \"column\": 3,\n      \"properties\": {\n        \"dtype\": \"float32\",\n        \"samples\": [\n          0.0,\n          0.8074204921722412,\n          1.0552812814712524\n        ],\n        \"num_unique_values\": 7,\n        \"semantic_type\": \"\",\n        \"description\": \"\"\n      }\n    },\n    {\n      \"column\": 4,\n      \"properties\": {\n        \"dtype\": \"float32\",\n        \"samples\": [\n          0.48711729049682617,\n          1.3434752225875854,\n          0.0\n        ],\n        \"num_unique_values\": 4,\n        \"semantic_type\": \"\",\n        \"description\": \"\"\n      }\n    },\n    {\n      \"column\": 5,\n      \"properties\": {\n        \"dtype\": \"float32\",\n        \"samples\": [\n          0.0,\n          3.359436511993408,\n          0.38070178031921387\n        ],\n        \"num_unique_values\": 3,\n        \"semantic_type\": \"\",\n        \"description\": \"\"\n      }\n    },\n    {\n      \"column\": 6,\n      \"properties\": {\n        \"dtype\": \"float32\",\n        \"samples\": [\n          0.00489949993789196,\n          0.0\n        ],\n        \"num_unique_values\": 2,\n        \"semantic_type\": \"\",\n        \"description\": \"\"\n      }\n    },\n    {\n      \"column\": 7,\n      \"properties\": {\n        \"dtype\": \"float32\",\n        \"samples\": [\n          0.0\n        ],\n        \"num_unique_values\": 1,\n        \"semantic_type\": \"\",\n        \"description\": \"\"\n      }\n    }\n  ]\n}"
            }
          },
          "metadata": {},
          "execution_count": 99
        },
        {
          "output_type": "display_data",
          "data": {
            "text/plain": [
              "<Figure size 640x480 with 1 Axes>"
            ],
            "image/png": "[encoded data removed]"
          },
          "metadata": {}
        }
      ]
    },
    {
      "cell_type": "markdown",
      "source": [
        "**8. Pooling 값 확인: max pooling(2,2)는 2*2의 4개의 자료중 가장 큰값을 꺼내는 값임 (stride는 pool값 2)**"
      ],
      "metadata": {
        "id": "4G-WSq8AYYEr"
      }
    },
    {
      "cell_type": "code",
      "source": [
        "visual_model = tf.keras.models.Model(inputs = model.input, outputs = get_output[2])\n",
        "visual_model.summary()\n",
        "test_img = np.expand_dims(test_images[0], axis = 0)\n",
        "feature_maps = visual_model.predict(test_img)"
      ],
      "metadata": {
        "colab": {
          "base_uri": "https://localhost:8080/"
        },
        "id": "wWQ4ABrzX6u4",
        "outputId": "cca3247f-0134-40ae-8f5c-d53c6098b00e"
      },
      "execution_count": 106,
      "outputs": [
        {
          "output_type": "stream",
          "name": "stdout",
          "text": [
            "Model: \"model_14\"\n",
            "_________________________________________________________________\n",
            " Layer (type)                Output Shape              Param #   \n",
            "=================================================================\n",
            " conv2d_6_input (InputLayer  [(None, 10, 10, 1)]       0         \n",
            " )                                                               \n",
            "                                                                 \n",
            " conv2d_6 (Conv2D)           (None, 8, 8, 1)           10        \n",
            "                                                                 \n",
            " max_pooling2d_3 (MaxPoolin  (None, 4, 4, 1)           0         \n",
            " g2D)                                                            \n",
            "                                                                 \n",
            " conv2d_7 (Conv2D)           (None, 2, 2, 2)           20        \n",
            "                                                                 \n",
            "=================================================================\n",
            "Total params: 30 (120.00 Byte)\n",
            "Trainable params: 30 (120.00 Byte)\n",
            "Non-trainable params: 0 (0.00 Byte)\n",
            "_________________________________________________________________\n",
            "1/1 [==============================] - 0s 137ms/step\n"
          ]
        }
      ]
    },
    {
      "cell_type": "code",
      "source": [
        "feature_maps[0].shape"
      ],
      "metadata": {
        "colab": {
          "base_uri": "https://localhost:8080/"
        },
        "id": "Gp7khV6Ak1Xj",
        "outputId": "2d029a24-5f08-4ee3-e9af-ccd061572a32"
      },
      "execution_count": 142,
      "outputs": [
        {
          "output_type": "execute_result",
          "data": {
            "text/plain": [
              "(8,)"
            ]
          },
          "metadata": {},
          "execution_count": 142
        }
      ]
    },
    {
      "cell_type": "code",
      "source": [
        "# plt.imshow(feature_maps[0], cmap = \"gray\")\n",
        "plt.show()\n",
        "pd.DataFrame(np.vstack(feature_maps[0]).reshape(-1,4))"
      ],
      "metadata": {
        "colab": {
          "base_uri": "https://localhost:8080/",
          "height": 112
        },
        "id": "xc_6rrGWYb0E",
        "outputId": "a7ab5ff8-3c61-4bf5-c4f7-9a9afb905c3a"
      },
      "execution_count": 146,
      "outputs": [
        {
          "output_type": "execute_result",
          "data": {
            "text/plain": [
              "     0    1         2    3\n",
              "0  0.0  0.0  0.208120  0.0\n",
              "1  0.0  0.0  0.189346  0.0"
            ],
            "text/html": [
              "\n",
              "  <div id=\"df-bb57ca88-8c90-4c42-80f2-6a4c3ae05ecc\" class=\"colab-df-container\">\n",
              "    <div>\n",
              "<style scoped>\n",
              "    .dataframe tbody tr th:only-of-type {\n",
              "        vertical-align: middle;\n",
              "    }\n",
              "\n",
              "    .dataframe tbody tr th {\n",
              "        vertical-align: top;\n",
              "    }\n",
              "\n",
              "    .dataframe thead th {\n",
              "        text-align: right;\n",
              "    }\n",
              "</style>\n",
              "<table border=\"1\" class=\"dataframe\">\n",
              "  <thead>\n",
              "    <tr style=\"text-align: right;\">\n",
              "      <th></th>\n",
              "      <th>0</th>\n",
              "      <th>1</th>\n",
              "      <th>2</th>\n",
              "      <th>3</th>\n",
              "    </tr>\n",
              "  </thead>\n",
              "  <tbody>\n",
              "    <tr>\n",
              "      <th>0</th>\n",
              "      <td>0.0</td>\n",
              "      <td>0.0</td>\n",
              "      <td>0.208120</td>\n",
              "      <td>0.0</td>\n",
              "    </tr>\n",
              "    <tr>\n",
              "      <th>1</th>\n",
              "      <td>0.0</td>\n",
              "      <td>0.0</td>\n",
              "      <td>0.189346</td>\n",
              "      <td>0.0</td>\n",
              "    </tr>\n",
              "  </tbody>\n",
              "</table>\n",
              "</div>\n",
              "    <div class=\"colab-df-buttons\">\n",
              "\n",
              "  <div class=\"colab-df-container\">\n",
              "    <button class=\"colab-df-convert\" onclick=\"convertToInteractive('df-bb57ca88-8c90-4c42-80f2-6a4c3ae05ecc')\"\n",
              "            title=\"Convert this dataframe to an interactive table.\"\n",
              "            style=\"display:none;\">\n",
              "\n",
              "  <svg xmlns=\"http://www.w3.org/2000/svg\" height=\"24px\" viewBox=\"0 -960 960 960\">\n",
              "    <path d=\"M120-120v-720h720v720H120Zm60-500h600v-160H180v160Zm220 220h160v-160H400v160Zm0 220h160v-160H400v160ZM180-400h160v-160H180v160Zm440 0h160v-160H620v160ZM180-180h160v-160H180v160Zm440 0h160v-160H620v160Z\"/>\n",
              "  </svg>\n",
              "    </button>\n",
              "\n",
              "  <style>\n",
              "    .colab-df-container {\n",
              "      display:flex;\n",
              "      gap: 12px;\n",
              "    }\n",
              "\n",
              "    .colab-df-convert {\n",
              "      background-color: #E8F0FE;\n",
              "      border: none;\n",
              "      border-radius: 50%;\n",
              "      cursor: pointer;\n",
              "      display: none;\n",
              "      fill: #1967D2;\n",
              "      height: 32px;\n",
              "      padding: 0 0 0 0;\n",
              "      width: 32px;\n",
              "    }\n",
              "\n",
              "    .colab-df-convert:hover {\n",
              "      background-color: #E2EBFA;\n",
              "      box-shadow: 0px 1px 2px rgba(60, 64, 67, 0.3), 0px 1px 3px 1px rgba(60, 64, 67, 0.15);\n",
              "      fill: #174EA6;\n",
              "    }\n",
              "\n",
              "    .colab-df-buttons div {\n",
              "      margin-bottom: 4px;\n",
              "    }\n",
              "\n",
              "    [theme=dark] .colab-df-convert {\n",
              "      background-color: #3B4455;\n",
              "      fill: #D2E3FC;\n",
              "    }\n",
              "\n",
              "    [theme=dark] .colab-df-convert:hover {\n",
              "      background-color: #434B5C;\n",
              "      box-shadow: 0px 1px 3px 1px rgba(0, 0, 0, 0.15);\n",
              "      filter: drop-shadow(0px 1px 2px rgba(0, 0, 0, 0.3));\n",
              "      fill: #FFFFFF;\n",
              "    }\n",
              "  </style>\n",
              "\n",
              "    <script>\n",
              "      const buttonEl =\n",
              "        document.querySelector('#df-bb57ca88-8c90-4c42-80f2-6a4c3ae05ecc button.colab-df-convert');\n",
              "      buttonEl.style.display =\n",
              "        google.colab.kernel.accessAllowed ? 'block' : 'none';\n",
              "\n",
              "      async function convertToInteractive(key) {\n",
              "        const element = document.querySelector('#df-bb57ca88-8c90-4c42-80f2-6a4c3ae05ecc');\n",
              "        const dataTable =\n",
              "          await google.colab.kernel.invokeFunction('convertToInteractive',\n",
              "                                                    [key], {});\n",
              "        if (!dataTable) return;\n",
              "\n",
              "        const docLinkHtml = 'Like what you see? Visit the ' +\n",
              "          '<a target=\"_blank\" href=https://colab.research.google.com/notebooks/data_table.ipynb>data table notebook</a>'\n",
              "          + ' to learn more about interactive tables.';\n",
              "        element.innerHTML = '';\n",
              "        dataTable['output_type'] = 'display_data';\n",
              "        await google.colab.output.renderOutput(dataTable, element);\n",
              "        const docLink = document.createElement('div');\n",
              "        docLink.innerHTML = docLinkHtml;\n",
              "        element.appendChild(docLink);\n",
              "      }\n",
              "    </script>\n",
              "  </div>\n",
              "\n",
              "\n",
              "<div id=\"df-43c348d9-ab7f-47d3-9394-66208f3cc4ad\">\n",
              "  <button class=\"colab-df-quickchart\" onclick=\"quickchart('df-43c348d9-ab7f-47d3-9394-66208f3cc4ad')\"\n",
              "            title=\"Suggest charts\"\n",
              "            style=\"display:none;\">\n",
              "\n",
              "<svg xmlns=\"http://www.w3.org/2000/svg\" height=\"24px\"viewBox=\"0 0 24 24\"\n",
              "     width=\"24px\">\n",
              "    <g>\n",
              "        <path d=\"M19 3H5c-1.1 0-2 .9-2 2v14c0 1.1.9 2 2 2h14c1.1 0 2-.9 2-2V5c0-1.1-.9-2-2-2zM9 17H7v-7h2v7zm4 0h-2V7h2v10zm4 0h-2v-4h2v4z\"/>\n",
              "    </g>\n",
              "</svg>\n",
              "  </button>\n",
              "\n",
              "<style>\n",
              "  .colab-df-quickchart {\n",
              "      --bg-color: #E8F0FE;\n",
              "      --fill-color: #1967D2;\n",
              "      --hover-bg-color: #E2EBFA;\n",
              "      --hover-fill-color: #174EA6;\n",
              "      --disabled-fill-color: #AAA;\n",
              "      --disabled-bg-color: #DDD;\n",
              "  }\n",
              "\n",
              "  [theme=dark] .colab-df-quickchart {\n",
              "      --bg-color: #3B4455;\n",
              "      --fill-color: #D2E3FC;\n",
              "      --hover-bg-color: #434B5C;\n",
              "      --hover-fill-color: #FFFFFF;\n",
              "      --disabled-bg-color: #3B4455;\n",
              "      --disabled-fill-color: #666;\n",
              "  }\n",
              "\n",
              "  .colab-df-quickchart {\n",
              "    background-color: var(--bg-color);\n",
              "    border: none;\n",
              "    border-radius: 50%;\n",
              "    cursor: pointer;\n",
              "    display: none;\n",
              "    fill: var(--fill-color);\n",
              "    height: 32px;\n",
              "    padding: 0;\n",
              "    width: 32px;\n",
              "  }\n",
              "\n",
              "  .colab-df-quickchart:hover {\n",
              "    background-color: var(--hover-bg-color);\n",
              "    box-shadow: 0 1px 2px rgba(60, 64, 67, 0.3), 0 1px 3px 1px rgba(60, 64, 67, 0.15);\n",
              "    fill: var(--button-hover-fill-color);\n",
              "  }\n",
              "\n",
              "  .colab-df-quickchart-complete:disabled,\n",
              "  .colab-df-quickchart-complete:disabled:hover {\n",
              "    background-color: var(--disabled-bg-color);\n",
              "    fill: var(--disabled-fill-color);\n",
              "    box-shadow: none;\n",
              "  }\n",
              "\n",
              "  .colab-df-spinner {\n",
              "    border: 2px solid var(--fill-color);\n",
              "    border-color: transparent;\n",
              "    border-bottom-color: var(--fill-color);\n",
              "    animation:\n",
              "      spin 1s steps(1) infinite;\n",
              "  }\n",
              "\n",
              "  @keyframes spin {\n",
              "    0% {\n",
              "      border-color: transparent;\n",
              "      border-bottom-color: var(--fill-color);\n",
              "      border-left-color: var(--fill-color);\n",
              "    }\n",
              "    20% {\n",
              "      border-color: transparent;\n",
              "      border-left-color: var(--fill-color);\n",
              "      border-top-color: var(--fill-color);\n",
              "    }\n",
              "    30% {\n",
              "      border-color: transparent;\n",
              "      border-left-color: var(--fill-color);\n",
              "      border-top-color: var(--fill-color);\n",
              "      border-right-color: var(--fill-color);\n",
              "    }\n",
              "    40% {\n",
              "      border-color: transparent;\n",
              "      border-right-color: var(--fill-color);\n",
              "      border-top-color: var(--fill-color);\n",
              "    }\n",
              "    60% {\n",
              "      border-color: transparent;\n",
              "      border-right-color: var(--fill-color);\n",
              "    }\n",
              "    80% {\n",
              "      border-color: transparent;\n",
              "      border-right-color: var(--fill-color);\n",
              "      border-bottom-color: var(--fill-color);\n",
              "    }\n",
              "    90% {\n",
              "      border-color: transparent;\n",
              "      border-bottom-color: var(--fill-color);\n",
              "    }\n",
              "  }\n",
              "</style>\n",
              "\n",
              "  <script>\n",
              "    async function quickchart(key) {\n",
              "      const quickchartButtonEl =\n",
              "        document.querySelector('#' + key + ' button');\n",
              "      quickchartButtonEl.disabled = true;  // To prevent multiple clicks.\n",
              "      quickchartButtonEl.classList.add('colab-df-spinner');\n",
              "      try {\n",
              "        const charts = await google.colab.kernel.invokeFunction(\n",
              "            'suggestCharts', [key], {});\n",
              "      } catch (error) {\n",
              "        console.error('Error during call to suggestCharts:', error);\n",
              "      }\n",
              "      quickchartButtonEl.classList.remove('colab-df-spinner');\n",
              "      quickchartButtonEl.classList.add('colab-df-quickchart-complete');\n",
              "    }\n",
              "    (() => {\n",
              "      let quickchartButtonEl =\n",
              "        document.querySelector('#df-43c348d9-ab7f-47d3-9394-66208f3cc4ad button');\n",
              "      quickchartButtonEl.style.display =\n",
              "        google.colab.kernel.accessAllowed ? 'block' : 'none';\n",
              "    })();\n",
              "  </script>\n",
              "</div>\n",
              "\n",
              "    </div>\n",
              "  </div>\n"
            ],
            "application/vnd.google.colaboratory.intrinsic+json": {
              "type": "dataframe",
              "summary": "{\n  \"name\": \"pd\",\n  \"rows\": 2,\n  \"fields\": [\n    {\n      \"column\": 0,\n      \"properties\": {\n        \"dtype\": \"float32\",\n        \"samples\": [\n          0.0\n        ],\n        \"num_unique_values\": 1,\n        \"semantic_type\": \"\",\n        \"description\": \"\"\n      }\n    },\n    {\n      \"column\": 1,\n      \"properties\": {\n        \"dtype\": \"float32\",\n        \"samples\": [\n          0.0\n        ],\n        \"num_unique_values\": 1,\n        \"semantic_type\": \"\",\n        \"description\": \"\"\n      }\n    },\n    {\n      \"column\": 2,\n      \"properties\": {\n        \"dtype\": \"float32\",\n        \"samples\": [\n          0.18934601545333862\n        ],\n        \"num_unique_values\": 2,\n        \"semantic_type\": \"\",\n        \"description\": \"\"\n      }\n    },\n    {\n      \"column\": 3,\n      \"properties\": {\n        \"dtype\": \"float32\",\n        \"samples\": [\n          0.0\n        ],\n        \"num_unique_values\": 1,\n        \"semantic_type\": \"\",\n        \"description\": \"\"\n      }\n    }\n  ]\n}"
            }
          },
          "metadata": {},
          "execution_count": 146
        }
      ]
    },
    {
      "cell_type": "markdown",
      "source": [
        "**Layer2번층 : 풀링층을 거친 자료를 다시 Conv2d할때**"
      ],
      "metadata": {
        "id": "YYL5L-hqYpmf"
      }
    },
    {
      "cell_type": "code",
      "source": [
        "len(visual_model.get_weights())"
      ],
      "metadata": {
        "colab": {
          "base_uri": "https://localhost:8080/"
        },
        "id": "l8c44lYqecoM",
        "outputId": "5838b4f0-b34e-4852-c17d-229cbe78bc01"
      },
      "execution_count": 105,
      "outputs": [
        {
          "output_type": "execute_result",
          "data": {
            "text/plain": [
              "2"
            ]
          },
          "metadata": {},
          "execution_count": 105
        }
      ]
    },
    {
      "cell_type": "code",
      "source": [
        "print(len(visual_model.get_weights()))\n",
        "w = visual_model.get_weights()[0]\n",
        "b = visual_model.get_weights()[1]\n",
        "print(np.vstack(w).reshape(3,3),b)\n",
        "print(np.shape(w), np.shape(b))\n",
        "print(\"-\"*100)\n",
        "w = visual_model.get_weights()[2]\n",
        "b = visual_model.get_weights()[3]\n",
        "print(w, b)"
      ],
      "metadata": {
        "colab": {
          "base_uri": "https://localhost:8080/"
        },
        "id": "HFTb2et2Yr3t",
        "outputId": "71c11cb0-39f9-4ddb-b203-71ac650b5c7a"
      },
      "execution_count": 108,
      "outputs": [
        {
          "output_type": "stream",
          "name": "stdout",
          "text": [
            "4\n",
            "[[-0.4318703   0.08380783 -0.23193197]\n",
            " [ 0.05313462  0.25442973  0.33345792]\n",
            " [-0.22227043 -0.02131751  0.17737235]] [-0.00019932]\n",
            "(3, 3, 1, 1) (1,)\n",
            "----------------------------------------------------------------------------------------------------\n",
            "[[[[-0.04126796 -0.18519753]]\n",
            "\n",
            "  [[ 0.19076315  0.11734369]]\n",
            "\n",
            "  [[-0.3964265   0.37356785]]]\n",
            "\n",
            "\n",
            " [[[ 0.02255318 -0.3923856 ]]\n",
            "\n",
            "  [[ 0.17294326 -0.35652357]]\n",
            "\n",
            "  [[-0.19924152  0.13951269]]]\n",
            "\n",
            "\n",
            " [[[-0.23915954 -0.10738635]]\n",
            "\n",
            "  [[-0.00082463 -0.33100393]]\n",
            "\n",
            "  [[-0.06199858  0.1437839 ]]]] [0. 0.]\n"
          ]
        }
      ]
    },
    {
      "cell_type": "code",
      "source": [
        "setW = np.array([[-0.4318703, 0.08380783, -0.23193197],\n",
        " [0.05313462, 0.25442973, 0.33345792],\n",
        "  [-0.22227043, -0.02131751, 0.17737235]])\n",
        "setB = np.array([-0.00019932])\n",
        "\n",
        "w2 = visual_model.get_weights()[2]\n",
        "b2 = visual_model.get_weights()[3]\n",
        "\n",
        "setW = setW.reshape(3,3,1,1)\n",
        "weights = [setW, setB, w2, b2]\n",
        "\n",
        "visual_model.set_weights(weights)"
      ],
      "metadata": {
        "id": "QsaVLiwHeumn"
      },
      "execution_count": 109,
      "outputs": []
    },
    {
      "cell_type": "code",
      "source": [
        "len(visual_model.get_weights())\n",
        "w = visual_model.get_weights()[2]\n",
        "w, b"
      ],
      "metadata": {
        "colab": {
          "base_uri": "https://localhost:8080/"
        },
        "id": "PefH3KEZfCFq",
        "outputId": "5bfa7c7e-20c4-49af-cfb8-7e82fad2a019"
      },
      "execution_count": 113,
      "outputs": [
        {
          "output_type": "execute_result",
          "data": {
            "text/plain": [
              "(array([[[[-0.04126796, -0.18519753]],\n",
              " \n",
              "         [[ 0.19076315,  0.11734369]],\n",
              " \n",
              "         [[-0.3964265 ,  0.37356785]]],\n",
              " \n",
              " \n",
              "        [[[ 0.02255318, -0.3923856 ]],\n",
              " \n",
              "         [[ 0.17294326, -0.35652357]],\n",
              " \n",
              "         [[-0.19924152,  0.13951269]]],\n",
              " \n",
              " \n",
              "        [[[-0.23915954, -0.10738635]],\n",
              " \n",
              "         [[-0.00082463, -0.33100393]],\n",
              " \n",
              "         [[-0.06199858,  0.1437839 ]]]], dtype=float32),\n",
              " array([0., 0.], dtype=float32))"
            ]
          },
          "metadata": {},
          "execution_count": 113
        }
      ]
    },
    {
      "cell_type": "code",
      "source": [
        "maxpoolResult = np.array(\n",
        "[[2.6310093, 4.992998, 2.6713052, 1.0994523],\n",
        " [0.2577803, 2.93569, 0., 0.],\n",
        "  [0.53191775, 2.331755, 2.2812119, 0.0529353],\n",
        "  [3.2710578, 2.146567, 0.9660892, 0.]])"
      ],
      "metadata": {
        "id": "1KOmT4ykfsYs"
      },
      "execution_count": 120,
      "outputs": []
    },
    {
      "cell_type": "code",
      "source": [
        "visual_model.get_weights()"
      ],
      "metadata": {
        "colab": {
          "base_uri": "https://localhost:8080/"
        },
        "id": "_bd0afoxfPop",
        "outputId": "02ca0755-3ac9-4613-b730-d9871b63c354"
      },
      "execution_count": 115,
      "outputs": [
        {
          "output_type": "execute_result",
          "data": {
            "text/plain": [
              "[array([[[[-0.4318703 ]],\n",
              " \n",
              "         [[ 0.08380783]],\n",
              " \n",
              "         [[-0.23193197]]],\n",
              " \n",
              " \n",
              "        [[[ 0.05313462]],\n",
              " \n",
              "         [[ 0.25442973]],\n",
              " \n",
              "         [[ 0.33345792]]],\n",
              " \n",
              " \n",
              "        [[[-0.22227043]],\n",
              " \n",
              "         [[-0.02131751]],\n",
              " \n",
              "         [[ 0.17737235]]]], dtype=float32),\n",
              " array([-0.00019932], dtype=float32),\n",
              " array([[[[-0.04126796, -0.18519753]],\n",
              " \n",
              "         [[ 0.19076315,  0.11734369]],\n",
              " \n",
              "         [[-0.3964265 ,  0.37356785]]],\n",
              " \n",
              " \n",
              "        [[[ 0.02255318, -0.3923856 ]],\n",
              " \n",
              "         [[ 0.17294326, -0.35652357]],\n",
              " \n",
              "         [[-0.19924152,  0.13951269]]],\n",
              " \n",
              " \n",
              "        [[[-0.23915954, -0.10738635]],\n",
              " \n",
              "         [[-0.00082463, -0.33100393]],\n",
              " \n",
              "         [[-0.06199858,  0.1437839 ]]]], dtype=float32),\n",
              " array([0., 0.], dtype=float32)]"
            ]
          },
          "metadata": {},
          "execution_count": 115
        }
      ]
    },
    {
      "cell_type": "code",
      "source": [
        "f1 = w[:,:,:,0]\n",
        "f2 = w[:,:,:,1]\n",
        "\n",
        "print(\"MaxpoolResult 값\")\n",
        "print(maxpoolResult[:3, :3])\n",
        "print(\"\\nfeature1 값\", \"-\"*100)\n",
        "print(f1.reshape(3,3))\n",
        "print(\"\\nfeature2 값\", \"-\"*100)\n",
        "print(f2.reshape(3,3))\n",
        "\n",
        "print(\"\\n [:3,:3]*feature1값 + b[0]합\", \"-\"*50)\n",
        "np.sum(maxpoolResult[:3,:3] * f1.reshape(3,3)+b[0]),\\\n",
        "np.sum(maxpoolResult[:3,:3] * f2.reshape(3,3)+b[0])\n"
      ],
      "metadata": {
        "colab": {
          "base_uri": "https://localhost:8080/"
        },
        "id": "gNZDr0AyfYpu",
        "outputId": "7433d828-7a36-49bb-c624-e16b3fdebfaa"
      },
      "execution_count": 127,
      "outputs": [
        {
          "output_type": "stream",
          "name": "stdout",
          "text": [
            "MaxpoolResult 값\n",
            "[[2.6310093  4.992998   2.6713052 ]\n",
            " [0.2577803  2.93569    0.        ]\n",
            " [0.53191775 2.331755   2.2812119 ]]\n",
            "\n",
            "feature1 값 ----------------------------------------------------------------------------------------------------\n",
            "[[-0.04126796  0.19076315 -0.3964265 ]\n",
            " [ 0.02255318  0.17294326 -0.19924152]\n",
            " [-0.23915954 -0.00082463 -0.06199858]]\n",
            "\n",
            "feature2 값 ----------------------------------------------------------------------------------------------------\n",
            "[[-0.18519753  0.11734369  0.37356785]\n",
            " [-0.3923856  -0.35652357  0.13951269]\n",
            " [-0.10738635 -0.33100393  0.1437839 ]]\n",
            "\n",
            " [:3,:3]*feature1값 + b[0]합 --------------------------------------------------\n"
          ]
        },
        {
          "output_type": "execute_result",
          "data": {
            "text/plain": [
              "(0.027881093933937645, -0.5521770761597604)"
            ]
          },
          "metadata": {},
          "execution_count": 127
        }
      ]
    },
    {
      "cell_type": "code",
      "source": [
        "f1.reshape(3,3)"
      ],
      "metadata": {
        "colab": {
          "base_uri": "https://localhost:8080/"
        },
        "id": "hBgOKP43i1ns",
        "outputId": "ffb4206a-e357-43cd-d951-c562c8aeac3a"
      },
      "execution_count": 134,
      "outputs": [
        {
          "output_type": "execute_result",
          "data": {
            "text/plain": [
              "array([[-0.04126796,  0.19076315, -0.3964265 ],\n",
              "       [ 0.02255318,  0.17294326, -0.19924152],\n",
              "       [-0.23915954, -0.00082463, -0.06199858]], dtype=float32)"
            ]
          },
          "metadata": {},
          "execution_count": 134
        }
      ]
    },
    {
      "cell_type": "code",
      "source": [
        "feature_maps"
      ],
      "metadata": {
        "colab": {
          "base_uri": "https://localhost:8080/"
        },
        "id": "yGtZR7PBhwDd",
        "outputId": "92345864-5e4d-4391-ec0c-3635a5c139e8"
      },
      "execution_count": 128,
      "outputs": [
        {
          "output_type": "execute_result",
          "data": {
            "text/plain": [
              "array([[[[0.        , 0.        ],\n",
              "         [0.20812039, 0.        ]],\n",
              "\n",
              "        [[0.        , 0.        ],\n",
              "         [0.18934602, 0.        ]]]], dtype=float32)"
            ]
          },
          "metadata": {},
          "execution_count": 128
        }
      ]
    },
    {
      "cell_type": "markdown",
      "source": [
        "**8.flatten()**"
      ],
      "metadata": {
        "id": "okUl8wODh67M"
      }
    },
    {
      "cell_type": "code",
      "source": [
        "visual_model = tf.keras.models.Model(inputs = model.input, outputs = get_output[3])\n",
        "visual_model.summary()\n",
        "test_img = np.expand_dims(test_images[0], axis = 0)\n",
        "feature_maps = visual_model.predict(test_img)"
      ],
      "metadata": {
        "colab": {
          "base_uri": "https://localhost:8080/"
        },
        "id": "b55_gqDoh25Y",
        "outputId": "80cc6fec-ea5a-4651-9041-acba7066b88f"
      },
      "execution_count": 129,
      "outputs": [
        {
          "output_type": "stream",
          "name": "stdout",
          "text": [
            "Model: \"model_15\"\n",
            "_________________________________________________________________\n",
            " Layer (type)                Output Shape              Param #   \n",
            "=================================================================\n",
            " conv2d_6_input (InputLayer  [(None, 10, 10, 1)]       0         \n",
            " )                                                               \n",
            "                                                                 \n",
            " conv2d_6 (Conv2D)           (None, 8, 8, 1)           10        \n",
            "                                                                 \n",
            " max_pooling2d_3 (MaxPoolin  (None, 4, 4, 1)           0         \n",
            " g2D)                                                            \n",
            "                                                                 \n",
            " conv2d_7 (Conv2D)           (None, 2, 2, 2)           20        \n",
            "                                                                 \n",
            " flatten_3 (Flatten)         (None, 8)                 0         \n",
            "                                                                 \n",
            "=================================================================\n",
            "Total params: 30 (120.00 Byte)\n",
            "Trainable params: 30 (120.00 Byte)\n",
            "Non-trainable params: 0 (0.00 Byte)\n",
            "_________________________________________________________________\n",
            "1/1 [==============================] - 0s 99ms/step\n"
          ]
        }
      ]
    },
    {
      "cell_type": "code",
      "source": [
        "len(visual_model.get_weights())"
      ],
      "metadata": {
        "colab": {
          "base_uri": "https://localhost:8080/"
        },
        "id": "nqp99_v_h_Yt",
        "outputId": "f228a9df-1e31-4ea3-9f6b-f14f4eccddfe"
      },
      "execution_count": 131,
      "outputs": [
        {
          "output_type": "execute_result",
          "data": {
            "text/plain": [
              "4"
            ]
          },
          "metadata": {},
          "execution_count": 131
        }
      ]
    },
    {
      "cell_type": "code",
      "source": [
        "feature_maps"
      ],
      "metadata": {
        "colab": {
          "base_uri": "https://localhost:8080/"
        },
        "id": "tZU1QuQeiCZQ",
        "outputId": "474ebd3b-0768-4086-ae72-319c6e8366c0"
      },
      "execution_count": 132,
      "outputs": [
        {
          "output_type": "execute_result",
          "data": {
            "text/plain": [
              "array([[0.        , 0.        , 0.20812039, 0.        , 0.        ,\n",
              "        0.        , 0.18934602, 0.        ]], dtype=float32)"
            ]
          },
          "metadata": {},
          "execution_count": 132
        }
      ]
    }
  ]
}
