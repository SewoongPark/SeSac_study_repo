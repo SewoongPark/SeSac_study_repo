{
 "cells": [
  {
   "cell_type": "markdown",
   "metadata": {},
   "source": [
    "## **TIL**\n",
    "### **FLASK 사용한 크롤링**\n",
    "**여러가지 url 주소와 html rendering하기**\n",
    "* index.html과 index_table 만들기\n",
    "* `<table>`과 `<thead>` `<tbody>` `<tr>` 구조 이해\n",
    "* `<button>`과 `<a href>` 활용하여 두 페이지 간 연결 \n",
    "\n",
    "**html문서 dictionary로 변경하고 rendering**\n",
    "\n",
    "\n",
    "### **데이터 베이스**\n",
    "* **시스템**\n",
    "* 시스템 데이터셋의 구조\n",
    "    * 예) 고객 데이터 베이스(DB)\n",
    "    * 고객 신상 정보 DB: 성별, 나이, 취미, 결혼 유무\n",
    "    * 구매 DB, 상품 DB, 구입 거래처 DB\n",
    "* **RDMBS**\n",
    "* https://blog.siner.io/2021/10/11/rdbms-comparison/\n",
    "* 주요 RDBMS의 종류:<table><td> mysql</td> <td> mariadb<td>  <td>postgresql</td> <td>sqlite</td> <td> oracle </td> <td>mssql<td> </table>"
   ]
  },
  {
   "cell_type": "code",
   "execution_count": null,
   "metadata": {},
   "outputs": [],
   "source": [
    "import pandas as pd\n",
    "\n",
    "url = \"http://companyinfo.stock.naver.com/v1/company/c1010001.aspx?cmp_cd=005930\"\n",
    "datas = pd.read_html(url, encoding=\"utf-8\")[12]\n",
    "datas = datas.to_dict(orient=\"records\")\n",
    "datas[1:]"
   ]
  },
  {
   "cell_type": "code",
   "execution_count": 50,
   "metadata": {},
   "outputs": [
    {
     "name": "stderr",
     "output_type": "stream",
     "text": [
      "c:\\Users\\bluecom001\\miniconda3\\envs\\mp\\lib\\site-packages\\bs4\\builder\\__init__.py:546: XMLParsedAsHTMLWarning: It looks like you're parsing an XML document using an HTML parser. If this really is an HTML document (maybe it's XHTML?), you can ignore or filter this warning. If it's XML, you should know that using an XML parser will be more reliable. To parse this document as XML, make sure you have the lxml package installed, and pass the keyword argument `features=\"xml\"` into the BeautifulSoup constructor.\n",
      "  XMLParsedAsHTMLWarning.MESSAGE, XMLParsedAsHTMLWarning\n"
     ]
    },
    {
     "data": {
      "text/plain": [
       "'365'"
      ]
     },
     "execution_count": 50,
     "metadata": {},
     "output_type": "execute_result"
    }
   ],
   "source": [
    "import requests\n",
    "from bs4 import BeautifulSoup as bs\n",
    "import pandas as pd\n",
    "from tqdm import tqdm\n",
    "\n",
    "url='http://apis.data.go.kr/1360000/AsosDalyInfoService/getWthrDataList?serviceKey=Y9vZZYdTITnGhBz7r3628UaVagdVfFEt7urjSsx3ha5rmD9ohXbuD546nfVlktbIbE9G5At1lXbcXKSo%2BEYYig%3D%3D&pageNo=1&numOfRows=10&dataType=XML&dataCd=ASOS&dateCd=DAY&startDt=20230101&endDt=20231231&stnIds=108'\n",
    "xml=requests.get(url)\n",
    "soup=bs(xml.text,'html.parser')\n",
    "totCnt=soup.totalcount.text\n",
    "totCnt"
   ]
  },
  {
   "cell_type": "code",
   "execution_count": 51,
   "metadata": {},
   "outputs": [],
   "source": [
    "# 공공API 인증키 (부성순강사 인증키임. 본인자료는 다시 인증키 받아야함.)\n",
    "def myUrlOpen(지점코드=108,totCnt=1,startDate='20230101',endDate='20231231'):\n",
    "    인증키='Y9vZZYdTITnGhBz7r3628UaVagdVfFEt7urjSsx3ha5rmD9ohXbuD546nfVlktbIbE9G5At1lXbcXKSo%2BEYYig%3D%3D'\n",
    "    지점코드=108   #서울\n",
    "    url='http://apis.data.go.kr/1360000/AsosDalyInfoService/getWthrDataList?serviceKey=' \n",
    "    url=url+인증키\n",
    "    url=url+ '&pageNo=1&numOfRows='\n",
    "    url=url+str(totCnt)+'&dataType=XML&dataCd=ASOS&dateCd=DAY&startDt='\n",
    "    url=url+startDate+'&endDt='+endDate+'&stnIds='\n",
    "    url=url+str(지점코드)\n",
    "    #print(url)\n",
    "    return url"
   ]
  },
  {
   "cell_type": "code",
   "execution_count": 52,
   "metadata": {},
   "outputs": [],
   "source": [
    "자료=[]\n",
    "지점리스트={'지점명':['서울','부산','제주'],\n",
    "              '지점코드': [108,253,184]}\n",
    "jijumList,dataList,minList,maxList,rnList=[],[],[],[],[]\n",
    "\n",
    "for 지점명,지점코드 in zip(지점리스트['지점명'],지점리스트['지점코드']):\n",
    "\n",
    "    url=myUrlOpen(지점코드,totCnt)\n",
    "    xml=requests.get(url)\n",
    "    soup=bs(xml.text,'html.parser')\n",
    "    data=soup.find_all('item')\n",
    "\n",
    "\n",
    "    for item in data:\n",
    "        jijum=지점명\n",
    "        date=item.find('tm').text\n",
    "        min=item.find('minta').text\n",
    "        max=item.find('maxta').text\n",
    "        rn=item.find('sumrn').text\n",
    "    \n",
    "        jijumList.append(jijum) ;dataList.append(date) ; maxList.append(max); minList.append(min) ; rnList.append(rn)\n",
    "    \n",
    "dataList=dict({'j':jijumList,\n",
    "          'd':dataList,\n",
    "          'm':maxList,\n",
    "          'n':minList,\n",
    "          'r':rnList})"
   ]
  },
  {
   "cell_type": "code",
   "execution_count": 56,
   "metadata": {},
   "outputs": [
    {
     "data": {
      "text/html": [
       "<div>\n",
       "<style scoped>\n",
       "    .dataframe tbody tr th:only-of-type {\n",
       "        vertical-align: middle;\n",
       "    }\n",
       "\n",
       "    .dataframe tbody tr th {\n",
       "        vertical-align: top;\n",
       "    }\n",
       "\n",
       "    .dataframe thead th {\n",
       "        text-align: right;\n",
       "    }\n",
       "</style>\n",
       "<table border=\"1\" class=\"dataframe\">\n",
       "  <thead>\n",
       "    <tr style=\"text-align: right;\">\n",
       "      <th></th>\n",
       "      <th>j</th>\n",
       "      <th>d</th>\n",
       "      <th>m</th>\n",
       "      <th>n</th>\n",
       "      <th>r</th>\n",
       "    </tr>\n",
       "  </thead>\n",
       "  <tbody>\n",
       "    <tr>\n",
       "      <th>1090</th>\n",
       "      <td>제주</td>\n",
       "      <td>2023-12-27</td>\n",
       "      <td>6.8</td>\n",
       "      <td>-2.8</td>\n",
       "      <td></td>\n",
       "    </tr>\n",
       "    <tr>\n",
       "      <th>1091</th>\n",
       "      <td>제주</td>\n",
       "      <td>2023-12-28</td>\n",
       "      <td>4.4</td>\n",
       "      <td>-1.7</td>\n",
       "      <td></td>\n",
       "    </tr>\n",
       "    <tr>\n",
       "      <th>1092</th>\n",
       "      <td>제주</td>\n",
       "      <td>2023-12-29</td>\n",
       "      <td>4.6</td>\n",
       "      <td>-1.5</td>\n",
       "      <td></td>\n",
       "    </tr>\n",
       "    <tr>\n",
       "      <th>1093</th>\n",
       "      <td>제주</td>\n",
       "      <td>2023-12-30</td>\n",
       "      <td>2.1</td>\n",
       "      <td>-0.9</td>\n",
       "      <td>13.1</td>\n",
       "    </tr>\n",
       "    <tr>\n",
       "      <th>1094</th>\n",
       "      <td>제주</td>\n",
       "      <td>2023-12-31</td>\n",
       "      <td>4.3</td>\n",
       "      <td>0.6</td>\n",
       "      <td>4.7</td>\n",
       "    </tr>\n",
       "  </tbody>\n",
       "</table>\n",
       "</div>"
      ],
      "text/plain": [
       "       j           d    m     n     r\n",
       "1090  제주  2023-12-27  6.8  -2.8      \n",
       "1091  제주  2023-12-28  4.4  -1.7      \n",
       "1092  제주  2023-12-29  4.6  -1.5      \n",
       "1093  제주  2023-12-30  2.1  -0.9  13.1\n",
       "1094  제주  2023-12-31  4.3   0.6   4.7"
      ]
     },
     "execution_count": 56,
     "metadata": {},
     "output_type": "execute_result"
    }
   ],
   "source": [
    "df=pd.DataFrame(dataList)\n",
    "fileName='_'.join(지점리스트['지점명'])   # 파일명으로 사용하기 위하여\n",
    "df.to_csv('c:/data/weather/날씨_'+fileName+'.csv', encoding='utf-8',index=False)\n",
    "df.tail()"
   ]
  },
  {
   "cell_type": "code",
   "execution_count": 57,
   "metadata": {},
   "outputs": [],
   "source": [
    "import json\n",
    "with open('c:/data/weather/날씨_'+fileName+'.json', 'w', encoding='utf-8') as f : \n",
    "\tjson.dump(dataList, f, indent='\\t',ensure_ascii=False)"
   ]
  },
  {
   "cell_type": "code",
   "execution_count": 75,
   "metadata": {},
   "outputs": [],
   "source": [
    "file_path = r\"C:\\data\\weather\\날씨_서울_부산_제주.json\"\n",
    "\n",
    "with open(file_path, encoding='utf-8') as file:\n",
    "    data = json.load(file)"
   ]
  },
  {
   "cell_type": "code",
   "execution_count": 134,
   "metadata": {},
   "outputs": [
    {
     "name": "stdout",
     "output_type": "stream",
     "text": [
      "<class 'pandas.core.frame.DataFrame'>\n",
      "RangeIndex: 30948 entries, 0 to 30947\n",
      "Data columns (total 17 columns):\n",
      " #   Column        Non-Null Count  Dtype  \n",
      "---  ------        --------------  -----  \n",
      " 0   기준_년분기_코드     30948 non-null  int64  \n",
      " 1   상권_구분_코드      30948 non-null  object \n",
      " 2   상권_구분_코드_명    30948 non-null  object \n",
      " 3   상권_코드         30948 non-null  int64  \n",
      " 4   상권_코드_명       30948 non-null  object \n",
      " 5   월_평균_소득_금액    29196 non-null  float64\n",
      " 6   소득_구간_코드      29196 non-null  float64\n",
      " 7   지출_총금액        30324 non-null  float64\n",
      " 8   식료품_지출_총금액    30324 non-null  float64\n",
      " 9   의류_신발_지출_총금액  30324 non-null  float64\n",
      " 10  생활용품_지출_총금액   30324 non-null  float64\n",
      " 11  의료비_지출_총금액    30324 non-null  float64\n",
      " 12  교통_지출_총금액     30324 non-null  float64\n",
      " 13  여가_지출_총금액     30324 non-null  float64\n",
      " 14  문화_지출_총금액     30324 non-null  float64\n",
      " 15  교육_지출_총금액     30324 non-null  float64\n",
      " 16  유흥_지출_총금액     30324 non-null  float64\n",
      "dtypes: float64(12), int64(2), object(3)\n",
      "memory usage: 4.0+ MB\n"
     ]
    }
   ],
   "source": [
    "import pandas as pd\n",
    "df = pd.read_csv('c:/data/DB_dataList/seoul.csv', encoding=\"euc-kr\")\n",
    "df.info()"
   ]
  }
 ],
 "metadata": {
  "kernelspec": {
   "display_name": "mp",
   "language": "python",
   "name": "python3"
  },
  "language_info": {
   "codemirror_mode": {
    "name": "ipython",
    "version": 3
   },
   "file_extension": ".py",
   "mimetype": "text/x-python",
   "name": "python",
   "nbconvert_exporter": "python",
   "pygments_lexer": "ipython3",
   "version": "3.7.2"
  }
 },
 "nbformat": 4,
 "nbformat_minor": 2
}
