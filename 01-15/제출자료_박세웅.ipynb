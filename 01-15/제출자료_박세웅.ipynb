{
 "cells": [
  {
   "cell_type": "markdown",
   "metadata": {},
   "source": [
    "### **공부 주제**\n",
    "* **통계 분석**\n",
    "    * 이유: adsp 자격증 취득 후 이론으로만 공부했던 통계 개념들을 코드에 적용해볼 필요성을 느끼게 됨\n",
    "* **함수 및 클래스**\n",
    "    * 아직 사용이 익숙하지 않은 두 method를 연습해 볼 필요성을 느끼게 됨"
   ]
  },
  {
   "cell_type": "markdown",
   "metadata": {},
   "source": [
    "**1) 통계 분석:**\n",
    "\n",
    "* `t-test, chi-square test`\n",
    "    * 가설 검증하기(연속형, 범주형 데이터의 구분) \n",
    "* 자유도 개념(이해가 부족함)\n",
    "    * 이해를 더하기 위한 이론 공부와 코드 실습"
   ]
  },
  {
   "cell_type": "markdown",
   "metadata": {},
   "source": [
    "**1) 통계 분석 - 귀무 가설과 대립 가설**\n",
    "\n",
    "* 귀무 가설(Null hypothesis): 모집단의 특성에 대해 옳다고 제안하는 잠정적인 주장\n",
    "    * 예) \"모집단의 모수는 OO와 차이가 없다.\"\n",
    "    * 예) \"광고에 노출된 집단은 광고 접속 횟수에서 노출되지 않은 집단과 차이가 없다\"\n",
    "\n",
    "* 대립 가설(Alternative hypothesis): 귀무가설이 거짓이라면 대안적으로 참이되는 가설\n",
    "    * 예) \"광고에 많이 노출될 수록 해당 웹사이트에 많이 접속한다.\""
   ]
  },
  {
   "cell_type": "markdown",
   "metadata": {},
   "source": [
    "* 주장하고자 하는 대립 가설의 통계적 유의미성을 검증하기 위해 p-value 사용\n",
    "* 대립 가설을 채택할 수 있는 기준은 p값이 0.05(5%)미만일 때 가능하다. \n",
    "    * ###### 어떤 사건이 우연히 발생할 확률이 5%보다 낮을 가능성은 거의 없으며, 만약 발생했다면 그 사건이 통계적으로 유의미했기 때문에 일어났다고 해석"
   ]
  },
  {
   "cell_type": "markdown",
   "metadata": {},
   "source": [
    "#### 본격적인 가설 검정\n",
    "* 가설 검정을 위한 도구로써 T-test, Chi-squared test, Z-test등이 있다. "
   ]
  },
  {
   "cell_type": "markdown",
   "metadata": {},
   "source": [
    "**1) T-test**"
   ]
  },
  {
   "cell_type": "code",
   "execution_count": 44,
   "metadata": {},
   "outputs": [
    {
     "data": {
      "text/html": [
       "<div>\n",
       "<style scoped>\n",
       "    .dataframe tbody tr th:only-of-type {\n",
       "        vertical-align: middle;\n",
       "    }\n",
       "\n",
       "    .dataframe tbody tr th {\n",
       "        vertical-align: top;\n",
       "    }\n",
       "\n",
       "    .dataframe thead th {\n",
       "        text-align: right;\n",
       "    }\n",
       "</style>\n",
       "<table border=\"1\" class=\"dataframe\">\n",
       "  <thead>\n",
       "    <tr style=\"text-align: right;\">\n",
       "      <th></th>\n",
       "      <th>species</th>\n",
       "      <th>island</th>\n",
       "      <th>bill_length_mm</th>\n",
       "      <th>bill_depth_mm</th>\n",
       "      <th>flipper_length_mm</th>\n",
       "      <th>body_mass_g</th>\n",
       "      <th>sex</th>\n",
       "    </tr>\n",
       "  </thead>\n",
       "  <tbody>\n",
       "    <tr>\n",
       "      <th>0</th>\n",
       "      <td>Adelie</td>\n",
       "      <td>Torgersen</td>\n",
       "      <td>39.1</td>\n",
       "      <td>18.7</td>\n",
       "      <td>181.0</td>\n",
       "      <td>3750.0</td>\n",
       "      <td>Male</td>\n",
       "    </tr>\n",
       "    <tr>\n",
       "      <th>1</th>\n",
       "      <td>Adelie</td>\n",
       "      <td>Torgersen</td>\n",
       "      <td>39.5</td>\n",
       "      <td>17.4</td>\n",
       "      <td>186.0</td>\n",
       "      <td>3800.0</td>\n",
       "      <td>Female</td>\n",
       "    </tr>\n",
       "    <tr>\n",
       "      <th>2</th>\n",
       "      <td>Adelie</td>\n",
       "      <td>Torgersen</td>\n",
       "      <td>40.3</td>\n",
       "      <td>18.0</td>\n",
       "      <td>195.0</td>\n",
       "      <td>3250.0</td>\n",
       "      <td>Female</td>\n",
       "    </tr>\n",
       "    <tr>\n",
       "      <th>4</th>\n",
       "      <td>Adelie</td>\n",
       "      <td>Torgersen</td>\n",
       "      <td>36.7</td>\n",
       "      <td>19.3</td>\n",
       "      <td>193.0</td>\n",
       "      <td>3450.0</td>\n",
       "      <td>Female</td>\n",
       "    </tr>\n",
       "    <tr>\n",
       "      <th>5</th>\n",
       "      <td>Adelie</td>\n",
       "      <td>Torgersen</td>\n",
       "      <td>39.3</td>\n",
       "      <td>20.6</td>\n",
       "      <td>190.0</td>\n",
       "      <td>3650.0</td>\n",
       "      <td>Male</td>\n",
       "    </tr>\n",
       "    <tr>\n",
       "      <th>6</th>\n",
       "      <td>Adelie</td>\n",
       "      <td>Torgersen</td>\n",
       "      <td>38.9</td>\n",
       "      <td>17.8</td>\n",
       "      <td>181.0</td>\n",
       "      <td>3625.0</td>\n",
       "      <td>Female</td>\n",
       "    </tr>\n",
       "    <tr>\n",
       "      <th>7</th>\n",
       "      <td>Adelie</td>\n",
       "      <td>Torgersen</td>\n",
       "      <td>39.2</td>\n",
       "      <td>19.6</td>\n",
       "      <td>195.0</td>\n",
       "      <td>4675.0</td>\n",
       "      <td>Male</td>\n",
       "    </tr>\n",
       "    <tr>\n",
       "      <th>12</th>\n",
       "      <td>Adelie</td>\n",
       "      <td>Torgersen</td>\n",
       "      <td>41.1</td>\n",
       "      <td>17.6</td>\n",
       "      <td>182.0</td>\n",
       "      <td>3200.0</td>\n",
       "      <td>Female</td>\n",
       "    </tr>\n",
       "    <tr>\n",
       "      <th>13</th>\n",
       "      <td>Adelie</td>\n",
       "      <td>Torgersen</td>\n",
       "      <td>38.6</td>\n",
       "      <td>21.2</td>\n",
       "      <td>191.0</td>\n",
       "      <td>3800.0</td>\n",
       "      <td>Male</td>\n",
       "    </tr>\n",
       "    <tr>\n",
       "      <th>14</th>\n",
       "      <td>Adelie</td>\n",
       "      <td>Torgersen</td>\n",
       "      <td>34.6</td>\n",
       "      <td>21.1</td>\n",
       "      <td>198.0</td>\n",
       "      <td>4400.0</td>\n",
       "      <td>Male</td>\n",
       "    </tr>\n",
       "  </tbody>\n",
       "</table>\n",
       "</div>"
      ],
      "text/plain": [
       "   species     island  bill_length_mm  bill_depth_mm  flipper_length_mm  \\\n",
       "0   Adelie  Torgersen            39.1           18.7              181.0   \n",
       "1   Adelie  Torgersen            39.5           17.4              186.0   \n",
       "2   Adelie  Torgersen            40.3           18.0              195.0   \n",
       "4   Adelie  Torgersen            36.7           19.3              193.0   \n",
       "5   Adelie  Torgersen            39.3           20.6              190.0   \n",
       "6   Adelie  Torgersen            38.9           17.8              181.0   \n",
       "7   Adelie  Torgersen            39.2           19.6              195.0   \n",
       "12  Adelie  Torgersen            41.1           17.6              182.0   \n",
       "13  Adelie  Torgersen            38.6           21.2              191.0   \n",
       "14  Adelie  Torgersen            34.6           21.1              198.0   \n",
       "\n",
       "    body_mass_g     sex  \n",
       "0        3750.0    Male  \n",
       "1        3800.0  Female  \n",
       "2        3250.0  Female  \n",
       "4        3450.0  Female  \n",
       "5        3650.0    Male  \n",
       "6        3625.0  Female  \n",
       "7        4675.0    Male  \n",
       "12       3200.0  Female  \n",
       "13       3800.0    Male  \n",
       "14       4400.0    Male  "
      ]
     },
     "execution_count": 44,
     "metadata": {},
     "output_type": "execute_result"
    }
   ],
   "source": [
    "import numpy as np\n",
    "import pandas as pd\n",
    "import matplotlib.pyplot as plt\n",
    "import seaborn as sns\n",
    "from scipy import stats\n",
    "\n",
    "df = sns.load_dataset(\"penguins\")\n",
    "df = df.dropna()\n",
    "df.head(10)\n",
    "\n",
    "# df = df.rename(columns = {\"spices\": \"spicies\", \"island\" : \"island\", \n",
    "# \"bill_depth_mm\":\"bill_length\", \"bill_depth\":\"bill_depth\",\n",
    "#  \"filpper_length_mm\":\"filpper_length\", \"body_mass_g\":\"body_mass\", \"sex\" : \"sex\"})"
   ]
  },
  {
   "cell_type": "markdown",
   "metadata": {},
   "source": [
    "penguins 데이터셋은 아래와 같은 정보를 담고 있다.\n",
    "\n",
    "* species : 펭귄의 종 (Adelie, Chinstrap, Gentoo)\n",
    "* island: 살고 있는 섬 이름 (Torgersen, Dream, Biscoe)\n",
    "* bill_length: 부리의 길이 (단위: mm)\n",
    "* bill_depth: 부리의 깊이 (단위: mm)\n",
    "* flipper_length: 플리퍼(≒ 날개)의 길이 (단위: mm)\n",
    "* body_mass: 체질량 (단위: g)\n",
    "* sex: 성별 (MALE, FEMALE)"
   ]
  },
  {
   "cell_type": "code",
   "execution_count": 9,
   "metadata": {},
   "outputs": [
    {
     "name": "stdout",
     "output_type": "stream",
     "text": [
      "<class 'pandas.core.frame.DataFrame'>\n",
      "RangeIndex: 344 entries, 0 to 343\n",
      "Data columns (total 7 columns):\n",
      " #   Column             Non-Null Count  Dtype  \n",
      "---  ------             --------------  -----  \n",
      " 0   species            344 non-null    object \n",
      " 1   island             344 non-null    object \n",
      " 2   bill_length_mm     342 non-null    float64\n",
      " 3   bill_depth_mm      342 non-null    float64\n",
      " 4   flipper_length_mm  342 non-null    float64\n",
      " 5   body_mass_g        342 non-null    float64\n",
      " 6   sex                333 non-null    object \n",
      "dtypes: float64(4), object(3)\n",
      "memory usage: 18.9+ KB\n"
     ]
    }
   ],
   "source": [
    "df.info()"
   ]
  },
  {
   "cell_type": "code",
   "execution_count": 134,
   "metadata": {},
   "outputs": [
    {
     "data": {
      "text/plain": [
       "Adelie       146\n",
       "Gentoo       119\n",
       "Chinstrap     68\n",
       "Name: species, dtype: int64"
      ]
     },
     "execution_count": 134,
     "metadata": {},
     "output_type": "execute_result"
    }
   ],
   "source": [
    "df['species'].value_counts()"
   ]
  },
  {
   "cell_type": "markdown",
   "metadata": {},
   "source": [
    "**결측치 시각화**"
   ]
  },
  {
   "cell_type": "code",
   "execution_count": 10,
   "metadata": {},
   "outputs": [
    {
     "data": {
      "text/plain": [
       "species               0\n",
       "island                0\n",
       "bill_length_mm        2\n",
       "bill_depth_mm         2\n",
       "flipper_length_mm     2\n",
       "body_mass_g           2\n",
       "sex                  11\n",
       "dtype: int64"
      ]
     },
     "execution_count": 10,
     "metadata": {},
     "output_type": "execute_result"
    }
   ],
   "source": [
    "df.isnull().sum()"
   ]
  },
  {
   "cell_type": "code",
   "execution_count": 45,
   "metadata": {},
   "outputs": [
    {
     "data": {
      "text/plain": [
       "<AxesSubplot:>"
      ]
     },
     "execution_count": 45,
     "metadata": {},
     "output_type": "execute_result"
    },
    {
     "data": {
      "image/png": "[encoded data removed]",
      "text/plain": [
       "<Figure size 2500x1000 with 2 Axes>"
      ]
     },
     "metadata": {},
     "output_type": "display_data"
    }
   ],
   "source": [
    "import missingno as mino\n",
    "mino.matrix(df)"
   ]
  },
  {
   "cell_type": "markdown",
   "metadata": {},
   "source": [
    "**가설: Adelie 펭귄은 키가 약 70cm까지 자란다고 한다. 그렇다면 70cm까지 자란 개체의 몸무게는 6kg 이상일 것이다.**\n",
    "\n",
    "* 평균 수치(4.2kg)이상, 최대 수치(6.3kg)이하의 범위 안에 속할 것 \n",
    "\n",
    "    * 귀무가설: Adelie 펭귄의 평균 몸무게는 6kg일 것이다.\n",
    "    * 대립가설: Adelie 펭귄의 평균 몸무게는 6kg이 아닐 것이다.\n",
    "    * 신뢰도: 95%"
   ]
  },
  {
   "cell_type": "code",
   "execution_count": 20,
   "metadata": {},
   "outputs": [
    {
     "data": {
      "text/plain": [
       "count     342.000000\n",
       "mean     4201.754386\n",
       "std       801.954536\n",
       "min      2700.000000\n",
       "25%      3550.000000\n",
       "50%      4050.000000\n",
       "75%      4750.000000\n",
       "max      6300.000000\n",
       "Name: body_mass_g, dtype: float64"
      ]
     },
     "execution_count": 20,
     "metadata": {},
     "output_type": "execute_result"
    }
   ],
   "source": [
    "df['body_mass_g'].describe()"
   ]
  },
  {
   "cell_type": "code",
   "execution_count": 43,
   "metadata": {},
   "outputs": [],
   "source": [
    "df['body_mass_g'].fillna(method = \"ffill\", inplace = True)"
   ]
  },
  {
   "cell_type": "code",
   "execution_count": 28,
   "metadata": {},
   "outputs": [
    {
     "data": {
      "text/plain": [
       "Ttest_1sampResult(statistic=-61.907109186716326, pvalue=3.257306109610503e-109)"
      ]
     },
     "execution_count": 28,
     "metadata": {},
     "output_type": "execute_result"
    }
   ],
   "source": [
    "adelie = df[df['species'] == 'Adelie']['body_mass_g']\n",
    "stats.ttest_1samp(adelie, 6000) # 체중 단위: g"
   ]
  },
  {
   "cell_type": "markdown",
   "metadata": {},
   "source": [
    "**two sample T-test**\n",
    "* 두 표본집단의 평균을 비교할 때 사용한다. \n",
    "* 가설: Adeile 펭귄은 Gentoo 펭귄 속의 펭귄 종이라고 한다. 그렇다면 두 종의 펭귄의 생김새가 비슷하지 않을까? \n",
    "* 생김새의 측도라고 할 수 있는 평균 부리의 깊이가 같을 것이다. "
   ]
  },
  {
   "cell_type": "code",
   "execution_count": 46,
   "metadata": {},
   "outputs": [
    {
     "data": {
      "text/plain": [
       "Ttest_indResult(statistic=24.208855744860315, pvalue=6.91055572279657e-69)"
      ]
     },
     "execution_count": 46,
     "metadata": {},
     "output_type": "execute_result"
    }
   ],
   "source": [
    "adelie = df[df['species'] == 'Adelie']['bill_depth_mm']\n",
    "gentoo = df[df['species'] == 'Gentoo']['bill_depth_mm']\n",
    "\n",
    "stats.ttest_ind(adelie, gentoo)"
   ]
  },
  {
   "cell_type": "markdown",
   "metadata": {},
   "source": [
    "**p-value가 0.05 미만이므로 통계적으로 유의미하다고 볼 수 있다.**"
   ]
  },
  {
   "cell_type": "code",
   "execution_count": 57,
   "metadata": {},
   "outputs": [
    {
     "name": "stdout",
     "output_type": "stream",
     "text": [
      "Adelie 종의 평균 부리 깊이: 18.35\n",
      "Gentoo 종의 평균 부리 깊이: 15.0\n"
     ]
    }
   ],
   "source": [
    "print(\"Adelie 종의 평균 부리 깊이:\",np.round(adelie.mean(), 2))\n",
    "print(\"Gentoo 종의 평균 부리 깊이:\",np.round(gentoo.mean(), 2))"
   ]
  },
  {
   "cell_type": "markdown",
   "metadata": {},
   "source": [
    "정확한 평균 값을 비교해보면 adelie종은 18.35mm, gentoo종은 15mm로 차이가 있다. 하지만 평균 값의 완전한 일치 여부가 아니라 두 값 사이에 통계적으로 유의미한 차이가 있는 지를 확인하는 절차이기 때문에 두 평균 값은 같다고 봐도 무방하다.  "
   ]
  },
  {
   "cell_type": "code",
   "execution_count": 47,
   "metadata": {},
   "outputs": [
    {
     "data": {
      "text/plain": [
       "Ttest_indResult(statistic=-0.41849509118137584, pvalue=0.6760088132938111)"
      ]
     },
     "execution_count": 47,
     "metadata": {},
     "output_type": "execute_result"
    }
   ],
   "source": [
    "adelie = df[df['species'] == 'Adelie']['bill_depth_mm']\n",
    "Chinstrap = df[df['species'] == 'Chinstrap']['bill_depth_mm']\n",
    "\n",
    "stats.ttest_ind(adelie, Chinstrap)"
   ]
  },
  {
   "cell_type": "markdown",
   "metadata": {},
   "source": [
    "**Chi-squared test (카이제곱 검정)**\n",
    "* Chi-squared test는 표본집단의 분포를 비교할 때 선택하는 방법이다. \n",
    "* Chi-squared test는 범주형(Categorical data)에 대해서만 사용이 가능하다."
   ]
  },
  {
   "cell_type": "markdown",
   "metadata": {},
   "source": [
    "**one sample Chi-squared test**\n",
    "* 귀무가설: 펭귄의 성비는 1:1일 것이다.\n",
    "* 대립가설: 펭귄의 성비는 1:1이 아닐 것이다.\n",
    "* 신뢰도: 95%"
   ]
  },
  {
   "cell_type": "code",
   "execution_count": 68,
   "metadata": {},
   "outputs": [
    {
     "data": {
      "text/plain": [
       "Power_divergenceResult(statistic=0.02702702702702703, pvalue=0.8694170607412391)"
      ]
     },
     "execution_count": 68,
     "metadata": {},
     "output_type": "execute_result"
    }
   ],
   "source": [
    "male = df['sex'].value_counts()['Male']\n",
    "female = df['sex'].value_counts()['Female']\n",
    "exp = len(df) / 2 \n",
    "'''\n",
    "f_exp = [exp, exp]는 'Male'과 'Female' 두 범주에 대한 기대값을 \n",
    "각각 전체 데이터 수의 절반으로 설정한다는 것을 의미.\n",
    "위 가설에 따라 데이터를 1:1 비율에 해당하도록 나누기 위함.\n",
    "'''\n",
    "stats.chisquare(f_obs=[male, female], f_exp = [exp, exp])"
   ]
  },
  {
   "cell_type": "markdown",
   "metadata": {},
   "source": [
    "**two sample Chi-squared test**\n",
    "귀무가설: "
   ]
  },
  {
   "cell_type": "markdown",
   "metadata": {},
   "source": [
    "* 귀무가설: 펭귄의 몸무게와 플리퍼 길이는 연관이 없다.\n",
    "* 대립가설: 펭귄의 몸무게와 플리퍼 길이는 연관이 있다.\n",
    "* 신뢰도: 95%"
   ]
  },
  {
   "cell_type": "markdown",
   "metadata": {},
   "source": [
    "몸무게와 플리퍼 길이를 각각 세 그룹으로 나누고, 그 결과를 crosstab으로 제작, 펭귄의 몸무게와 플리퍼 길이에 대해서 two sample Chi-squared test를 시행"
   ]
  },
  {
   "cell_type": "code",
   "execution_count": 71,
   "metadata": {},
   "outputs": [],
   "source": [
    "# 'body_mass_g'와 'flipper_length 열의 값을 동일한 간격의 3개 구간으로 나누고,\n",
    "#  각 값이 속한 구간을 카테고리형 데이터로 변환하는 작업을 수행\n",
    "\n",
    "mass_cut = pd.cut(df['body_mass_g'], 3).astype('category')\n",
    "flipper_cut = pd.cut(df[\"flipper_length_mm\"], 3).astype(\"category\")\n",
    "    \n",
    "data = pd.crosstab(mass_cut, flipper_cut)\n",
    "data.columns = ['Short', 'Middle', 'Long']\n",
    "data.index = ['Light','Middle','Heavy']"
   ]
  },
  {
   "cell_type": "code",
   "execution_count": 73,
   "metadata": {},
   "outputs": [
    {
     "data": {
      "text/html": [
       "<div>\n",
       "<style scoped>\n",
       "    .dataframe tbody tr th:only-of-type {\n",
       "        vertical-align: middle;\n",
       "    }\n",
       "\n",
       "    .dataframe tbody tr th {\n",
       "        vertical-align: top;\n",
       "    }\n",
       "\n",
       "    .dataframe thead th {\n",
       "        text-align: right;\n",
       "    }\n",
       "</style>\n",
       "<table border=\"1\" class=\"dataframe\">\n",
       "  <thead>\n",
       "    <tr style=\"text-align: right;\">\n",
       "      <th></th>\n",
       "      <th>Short</th>\n",
       "      <th>Middle</th>\n",
       "      <th>Long</th>\n",
       "    </tr>\n",
       "  </thead>\n",
       "  <tbody>\n",
       "    <tr>\n",
       "      <th>Light</th>\n",
       "      <td>95</td>\n",
       "      <td>55</td>\n",
       "      <td>0</td>\n",
       "    </tr>\n",
       "    <tr>\n",
       "      <th>Middle</th>\n",
       "      <td>13</td>\n",
       "      <td>74</td>\n",
       "      <td>41</td>\n",
       "    </tr>\n",
       "    <tr>\n",
       "      <th>Heavy</th>\n",
       "      <td>0</td>\n",
       "      <td>2</td>\n",
       "      <td>53</td>\n",
       "    </tr>\n",
       "  </tbody>\n",
       "</table>\n",
       "</div>"
      ],
      "text/plain": [
       "        Short  Middle  Long\n",
       "Light      95      55     0\n",
       "Middle     13      74    41\n",
       "Heavy       0       2    53"
      ]
     },
     "execution_count": 73,
     "metadata": {},
     "output_type": "execute_result"
    }
   ],
   "source": [
    "data # 각 셀은 두 범주형 변수의 교차 빈도를 나타냄."
   ]
  },
  {
   "cell_type": "code",
   "execution_count": 74,
   "metadata": {},
   "outputs": [
    {
     "data": {
      "text/plain": [
       "(244.23390701043138, 1.1365768507791132e-51)"
      ]
     },
     "execution_count": 74,
     "metadata": {},
     "output_type": "execute_result"
    }
   ],
   "source": [
    "chi, pvalue, _, _ = stats.chi2_contingency(data, correction=True)\n",
    "chi, pvalue\n",
    "# chi2_contingency(): 두 변수간의 독립성 검정을 수행\n",
    "    # correction = 기본값은 False, 보정이 들어간 검정 수행 여부를 결정\n",
    "    # 보정은 표본의 크기가 작을 때 수행하는 것이 적절함. \n",
    "\n",
    "# p-value가 0.05보다 작기 때문에 귀무가설을 기각하고 대립가설을 채택한다. \n",
    "# 따라서 펭귄의 몸무게와 플리퍼 길이는 연관이 있다"
   ]
  },
  {
   "cell_type": "markdown",
   "metadata": {},
   "source": [
    "**T-test와 Chi-square test를 class로 구현**"
   ]
  },
  {
   "cell_type": "code",
   "execution_count": 103,
   "metadata": {},
   "outputs": [
    {
     "name": "stdout",
     "output_type": "stream",
     "text": [
      "Additional Data: Stastical significance\n",
      "The difference is statistically significant.\n",
      "T-statistic: 24.208855744860315\n",
      "P-value: 0.0\n"
     ]
    }
   ],
   "source": [
    "import numpy as np\n",
    "from scipy.stats import t\n",
    "\n",
    "class TTest:\n",
    "    def __init__(self, sample1, sample2):\n",
    "        # 비교하고자 하는 두 표본을 클래스 속성으로 저장\n",
    "        self.sample1 = np.array(sample1)\n",
    "        self.sample2 = np.array(sample2)\n",
    "        \n",
    "    def calculate_t_statistic(self): # t-통계량을 계산하는 역할\n",
    "        mean1, mean2 = np.mean(self.sample1), np.mean(self.sample2) # 각 표본의 평균\n",
    "        std1, std2 = np.std(self.sample1, ddof=1), np.std(self.sample2, ddof=1) \n",
    "        # 각 표본의 비편향 표준편차 게산\n",
    "         # 비편향 표준편차: 모집단의 표준편차에 대한 추정치(데이터의 변량의 정확한 측정치를 제공)\n",
    "            # -> 표본 표준편차와 모집단 표준편차간의 차이를 보완\n",
    "         # 표준편차를 사용하면 표본의 크기에 따라 편향된 추정치가 되고 모집단의 표준편차를 과소평가할 수 있음.\n",
    "            # ddof 매개변수: 자유도에서 감소할 값 지정(표본 표준편차의 경우 1로 지정)\n",
    "        \n",
    "        n1, n2 = len(self.sample1), len(self.sample2) # 각각의 표본 크기\n",
    "        \n",
    "        # 풀드(pooled) 표준편차 수식\n",
    "         # 두 표본의 정보를 통합하여 모집단의 표준편차를 추정\n",
    "        pooled_std = np.sqrt(((n1-1)*std1**2 + (n2-1)*std2**2) / (n1 + n2 - 2))\n",
    "        \n",
    "        # T-통계량 계산\n",
    "        t_statistic = (mean1 - mean2) / (pooled_std * np.sqrt(1/n1 + 1/n2))\n",
    "        \n",
    "        return t_statistic\n",
    "\n",
    "    # 두 표본의 평균 차이를 표준 오차로 나누기\n",
    "    def perform_t_test(self, alpha=0.05, alternative='two-sided'):\n",
    "        t_statistic = self.calculate_t_statistic() \n",
    "        df = len(self.sample1) + len(self.sample2) - 2 # 통계량의 자유도 계산, 자유도는 두 표본의 크기에서 2를 뺀 값.\n",
    "        p_value = 2 * (1 - t.cdf(np.abs(t_statistic), df))\n",
    "        # t.cdf(): t-분포의 누적 분포 함수 계산\n",
    "            # 누적 분포 함수: 확률 변수가 특정 값보다 작거나 같을 확률 계산\n",
    "        # np.abs(t_statistic): t-통계량의 절댓값을 취한 값\n",
    "        # t-분포는 양쪽 꼬리에 대칭이므로 양쪽 영역을 고려하기 위해 절댓값을 사용\n",
    "        # 정리: 양측 검정에서 귀무가설의 기각역에 들어갈 확률 계산, 양쪽 꼬리에 대한 확률을 고려하기 위해 절댓값 사용\n",
    "        return t_statistic, p_value, result\n",
    "\n",
    "class SuperTTest(TTest): # TTest 클래스를 상속\n",
    "    def __init__(self, sample1, sample2, additional_data):\n",
    "        super().__init__(sample1, sample2) # 부모 클래스의 __init__ 메소드 호출\n",
    "        self.additional_data = additional_data\n",
    "    \n",
    "    def display_additional_data(self):\n",
    "        print(f\"Additional Data: {self.additional_data}\")\n",
    "    # 활용 예시: 통계 결과 해석 \n",
    "    def interpret_results(self):\n",
    "            t_stat, p_val, result = self.perform_t_test()\n",
    "            self.display_additional_data()\n",
    "            \n",
    "            if p_val < 0.05:\n",
    "                print(\"The difference is statistically significant.\")\n",
    "            else:\n",
    "                print(\"No significant difference observed.\")\n",
    "\n",
    "# Example usage:\n",
    "sample1 = adelie\n",
    "sample2 = gentoo\n",
    "additional_data = \"Stastical significance\"\n",
    "\n",
    "super_t_test_instance = SuperTTest(sample1, sample2, additional_data)\n",
    "super_t_test_instance.interpret_results()\n",
    "\n",
    "print(f\"T-statistic: {t_stat}\")\n",
    "print(f\"P-value: {p_val}\")\n",
    "\n"
   ]
  },
  {
   "cell_type": "markdown",
   "metadata": {},
   "source": [
    "**pooled 표준편차 수식**\n",
    "\n",
    "$$pooled variance=\\frac{(n1−1)⋅var1+(n2−1)⋅var2}{n1+n2−2}$$\n",
    "\n",
    "$var1, var2$: 각 표본의 비편향 표분 분산\n"
   ]
  },
  {
   "cell_type": "markdown",
   "metadata": {},
   "source": [
    "**t-통계량 계산 수식**\n",
    "\n",
    "$$tstatistic​=\\frac{mean1​−mean2​​}{pooled\\_std×n1​1​+n2​1​​}\n",
    "$$\n",
    "\n",
    "$pooled\\_std$: 등분산 가정 하에서 두 표본의 표준편차의 가중평균"
   ]
  },
  {
   "cell_type": "code",
   "execution_count": null,
   "metadata": {},
   "outputs": [],
   "source": [
    "mass_cut = pd.cut(df['body_mass_g'], 3).astype('category')\n",
    "flipper_cut = pd.cut(df[\"flipper_length_mm\"], 3).astype(\"category\")\n",
    "    \n",
    "data = pd.crosstab(mass_cut, flipper_cut)\n",
    "data.columns = ['Short', 'Middle', 'Long']\n",
    "data.index = ['Light','Middle','Heavy']"
   ]
  },
  {
   "cell_type": "code",
   "execution_count": 115,
   "metadata": {},
   "outputs": [
    {
     "data": {
      "text/plain": [
       "(244.23390701043138, 1.1365768507791132e-51)"
      ]
     },
     "execution_count": 115,
     "metadata": {},
     "output_type": "execute_result"
    }
   ],
   "source": [
    "chi, pvalue, _, _ = stats.chi2_contingency(data, correction=True)\n",
    "chi, pvalue"
   ]
  },
  {
   "cell_type": "markdown",
   "metadata": {},
   "source": [
    "**카이제곱 검정 class** "
   ]
  },
  {
   "cell_type": "code",
   "execution_count": 132,
   "metadata": {},
   "outputs": [
    {
     "name": "stdout",
     "output_type": "stream",
     "text": [
      "Chi-Square Test Result:\n",
      "Chi-Square Statistic: 244.23390701043144\n",
      "P-value: 0.0\n",
      "Degrees of Freedom: 4\n"
     ]
    }
   ],
   "source": [
    "import numpy as np\n",
    "import pandas as pd\n",
    "from scipy.stats import chi2_contingency\n",
    "\n",
    "class ChiSquareTest: # 카이제곱 검정 수행 클래스 정의\n",
    "    def __init__(self, observed): # observed: 검정을 수행할 실제 관측 데이터\n",
    "        self.observed = np.array(observed) # 연산을 위해 array로 변환\n",
    "    \n",
    "    def perform_chi_square_test(self, alpha=0.05): #alpha=0.05: 유의수준으로 기본값은 0.05로 설정\n",
    "        row_totals = np.sum(self.observed, axis=1)  \n",
    "        col_totals = np.sum(self.observed, axis=0)  \n",
    "        total = np.sum(self.observed) \n",
    "\n",
    "        expected = np.outer(row_totals, col_totals) / total\n",
    "\n",
    "        # 카이제곱 통계량 계산\n",
    "            # 관측된 빈도와 기대 빈도간의 차이 제곱\n",
    "            # 기대 빈도로 나누어 모든 셀에서 얻은 값 합산\n",
    "        chi2 = np.sum((self.observed - expected)**2 / expected)\n",
    "\n",
    "        # 자유도 계산\n",
    "            # (행의 수 - 1) * (열의 수 - 1)\n",
    "        dof = (self.observed.shape[0] - 1) * (self.observed.shape[1] - 1)\n",
    "\n",
    "        # 누적 분포 함수 활용, 카이제곱 통계량에 대한 p-value를 계산.\n",
    "        p_value = 1 - stats.chi2.cdf(chi2, dof)\n",
    "\n",
    "        result = {\n",
    "            'Chi-Square Statistic': chi2,\n",
    "            'P-value': p_value,\n",
    "            'Degrees of Freedom': dof,            \n",
    "        }\n",
    "\n",
    "        return result\n",
    "\n",
    "# 위의 카이제곱 함수 사용 예제와 동일\n",
    " # 데이터를 3개의 구간으로 나누고 교차 빈도 테이블 생성 -> 입력 데이터로 사용\n",
    "mass_cut = pd.cut(df['body_mass_g'], 3)\n",
    "flipper_cut = pd.cut(df[\"flipper_length_mm\"], 3)\n",
    "    \n",
    "data = pd.crosstab(mass_cut, flipper_cut)\n",
    "data.columns = ['Short', 'Middle', 'Long']\n",
    "data.index = ['Light', 'Middle', 'Heavy']\n",
    "\n",
    "# Transpose the data to get the expected format for the ChiSquareTest\n",
    "observed_data = data.T.values\n",
    "\n",
    "chi_square_test_instance = ChiSquareTest(observed_data)\n",
    "result = chi_square_test_instance.perform_chi_square_test()\n",
    "\n",
    "print(\"Chi-Square Test Result:\")\n",
    "for key, value in result.items():\n",
    "    print(f\"{key}: {value}\")\n"
   ]
  }
 ],
 "metadata": {
  "kernelspec": {
   "display_name": "mp",
   "language": "python",
   "name": "python3"
  },
  "language_info": {
   "codemirror_mode": {
    "name": "ipython",
    "version": 3
   },
   "file_extension": ".py",
   "mimetype": "text/x-python",
   "name": "python",
   "nbconvert_exporter": "python",
   "pygments_lexer": "ipython3",
   "version": "3.7.1"
  }
 },
 "nbformat": 4,
 "nbformat_minor": 2
}
