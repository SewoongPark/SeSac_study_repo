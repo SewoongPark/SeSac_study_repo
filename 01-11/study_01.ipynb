{
 "cells": [
  {
   "cell_type": "markdown",
   "metadata": {},
   "source": [
    "**Pandas 추가 이해: groupby**\n",
    "1. 그룹화의 이유:\n",
    "\n",
    "###### * 데이터를 특정 기준에 따라 세분화하고 각 그룹에 대한 특정 연산을 수행할 수 있습니다.  * 데이터의 패턴이나 특징을 파악하기 쉽고 간편하게 할 수 있습니다.\n",
    "그룹화를 통해 데이터를 더 쉽게 이해하고 해석할 수 있습니다.\n",
    "\n",
    "집계 함수 적용: groupby를 사용하면 각 그룹에 대해 다양한 집계 함수를 적용할 수 있습니다. 예를 들어, 평균, 합계, 표준편차 등을 계산할 수 있습니다.\n",
    "\n",
    "데이터 탐색과 이해: 그룹화를 통해 데이터를 쉽게 탐색하고 이해할 수 있습니다. 특히 범주형 데이터에 유용하며, 각 범주에 대한 통계를 쉽게 확인할 수 있습니다.\n",
    "\n",
    "시각화와 함께 사용: groupby 결과를 시각화하여 데이터의 패턴을 빠르게 파악할 수 있습니다. 그룹별로 시각화를 하면 데이터의 특성이나 추세를 시각적으로 이해하기 용이합니다.\n",
    "\n",
    "데이터 전처리와 결합: 그룹화를 통해 데이터를 전처리하거나 다른 데이터프레임과 결합할 때 유용합니다. 그룹화된 데이터를 기준으로 다른 데이터프레임을 병합할 수 있습니다."
   ]
  },
  {
   "cell_type": "code",
   "execution_count": 1,
   "metadata": {},
   "outputs": [
    {
     "name": "stdout",
     "output_type": "stream",
     "text": [
      "city\n",
      "Busan      3.5\n",
      "Incheon    2.0\n",
      "Seoul      9.5\n",
      "Name: population, dtype: float64\n"
     ]
    }
   ],
   "source": [
    "import pandas as pd\n",
    "\n",
    "# 샘플 데이터 생성\n",
    "data = {'city': ['Seoul', 'Seoul', 'Busan', 'Busan', 'Incheon', 'Incheon'],\n",
    "        'population': [9, 10, 3, 4, 2, 2]}\n",
    "\n",
    "df = pd.DataFrame(data)\n",
    "\n",
    "# 도시(city)에 따른 인구(population)의 평균 계산\n",
    "average_population = df.groupby('city')['population'].mean()\n",
    "\n",
    "print(average_population)\n"
   ]
  },
  {
   "cell_type": "markdown",
   "metadata": {},
   "source": [
    "### **데이터 병합 실습**\n"
   ]
  },
  {
   "cell_type": "code",
   "execution_count": 2,
   "metadata": {},
   "outputs": [
    {
     "data": {
      "text/html": [
       "<div>\n",
       "<style scoped>\n",
       "    .dataframe tbody tr th:only-of-type {\n",
       "        vertical-align: middle;\n",
       "    }\n",
       "\n",
       "    .dataframe tbody tr th {\n",
       "        vertical-align: top;\n",
       "    }\n",
       "\n",
       "    .dataframe thead th {\n",
       "        text-align: right;\n",
       "    }\n",
       "</style>\n",
       "<table border=\"1\" class=\"dataframe\">\n",
       "  <thead>\n",
       "    <tr style=\"text-align: right;\">\n",
       "      <th></th>\n",
       "      <th>항목</th>\n",
       "      <th>사례수</th>\n",
       "      <th>증가</th>\n",
       "      <th>감소</th>\n",
       "      <th>변화없음</th>\n",
       "    </tr>\n",
       "  </thead>\n",
       "  <tbody>\n",
       "    <tr>\n",
       "      <th>0</th>\n",
       "      <td>스마트폰</td>\n",
       "      <td>999</td>\n",
       "      <td>78.9</td>\n",
       "      <td>1.7</td>\n",
       "      <td>19.4</td>\n",
       "    </tr>\n",
       "    <tr>\n",
       "      <th>1</th>\n",
       "      <td>텔레비전</td>\n",
       "      <td>965</td>\n",
       "      <td>68.5</td>\n",
       "      <td>3.9</td>\n",
       "      <td>27.6</td>\n",
       "    </tr>\n",
       "    <tr>\n",
       "      <th>2</th>\n",
       "      <td>개인용 PC</td>\n",
       "      <td>973</td>\n",
       "      <td>65.7</td>\n",
       "      <td>3.7</td>\n",
       "      <td>30.6</td>\n",
       "    </tr>\n",
       "    <tr>\n",
       "      <th>3</th>\n",
       "      <td>태블릿 PC</td>\n",
       "      <td>662</td>\n",
       "      <td>46.8</td>\n",
       "      <td>4.2</td>\n",
       "      <td>49.0</td>\n",
       "    </tr>\n",
       "    <tr>\n",
       "      <th>4</th>\n",
       "      <td>라디오</td>\n",
       "      <td>687</td>\n",
       "      <td>35.5</td>\n",
       "      <td>12.5</td>\n",
       "      <td>52.0</td>\n",
       "    </tr>\n",
       "    <tr>\n",
       "      <th>5</th>\n",
       "      <td>잡지·책</td>\n",
       "      <td>776</td>\n",
       "      <td>31.3</td>\n",
       "      <td>17.8</td>\n",
       "      <td>50.9</td>\n",
       "    </tr>\n",
       "    <tr>\n",
       "      <th>6</th>\n",
       "      <td>종이신문</td>\n",
       "      <td>552</td>\n",
       "      <td>17.6</td>\n",
       "      <td>23.2</td>\n",
       "      <td>59.2</td>\n",
       "    </tr>\n",
       "  </tbody>\n",
       "</table>\n",
       "</div>"
      ],
      "text/plain": [
       "       항목  사례수    증가    감소  변화없음\n",
       "0    스마트폰  999  78.9   1.7  19.4\n",
       "1    텔레비전  965  68.5   3.9  27.6\n",
       "2  개인용 PC  973  65.7   3.7  30.6\n",
       "3  태블릿 PC  662  46.8   4.2  49.0\n",
       "4     라디오  687  35.5  12.5  52.0\n",
       "5    잡지·책  776  31.3  17.8  50.9\n",
       "6    종이신문  552  17.6  23.2  59.2"
      ]
     },
     "execution_count": 2,
     "metadata": {},
     "output_type": "execute_result"
    }
   ],
   "source": [
    "import pandas as pd\n",
    "import numpy as np\n",
    "import matplotlib.pyplot as plt\n",
    "\n",
    "df = pd.read_csv(r\"C:\\data\\dataList\\covid.csv\", index_col=False, encoding=\"cp949\" )\n",
    "df"
   ]
  },
  {
   "cell_type": "code",
   "execution_count": 3,
   "metadata": {},
   "outputs": [
    {
     "data": {
      "text/html": [
       "<div>\n",
       "<style scoped>\n",
       "    .dataframe tbody tr th:only-of-type {\n",
       "        vertical-align: middle;\n",
       "    }\n",
       "\n",
       "    .dataframe tbody tr th {\n",
       "        vertical-align: top;\n",
       "    }\n",
       "\n",
       "    .dataframe thead th {\n",
       "        text-align: right;\n",
       "    }\n",
       "</style>\n",
       "<table border=\"1\" class=\"dataframe\">\n",
       "  <thead>\n",
       "    <tr style=\"text-align: right;\">\n",
       "      <th></th>\n",
       "      <th>항목</th>\n",
       "      <th>사례수</th>\n",
       "      <th>증가</th>\n",
       "      <th>감소</th>\n",
       "      <th>변화없음</th>\n",
       "    </tr>\n",
       "  </thead>\n",
       "  <tbody>\n",
       "    <tr>\n",
       "      <th>0</th>\n",
       "      <td>스마트폰</td>\n",
       "      <td>999</td>\n",
       "      <td>78.9</td>\n",
       "      <td>1.7</td>\n",
       "      <td>19.4</td>\n",
       "    </tr>\n",
       "  </tbody>\n",
       "</table>\n",
       "</div>"
      ],
      "text/plain": [
       "     항목  사례수    증가   감소  변화없음\n",
       "0  스마트폰  999  78.9  1.7  19.4"
      ]
     },
     "execution_count": 3,
     "metadata": {},
     "output_type": "execute_result"
    }
   ],
   "source": [
    "df_max_num = df.sort_values(by='사례수', ascending=False)\n",
    "df_max_num.loc[:0]"
   ]
  },
  {
   "cell_type": "code",
   "execution_count": 4,
   "metadata": {},
   "outputs": [
    {
     "data": {
      "text/html": [
       "<div>\n",
       "<style scoped>\n",
       "    .dataframe tbody tr th:only-of-type {\n",
       "        vertical-align: middle;\n",
       "    }\n",
       "\n",
       "    .dataframe tbody tr th {\n",
       "        vertical-align: top;\n",
       "    }\n",
       "\n",
       "    .dataframe thead th {\n",
       "        text-align: right;\n",
       "    }\n",
       "</style>\n",
       "<table border=\"1\" class=\"dataframe\">\n",
       "  <thead>\n",
       "    <tr style=\"text-align: right;\">\n",
       "      <th></th>\n",
       "      <th>항목</th>\n",
       "      <th>사례수</th>\n",
       "      <th>증가</th>\n",
       "      <th>감소</th>\n",
       "      <th>변화없음</th>\n",
       "    </tr>\n",
       "  </thead>\n",
       "  <tbody>\n",
       "    <tr>\n",
       "      <th>0</th>\n",
       "      <td>스마트폰</td>\n",
       "      <td>999</td>\n",
       "      <td>78.9</td>\n",
       "      <td>1.7</td>\n",
       "      <td>19.4</td>\n",
       "    </tr>\n",
       "    <tr>\n",
       "      <th>1</th>\n",
       "      <td>텔레비전</td>\n",
       "      <td>965</td>\n",
       "      <td>68.5</td>\n",
       "      <td>3.9</td>\n",
       "      <td>27.6</td>\n",
       "    </tr>\n",
       "    <tr>\n",
       "      <th>2</th>\n",
       "      <td>개인용 PC</td>\n",
       "      <td>973</td>\n",
       "      <td>65.7</td>\n",
       "      <td>3.7</td>\n",
       "      <td>30.6</td>\n",
       "    </tr>\n",
       "  </tbody>\n",
       "</table>\n",
       "</div>"
      ],
      "text/plain": [
       "       항목  사례수    증가   감소  변화없음\n",
       "0    스마트폰  999  78.9  1.7  19.4\n",
       "1    텔레비전  965  68.5  3.9  27.6\n",
       "2  개인용 PC  973  65.7  3.7  30.6"
      ]
     },
     "execution_count": 4,
     "metadata": {},
     "output_type": "execute_result"
    }
   ],
   "source": [
    "df[:3]"
   ]
  },
  {
   "cell_type": "code",
   "execution_count": 14,
   "metadata": {},
   "outputs": [
    {
     "data": {
      "text/html": [
       "<div>\n",
       "<style scoped>\n",
       "    .dataframe tbody tr th:only-of-type {\n",
       "        vertical-align: middle;\n",
       "    }\n",
       "\n",
       "    .dataframe tbody tr th {\n",
       "        vertical-align: top;\n",
       "    }\n",
       "\n",
       "    .dataframe thead th {\n",
       "        text-align: right;\n",
       "    }\n",
       "</style>\n",
       "<table border=\"1\" class=\"dataframe\">\n",
       "  <thead>\n",
       "    <tr style=\"text-align: right;\">\n",
       "      <th></th>\n",
       "      <th>date</th>\n",
       "      <th>subject</th>\n",
       "      <th>day1num</th>\n",
       "      <th>day1sum</th>\n",
       "      <th>day1rate</th>\n",
       "      <th>day2num</th>\n",
       "      <th>day2sum</th>\n",
       "      <th>day2rate</th>\n",
       "    </tr>\n",
       "  </thead>\n",
       "  <tbody>\n",
       "    <tr>\n",
       "      <th>0</th>\n",
       "      <td>2021.10.16</td>\n",
       "      <td>9505868</td>\n",
       "      <td>10673</td>\n",
       "      <td>7562283</td>\n",
       "      <td>79.6</td>\n",
       "      <td>66910</td>\n",
       "      <td>6191341</td>\n",
       "      <td>65.1</td>\n",
       "    </tr>\n",
       "    <tr>\n",
       "      <th>1</th>\n",
       "      <td>2021.10.15</td>\n",
       "      <td>9505868</td>\n",
       "      <td>14556</td>\n",
       "      <td>7551829</td>\n",
       "      <td>79.4</td>\n",
       "      <td>133580</td>\n",
       "      <td>6124432</td>\n",
       "      <td>64.4</td>\n",
       "    </tr>\n",
       "    <tr>\n",
       "      <th>2</th>\n",
       "      <td>2021.10.14</td>\n",
       "      <td>9505868</td>\n",
       "      <td>9609</td>\n",
       "      <td>7536654</td>\n",
       "      <td>79.3</td>\n",
       "      <td>94569</td>\n",
       "      <td>5989111</td>\n",
       "      <td>63.0</td>\n",
       "    </tr>\n",
       "    <tr>\n",
       "      <th>3</th>\n",
       "      <td>2021.10.13</td>\n",
       "      <td>9505868</td>\n",
       "      <td>9804</td>\n",
       "      <td>7526430</td>\n",
       "      <td>79.2</td>\n",
       "      <td>77503</td>\n",
       "      <td>5893191</td>\n",
       "      <td>62.0</td>\n",
       "    </tr>\n",
       "    <tr>\n",
       "      <th>4</th>\n",
       "      <td>2021.10.12</td>\n",
       "      <td>9505868</td>\n",
       "      <td>17274</td>\n",
       "      <td>7516070</td>\n",
       "      <td>79.1</td>\n",
       "      <td>110204</td>\n",
       "      <td>5814018</td>\n",
       "      <td>61.2</td>\n",
       "    </tr>\n",
       "  </tbody>\n",
       "</table>\n",
       "</div>"
      ],
      "text/plain": [
       "         date  subject  day1num  day1sum  day1rate  day2num  day2sum  day2rate\n",
       "0  2021.10.16  9505868    10673  7562283      79.6    66910  6191341      65.1\n",
       "1  2021.10.15  9505868    14556  7551829      79.4   133580  6124432      64.4\n",
       "2  2021.10.14  9505868     9609  7536654      79.3    94569  5989111      63.0\n",
       "3  2021.10.13  9505868     9804  7526430      79.2    77503  5893191      62.0\n",
       "4  2021.10.12  9505868    17274  7516070      79.1   110204  5814018      61.2"
      ]
     },
     "execution_count": 14,
     "metadata": {},
     "output_type": "execute_result"
    }
   ],
   "source": [
    "df_vaccine = pd.read_csv(r\"C:\\data\\dataList\\vaccine.csv\")\n",
    "df_vaccine_2 = df_vaccine.copy()\n",
    "df_vaccine.head()"
   ]
  },
  {
   "cell_type": "code",
   "execution_count": 4,
   "metadata": {},
   "outputs": [
    {
     "data": {
      "text/html": [
       "<div>\n",
       "<style scoped>\n",
       "    .dataframe tbody tr th:only-of-type {\n",
       "        vertical-align: middle;\n",
       "    }\n",
       "\n",
       "    .dataframe tbody tr th {\n",
       "        vertical-align: top;\n",
       "    }\n",
       "\n",
       "    .dataframe thead th {\n",
       "        text-align: right;\n",
       "    }\n",
       "</style>\n",
       "<table border=\"1\" class=\"dataframe\">\n",
       "  <thead>\n",
       "    <tr style=\"text-align: right;\">\n",
       "      <th></th>\n",
       "      <th>date</th>\n",
       "      <th>subject</th>\n",
       "      <th>day1num</th>\n",
       "      <th>day1sum</th>\n",
       "      <th>day1rate</th>\n",
       "      <th>day2num</th>\n",
       "      <th>day2sum</th>\n",
       "      <th>day2rate</th>\n",
       "    </tr>\n",
       "  </thead>\n",
       "  <tbody>\n",
       "    <tr>\n",
       "      <th>174</th>\n",
       "      <td>2021.04.25</td>\n",
       "      <td>1023346</td>\n",
       "      <td>23323</td>\n",
       "      <td>350631</td>\n",
       "      <td>34.2</td>\n",
       "      <td>3411</td>\n",
       "      <td>18513</td>\n",
       "      <td>1.8</td>\n",
       "    </tr>\n",
       "    <tr>\n",
       "      <th>175</th>\n",
       "      <td>2021.04.24</td>\n",
       "      <td>1023346</td>\n",
       "      <td>200</td>\n",
       "      <td>350427</td>\n",
       "      <td>34.2</td>\n",
       "      <td>0</td>\n",
       "      <td>18513</td>\n",
       "      <td>1.8</td>\n",
       "    </tr>\n",
       "    <tr>\n",
       "      <th>176</th>\n",
       "      <td>2021.04.23</td>\n",
       "      <td>1027740</td>\n",
       "      <td>10195</td>\n",
       "      <td>345764</td>\n",
       "      <td>33.6</td>\n",
       "      <td>119</td>\n",
       "      <td>18376</td>\n",
       "      <td>1.8</td>\n",
       "    </tr>\n",
       "    <tr>\n",
       "      <th>177</th>\n",
       "      <td>2021.04.22</td>\n",
       "      <td>1023538</td>\n",
       "      <td>27074</td>\n",
       "      <td>317386</td>\n",
       "      <td>31.0</td>\n",
       "      <td>2479</td>\n",
       "      <td>15901</td>\n",
       "      <td>1.6</td>\n",
       "    </tr>\n",
       "    <tr>\n",
       "      <th>178</th>\n",
       "      <td>2021.04.21</td>\n",
       "      <td>1019322</td>\n",
       "      <td>22501</td>\n",
       "      <td>291857</td>\n",
       "      <td>28.6</td>\n",
       "      <td>2358</td>\n",
       "      <td>13543</td>\n",
       "      <td>1.3</td>\n",
       "    </tr>\n",
       "  </tbody>\n",
       "</table>\n",
       "</div>"
      ],
      "text/plain": [
       "           date  subject  day1num  day1sum  day1rate  day2num  day2sum  \\\n",
       "174  2021.04.25  1023346    23323   350631      34.2     3411    18513   \n",
       "175  2021.04.24  1023346      200   350427      34.2        0    18513   \n",
       "176  2021.04.23  1027740    10195   345764      33.6      119    18376   \n",
       "177  2021.04.22  1023538    27074   317386      31.0     2479    15901   \n",
       "178  2021.04.21  1019322    22501   291857      28.6     2358    13543   \n",
       "\n",
       "     day2rate  \n",
       "174       1.8  \n",
       "175       1.8  \n",
       "176       1.8  \n",
       "177       1.6  \n",
       "178       1.3  "
      ]
     },
     "execution_count": 4,
     "metadata": {},
     "output_type": "execute_result"
    }
   ],
   "source": [
    "df_vaccine.tail()"
   ]
  },
  {
   "cell_type": "code",
   "execution_count": 15,
   "metadata": {},
   "outputs": [],
   "source": [
    "df_vaccine_2.drop(labels = [\"day1sum\",\"day1rate\",\"day2rate\"],axis=1,inplace = True)"
   ]
  },
  {
   "cell_type": "code",
   "execution_count": 16,
   "metadata": {},
   "outputs": [],
   "source": [
    "df_vaccine_2.drop(labels=\"day2sum\",axis=1,inplace=True)"
   ]
  },
  {
   "cell_type": "code",
   "execution_count": 17,
   "metadata": {},
   "outputs": [
    {
     "name": "stdout",
     "output_type": "stream",
     "text": [
      "<class 'pandas.core.frame.DataFrame'>\n",
      "RangeIndex: 179 entries, 0 to 178\n",
      "Data columns (total 4 columns):\n",
      " #   Column   Non-Null Count  Dtype \n",
      "---  ------   --------------  ----- \n",
      " 0   date     179 non-null    object\n",
      " 1   subject  179 non-null    int64 \n",
      " 2   day1num  179 non-null    int64 \n",
      " 3   day2num  179 non-null    int64 \n",
      "dtypes: int64(3), object(1)\n",
      "memory usage: 5.7+ KB\n"
     ]
    }
   ],
   "source": [
    "df_vaccine_2.info()"
   ]
  },
  {
   "cell_type": "code",
   "execution_count": 18,
   "metadata": {},
   "outputs": [
    {
     "data": {
      "text/html": [
       "<div>\n",
       "<style scoped>\n",
       "    .dataframe tbody tr th:only-of-type {\n",
       "        vertical-align: middle;\n",
       "    }\n",
       "\n",
       "    .dataframe tbody tr th {\n",
       "        vertical-align: top;\n",
       "    }\n",
       "\n",
       "    .dataframe thead th {\n",
       "        text-align: right;\n",
       "    }\n",
       "</style>\n",
       "<table border=\"1\" class=\"dataframe\">\n",
       "  <thead>\n",
       "    <tr style=\"text-align: right;\">\n",
       "      <th></th>\n",
       "      <th>subject</th>\n",
       "      <th>day1num</th>\n",
       "      <th>day2num</th>\n",
       "    </tr>\n",
       "  </thead>\n",
       "  <tbody>\n",
       "    <tr>\n",
       "      <th>count</th>\n",
       "      <td>1.790000e+02</td>\n",
       "      <td>179.000000</td>\n",
       "      <td>179.000000</td>\n",
       "    </tr>\n",
       "    <tr>\n",
       "      <th>mean</th>\n",
       "      <td>5.086644e+06</td>\n",
       "      <td>40078.150838</td>\n",
       "      <td>34096.636872</td>\n",
       "    </tr>\n",
       "    <tr>\n",
       "      <th>std</th>\n",
       "      <td>3.324235e+06</td>\n",
       "      <td>44231.469656</td>\n",
       "      <td>40745.688278</td>\n",
       "    </tr>\n",
       "    <tr>\n",
       "      <th>min</th>\n",
       "      <td>1.019322e+06</td>\n",
       "      <td>0.000000</td>\n",
       "      <td>0.000000</td>\n",
       "    </tr>\n",
       "    <tr>\n",
       "      <th>25%</th>\n",
       "      <td>2.279241e+06</td>\n",
       "      <td>4385.000000</td>\n",
       "      <td>4794.500000</td>\n",
       "    </tr>\n",
       "    <tr>\n",
       "      <th>50%</th>\n",
       "      <td>3.943320e+06</td>\n",
       "      <td>23323.000000</td>\n",
       "      <td>16581.000000</td>\n",
       "    </tr>\n",
       "    <tr>\n",
       "      <th>75%</th>\n",
       "      <td>9.505868e+06</td>\n",
       "      <td>71634.500000</td>\n",
       "      <td>50950.000000</td>\n",
       "    </tr>\n",
       "    <tr>\n",
       "      <th>max</th>\n",
       "      <td>9.795426e+06</td>\n",
       "      <td>169036.000000</td>\n",
       "      <td>200186.000000</td>\n",
       "    </tr>\n",
       "  </tbody>\n",
       "</table>\n",
       "</div>"
      ],
      "text/plain": [
       "            subject        day1num        day2num\n",
       "count  1.790000e+02     179.000000     179.000000\n",
       "mean   5.086644e+06   40078.150838   34096.636872\n",
       "std    3.324235e+06   44231.469656   40745.688278\n",
       "min    1.019322e+06       0.000000       0.000000\n",
       "25%    2.279241e+06    4385.000000    4794.500000\n",
       "50%    3.943320e+06   23323.000000   16581.000000\n",
       "75%    9.505868e+06   71634.500000   50950.000000\n",
       "max    9.795426e+06  169036.000000  200186.000000"
      ]
     },
     "execution_count": 18,
     "metadata": {},
     "output_type": "execute_result"
    }
   ],
   "source": [
    "df_vaccine_2.describe()"
   ]
  },
  {
   "cell_type": "code",
   "execution_count": 19,
   "metadata": {},
   "outputs": [
    {
     "data": {
      "text/html": [
       "<div>\n",
       "<style scoped>\n",
       "    .dataframe tbody tr th:only-of-type {\n",
       "        vertical-align: middle;\n",
       "    }\n",
       "\n",
       "    .dataframe tbody tr th {\n",
       "        vertical-align: top;\n",
       "    }\n",
       "\n",
       "    .dataframe thead th {\n",
       "        text-align: right;\n",
       "    }\n",
       "</style>\n",
       "<table border=\"1\" class=\"dataframe\">\n",
       "  <thead>\n",
       "    <tr style=\"text-align: right;\">\n",
       "      <th></th>\n",
       "      <th>date</th>\n",
       "      <th>subject</th>\n",
       "      <th>day1num</th>\n",
       "      <th>day1sum</th>\n",
       "      <th>day1rate</th>\n",
       "      <th>day2num</th>\n",
       "      <th>day2sum</th>\n",
       "      <th>day2rate</th>\n",
       "      <th>month</th>\n",
       "    </tr>\n",
       "  </thead>\n",
       "  <tbody>\n",
       "    <tr>\n",
       "      <th>0</th>\n",
       "      <td>2021.10.16</td>\n",
       "      <td>9505868</td>\n",
       "      <td>10673</td>\n",
       "      <td>7562283</td>\n",
       "      <td>79.6</td>\n",
       "      <td>66910</td>\n",
       "      <td>6191341</td>\n",
       "      <td>65.1</td>\n",
       "      <td>10</td>\n",
       "    </tr>\n",
       "    <tr>\n",
       "      <th>1</th>\n",
       "      <td>2021.10.15</td>\n",
       "      <td>9505868</td>\n",
       "      <td>14556</td>\n",
       "      <td>7551829</td>\n",
       "      <td>79.4</td>\n",
       "      <td>133580</td>\n",
       "      <td>6124432</td>\n",
       "      <td>64.4</td>\n",
       "      <td>10</td>\n",
       "    </tr>\n",
       "    <tr>\n",
       "      <th>2</th>\n",
       "      <td>2021.10.14</td>\n",
       "      <td>9505868</td>\n",
       "      <td>9609</td>\n",
       "      <td>7536654</td>\n",
       "      <td>79.3</td>\n",
       "      <td>94569</td>\n",
       "      <td>5989111</td>\n",
       "      <td>63.0</td>\n",
       "      <td>10</td>\n",
       "    </tr>\n",
       "    <tr>\n",
       "      <th>3</th>\n",
       "      <td>2021.10.13</td>\n",
       "      <td>9505868</td>\n",
       "      <td>9804</td>\n",
       "      <td>7526430</td>\n",
       "      <td>79.2</td>\n",
       "      <td>77503</td>\n",
       "      <td>5893191</td>\n",
       "      <td>62.0</td>\n",
       "      <td>10</td>\n",
       "    </tr>\n",
       "    <tr>\n",
       "      <th>4</th>\n",
       "      <td>2021.10.12</td>\n",
       "      <td>9505868</td>\n",
       "      <td>17274</td>\n",
       "      <td>7516070</td>\n",
       "      <td>79.1</td>\n",
       "      <td>110204</td>\n",
       "      <td>5814018</td>\n",
       "      <td>61.2</td>\n",
       "      <td>10</td>\n",
       "    </tr>\n",
       "    <tr>\n",
       "      <th>...</th>\n",
       "      <td>...</td>\n",
       "      <td>...</td>\n",
       "      <td>...</td>\n",
       "      <td>...</td>\n",
       "      <td>...</td>\n",
       "      <td>...</td>\n",
       "      <td>...</td>\n",
       "      <td>...</td>\n",
       "      <td>...</td>\n",
       "    </tr>\n",
       "    <tr>\n",
       "      <th>174</th>\n",
       "      <td>2021.04.25</td>\n",
       "      <td>1023346</td>\n",
       "      <td>23323</td>\n",
       "      <td>350631</td>\n",
       "      <td>34.2</td>\n",
       "      <td>3411</td>\n",
       "      <td>18513</td>\n",
       "      <td>1.8</td>\n",
       "      <td>04</td>\n",
       "    </tr>\n",
       "    <tr>\n",
       "      <th>175</th>\n",
       "      <td>2021.04.24</td>\n",
       "      <td>1023346</td>\n",
       "      <td>200</td>\n",
       "      <td>350427</td>\n",
       "      <td>34.2</td>\n",
       "      <td>0</td>\n",
       "      <td>18513</td>\n",
       "      <td>1.8</td>\n",
       "      <td>04</td>\n",
       "    </tr>\n",
       "    <tr>\n",
       "      <th>176</th>\n",
       "      <td>2021.04.23</td>\n",
       "      <td>1027740</td>\n",
       "      <td>10195</td>\n",
       "      <td>345764</td>\n",
       "      <td>33.6</td>\n",
       "      <td>119</td>\n",
       "      <td>18376</td>\n",
       "      <td>1.8</td>\n",
       "      <td>04</td>\n",
       "    </tr>\n",
       "    <tr>\n",
       "      <th>177</th>\n",
       "      <td>2021.04.22</td>\n",
       "      <td>1023538</td>\n",
       "      <td>27074</td>\n",
       "      <td>317386</td>\n",
       "      <td>31.0</td>\n",
       "      <td>2479</td>\n",
       "      <td>15901</td>\n",
       "      <td>1.6</td>\n",
       "      <td>04</td>\n",
       "    </tr>\n",
       "    <tr>\n",
       "      <th>178</th>\n",
       "      <td>2021.04.21</td>\n",
       "      <td>1019322</td>\n",
       "      <td>22501</td>\n",
       "      <td>291857</td>\n",
       "      <td>28.6</td>\n",
       "      <td>2358</td>\n",
       "      <td>13543</td>\n",
       "      <td>1.3</td>\n",
       "      <td>04</td>\n",
       "    </tr>\n",
       "  </tbody>\n",
       "</table>\n",
       "<p>179 rows × 9 columns</p>\n",
       "</div>"
      ],
      "text/plain": [
       "           date  subject  day1num  day1sum  day1rate  day2num  day2sum  \\\n",
       "0    2021.10.16  9505868    10673  7562283      79.6    66910  6191341   \n",
       "1    2021.10.15  9505868    14556  7551829      79.4   133580  6124432   \n",
       "2    2021.10.14  9505868     9609  7536654      79.3    94569  5989111   \n",
       "3    2021.10.13  9505868     9804  7526430      79.2    77503  5893191   \n",
       "4    2021.10.12  9505868    17274  7516070      79.1   110204  5814018   \n",
       "..          ...      ...      ...      ...       ...      ...      ...   \n",
       "174  2021.04.25  1023346    23323   350631      34.2     3411    18513   \n",
       "175  2021.04.24  1023346      200   350427      34.2        0    18513   \n",
       "176  2021.04.23  1027740    10195   345764      33.6      119    18376   \n",
       "177  2021.04.22  1023538    27074   317386      31.0     2479    15901   \n",
       "178  2021.04.21  1019322    22501   291857      28.6     2358    13543   \n",
       "\n",
       "     day2rate month  \n",
       "0        65.1    10  \n",
       "1        64.4    10  \n",
       "2        63.0    10  \n",
       "3        62.0    10  \n",
       "4        61.2    10  \n",
       "..        ...   ...  \n",
       "174       1.8    04  \n",
       "175       1.8    04  \n",
       "176       1.8    04  \n",
       "177       1.6    04  \n",
       "178       1.3    04  \n",
       "\n",
       "[179 rows x 9 columns]"
      ]
     },
     "execution_count": 19,
     "metadata": {},
     "output_type": "execute_result"
    }
   ],
   "source": [
    "df_vaccine['month'] = df_vaccine['date'].apply(lambda x: x.split(\".\")[1])\n",
    "df_vaccine"
   ]
  },
  {
   "cell_type": "markdown",
   "metadata": {},
   "source": [
    "**특정 column의 월별 평균 값 구하기**"
   ]
  },
  {
   "cell_type": "code",
   "execution_count": 23,
   "metadata": {},
   "outputs": [
    {
     "data": {
      "text/plain": [
       "month\n",
       "04    1.054686e+06\n",
       "05    1.289918e+06\n",
       "06    3.167106e+06\n",
       "07    3.819340e+06\n",
       "08    6.702049e+06\n",
       "09    9.556825e+06\n",
       "10    9.505868e+06\n",
       "Name: subject, dtype: float64"
      ]
     },
     "execution_count": 23,
     "metadata": {},
     "output_type": "execute_result"
    }
   ],
   "source": [
    "col_name = list(df_vaccine.columns)\n",
    "df_vaccine_col_mean = df_vaccine.groupby('month')[col_name[1]].mean()\n",
    "df_vaccine_col_mean"
   ]
  },
  {
   "cell_type": "markdown",
   "metadata": {},
   "source": [
    "**모든 column의 월별 평균 값 구하기**"
   ]
  },
  {
   "cell_type": "code",
   "execution_count": 24,
   "metadata": {},
   "outputs": [],
   "source": [
    "df_vaccine_mean= df_vaccine.groupby('month').mean()\n",
    "# df_vaccine['monthly_mean_2'] = df_vaccine.groupby('month')['day2num'].mean()"
   ]
  },
  {
   "cell_type": "code",
   "execution_count": 25,
   "metadata": {},
   "outputs": [
    {
     "data": {
      "text/html": [
       "<div>\n",
       "<style scoped>\n",
       "    .dataframe tbody tr th:only-of-type {\n",
       "        vertical-align: middle;\n",
       "    }\n",
       "\n",
       "    .dataframe tbody tr th {\n",
       "        vertical-align: top;\n",
       "    }\n",
       "\n",
       "    .dataframe thead th {\n",
       "        text-align: right;\n",
       "    }\n",
       "</style>\n",
       "<table border=\"1\" class=\"dataframe\">\n",
       "  <thead>\n",
       "    <tr style=\"text-align: right;\">\n",
       "      <th></th>\n",
       "      <th>subject</th>\n",
       "      <th>day1num</th>\n",
       "      <th>day1sum</th>\n",
       "      <th>day1rate</th>\n",
       "      <th>day2num</th>\n",
       "      <th>day2sum</th>\n",
       "      <th>day2rate</th>\n",
       "    </tr>\n",
       "    <tr>\n",
       "      <th>month</th>\n",
       "      <th></th>\n",
       "      <th></th>\n",
       "      <th></th>\n",
       "      <th></th>\n",
       "      <th></th>\n",
       "      <th></th>\n",
       "      <th></th>\n",
       "    </tr>\n",
       "  </thead>\n",
       "  <tbody>\n",
       "    <tr>\n",
       "      <th>04</th>\n",
       "      <td>1.054686e+06</td>\n",
       "      <td>22060.100000</td>\n",
       "      <td>3.860085e+05</td>\n",
       "      <td>36.440000</td>\n",
       "      <td>2304.600000</td>\n",
       "      <td>2.276060e+04</td>\n",
       "      <td>2.140000</td>\n",
       "    </tr>\n",
       "    <tr>\n",
       "      <th>05</th>\n",
       "      <td>1.289918e+06</td>\n",
       "      <td>18225.548387</td>\n",
       "      <td>6.451063e+05</td>\n",
       "      <td>51.435484</td>\n",
       "      <td>9734.000000</td>\n",
       "      <td>1.661513e+05</td>\n",
       "      <td>12.529032</td>\n",
       "    </tr>\n",
       "    <tr>\n",
       "      <th>06</th>\n",
       "      <td>3.167106e+06</td>\n",
       "      <td>55957.200000</td>\n",
       "      <td>2.234760e+06</td>\n",
       "      <td>69.240000</td>\n",
       "      <td>20147.300000</td>\n",
       "      <td>6.229332e+05</td>\n",
       "      <td>19.276667</td>\n",
       "    </tr>\n",
       "    <tr>\n",
       "      <th>07</th>\n",
       "      <td>3.819340e+06</td>\n",
       "      <td>25807.870968</td>\n",
       "      <td>3.064527e+06</td>\n",
       "      <td>80.232258</td>\n",
       "      <td>9934.903226</td>\n",
       "      <td>1.167138e+06</td>\n",
       "      <td>30.467742</td>\n",
       "    </tr>\n",
       "    <tr>\n",
       "      <th>08</th>\n",
       "      <td>6.702049e+06</td>\n",
       "      <td>57667.258065</td>\n",
       "      <td>4.430462e+06</td>\n",
       "      <td>72.509677</td>\n",
       "      <td>55575.000000</td>\n",
       "      <td>1.984530e+06</td>\n",
       "      <td>31.080645</td>\n",
       "    </tr>\n",
       "    <tr>\n",
       "      <th>09</th>\n",
       "      <td>9.556825e+06</td>\n",
       "      <td>65715.000000</td>\n",
       "      <td>6.466827e+06</td>\n",
       "      <td>67.620000</td>\n",
       "      <td>62162.000000</td>\n",
       "      <td>3.887544e+06</td>\n",
       "      <td>40.663333</td>\n",
       "    </tr>\n",
       "    <tr>\n",
       "      <th>10</th>\n",
       "      <td>9.505868e+06</td>\n",
       "      <td>9406.312500</td>\n",
       "      <td>7.486763e+06</td>\n",
       "      <td>78.762500</td>\n",
       "      <td>79900.750000</td>\n",
       "      <td>5.541498e+06</td>\n",
       "      <td>58.343750</td>\n",
       "    </tr>\n",
       "  </tbody>\n",
       "</table>\n",
       "</div>"
      ],
      "text/plain": [
       "            subject       day1num       day1sum   day1rate       day2num  \\\n",
       "month                                                                      \n",
       "04     1.054686e+06  22060.100000  3.860085e+05  36.440000   2304.600000   \n",
       "05     1.289918e+06  18225.548387  6.451063e+05  51.435484   9734.000000   \n",
       "06     3.167106e+06  55957.200000  2.234760e+06  69.240000  20147.300000   \n",
       "07     3.819340e+06  25807.870968  3.064527e+06  80.232258   9934.903226   \n",
       "08     6.702049e+06  57667.258065  4.430462e+06  72.509677  55575.000000   \n",
       "09     9.556825e+06  65715.000000  6.466827e+06  67.620000  62162.000000   \n",
       "10     9.505868e+06   9406.312500  7.486763e+06  78.762500  79900.750000   \n",
       "\n",
       "            day2sum   day2rate  \n",
       "month                           \n",
       "04     2.276060e+04   2.140000  \n",
       "05     1.661513e+05  12.529032  \n",
       "06     6.229332e+05  19.276667  \n",
       "07     1.167138e+06  30.467742  \n",
       "08     1.984530e+06  31.080645  \n",
       "09     3.887544e+06  40.663333  \n",
       "10     5.541498e+06  58.343750  "
      ]
     },
     "execution_count": 25,
     "metadata": {},
     "output_type": "execute_result"
    }
   ],
   "source": [
    "df_vaccine_mean"
   ]
  },
  {
   "cell_type": "markdown",
   "metadata": {},
   "source": [
    "**데이터 불러오기**"
   ]
  },
  {
   "cell_type": "code",
   "execution_count": 179,
   "metadata": {},
   "outputs": [
    {
     "data": {
      "text/html": [
       "<div>\n",
       "<style scoped>\n",
       "    .dataframe tbody tr th:only-of-type {\n",
       "        vertical-align: middle;\n",
       "    }\n",
       "\n",
       "    .dataframe tbody tr th {\n",
       "        vertical-align: top;\n",
       "    }\n",
       "\n",
       "    .dataframe thead th {\n",
       "        text-align: right;\n",
       "    }\n",
       "</style>\n",
       "<table border=\"1\" class=\"dataframe\">\n",
       "  <thead>\n",
       "    <tr style=\"text-align: right;\">\n",
       "      <th></th>\n",
       "      <th>지급일자</th>\n",
       "      <th>영업점코드</th>\n",
       "      <th>영업점명</th>\n",
       "      <th>식음메뉴그룹코드</th>\n",
       "      <th>식음메뉴그룹명</th>\n",
       "      <th>식음메뉴코드</th>\n",
       "      <th>식음메뉴명(한글)</th>\n",
       "      <th>식음메뉴명(영문)</th>\n",
       "      <th>성별</th>\n",
       "      <th>고객여권발급국가코드</th>\n",
       "      <th>고객여권발급국가명</th>\n",
       "      <th>주문수량</th>\n",
       "    </tr>\n",
       "  </thead>\n",
       "  <tbody>\n",
       "    <tr>\n",
       "      <th>0</th>\n",
       "      <td>2019-03-25</td>\n",
       "      <td>HT</td>\n",
       "      <td>드래곤</td>\n",
       "      <td>1002</td>\n",
       "      <td>라이스류</td>\n",
       "      <td>1459</td>\n",
       "      <td>전복미역국</td>\n",
       "      <td>Seaweed Soup with Abalone(전복미역국)</td>\n",
       "      <td>M</td>\n",
       "      <td>CHN</td>\n",
       "      <td>중국</td>\n",
       "      <td>47</td>\n",
       "    </tr>\n",
       "    <tr>\n",
       "      <th>1</th>\n",
       "      <td>2019-03-05</td>\n",
       "      <td>CX</td>\n",
       "      <td>코엑스</td>\n",
       "      <td>2011</td>\n",
       "      <td>음료</td>\n",
       "      <td>2116</td>\n",
       "      <td>아이스티</td>\n",
       "      <td>NaN</td>\n",
       "      <td>M</td>\n",
       "      <td>JPN</td>\n",
       "      <td>일본</td>\n",
       "      <td>3</td>\n",
       "    </tr>\n",
       "    <tr>\n",
       "      <th>2</th>\n",
       "      <td>2019-03-05</td>\n",
       "      <td>HT</td>\n",
       "      <td>드래곤</td>\n",
       "      <td>1004</td>\n",
       "      <td>VIP안주</td>\n",
       "      <td>1028</td>\n",
       "      <td>계절과일(VIP)</td>\n",
       "      <td>Seasonal Fresh Fruits</td>\n",
       "      <td>M</td>\n",
       "      <td>JPN</td>\n",
       "      <td>일본</td>\n",
       "      <td>7</td>\n",
       "    </tr>\n",
       "    <tr>\n",
       "      <th>3</th>\n",
       "      <td>2019-02-24</td>\n",
       "      <td>HT</td>\n",
       "      <td>드래곤</td>\n",
       "      <td>9001</td>\n",
       "      <td>기타</td>\n",
       "      <td>9030</td>\n",
       "      <td>페리에워터</td>\n",
       "      <td>NaN</td>\n",
       "      <td>F</td>\n",
       "      <td>CHN</td>\n",
       "      <td>중국</td>\n",
       "      <td>1</td>\n",
       "    </tr>\n",
       "    <tr>\n",
       "      <th>4</th>\n",
       "      <td>2019-03-16</td>\n",
       "      <td>CX</td>\n",
       "      <td>코엑스</td>\n",
       "      <td>1002</td>\n",
       "      <td>라이스류</td>\n",
       "      <td>1316</td>\n",
       "      <td>주꾸미삼겹살볶음</td>\n",
       "      <td>Stir-fried Spicy Pork with Baby Octopus</td>\n",
       "      <td>M</td>\n",
       "      <td>CHN</td>\n",
       "      <td>중국</td>\n",
       "      <td>31</td>\n",
       "    </tr>\n",
       "  </tbody>\n",
       "</table>\n",
       "</div>"
      ],
      "text/plain": [
       "         지급일자 영업점코드 영업점명  식음메뉴그룹코드 식음메뉴그룹명  식음메뉴코드  식음메뉴명(한글)  \\\n",
       "0  2019-03-25    HT  드래곤      1002    라이스류    1459      전복미역국   \n",
       "1  2019-03-05    CX  코엑스      2011      음료    2116       아이스티   \n",
       "2  2019-03-05    HT  드래곤      1004   VIP안주    1028  계절과일(VIP)   \n",
       "3  2019-02-24    HT  드래곤      9001      기타    9030      페리에워터   \n",
       "4  2019-03-16    CX  코엑스      1002    라이스류    1316   주꾸미삼겹살볶음   \n",
       "\n",
       "                                 식음메뉴명(영문) 성별 고객여권발급국가코드 고객여권발급국가명  주문수량  \n",
       "0         Seaweed Soup with Abalone(전복미역국)  M        CHN        중국    47  \n",
       "1                                      NaN  M        JPN        일본     3  \n",
       "2                    Seasonal Fresh Fruits  M        JPN        일본     7  \n",
       "3                                      NaN  F        CHN        중국     1  \n",
       "4  Stir-fried Spicy Pork with Baby Octopus  M        CHN        중국    31  "
      ]
     },
     "execution_count": 179,
     "metadata": {},
     "output_type": "execute_result"
    }
   ],
   "source": [
    "import pandas as pd\n",
    "\n",
    "df = pd.read_csv(r\"C:\\Users\\bluecom001\\Downloads\\그랜드코리아레저(주)_영업점별 고객 식음료 주문 내역_20230630.csv\")\n",
    "df.head()"
   ]
  },
  {
   "cell_type": "code",
   "execution_count": 180,
   "metadata": {},
   "outputs": [
    {
     "name": "stdout",
     "output_type": "stream",
     "text": [
      "<class 'pandas.core.frame.DataFrame'>\n",
      "RangeIndex: 1545008 entries, 0 to 1545007\n",
      "Data columns (total 12 columns):\n",
      " #   Column      Non-Null Count    Dtype \n",
      "---  ------      --------------    ----- \n",
      " 0   지급일자        1545008 non-null  object\n",
      " 1   영업점코드       1545008 non-null  object\n",
      " 2   영업점명        1545008 non-null  object\n",
      " 3   식음메뉴그룹코드    1545008 non-null  int64 \n",
      " 4   식음메뉴그룹명     1545008 non-null  object\n",
      " 5   식음메뉴코드      1545008 non-null  int64 \n",
      " 6   식음메뉴명(한글)   1545008 non-null  object\n",
      " 7   식음메뉴명(영문)   603104 non-null   object\n",
      " 8   성별          1355792 non-null  object\n",
      " 9   고객여권발급국가코드  1355826 non-null  object\n",
      " 10  고객여권발급국가명   1355684 non-null  object\n",
      " 11  주문수량        1545008 non-null  int64 \n",
      "dtypes: int64(3), object(9)\n",
      "memory usage: 141.4+ MB\n"
     ]
    }
   ],
   "source": [
    "df.info()"
   ]
  },
  {
   "cell_type": "code",
   "execution_count": 181,
   "metadata": {},
   "outputs": [
    {
     "data": {
      "text/html": [
       "<div>\n",
       "<style scoped>\n",
       "    .dataframe tbody tr th:only-of-type {\n",
       "        vertical-align: middle;\n",
       "    }\n",
       "\n",
       "    .dataframe tbody tr th {\n",
       "        vertical-align: top;\n",
       "    }\n",
       "\n",
       "    .dataframe thead th {\n",
       "        text-align: right;\n",
       "    }\n",
       "</style>\n",
       "<table border=\"1\" class=\"dataframe\">\n",
       "  <thead>\n",
       "    <tr style=\"text-align: right;\">\n",
       "      <th></th>\n",
       "      <th>식음메뉴그룹코드</th>\n",
       "      <th>식음메뉴코드</th>\n",
       "      <th>주문수량</th>\n",
       "    </tr>\n",
       "  </thead>\n",
       "  <tbody>\n",
       "    <tr>\n",
       "      <th>count</th>\n",
       "      <td>1.545008e+06</td>\n",
       "      <td>1.545008e+06</td>\n",
       "      <td>1.545008e+06</td>\n",
       "    </tr>\n",
       "    <tr>\n",
       "      <th>mean</th>\n",
       "      <td>3.073698e+03</td>\n",
       "      <td>3.334501e+03</td>\n",
       "      <td>8.140361e+00</td>\n",
       "    </tr>\n",
       "    <tr>\n",
       "      <th>std</th>\n",
       "      <td>3.058164e+03</td>\n",
       "      <td>3.972124e+03</td>\n",
       "      <td>3.532669e+01</td>\n",
       "    </tr>\n",
       "    <tr>\n",
       "      <th>min</th>\n",
       "      <td>1.001000e+03</td>\n",
       "      <td>7.000000e+01</td>\n",
       "      <td>0.000000e+00</td>\n",
       "    </tr>\n",
       "    <tr>\n",
       "      <th>25%</th>\n",
       "      <td>1.002000e+03</td>\n",
       "      <td>1.328000e+03</td>\n",
       "      <td>1.000000e+00</td>\n",
       "    </tr>\n",
       "    <tr>\n",
       "      <th>50%</th>\n",
       "      <td>2.009000e+03</td>\n",
       "      <td>2.067000e+03</td>\n",
       "      <td>2.000000e+00</td>\n",
       "    </tr>\n",
       "    <tr>\n",
       "      <th>75%</th>\n",
       "      <td>2.012000e+03</td>\n",
       "      <td>3.010000e+03</td>\n",
       "      <td>4.000000e+00</td>\n",
       "    </tr>\n",
       "    <tr>\n",
       "      <th>max</th>\n",
       "      <td>9.002000e+03</td>\n",
       "      <td>4.837300e+04</td>\n",
       "      <td>2.911000e+03</td>\n",
       "    </tr>\n",
       "  </tbody>\n",
       "</table>\n",
       "</div>"
      ],
      "text/plain": [
       "           식음메뉴그룹코드        식음메뉴코드          주문수량\n",
       "count  1.545008e+06  1.545008e+06  1.545008e+06\n",
       "mean   3.073698e+03  3.334501e+03  8.140361e+00\n",
       "std    3.058164e+03  3.972124e+03  3.532669e+01\n",
       "min    1.001000e+03  7.000000e+01  0.000000e+00\n",
       "25%    1.002000e+03  1.328000e+03  1.000000e+00\n",
       "50%    2.009000e+03  2.067000e+03  2.000000e+00\n",
       "75%    2.012000e+03  3.010000e+03  4.000000e+00\n",
       "max    9.002000e+03  4.837300e+04  2.911000e+03"
      ]
     },
     "execution_count": 181,
     "metadata": {},
     "output_type": "execute_result"
    }
   ],
   "source": [
    "df.describe()"
   ]
  },
  {
   "cell_type": "code",
   "execution_count": 182,
   "metadata": {},
   "outputs": [
    {
     "data": {
      "text/plain": [
       "['지급일자',\n",
       " '영업점코드',\n",
       " '영업점명',\n",
       " '식음메뉴그룹코드',\n",
       " '식음메뉴그룹명',\n",
       " '식음메뉴코드',\n",
       " '식음메뉴명(한글)',\n",
       " '식음메뉴명(영문)',\n",
       " '성별',\n",
       " '고객여권발급국가코드',\n",
       " '고객여권발급국가명',\n",
       " '주문수량']"
      ]
     },
     "execution_count": 182,
     "metadata": {},
     "output_type": "execute_result"
    }
   ],
   "source": [
    "list(df.columns)"
   ]
  },
  {
   "cell_type": "markdown",
   "metadata": {},
   "source": [
    "**결측치 확인 및 시각화**"
   ]
  },
  {
   "cell_type": "code",
   "execution_count": 183,
   "metadata": {},
   "outputs": [
    {
     "data": {
      "text/plain": [
       "지급일자               0\n",
       "영업점코드              0\n",
       "영업점명               0\n",
       "식음메뉴그룹코드           0\n",
       "식음메뉴그룹명            0\n",
       "식음메뉴코드             0\n",
       "식음메뉴명(한글)          0\n",
       "식음메뉴명(영문)     941904\n",
       "성별            189216\n",
       "고객여권발급국가코드    189182\n",
       "고객여권발급국가명     189324\n",
       "주문수량               0\n",
       "dtype: int64"
      ]
     },
     "execution_count": 183,
     "metadata": {},
     "output_type": "execute_result"
    }
   ],
   "source": [
    "df.isnull().sum()"
   ]
  },
  {
   "cell_type": "code",
   "execution_count": 184,
   "metadata": {},
   "outputs": [],
   "source": [
    "# %pip install missingno"
   ]
  },
  {
   "cell_type": "code",
   "execution_count": 185,
   "metadata": {},
   "outputs": [
    {
     "data": {
      "text/plain": [
       "<AxesSubplot:>"
      ]
     },
     "execution_count": 185,
     "metadata": {},
     "output_type": "execute_result"
    },
    {
     "name": "stderr",
     "output_type": "stream",
     "text": [
      "c:\\Users\\bluecom001\\miniconda3\\envs\\mp\\lib\\site-packages\\IPython\\core\\events.py:89: UserWarning: Glyph 51648 (\\N{HANGUL SYLLABLE JI}) missing from current font.\n",
      "  func(*args, **kwargs)\n",
      "c:\\Users\\bluecom001\\miniconda3\\envs\\mp\\lib\\site-packages\\IPython\\core\\events.py:89: UserWarning: Glyph 44553 (\\N{HANGUL SYLLABLE GEUB}) missing from current font.\n",
      "  func(*args, **kwargs)\n",
      "c:\\Users\\bluecom001\\miniconda3\\envs\\mp\\lib\\site-packages\\IPython\\core\\events.py:89: UserWarning: Glyph 51068 (\\N{HANGUL SYLLABLE IL}) missing from current font.\n",
      "  func(*args, **kwargs)\n",
      "c:\\Users\\bluecom001\\miniconda3\\envs\\mp\\lib\\site-packages\\IPython\\core\\events.py:89: UserWarning: Glyph 51088 (\\N{HANGUL SYLLABLE JA}) missing from current font.\n",
      "  func(*args, **kwargs)\n",
      "c:\\Users\\bluecom001\\miniconda3\\envs\\mp\\lib\\site-packages\\IPython\\core\\events.py:89: UserWarning: Glyph 50689 (\\N{HANGUL SYLLABLE YEONG}) missing from current font.\n",
      "  func(*args, **kwargs)\n",
      "c:\\Users\\bluecom001\\miniconda3\\envs\\mp\\lib\\site-packages\\IPython\\core\\events.py:89: UserWarning: Glyph 50629 (\\N{HANGUL SYLLABLE EOB}) missing from current font.\n",
      "  func(*args, **kwargs)\n",
      "c:\\Users\\bluecom001\\miniconda3\\envs\\mp\\lib\\site-packages\\IPython\\core\\events.py:89: UserWarning: Glyph 51216 (\\N{HANGUL SYLLABLE JEOM}) missing from current font.\n",
      "  func(*args, **kwargs)\n",
      "c:\\Users\\bluecom001\\miniconda3\\envs\\mp\\lib\\site-packages\\IPython\\core\\events.py:89: UserWarning: Glyph 53076 (\\N{HANGUL SYLLABLE KO}) missing from current font.\n",
      "  func(*args, **kwargs)\n",
      "c:\\Users\\bluecom001\\miniconda3\\envs\\mp\\lib\\site-packages\\IPython\\core\\events.py:89: UserWarning: Glyph 46300 (\\N{HANGUL SYLLABLE DEU}) missing from current font.\n",
      "  func(*args, **kwargs)\n",
      "c:\\Users\\bluecom001\\miniconda3\\envs\\mp\\lib\\site-packages\\IPython\\core\\events.py:89: UserWarning: Glyph 47749 (\\N{HANGUL SYLLABLE MYEONG}) missing from current font.\n",
      "  func(*args, **kwargs)\n",
      "c:\\Users\\bluecom001\\miniconda3\\envs\\mp\\lib\\site-packages\\IPython\\core\\events.py:89: UserWarning: Glyph 49885 (\\N{HANGUL SYLLABLE SIG}) missing from current font.\n",
      "  func(*args, **kwargs)\n",
      "c:\\Users\\bluecom001\\miniconda3\\envs\\mp\\lib\\site-packages\\IPython\\core\\events.py:89: UserWarning: Glyph 51020 (\\N{HANGUL SYLLABLE EUM}) missing from current font.\n",
      "  func(*args, **kwargs)\n",
      "c:\\Users\\bluecom001\\miniconda3\\envs\\mp\\lib\\site-packages\\IPython\\core\\events.py:89: UserWarning: Glyph 47700 (\\N{HANGUL SYLLABLE ME}) missing from current font.\n",
      "  func(*args, **kwargs)\n",
      "c:\\Users\\bluecom001\\miniconda3\\envs\\mp\\lib\\site-packages\\IPython\\core\\events.py:89: UserWarning: Glyph 45684 (\\N{HANGUL SYLLABLE NYU}) missing from current font.\n",
      "  func(*args, **kwargs)\n",
      "c:\\Users\\bluecom001\\miniconda3\\envs\\mp\\lib\\site-packages\\IPython\\core\\events.py:89: UserWarning: Glyph 44536 (\\N{HANGUL SYLLABLE GEU}) missing from current font.\n",
      "  func(*args, **kwargs)\n",
      "c:\\Users\\bluecom001\\miniconda3\\envs\\mp\\lib\\site-packages\\IPython\\core\\events.py:89: UserWarning: Glyph 47353 (\\N{HANGUL SYLLABLE RUB}) missing from current font.\n",
      "  func(*args, **kwargs)\n",
      "c:\\Users\\bluecom001\\miniconda3\\envs\\mp\\lib\\site-packages\\IPython\\core\\events.py:89: UserWarning: Glyph 54620 (\\N{HANGUL SYLLABLE HAN}) missing from current font.\n",
      "  func(*args, **kwargs)\n",
      "c:\\Users\\bluecom001\\miniconda3\\envs\\mp\\lib\\site-packages\\IPython\\core\\events.py:89: UserWarning: Glyph 44544 (\\N{HANGUL SYLLABLE GEUL}) missing from current font.\n",
      "  func(*args, **kwargs)\n",
      "c:\\Users\\bluecom001\\miniconda3\\envs\\mp\\lib\\site-packages\\IPython\\core\\events.py:89: UserWarning: Glyph 47928 (\\N{HANGUL SYLLABLE MUN}) missing from current font.\n",
      "  func(*args, **kwargs)\n",
      "c:\\Users\\bluecom001\\miniconda3\\envs\\mp\\lib\\site-packages\\IPython\\core\\events.py:89: UserWarning: Glyph 49457 (\\N{HANGUL SYLLABLE SEONG}) missing from current font.\n",
      "  func(*args, **kwargs)\n",
      "c:\\Users\\bluecom001\\miniconda3\\envs\\mp\\lib\\site-packages\\IPython\\core\\events.py:89: UserWarning: Glyph 48324 (\\N{HANGUL SYLLABLE BYEOL}) missing from current font.\n",
      "  func(*args, **kwargs)\n",
      "c:\\Users\\bluecom001\\miniconda3\\envs\\mp\\lib\\site-packages\\IPython\\core\\events.py:89: UserWarning: Glyph 44256 (\\N{HANGUL SYLLABLE GO}) missing from current font.\n",
      "  func(*args, **kwargs)\n",
      "c:\\Users\\bluecom001\\miniconda3\\envs\\mp\\lib\\site-packages\\IPython\\core\\events.py:89: UserWarning: Glyph 44061 (\\N{HANGUL SYLLABLE GAEG}) missing from current font.\n",
      "  func(*args, **kwargs)\n",
      "c:\\Users\\bluecom001\\miniconda3\\envs\\mp\\lib\\site-packages\\IPython\\core\\events.py:89: UserWarning: Glyph 50668 (\\N{HANGUL SYLLABLE YEO}) missing from current font.\n",
      "  func(*args, **kwargs)\n",
      "c:\\Users\\bluecom001\\miniconda3\\envs\\mp\\lib\\site-packages\\IPython\\core\\events.py:89: UserWarning: Glyph 44428 (\\N{HANGUL SYLLABLE GWEON}) missing from current font.\n",
      "  func(*args, **kwargs)\n",
      "c:\\Users\\bluecom001\\miniconda3\\envs\\mp\\lib\\site-packages\\IPython\\core\\events.py:89: UserWarning: Glyph 48156 (\\N{HANGUL SYLLABLE BAL}) missing from current font.\n",
      "  func(*args, **kwargs)\n",
      "c:\\Users\\bluecom001\\miniconda3\\envs\\mp\\lib\\site-packages\\IPython\\core\\events.py:89: UserWarning: Glyph 44397 (\\N{HANGUL SYLLABLE GUG}) missing from current font.\n",
      "  func(*args, **kwargs)\n",
      "c:\\Users\\bluecom001\\miniconda3\\envs\\mp\\lib\\site-packages\\IPython\\core\\events.py:89: UserWarning: Glyph 44032 (\\N{HANGUL SYLLABLE GA}) missing from current font.\n",
      "  func(*args, **kwargs)\n",
      "c:\\Users\\bluecom001\\miniconda3\\envs\\mp\\lib\\site-packages\\IPython\\core\\events.py:89: UserWarning: Glyph 51452 (\\N{HANGUL SYLLABLE JU}) missing from current font.\n",
      "  func(*args, **kwargs)\n",
      "c:\\Users\\bluecom001\\miniconda3\\envs\\mp\\lib\\site-packages\\IPython\\core\\events.py:89: UserWarning: Glyph 49688 (\\N{HANGUL SYLLABLE SU}) missing from current font.\n",
      "  func(*args, **kwargs)\n",
      "c:\\Users\\bluecom001\\miniconda3\\envs\\mp\\lib\\site-packages\\IPython\\core\\events.py:89: UserWarning: Glyph 47049 (\\N{HANGUL SYLLABLE RYANG}) missing from current font.\n",
      "  func(*args, **kwargs)\n",
      "c:\\Users\\bluecom001\\miniconda3\\envs\\mp\\lib\\site-packages\\IPython\\core\\pylabtools.py:151: UserWarning: Glyph 51648 (\\N{HANGUL SYLLABLE JI}) missing from current font.\n",
      "  fig.canvas.print_figure(bytes_io, **kw)\n",
      "c:\\Users\\bluecom001\\miniconda3\\envs\\mp\\lib\\site-packages\\IPython\\core\\pylabtools.py:151: UserWarning: Glyph 44553 (\\N{HANGUL SYLLABLE GEUB}) missing from current font.\n",
      "  fig.canvas.print_figure(bytes_io, **kw)\n",
      "c:\\Users\\bluecom001\\miniconda3\\envs\\mp\\lib\\site-packages\\IPython\\core\\pylabtools.py:151: UserWarning: Glyph 51068 (\\N{HANGUL SYLLABLE IL}) missing from current font.\n",
      "  fig.canvas.print_figure(bytes_io, **kw)\n",
      "c:\\Users\\bluecom001\\miniconda3\\envs\\mp\\lib\\site-packages\\IPython\\core\\pylabtools.py:151: UserWarning: Glyph 51088 (\\N{HANGUL SYLLABLE JA}) missing from current font.\n",
      "  fig.canvas.print_figure(bytes_io, **kw)\n",
      "c:\\Users\\bluecom001\\miniconda3\\envs\\mp\\lib\\site-packages\\IPython\\core\\pylabtools.py:151: UserWarning: Glyph 50689 (\\N{HANGUL SYLLABLE YEONG}) missing from current font.\n",
      "  fig.canvas.print_figure(bytes_io, **kw)\n",
      "c:\\Users\\bluecom001\\miniconda3\\envs\\mp\\lib\\site-packages\\IPython\\core\\pylabtools.py:151: UserWarning: Glyph 50629 (\\N{HANGUL SYLLABLE EOB}) missing from current font.\n",
      "  fig.canvas.print_figure(bytes_io, **kw)\n",
      "c:\\Users\\bluecom001\\miniconda3\\envs\\mp\\lib\\site-packages\\IPython\\core\\pylabtools.py:151: UserWarning: Glyph 51216 (\\N{HANGUL SYLLABLE JEOM}) missing from current font.\n",
      "  fig.canvas.print_figure(bytes_io, **kw)\n",
      "c:\\Users\\bluecom001\\miniconda3\\envs\\mp\\lib\\site-packages\\IPython\\core\\pylabtools.py:151: UserWarning: Glyph 53076 (\\N{HANGUL SYLLABLE KO}) missing from current font.\n",
      "  fig.canvas.print_figure(bytes_io, **kw)\n",
      "c:\\Users\\bluecom001\\miniconda3\\envs\\mp\\lib\\site-packages\\IPython\\core\\pylabtools.py:151: UserWarning: Glyph 46300 (\\N{HANGUL SYLLABLE DEU}) missing from current font.\n",
      "  fig.canvas.print_figure(bytes_io, **kw)\n",
      "c:\\Users\\bluecom001\\miniconda3\\envs\\mp\\lib\\site-packages\\IPython\\core\\pylabtools.py:151: UserWarning: Glyph 47749 (\\N{HANGUL SYLLABLE MYEONG}) missing from current font.\n",
      "  fig.canvas.print_figure(bytes_io, **kw)\n",
      "c:\\Users\\bluecom001\\miniconda3\\envs\\mp\\lib\\site-packages\\IPython\\core\\pylabtools.py:151: UserWarning: Glyph 49885 (\\N{HANGUL SYLLABLE SIG}) missing from current font.\n",
      "  fig.canvas.print_figure(bytes_io, **kw)\n",
      "c:\\Users\\bluecom001\\miniconda3\\envs\\mp\\lib\\site-packages\\IPython\\core\\pylabtools.py:151: UserWarning: Glyph 51020 (\\N{HANGUL SYLLABLE EUM}) missing from current font.\n",
      "  fig.canvas.print_figure(bytes_io, **kw)\n",
      "c:\\Users\\bluecom001\\miniconda3\\envs\\mp\\lib\\site-packages\\IPython\\core\\pylabtools.py:151: UserWarning: Glyph 47700 (\\N{HANGUL SYLLABLE ME}) missing from current font.\n",
      "  fig.canvas.print_figure(bytes_io, **kw)\n",
      "c:\\Users\\bluecom001\\miniconda3\\envs\\mp\\lib\\site-packages\\IPython\\core\\pylabtools.py:151: UserWarning: Glyph 45684 (\\N{HANGUL SYLLABLE NYU}) missing from current font.\n",
      "  fig.canvas.print_figure(bytes_io, **kw)\n",
      "c:\\Users\\bluecom001\\miniconda3\\envs\\mp\\lib\\site-packages\\IPython\\core\\pylabtools.py:151: UserWarning: Glyph 44536 (\\N{HANGUL SYLLABLE GEU}) missing from current font.\n",
      "  fig.canvas.print_figure(bytes_io, **kw)\n",
      "c:\\Users\\bluecom001\\miniconda3\\envs\\mp\\lib\\site-packages\\IPython\\core\\pylabtools.py:151: UserWarning: Glyph 47353 (\\N{HANGUL SYLLABLE RUB}) missing from current font.\n",
      "  fig.canvas.print_figure(bytes_io, **kw)\n",
      "c:\\Users\\bluecom001\\miniconda3\\envs\\mp\\lib\\site-packages\\IPython\\core\\pylabtools.py:151: UserWarning: Glyph 54620 (\\N{HANGUL SYLLABLE HAN}) missing from current font.\n",
      "  fig.canvas.print_figure(bytes_io, **kw)\n",
      "c:\\Users\\bluecom001\\miniconda3\\envs\\mp\\lib\\site-packages\\IPython\\core\\pylabtools.py:151: UserWarning: Glyph 44544 (\\N{HANGUL SYLLABLE GEUL}) missing from current font.\n",
      "  fig.canvas.print_figure(bytes_io, **kw)\n",
      "c:\\Users\\bluecom001\\miniconda3\\envs\\mp\\lib\\site-packages\\IPython\\core\\pylabtools.py:151: UserWarning: Glyph 47928 (\\N{HANGUL SYLLABLE MUN}) missing from current font.\n",
      "  fig.canvas.print_figure(bytes_io, **kw)\n",
      "c:\\Users\\bluecom001\\miniconda3\\envs\\mp\\lib\\site-packages\\IPython\\core\\pylabtools.py:151: UserWarning: Glyph 49457 (\\N{HANGUL SYLLABLE SEONG}) missing from current font.\n",
      "  fig.canvas.print_figure(bytes_io, **kw)\n",
      "c:\\Users\\bluecom001\\miniconda3\\envs\\mp\\lib\\site-packages\\IPython\\core\\pylabtools.py:151: UserWarning: Glyph 48324 (\\N{HANGUL SYLLABLE BYEOL}) missing from current font.\n",
      "  fig.canvas.print_figure(bytes_io, **kw)\n",
      "c:\\Users\\bluecom001\\miniconda3\\envs\\mp\\lib\\site-packages\\IPython\\core\\pylabtools.py:151: UserWarning: Glyph 44256 (\\N{HANGUL SYLLABLE GO}) missing from current font.\n",
      "  fig.canvas.print_figure(bytes_io, **kw)\n",
      "c:\\Users\\bluecom001\\miniconda3\\envs\\mp\\lib\\site-packages\\IPython\\core\\pylabtools.py:151: UserWarning: Glyph 44061 (\\N{HANGUL SYLLABLE GAEG}) missing from current font.\n",
      "  fig.canvas.print_figure(bytes_io, **kw)\n",
      "c:\\Users\\bluecom001\\miniconda3\\envs\\mp\\lib\\site-packages\\IPython\\core\\pylabtools.py:151: UserWarning: Glyph 50668 (\\N{HANGUL SYLLABLE YEO}) missing from current font.\n",
      "  fig.canvas.print_figure(bytes_io, **kw)\n",
      "c:\\Users\\bluecom001\\miniconda3\\envs\\mp\\lib\\site-packages\\IPython\\core\\pylabtools.py:151: UserWarning: Glyph 44428 (\\N{HANGUL SYLLABLE GWEON}) missing from current font.\n",
      "  fig.canvas.print_figure(bytes_io, **kw)\n",
      "c:\\Users\\bluecom001\\miniconda3\\envs\\mp\\lib\\site-packages\\IPython\\core\\pylabtools.py:151: UserWarning: Glyph 48156 (\\N{HANGUL SYLLABLE BAL}) missing from current font.\n",
      "  fig.canvas.print_figure(bytes_io, **kw)\n",
      "c:\\Users\\bluecom001\\miniconda3\\envs\\mp\\lib\\site-packages\\IPython\\core\\pylabtools.py:151: UserWarning: Glyph 44397 (\\N{HANGUL SYLLABLE GUG}) missing from current font.\n",
      "  fig.canvas.print_figure(bytes_io, **kw)\n",
      "c:\\Users\\bluecom001\\miniconda3\\envs\\mp\\lib\\site-packages\\IPython\\core\\pylabtools.py:151: UserWarning: Glyph 44032 (\\N{HANGUL SYLLABLE GA}) missing from current font.\n",
      "  fig.canvas.print_figure(bytes_io, **kw)\n",
      "c:\\Users\\bluecom001\\miniconda3\\envs\\mp\\lib\\site-packages\\IPython\\core\\pylabtools.py:151: UserWarning: Glyph 51452 (\\N{HANGUL SYLLABLE JU}) missing from current font.\n",
      "  fig.canvas.print_figure(bytes_io, **kw)\n",
      "c:\\Users\\bluecom001\\miniconda3\\envs\\mp\\lib\\site-packages\\IPython\\core\\pylabtools.py:151: UserWarning: Glyph 49688 (\\N{HANGUL SYLLABLE SU}) missing from current font.\n",
      "  fig.canvas.print_figure(bytes_io, **kw)\n",
      "c:\\Users\\bluecom001\\miniconda3\\envs\\mp\\lib\\site-packages\\IPython\\core\\pylabtools.py:151: UserWarning: Glyph 47049 (\\N{HANGUL SYLLABLE RYANG}) missing from current font.\n",
      "  fig.canvas.print_figure(bytes_io, **kw)\n"
     ]
    },
    {
     "data": {
      "image/png": "[encoded data removed]",
      "text/plain": [
       "<Figure size 2500x1000 with 2 Axes>"
      ]
     },
     "metadata": {},
     "output_type": "display_data"
    }
   ],
   "source": [
    "import missingno\n",
    "missingno.matrix(df)"
   ]
  },
  {
   "cell_type": "code",
   "execution_count": 186,
   "metadata": {},
   "outputs": [
    {
     "name": "stderr",
     "output_type": "stream",
     "text": [
      "c:\\Users\\bluecom001\\miniconda3\\envs\\mp\\lib\\site-packages\\seaborn\\utils.py:80: UserWarning: Glyph 49885 (\\N{HANGUL SYLLABLE SIG}) missing from current font.\n",
      "  fig.canvas.draw()\n",
      "c:\\Users\\bluecom001\\miniconda3\\envs\\mp\\lib\\site-packages\\seaborn\\utils.py:80: UserWarning: Glyph 51020 (\\N{HANGUL SYLLABLE EUM}) missing from current font.\n",
      "  fig.canvas.draw()\n",
      "c:\\Users\\bluecom001\\miniconda3\\envs\\mp\\lib\\site-packages\\seaborn\\utils.py:80: UserWarning: Glyph 47700 (\\N{HANGUL SYLLABLE ME}) missing from current font.\n",
      "  fig.canvas.draw()\n",
      "c:\\Users\\bluecom001\\miniconda3\\envs\\mp\\lib\\site-packages\\seaborn\\utils.py:80: UserWarning: Glyph 45684 (\\N{HANGUL SYLLABLE NYU}) missing from current font.\n",
      "  fig.canvas.draw()\n",
      "c:\\Users\\bluecom001\\miniconda3\\envs\\mp\\lib\\site-packages\\seaborn\\utils.py:80: UserWarning: Glyph 47749 (\\N{HANGUL SYLLABLE MYEONG}) missing from current font.\n",
      "  fig.canvas.draw()\n",
      "c:\\Users\\bluecom001\\miniconda3\\envs\\mp\\lib\\site-packages\\seaborn\\utils.py:80: UserWarning: Glyph 50689 (\\N{HANGUL SYLLABLE YEONG}) missing from current font.\n",
      "  fig.canvas.draw()\n",
      "c:\\Users\\bluecom001\\miniconda3\\envs\\mp\\lib\\site-packages\\seaborn\\utils.py:80: UserWarning: Glyph 47928 (\\N{HANGUL SYLLABLE MUN}) missing from current font.\n",
      "  fig.canvas.draw()\n",
      "c:\\Users\\bluecom001\\miniconda3\\envs\\mp\\lib\\site-packages\\seaborn\\utils.py:80: UserWarning: Glyph 49457 (\\N{HANGUL SYLLABLE SEONG}) missing from current font.\n",
      "  fig.canvas.draw()\n",
      "c:\\Users\\bluecom001\\miniconda3\\envs\\mp\\lib\\site-packages\\seaborn\\utils.py:80: UserWarning: Glyph 48324 (\\N{HANGUL SYLLABLE BYEOL}) missing from current font.\n",
      "  fig.canvas.draw()\n",
      "c:\\Users\\bluecom001\\miniconda3\\envs\\mp\\lib\\site-packages\\seaborn\\utils.py:80: UserWarning: Glyph 44256 (\\N{HANGUL SYLLABLE GO}) missing from current font.\n",
      "  fig.canvas.draw()\n",
      "c:\\Users\\bluecom001\\miniconda3\\envs\\mp\\lib\\site-packages\\seaborn\\utils.py:80: UserWarning: Glyph 44061 (\\N{HANGUL SYLLABLE GAEG}) missing from current font.\n",
      "  fig.canvas.draw()\n",
      "c:\\Users\\bluecom001\\miniconda3\\envs\\mp\\lib\\site-packages\\seaborn\\utils.py:80: UserWarning: Glyph 50668 (\\N{HANGUL SYLLABLE YEO}) missing from current font.\n",
      "  fig.canvas.draw()\n",
      "c:\\Users\\bluecom001\\miniconda3\\envs\\mp\\lib\\site-packages\\seaborn\\utils.py:80: UserWarning: Glyph 44428 (\\N{HANGUL SYLLABLE GWEON}) missing from current font.\n",
      "  fig.canvas.draw()\n",
      "c:\\Users\\bluecom001\\miniconda3\\envs\\mp\\lib\\site-packages\\seaborn\\utils.py:80: UserWarning: Glyph 48156 (\\N{HANGUL SYLLABLE BAL}) missing from current font.\n",
      "  fig.canvas.draw()\n",
      "c:\\Users\\bluecom001\\miniconda3\\envs\\mp\\lib\\site-packages\\seaborn\\utils.py:80: UserWarning: Glyph 44553 (\\N{HANGUL SYLLABLE GEUB}) missing from current font.\n",
      "  fig.canvas.draw()\n",
      "c:\\Users\\bluecom001\\miniconda3\\envs\\mp\\lib\\site-packages\\seaborn\\utils.py:80: UserWarning: Glyph 44397 (\\N{HANGUL SYLLABLE GUG}) missing from current font.\n",
      "  fig.canvas.draw()\n",
      "c:\\Users\\bluecom001\\miniconda3\\envs\\mp\\lib\\site-packages\\seaborn\\utils.py:80: UserWarning: Glyph 44032 (\\N{HANGUL SYLLABLE GA}) missing from current font.\n",
      "  fig.canvas.draw()\n",
      "c:\\Users\\bluecom001\\miniconda3\\envs\\mp\\lib\\site-packages\\seaborn\\utils.py:80: UserWarning: Glyph 53076 (\\N{HANGUL SYLLABLE KO}) missing from current font.\n",
      "  fig.canvas.draw()\n",
      "c:\\Users\\bluecom001\\miniconda3\\envs\\mp\\lib\\site-packages\\seaborn\\utils.py:80: UserWarning: Glyph 46300 (\\N{HANGUL SYLLABLE DEU}) missing from current font.\n",
      "  fig.canvas.draw()\n"
     ]
    },
    {
     "data": {
      "text/plain": [
       "<AxesSubplot:>"
      ]
     },
     "execution_count": 186,
     "metadata": {},
     "output_type": "execute_result"
    },
    {
     "data": {
      "image/png": "[encoded data removed]",
      "text/plain": [
       "<Figure size 2000x1200 with 2 Axes>"
      ]
     },
     "metadata": {},
     "output_type": "display_data"
    }
   ],
   "source": [
    "missingno.heatmap(df)"
   ]
  },
  {
   "cell_type": "code",
   "execution_count": 187,
   "metadata": {},
   "outputs": [
    {
     "data": {
      "text/plain": [
       "<AxesSubplot:>"
      ]
     },
     "execution_count": 187,
     "metadata": {},
     "output_type": "execute_result"
    },
    {
     "data": {
      "image/png": "[encoded data removed]",
      "text/plain": [
       "<Figure size 2500x1000 with 1 Axes>"
      ]
     },
     "metadata": {},
     "output_type": "display_data"
    }
   ],
   "source": [
    "missingno.dendrogram(df)"
   ]
  },
  {
   "cell_type": "code",
   "execution_count": 188,
   "metadata": {},
   "outputs": [
    {
     "data": {
      "text/plain": [
       "Index(['지급일자', '영업점코드', '영업점명', '식음메뉴그룹코드', '식음메뉴그룹명', '식음메뉴코드', '식음메뉴명(한글)',\n",
       "       '식음메뉴명(영문)', '성별', '고객여권발급국가코드', '고객여권발급국가명', '주문수량'],\n",
       "      dtype='object')"
      ]
     },
     "execution_count": 188,
     "metadata": {},
     "output_type": "execute_result"
    }
   ],
   "source": [
    "df[df.isnull() == True].columns"
   ]
  },
  {
   "cell_type": "code",
   "execution_count": 189,
   "metadata": {},
   "outputs": [
    {
     "data": {
      "text/plain": [
       "M    1017112\n",
       "F     338680\n",
       "Name: 성별, dtype: int64"
      ]
     },
     "execution_count": 189,
     "metadata": {},
     "output_type": "execute_result"
    }
   ],
   "source": [
    "df['성별'].value_counts() #최빈값은 'M'"
   ]
  },
  {
   "cell_type": "code",
   "execution_count": 190,
   "metadata": {},
   "outputs": [
    {
     "data": {
      "text/plain": [
       "0          M\n",
       "1          M\n",
       "2          M\n",
       "4          M\n",
       "5          M\n",
       "          ..\n",
       "1545002    M\n",
       "1545003    M\n",
       "1545004    M\n",
       "1545006    M\n",
       "1545007    M\n",
       "Name: 성별, Length: 1017112, dtype: object"
      ]
     },
     "execution_count": 190,
     "metadata": {},
     "output_type": "execute_result"
    }
   ],
   "source": [
    "df['성별'][df['성별'] == 'M']"
   ]
  },
  {
   "cell_type": "code",
   "execution_count": 191,
   "metadata": {},
   "outputs": [],
   "source": [
    "df['성별'] = df['성별'].fillna('M')"
   ]
  },
  {
   "cell_type": "code",
   "execution_count": 192,
   "metadata": {},
   "outputs": [
    {
     "data": {
      "text/plain": [
       "M    1206328\n",
       "F     338680\n",
       "Name: 성별, dtype: int64"
      ]
     },
     "execution_count": 192,
     "metadata": {},
     "output_type": "execute_result"
    }
   ],
   "source": [
    "df['성별'].value_counts()"
   ]
  },
  {
   "cell_type": "markdown",
   "metadata": {},
   "source": [
    "**주문 수량 상위 10개 보기**"
   ]
  },
  {
   "cell_type": "code",
   "execution_count": 193,
   "metadata": {},
   "outputs": [
    {
     "data": {
      "text/html": [
       "<div>\n",
       "<style scoped>\n",
       "    .dataframe tbody tr th:only-of-type {\n",
       "        vertical-align: middle;\n",
       "    }\n",
       "\n",
       "    .dataframe tbody tr th {\n",
       "        vertical-align: top;\n",
       "    }\n",
       "\n",
       "    .dataframe thead th {\n",
       "        text-align: right;\n",
       "    }\n",
       "</style>\n",
       "<table border=\"1\" class=\"dataframe\">\n",
       "  <thead>\n",
       "    <tr style=\"text-align: right;\">\n",
       "      <th></th>\n",
       "      <th>지급일자</th>\n",
       "      <th>영업점코드</th>\n",
       "      <th>영업점명</th>\n",
       "      <th>식음메뉴그룹코드</th>\n",
       "      <th>식음메뉴그룹명</th>\n",
       "      <th>식음메뉴코드</th>\n",
       "      <th>식음메뉴명(한글)</th>\n",
       "      <th>식음메뉴명(영문)</th>\n",
       "      <th>성별</th>\n",
       "      <th>고객여권발급국가코드</th>\n",
       "      <th>고객여권발급국가명</th>\n",
       "      <th>주문수량</th>\n",
       "    </tr>\n",
       "  </thead>\n",
       "  <tbody>\n",
       "    <tr>\n",
       "      <th>1446287</th>\n",
       "      <td>2023-01-27</td>\n",
       "      <td>CX</td>\n",
       "      <td>코엑스</td>\n",
       "      <td>2011</td>\n",
       "      <td>음료</td>\n",
       "      <td>2063</td>\n",
       "      <td>생수(BOTTLE)</td>\n",
       "      <td>NaN</td>\n",
       "      <td>M</td>\n",
       "      <td>NaN</td>\n",
       "      <td>NaN</td>\n",
       "      <td>2911</td>\n",
       "    </tr>\n",
       "    <tr>\n",
       "      <th>1202737</th>\n",
       "      <td>2022-12-20</td>\n",
       "      <td>CX</td>\n",
       "      <td>코엑스</td>\n",
       "      <td>2011</td>\n",
       "      <td>음료</td>\n",
       "      <td>2063</td>\n",
       "      <td>생수(BOTTLE)</td>\n",
       "      <td>NaN</td>\n",
       "      <td>M</td>\n",
       "      <td>NaN</td>\n",
       "      <td>NaN</td>\n",
       "      <td>2910</td>\n",
       "    </tr>\n",
       "    <tr>\n",
       "      <th>1008673</th>\n",
       "      <td>2022-12-27</td>\n",
       "      <td>CX</td>\n",
       "      <td>코엑스</td>\n",
       "      <td>2011</td>\n",
       "      <td>음료</td>\n",
       "      <td>2063</td>\n",
       "      <td>생수(BOTTLE)</td>\n",
       "      <td>NaN</td>\n",
       "      <td>M</td>\n",
       "      <td>NaN</td>\n",
       "      <td>NaN</td>\n",
       "      <td>2910</td>\n",
       "    </tr>\n",
       "    <tr>\n",
       "      <th>647787</th>\n",
       "      <td>2023-01-03</td>\n",
       "      <td>CX</td>\n",
       "      <td>코엑스</td>\n",
       "      <td>2011</td>\n",
       "      <td>음료</td>\n",
       "      <td>2063</td>\n",
       "      <td>생수(BOTTLE)</td>\n",
       "      <td>NaN</td>\n",
       "      <td>M</td>\n",
       "      <td>NaN</td>\n",
       "      <td>NaN</td>\n",
       "      <td>2881</td>\n",
       "    </tr>\n",
       "    <tr>\n",
       "      <th>1447299</th>\n",
       "      <td>2023-01-17</td>\n",
       "      <td>CX</td>\n",
       "      <td>코엑스</td>\n",
       "      <td>2011</td>\n",
       "      <td>음료</td>\n",
       "      <td>2063</td>\n",
       "      <td>생수(BOTTLE)</td>\n",
       "      <td>NaN</td>\n",
       "      <td>M</td>\n",
       "      <td>NaN</td>\n",
       "      <td>NaN</td>\n",
       "      <td>2880</td>\n",
       "    </tr>\n",
       "    <tr>\n",
       "      <th>1105883</th>\n",
       "      <td>2022-11-16</td>\n",
       "      <td>CX</td>\n",
       "      <td>코엑스</td>\n",
       "      <td>2011</td>\n",
       "      <td>음료</td>\n",
       "      <td>2063</td>\n",
       "      <td>생수(BOTTLE)</td>\n",
       "      <td>NaN</td>\n",
       "      <td>M</td>\n",
       "      <td>NaN</td>\n",
       "      <td>NaN</td>\n",
       "      <td>2880</td>\n",
       "    </tr>\n",
       "    <tr>\n",
       "      <th>83794</th>\n",
       "      <td>2020-08-18</td>\n",
       "      <td>CX</td>\n",
       "      <td>코엑스</td>\n",
       "      <td>2011</td>\n",
       "      <td>음료</td>\n",
       "      <td>2063</td>\n",
       "      <td>생수(BOTTLE)</td>\n",
       "      <td>NaN</td>\n",
       "      <td>M</td>\n",
       "      <td>NaN</td>\n",
       "      <td>NaN</td>\n",
       "      <td>2593</td>\n",
       "    </tr>\n",
       "    <tr>\n",
       "      <th>1440888</th>\n",
       "      <td>2022-07-06</td>\n",
       "      <td>CX</td>\n",
       "      <td>코엑스</td>\n",
       "      <td>2011</td>\n",
       "      <td>음료</td>\n",
       "      <td>2057</td>\n",
       "      <td>펩시콜라</td>\n",
       "      <td>NaN</td>\n",
       "      <td>M</td>\n",
       "      <td>NaN</td>\n",
       "      <td>NaN</td>\n",
       "      <td>2560</td>\n",
       "    </tr>\n",
       "    <tr>\n",
       "      <th>1440729</th>\n",
       "      <td>2022-01-18</td>\n",
       "      <td>CX</td>\n",
       "      <td>코엑스</td>\n",
       "      <td>2011</td>\n",
       "      <td>음료</td>\n",
       "      <td>2063</td>\n",
       "      <td>생수(BOTTLE)</td>\n",
       "      <td>NaN</td>\n",
       "      <td>M</td>\n",
       "      <td>NaN</td>\n",
       "      <td>NaN</td>\n",
       "      <td>2441</td>\n",
       "    </tr>\n",
       "    <tr>\n",
       "      <th>644530</th>\n",
       "      <td>2021-12-22</td>\n",
       "      <td>CX</td>\n",
       "      <td>코엑스</td>\n",
       "      <td>2011</td>\n",
       "      <td>음료</td>\n",
       "      <td>2063</td>\n",
       "      <td>생수(BOTTLE)</td>\n",
       "      <td>NaN</td>\n",
       "      <td>M</td>\n",
       "      <td>NaN</td>\n",
       "      <td>NaN</td>\n",
       "      <td>2436</td>\n",
       "    </tr>\n",
       "  </tbody>\n",
       "</table>\n",
       "</div>"
      ],
      "text/plain": [
       "               지급일자 영업점코드 영업점명  식음메뉴그룹코드 식음메뉴그룹명  식음메뉴코드   식음메뉴명(한글)  \\\n",
       "1446287  2023-01-27    CX  코엑스      2011      음료    2063  생수(BOTTLE)   \n",
       "1202737  2022-12-20    CX  코엑스      2011      음료    2063  생수(BOTTLE)   \n",
       "1008673  2022-12-27    CX  코엑스      2011      음료    2063  생수(BOTTLE)   \n",
       "647787   2023-01-03    CX  코엑스      2011      음료    2063  생수(BOTTLE)   \n",
       "1447299  2023-01-17    CX  코엑스      2011      음료    2063  생수(BOTTLE)   \n",
       "1105883  2022-11-16    CX  코엑스      2011      음료    2063  생수(BOTTLE)   \n",
       "83794    2020-08-18    CX  코엑스      2011      음료    2063  생수(BOTTLE)   \n",
       "1440888  2022-07-06    CX  코엑스      2011      음료    2057        펩시콜라   \n",
       "1440729  2022-01-18    CX  코엑스      2011      음료    2063  생수(BOTTLE)   \n",
       "644530   2021-12-22    CX  코엑스      2011      음료    2063  생수(BOTTLE)   \n",
       "\n",
       "        식음메뉴명(영문) 성별 고객여권발급국가코드 고객여권발급국가명  주문수량  \n",
       "1446287       NaN  M        NaN       NaN  2911  \n",
       "1202737       NaN  M        NaN       NaN  2910  \n",
       "1008673       NaN  M        NaN       NaN  2910  \n",
       "647787        NaN  M        NaN       NaN  2881  \n",
       "1447299       NaN  M        NaN       NaN  2880  \n",
       "1105883       NaN  M        NaN       NaN  2880  \n",
       "83794         NaN  M        NaN       NaN  2593  \n",
       "1440888       NaN  M        NaN       NaN  2560  \n",
       "1440729       NaN  M        NaN       NaN  2441  \n",
       "644530        NaN  M        NaN       NaN  2436  "
      ]
     },
     "execution_count": 193,
     "metadata": {},
     "output_type": "execute_result"
    }
   ],
   "source": [
    "df.sort_values(by='주문수량', ascending=False)[:10]"
   ]
  },
  {
   "cell_type": "markdown",
   "metadata": {},
   "source": [
    "**`value_counts()`와 `groupby` 활용하기**"
   ]
  },
  {
   "cell_type": "code",
   "execution_count": 194,
   "metadata": {},
   "outputs": [
    {
     "data": {
      "text/plain": [
       "코엑스    610732\n",
       "드래곤    532755\n",
       "롯데     401521\n",
       "Name: 영업점명, dtype: int64"
      ]
     },
     "execution_count": 194,
     "metadata": {},
     "output_type": "execute_result"
    }
   ],
   "source": [
    "df['영업점명'].value_counts()"
   ]
  },
  {
   "cell_type": "code",
   "execution_count": 195,
   "metadata": {},
   "outputs": [
    {
     "data": {
      "text/plain": [
       "계절과일(VIP)                         33083\n",
       "생맥주                               25995\n",
       "펩시콜라                              16658\n",
       "흑후추스테이크                           13740\n",
       "미에로화이바                            13459\n",
       "                                  ...  \n",
       "문배술                                   1\n",
       "베이컨토마토샌드위치                            1\n",
       "잔치국수                                  1\n",
       "GOLD EVENT 메비우스스카이블루6MG(4500원)        1\n",
       "GOLD EVENT 히츠 퍼플라벨(4500원)             1\n",
       "Name: 식음메뉴명(한글), Length: 1101, dtype: int64"
      ]
     },
     "execution_count": 195,
     "metadata": {},
     "output_type": "execute_result"
    }
   ],
   "source": [
    "df['식음메뉴명(한글)'].value_counts()"
   ]
  },
  {
   "cell_type": "code",
   "execution_count": 196,
   "metadata": {},
   "outputs": [
    {
     "data": {
      "text/plain": [
       "M    1206328\n",
       "F     338680\n",
       "Name: 성별, dtype: int64"
      ]
     },
     "execution_count": 196,
     "metadata": {},
     "output_type": "execute_result"
    }
   ],
   "source": [
    "df['성별'].value_counts()"
   ]
  },
  {
   "cell_type": "code",
   "execution_count": 197,
   "metadata": {},
   "outputs": [
    {
     "data": {
      "text/plain": [
       "중국            346182\n",
       "일본            173569\n",
       "미국            165226\n",
       "대한민국(영주권자)    158386\n",
       "대만            119346\n",
       "               ...  \n",
       "볼리비아               2\n",
       "마케도니아 공화국          1\n",
       "체코공화국              1\n",
       "슬로바키아              1\n",
       "슬로베이아              1\n",
       "Name: 고객여권발급국가명, Length: 106, dtype: int64"
      ]
     },
     "execution_count": 197,
     "metadata": {},
     "output_type": "execute_result"
    }
   ],
   "source": [
    "df['고객여권발급국가명'].value_counts()"
   ]
  },
  {
   "cell_type": "code",
   "execution_count": 198,
   "metadata": {},
   "outputs": [
    {
     "name": "stdout",
     "output_type": "stream",
     "text": [
      "영업점명\n",
      "드래곤    5489744\n",
      "롯데     2020134\n",
      "코엑스    5067045\n",
      "Name: 주문수량, dtype: int64\n",
      "영업점명\n",
      "드래곤    10.304444\n",
      "롯데      5.031204\n",
      "코엑스     8.296675\n",
      "Name: 주문수량, dtype: float64\n"
     ]
    }
   ],
   "source": [
    "print(df.groupby(df['영업점명'])['주문수량'].sum())\n",
    "print(df.groupby(df['영업점명'])['주문수량'].mean())"
   ]
  },
  {
   "cell_type": "code",
   "execution_count": 199,
   "metadata": {},
   "outputs": [
    {
     "data": {
      "text/plain": [
       "식음메뉴명(한글)\n",
       "(1인분)             8818\n",
       "(BAR)               84\n",
       "(NO ICE)          1406\n",
       "(NO SUGAR)        3972\n",
       "(더블)               623\n",
       "                 ...  \n",
       "히츠 엠버라벨(아이코스)     4094\n",
       "히츠 퍼플라벨(아이코스)    13548\n",
       "히츠그린                88\n",
       "히츠실버                 4\n",
       "힘내삼드링크세트(VIP)     6685\n",
       "Name: 주문수량, Length: 1101, dtype: int64"
      ]
     },
     "execution_count": 199,
     "metadata": {},
     "output_type": "execute_result"
    }
   ],
   "source": [
    "df.groupby(df['식음메뉴명(한글)'])['주문수량'].sum()"
   ]
  },
  {
   "cell_type": "code",
   "execution_count": 200,
   "metadata": {},
   "outputs": [
    {
     "data": {
      "text/plain": [
       "성별\n",
       "F      698291\n",
       "M    11878632\n",
       "Name: 주문수량, dtype: int64"
      ]
     },
     "execution_count": 200,
     "metadata": {},
     "output_type": "execute_result"
    }
   ],
   "source": [
    "df.groupby(df['성별'])['주문수량'].sum()"
   ]
  },
  {
   "cell_type": "code",
   "execution_count": 201,
   "metadata": {},
   "outputs": [
    {
     "data": {
      "text/plain": [
       "고객여권발급국가명\n",
       "그레나다            14\n",
       "그리스             10\n",
       "나이지리아           25\n",
       "남아프리카 공화국       77\n",
       "네덜란드          3626\n",
       "             ...  \n",
       "핀랜드             11\n",
       "필리핀          27737\n",
       "헝가리             27\n",
       "호주           36888\n",
       "홍콩            9765\n",
       "Name: 주문수량, Length: 106, dtype: int64"
      ]
     },
     "execution_count": 201,
     "metadata": {},
     "output_type": "execute_result"
    }
   ],
   "source": [
    "df.groupby(df['고객여권발급국가명'])['주문수량'].sum()"
   ]
  },
  {
   "cell_type": "markdown",
   "metadata": {},
   "source": [
    "**`지급일자`컬럼을 날짜형식으로 변경하기**"
   ]
  },
  {
   "cell_type": "code",
   "execution_count": 202,
   "metadata": {},
   "outputs": [],
   "source": [
    "df['지급일자'] = pd.to_datetime(df['지급일자'])"
   ]
  },
  {
   "cell_type": "code",
   "execution_count": 203,
   "metadata": {},
   "outputs": [],
   "source": [
    "df['year'],df['month'],df['day'] = df['지급일자'].dt.year, df['지급일자'].dt.month, df['지급일자'].dt.day"
   ]
  },
  {
   "cell_type": "code",
   "execution_count": 205,
   "metadata": {},
   "outputs": [
    {
     "name": "stdout",
     "output_type": "stream",
     "text": [
      "<class 'pandas.core.frame.DataFrame'>\n",
      "RangeIndex: 1545008 entries, 0 to 1545007\n",
      "Data columns (total 15 columns):\n",
      " #   Column      Non-Null Count    Dtype         \n",
      "---  ------      --------------    -----         \n",
      " 0   지급일자        1545008 non-null  datetime64[ns]\n",
      " 1   영업점코드       1545008 non-null  object        \n",
      " 2   영업점명        1545008 non-null  object        \n",
      " 3   식음메뉴그룹코드    1545008 non-null  int64         \n",
      " 4   식음메뉴그룹명     1545008 non-null  object        \n",
      " 5   식음메뉴코드      1545008 non-null  int64         \n",
      " 6   식음메뉴명(한글)   1545008 non-null  object        \n",
      " 7   식음메뉴명(영문)   603104 non-null   object        \n",
      " 8   성별          1545008 non-null  object        \n",
      " 9   고객여권발급국가코드  1355826 non-null  object        \n",
      " 10  고객여권발급국가명   1355684 non-null  object        \n",
      " 11  주문수량        1545008 non-null  int64         \n",
      " 12  year        1545008 non-null  int64         \n",
      " 13  month       1545008 non-null  int64         \n",
      " 14  day         1545008 non-null  int64         \n",
      "dtypes: datetime64[ns](1), int64(6), object(8)\n",
      "memory usage: 176.8+ MB\n"
     ]
    }
   ],
   "source": [
    "df.info()"
   ]
  },
  {
   "cell_type": "code",
   "execution_count": 87,
   "metadata": {},
   "outputs": [],
   "source": [
    "import matplotlib.pyplot as plt\n",
    "import seaborn as sns"
   ]
  },
  {
   "cell_type": "code",
   "execution_count": 46,
   "metadata": {},
   "outputs": [],
   "source": [
    "df['식음메뉴명(영문)'] = df['식음메뉴명(영문)'].fillna(\"None\")"
   ]
  },
  {
   "cell_type": "code",
   "execution_count": 68,
   "metadata": {},
   "outputs": [
    {
     "data": {
      "text/plain": [
       "CHN    346182\n",
       "JPN    173569\n",
       "USA    165226\n",
       "KOR    158386\n",
       "TWN    119346\n",
       "Name: 고객여권발급국가코드, dtype: int64"
      ]
     },
     "execution_count": 68,
     "metadata": {},
     "output_type": "execute_result"
    }
   ],
   "source": [
    "df['고객여권발급국가코드'].value_counts()[:5]"
   ]
  },
  {
   "cell_type": "markdown",
   "metadata": {},
   "source": [
    "**식음메뉴명(영문) 컬럼의 결측치를 한글명으로 채우기**"
   ]
  },
  {
   "cell_type": "code",
   "execution_count": 158,
   "metadata": {},
   "outputs": [],
   "source": [
    "df['식음메뉴명(영문)']= df['식음메뉴명(영문)'].fillna(df['식음메뉴명(한글)'])"
   ]
  },
  {
   "cell_type": "code",
   "execution_count": 206,
   "metadata": {},
   "outputs": [
    {
     "data": {
      "text/plain": [
       "0                    전복미역국Seaweed Soup with Abalone(전복미역국)\n",
       "1                                                      NaN\n",
       "2                           계절과일(VIP)Seasonal Fresh Fruits\n",
       "3                                                      NaN\n",
       "4          주꾸미삼겹살볶음Stir-fried Spicy Pork with Baby Octopus\n",
       "                                ...                       \n",
       "1545003                                                NaN\n",
       "1545004                     계절과일(VIP)Seasonal Fresh Fruits\n",
       "1545005                                                NaN\n",
       "1545006                                                NaN\n",
       "1545007                                                NaN\n",
       "Name: kor_eng, Length: 1545008, dtype: object"
      ]
     },
     "execution_count": 206,
     "metadata": {},
     "output_type": "execute_result"
    }
   ],
   "source": [
    "df['kor_eng'] = df['식음메뉴명(한글)'] + \"\" + df['식음메뉴명(영문)']\n",
    "df['kor_eng']"
   ]
  },
  {
   "cell_type": "code",
   "execution_count": 215,
   "metadata": {},
   "outputs": [],
   "source": [
    "import re\n",
    "\n",
    "df['식음메뉴명_영문'] = df.kor_eng.str.extract('([ㄱ-ㅎ가-힣]+)')"
   ]
  },
  {
   "cell_type": "code",
   "execution_count": 222,
   "metadata": {},
   "outputs": [],
   "source": [
    "df['영문'] = df['식음메뉴명(영문)'].fillna(df['식음메뉴명(한글)'])"
   ]
  },
  {
   "cell_type": "code",
   "execution_count": 225,
   "metadata": {},
   "outputs": [],
   "source": [
    "# df.drop('식음메뉴명_영문', axis=1, inplace = True)\n",
    "df.drop('kor_eng', axis=1, inplace = True)"
   ]
  },
  {
   "cell_type": "code",
   "execution_count": 226,
   "metadata": {},
   "outputs": [
    {
     "data": {
      "text/html": [
       "<div>\n",
       "<style scoped>\n",
       "    .dataframe tbody tr th:only-of-type {\n",
       "        vertical-align: middle;\n",
       "    }\n",
       "\n",
       "    .dataframe tbody tr th {\n",
       "        vertical-align: top;\n",
       "    }\n",
       "\n",
       "    .dataframe thead th {\n",
       "        text-align: right;\n",
       "    }\n",
       "</style>\n",
       "<table border=\"1\" class=\"dataframe\">\n",
       "  <thead>\n",
       "    <tr style=\"text-align: right;\">\n",
       "      <th></th>\n",
       "      <th>지급일자</th>\n",
       "      <th>영업점코드</th>\n",
       "      <th>영업점명</th>\n",
       "      <th>식음메뉴그룹코드</th>\n",
       "      <th>식음메뉴그룹명</th>\n",
       "      <th>식음메뉴코드</th>\n",
       "      <th>식음메뉴명(한글)</th>\n",
       "      <th>식음메뉴명(영문)</th>\n",
       "      <th>성별</th>\n",
       "      <th>고객여권발급국가코드</th>\n",
       "      <th>고객여권발급국가명</th>\n",
       "      <th>주문수량</th>\n",
       "      <th>year</th>\n",
       "      <th>month</th>\n",
       "      <th>day</th>\n",
       "      <th>영문</th>\n",
       "    </tr>\n",
       "  </thead>\n",
       "  <tbody>\n",
       "    <tr>\n",
       "      <th>0</th>\n",
       "      <td>2019-03-25</td>\n",
       "      <td>HT</td>\n",
       "      <td>드래곤</td>\n",
       "      <td>1002</td>\n",
       "      <td>라이스류</td>\n",
       "      <td>1459</td>\n",
       "      <td>전복미역국</td>\n",
       "      <td>Seaweed Soup with Abalone(전복미역국)</td>\n",
       "      <td>M</td>\n",
       "      <td>CHN</td>\n",
       "      <td>중국</td>\n",
       "      <td>47</td>\n",
       "      <td>2019</td>\n",
       "      <td>3</td>\n",
       "      <td>25</td>\n",
       "      <td>Seaweed Soup with Abalone(전복미역국)</td>\n",
       "    </tr>\n",
       "    <tr>\n",
       "      <th>1</th>\n",
       "      <td>2019-03-05</td>\n",
       "      <td>CX</td>\n",
       "      <td>코엑스</td>\n",
       "      <td>2011</td>\n",
       "      <td>음료</td>\n",
       "      <td>2116</td>\n",
       "      <td>아이스티</td>\n",
       "      <td>NaN</td>\n",
       "      <td>M</td>\n",
       "      <td>JPN</td>\n",
       "      <td>일본</td>\n",
       "      <td>3</td>\n",
       "      <td>2019</td>\n",
       "      <td>3</td>\n",
       "      <td>5</td>\n",
       "      <td>아이스티</td>\n",
       "    </tr>\n",
       "    <tr>\n",
       "      <th>2</th>\n",
       "      <td>2019-03-05</td>\n",
       "      <td>HT</td>\n",
       "      <td>드래곤</td>\n",
       "      <td>1004</td>\n",
       "      <td>VIP안주</td>\n",
       "      <td>1028</td>\n",
       "      <td>계절과일(VIP)</td>\n",
       "      <td>Seasonal Fresh Fruits</td>\n",
       "      <td>M</td>\n",
       "      <td>JPN</td>\n",
       "      <td>일본</td>\n",
       "      <td>7</td>\n",
       "      <td>2019</td>\n",
       "      <td>3</td>\n",
       "      <td>5</td>\n",
       "      <td>Seasonal Fresh Fruits</td>\n",
       "    </tr>\n",
       "    <tr>\n",
       "      <th>3</th>\n",
       "      <td>2019-02-24</td>\n",
       "      <td>HT</td>\n",
       "      <td>드래곤</td>\n",
       "      <td>9001</td>\n",
       "      <td>기타</td>\n",
       "      <td>9030</td>\n",
       "      <td>페리에워터</td>\n",
       "      <td>NaN</td>\n",
       "      <td>F</td>\n",
       "      <td>CHN</td>\n",
       "      <td>중국</td>\n",
       "      <td>1</td>\n",
       "      <td>2019</td>\n",
       "      <td>2</td>\n",
       "      <td>24</td>\n",
       "      <td>페리에워터</td>\n",
       "    </tr>\n",
       "    <tr>\n",
       "      <th>4</th>\n",
       "      <td>2019-03-16</td>\n",
       "      <td>CX</td>\n",
       "      <td>코엑스</td>\n",
       "      <td>1002</td>\n",
       "      <td>라이스류</td>\n",
       "      <td>1316</td>\n",
       "      <td>주꾸미삼겹살볶음</td>\n",
       "      <td>Stir-fried Spicy Pork with Baby Octopus</td>\n",
       "      <td>M</td>\n",
       "      <td>CHN</td>\n",
       "      <td>중국</td>\n",
       "      <td>31</td>\n",
       "      <td>2019</td>\n",
       "      <td>3</td>\n",
       "      <td>16</td>\n",
       "      <td>Stir-fried Spicy Pork with Baby Octopus</td>\n",
       "    </tr>\n",
       "    <tr>\n",
       "      <th>...</th>\n",
       "      <td>...</td>\n",
       "      <td>...</td>\n",
       "      <td>...</td>\n",
       "      <td>...</td>\n",
       "      <td>...</td>\n",
       "      <td>...</td>\n",
       "      <td>...</td>\n",
       "      <td>...</td>\n",
       "      <td>...</td>\n",
       "      <td>...</td>\n",
       "      <td>...</td>\n",
       "      <td>...</td>\n",
       "      <td>...</td>\n",
       "      <td>...</td>\n",
       "      <td>...</td>\n",
       "      <td>...</td>\n",
       "    </tr>\n",
       "    <tr>\n",
       "      <th>1545003</th>\n",
       "      <td>2023-06-01</td>\n",
       "      <td>LT</td>\n",
       "      <td>롯데</td>\n",
       "      <td>2011</td>\n",
       "      <td>음료</td>\n",
       "      <td>2212</td>\n",
       "      <td>생강차</td>\n",
       "      <td>NaN</td>\n",
       "      <td>M</td>\n",
       "      <td>CHN</td>\n",
       "      <td>중국</td>\n",
       "      <td>1</td>\n",
       "      <td>2023</td>\n",
       "      <td>6</td>\n",
       "      <td>1</td>\n",
       "      <td>생강차</td>\n",
       "    </tr>\n",
       "    <tr>\n",
       "      <th>1545004</th>\n",
       "      <td>2023-06-02</td>\n",
       "      <td>LT</td>\n",
       "      <td>롯데</td>\n",
       "      <td>9001</td>\n",
       "      <td>기타</td>\n",
       "      <td>1028</td>\n",
       "      <td>계절과일(VIP)</td>\n",
       "      <td>Seasonal Fresh Fruits</td>\n",
       "      <td>M</td>\n",
       "      <td>TWN</td>\n",
       "      <td>대만</td>\n",
       "      <td>1</td>\n",
       "      <td>2023</td>\n",
       "      <td>6</td>\n",
       "      <td>2</td>\n",
       "      <td>Seasonal Fresh Fruits</td>\n",
       "    </tr>\n",
       "    <tr>\n",
       "      <th>1545005</th>\n",
       "      <td>2023-05-20</td>\n",
       "      <td>LT</td>\n",
       "      <td>롯데</td>\n",
       "      <td>9001</td>\n",
       "      <td>기타</td>\n",
       "      <td>9002</td>\n",
       "      <td>물수건(COLD)VIP</td>\n",
       "      <td>NaN</td>\n",
       "      <td>M</td>\n",
       "      <td>NaN</td>\n",
       "      <td>NaN</td>\n",
       "      <td>1</td>\n",
       "      <td>2023</td>\n",
       "      <td>5</td>\n",
       "      <td>20</td>\n",
       "      <td>물수건(COLD)VIP</td>\n",
       "    </tr>\n",
       "    <tr>\n",
       "      <th>1545006</th>\n",
       "      <td>2023-06-07</td>\n",
       "      <td>CX</td>\n",
       "      <td>코엑스</td>\n",
       "      <td>2012</td>\n",
       "      <td>커피</td>\n",
       "      <td>2124</td>\n",
       "      <td>카페오레(카페라떼)</td>\n",
       "      <td>NaN</td>\n",
       "      <td>M</td>\n",
       "      <td>KOR</td>\n",
       "      <td>대한민국(영주권자)</td>\n",
       "      <td>1</td>\n",
       "      <td>2023</td>\n",
       "      <td>6</td>\n",
       "      <td>7</td>\n",
       "      <td>카페오레(카페라떼)</td>\n",
       "    </tr>\n",
       "    <tr>\n",
       "      <th>1545007</th>\n",
       "      <td>2023-03-05</td>\n",
       "      <td>CX</td>\n",
       "      <td>코엑스</td>\n",
       "      <td>1001</td>\n",
       "      <td>숲/샌드위치</td>\n",
       "      <td>1041</td>\n",
       "      <td>스페셜샐러드(VIP)</td>\n",
       "      <td>NaN</td>\n",
       "      <td>M</td>\n",
       "      <td>KOR</td>\n",
       "      <td>대한민국(영주권자)</td>\n",
       "      <td>1</td>\n",
       "      <td>2023</td>\n",
       "      <td>3</td>\n",
       "      <td>5</td>\n",
       "      <td>스페셜샐러드(VIP)</td>\n",
       "    </tr>\n",
       "  </tbody>\n",
       "</table>\n",
       "<p>1545008 rows × 16 columns</p>\n",
       "</div>"
      ],
      "text/plain": [
       "              지급일자 영업점코드 영업점명  식음메뉴그룹코드 식음메뉴그룹명  식음메뉴코드     식음메뉴명(한글)  \\\n",
       "0       2019-03-25    HT  드래곤      1002    라이스류    1459         전복미역국   \n",
       "1       2019-03-05    CX  코엑스      2011      음료    2116          아이스티   \n",
       "2       2019-03-05    HT  드래곤      1004   VIP안주    1028     계절과일(VIP)   \n",
       "3       2019-02-24    HT  드래곤      9001      기타    9030         페리에워터   \n",
       "4       2019-03-16    CX  코엑스      1002    라이스류    1316      주꾸미삼겹살볶음   \n",
       "...            ...   ...  ...       ...     ...     ...           ...   \n",
       "1545003 2023-06-01    LT   롯데      2011      음료    2212           생강차   \n",
       "1545004 2023-06-02    LT   롯데      9001      기타    1028     계절과일(VIP)   \n",
       "1545005 2023-05-20    LT   롯데      9001      기타    9002  물수건(COLD)VIP   \n",
       "1545006 2023-06-07    CX  코엑스      2012      커피    2124    카페오레(카페라떼)   \n",
       "1545007 2023-03-05    CX  코엑스      1001  숲/샌드위치    1041   스페셜샐러드(VIP)   \n",
       "\n",
       "                                       식음메뉴명(영문) 성별 고객여권발급국가코드   고객여권발급국가명  \\\n",
       "0               Seaweed Soup with Abalone(전복미역국)  M        CHN          중국   \n",
       "1                                            NaN  M        JPN          일본   \n",
       "2                          Seasonal Fresh Fruits  M        JPN          일본   \n",
       "3                                            NaN  F        CHN          중국   \n",
       "4        Stir-fried Spicy Pork with Baby Octopus  M        CHN          중국   \n",
       "...                                          ... ..        ...         ...   \n",
       "1545003                                      NaN  M        CHN          중국   \n",
       "1545004                    Seasonal Fresh Fruits  M        TWN          대만   \n",
       "1545005                                      NaN  M        NaN         NaN   \n",
       "1545006                                      NaN  M        KOR  대한민국(영주권자)   \n",
       "1545007                                      NaN  M        KOR  대한민국(영주권자)   \n",
       "\n",
       "         주문수량  year  month  day                                       영문  \n",
       "0          47  2019      3   25         Seaweed Soup with Abalone(전복미역국)  \n",
       "1           3  2019      3    5                                     아이스티  \n",
       "2           7  2019      3    5                    Seasonal Fresh Fruits  \n",
       "3           1  2019      2   24                                    페리에워터  \n",
       "4          31  2019      3   16  Stir-fried Spicy Pork with Baby Octopus  \n",
       "...       ...   ...    ...  ...                                      ...  \n",
       "1545003     1  2023      6    1                                      생강차  \n",
       "1545004     1  2023      6    2                    Seasonal Fresh Fruits  \n",
       "1545005     1  2023      5   20                             물수건(COLD)VIP  \n",
       "1545006     1  2023      6    7                               카페오레(카페라떼)  \n",
       "1545007     1  2023      3    5                              스페셜샐러드(VIP)  \n",
       "\n",
       "[1545008 rows x 16 columns]"
      ]
     },
     "execution_count": 226,
     "metadata": {},
     "output_type": "execute_result"
    }
   ],
   "source": [
    "df"
   ]
  },
  {
   "cell_type": "markdown",
   "metadata": {},
   "source": [
    "### **정규분포와 왜도, 첨도**\n",
    "* 표준정규분포: 평균이 0, 표준편차가 1인 정규 분포\n",
    "    * **표준화** 과정을 거치면 모든 정규분포를 표준정규분포의 형태로 나타낼 수 있다.  \n",
    "* 관측값과 평균값의 오차를 계산하여 weight값을 정할 때 표준정규분포를 따르는 값으로 지정함"
   ]
  },
  {
   "cell_type": "code",
   "execution_count": 229,
   "metadata": {},
   "outputs": [
    {
     "name": "stdout",
     "output_type": "stream",
     "text": [
      "[-0.92807063  2.62136133  0.28411448 -1.10939411  0.53332287 -1.59466142\n",
      "  0.9066889   0.79349132 -1.20948525 -1.01317403]\n"
     ]
    }
   ],
   "source": [
    "import numpy as np\n",
    "\n",
    "# 평균과 표준편차 지정\n",
    "mean = 0\n",
    "std_dev = 1\n",
    "\n",
    "# 정규분포에 맞는 난수 1000개 생성\n",
    "random_numbers = np.random.normal(mean, std_dev, 1000)\n",
    "\n",
    "# 결과 확인\n",
    "print(random_numbers[:10])\n"
   ]
  },
  {
   "cell_type": "code",
   "execution_count": null,
   "metadata": {},
   "outputs": [],
   "source": []
  }
 ],
 "metadata": {
  "kernelspec": {
   "display_name": "mp",
   "language": "python",
   "name": "python3"
  },
  "language_info": {
   "codemirror_mode": {
    "name": "ipython",
    "version": 3
   },
   "file_extension": ".py",
   "mimetype": "text/x-python",
   "name": "python",
   "nbconvert_exporter": "python",
   "pygments_lexer": "ipython3",
   "version": "3.7.1"
  }
 },
 "nbformat": 4,
 "nbformat_minor": 2
}
