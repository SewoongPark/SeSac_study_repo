{
  "nbformat": 4,
  "nbformat_minor": 0,
  "metadata": {
    "colab": {
      "provenance": [],
      "mount_file_id": "1b9ECeOEVhHaXVhWEFkhRsAE78qS9xqP_",
      "authorship_tag": "ABX9TyMd5iGYtzTGMiHPJeYPsVrB",
      "include_colab_link": true
    },
    "kernelspec": {
      "name": "python3",
      "display_name": "Python 3"
    },
    "language_info": {
      "name": "python"
    },
    "accelerator": "TPU"
  },
  "cells": [
    {
      "cell_type": "markdown",
      "metadata": {
        "id": "view-in-github",
        "colab_type": "text"
      },
      "source": [
        "<a href=\"https://colab.research.google.com/github/SewoongPark/SeSac_study_repo/blob/main/RNN%2C_LSTM_study.ipynb\" target=\"_parent\"><img src=\"https://colab.research.google.com/assets/colab-badge.svg\" alt=\"Open In Colab\"/></a>"
      ]
    },
    {
      "cell_type": "markdown",
      "source": [
        "## **TIL**\n",
        "### **RNN(Recurrent Neural Network)이란?**\n",
        "> RNN은 시계열 또는 순차 데이터를 예측하는 딥러닝을 위한 신경망 아키텍처입니다.<br> RNN은 다양한 길이의 순차 데이터로 작업하고 자연 신호 분류, 언어 처리, 비디오 분석 등의 문제를 해결하는 데 특히 효과적입니다.\n",
        "\n",
        "**RNN의 작동 방식**\n",
        "> RNN은 과거의 정보를 사용하여 현재 및 미래의 입력에 대한 신경망의 성능을 개선하는 딥러닝 구조입니다. RNN의 독특한 점은 신경망에 은닉 상태 및 루프가 있다는 것입니다. 루프 구조를 통해 신경망은 은닉 상태에 과거의 정보를 저장하고 시퀀스에 대해 연산할 수 있습니다.\n",
        "\n",
        "> RNN은 과거의 정보를 현재 입력에 어떻게 적용할까요? 이 신경망에는 두 개의 가중치 세트가 있습니다. 하나는 은닉 상태 벡터에 대한 가중치 세트이며, 다른 하나는 입력에 대한 가중치 세트입니다. 신경망은 훈련 중에 입력과 은닉 상태, 두 가지 모두에 대한 가중치를 학습합니다. 구현이 되면 출력은 현재 입력, 그리고 이전 입력을 기반으로 하는 은닉 상태를 기반으로 합니다.\n",
        "\n",
        "\n",
        "**RNN의 기본 구조**\n",
        "<img src = \"http://i.imgur.com/Q8zv6TQ.png\">\n",
        "\n",
        ">RNN은 히든 노드가 방향을 가진 엣지로 연결돼 순환구조를 이루는(directed cycle) 인공신경망의 한 종류입니다. 음성, 문자 등 순차적으로 등장하는 데이터 처리에 적합한 모델로 알려져 있는데요. Convolutional Neural Networks(CNN)과 더불어 최근 들어 각광 받고 있는 알고리즘입니다.\n",
        "  * 위의 그림에서도 알 수 있듯 시퀀스 길이에 관계없이 인풋과 아웃풋을 받아들일 수 있는 네트워크 구조이기 때문에 필요에 따라 다양하고 유연하게 구조를 만들 수 있다는 점이 RNN의 가장 큰 장점입니다.\n",
        "\n",
        "<img src = \"https://kr.mathworks.com/discovery/rnn/_jcr_content/mainParsys3/discoverysubsection/mainParsys3/image.adapt.full.medium.jpg/1701674213137.jpg\" style = \"width: 70%;\">\n",
        "\n",
        "> RNN의 셀 하나를 펼친 모습. 데이터 시퀀스에 대해 정보가 신경망 안에서 어떻게 움직이는지 볼 수 있습니다. 입력은 셀의 은닉 상태에 의해 계산되어 출력을 생성하고, 은닉 상태는 다음 시간 스텝으로 전달됩니다.\n",
        "\n",
        "---\n",
        "\n",
        "### **LSTM**\n",
        "\n",
        "<img src = \"http://i.imgur.com/H9UoXdC.png\">\n",
        "\n",
        "> RNN의 기울기 소실 문제점을 표현한 그림\n",
        "\n",
        "* RNN은 관련 정보와 그 정보를 사용하는 지점 사이 거리가 멀 경우 역전파시 그래디언트가 점차 줄어 학습능력이 크게 저하되는 것으로 알려져 있습니다. 이를 vanishing gradient problem이라고 합니다.\n",
        "\n",
        "* RNN은 일반적으로 역전파를 통해 훈련되며, 여기서 “소실” 또는 “폭주”하는 기울기 문제에 직면할 수 있습니다. 이러한 문제로 인해 신경망의 가중치가 아주 작아지거나 아주 커지므로 장기적인 관계를 학습하기에는 효율성이 떨어지게 됩니다.\n",
        "\n",
        "* 이 문제를 극복하기 위해서 고안된 특수한 RNN 유형이 LSTM(장단기 기억) 신경망입니다. LSTM은 RNN의 히든 state에 cell-state를 추가한 구조입니다.\n",
        "\n",
        "*  LSTM 신경망은 부가적인 게이트를 사용하여 은닉 셀의 어느 정보가 출력과 다음 은닉 상태까지 보내지는지를 제어합니다. 이를 통해 신경망은 데이터의 장기적인 관계를 더 효과적으로 학습할 수 있습니다. LSTM은 일반적으로 구현되는 RNN 유형입니다.\n",
        "\n",
        "**LSTM의 기본 구조**\n",
        "\n",
        "<img src = \"http://i.imgur.com/jKodJ1u.png\">\n",
        "\n",
        "* cell state는 일종의 컨베이어 벨트 역할을 합니다. 덕분에 state가 꽤 오래 경과하더라도 그래디언트가 비교적 전파가 잘 되게 됩니다. LSTM 셀의 수식은 아래와 같습니다. ⊙는 요소별 곱셈을 뜻하는 Hadamard product 연산자입니다.\n",
        "\n",
        "$ftitotgtctht=σ(Wxh_fxt+Whh_fht−1+bh_f)=σ(Wxh_ixt+Whh_iht−1+bh_i)=σ(Wxh_oxt+Whh_oht−1+bh_o)=tanh(Wxh_gxt+Whh_ght−1+bh_g)=ft⊙ct−1+it⊙gt=ot⊙tanh(ct)$\n",
        "\n",
        "> RNN, LSTM은 시계열 데이터를 다루는 데 유용한 신경망 구조입니다. 이들은 이전 시간 단계의 정보를 현재 시간 단계에 전달하여 순서가 있는 데이터를 처리할 수 있습니다. 하지만 현업에서 사용하기에는 한계가 있습니다."
      ],
      "metadata": {
        "id": "YmBF8xy-xv4b"
      }
    },
    {
      "cell_type": "markdown",
      "source": [
        "**ANN과 RNN 비교**"
      ],
      "metadata": {
        "id": "W0DAJKNG4TeC"
      }
    },
    {
      "cell_type": "code",
      "execution_count": 1,
      "metadata": {
        "colab": {
          "base_uri": "https://localhost:8080/"
        },
        "id": "smLzRS2evp4O",
        "outputId": "a0e50f61-e5e6-4a3d-e5b2-a736fa8d4364"
      },
      "outputs": [
        {
          "output_type": "stream",
          "name": "stdout",
          "text": [
            "Test Accuracy: 0.815\n"
          ]
        }
      ],
      "source": [
        "from sklearn.neural_network import MLPClassifier\n",
        "from sklearn.metrics import accuracy_score\n",
        "\n",
        "\n",
        "'''\n",
        "params:\n",
        "\n",
        "hidden_layer_sizes=(100, 50):\n",
        " - 두 개의 은닉층을 가진 MLP를 정의합니다. 첫 번째 은닉층은 100개의 노드를 가지고,\n",
        " - 두 번째 은닉층은 50개의 노드를 가집니다.\n",
        "\n",
        "max_iter:\n",
        "  최대 반복 횟수를 지정합니다. 기본값은 1000입니다.\n",
        "\n",
        "'''\n",
        "class SimpleMLP:\n",
        "    def __init__(self, hidden_layer_sizes=(100, 50), activation='relu', max_iter=1000, random_state=None):\n",
        "        self.model = MLPClassifier(hidden_layer_sizes=hidden_layer_sizes,\n",
        "                                   activation=activation,\n",
        "                                   max_iter=max_iter,\n",
        "                                   random_state=random_state)\n",
        "\n",
        "    def fit(self, X_train, y_train):\n",
        "        self.model.fit(X_train, y_train)\n",
        "\n",
        "    def predict(self, X_test):\n",
        "        return self.model.predict(X_test)\n",
        "\n",
        "    def evaluate(self, X_test, y_test):\n",
        "        y_pred = self.predict(X_test)\n",
        "        accuracy = accuracy_score(y_test, y_pred)\n",
        "        print(\"Test Accuracy:\", accuracy)\n",
        "        return accuracy\n",
        "\n",
        "# 예제 사용\n",
        "if __name__ == \"__main__\":\n",
        "    from sklearn.datasets import make_classification\n",
        "    from sklearn.model_selection import train_test_split\n",
        "\n",
        "    # 데이터 생성\n",
        "    X, y = make_classification(n_samples=1000, n_features=20, n_classes=2, random_state=42)\n",
        "\n",
        "    # 데이터 분할\n",
        "    X_train, X_test, y_train, y_test = train_test_split(X, y, test_size=0.2, random_state=42)\n",
        "\n",
        "    # MLP 모델 생성 및 학습\n",
        "    mlp = SimpleMLP()\n",
        "    mlp.fit(X_train, y_train)\n",
        "\n",
        "    # 평가\n",
        "    mlp.evaluate(X_test, y_test)\n"
      ]
    },
    {
      "cell_type": "markdown",
      "source": [
        "순환 신경망"
      ],
      "metadata": {
        "id": "BJul9MHF4elm"
      }
    },
    {
      "cell_type": "code",
      "source": [
        "import numpy as np\n",
        "import tensorflow as tf\n",
        "from sklearn.metrics import accuracy_score\n",
        "\n",
        "class SimpleRNN:\n",
        "    def __init__(self, num_units=64, num_classes=2, learning_rate=0.001):\n",
        "        self.num_units = num_units\n",
        "        self.num_classes = num_classes\n",
        "        self.learning_rate = learning_rate\n",
        "        self.model = self.build_model()\n",
        "\n",
        "    def build_model(self):\n",
        "        model = tf.keras.Sequential([\n",
        "            tf.keras.layers.SimpleRNN(self.num_units, input_shape=(20, 1)),\n",
        "            '''\n",
        "            in: (None(batch), 20, 1) w: (1, 64) - > (64, 64): 이전 시간 단계의 은닉 상태에 대한 가중치\n",
        "            w:\n",
        "            out: (none, 64) - (batch, num_units)\n",
        "            '''\n",
        "\n",
        "            tf.keras.layers.Dense(self.num_classes, activation='softmax') # in: (None, 20, 64) w:(64, 2)\n",
        "        ])\n",
        "        model.compile(optimizer=tf.keras.optimizers.Adam(learning_rate=self.learning_rate),\n",
        "                      loss='sparse_categorical_crossentropy',\n",
        "                      metrics=['accuracy'])\n",
        "        return model\n",
        "\n",
        "    def fit(self, X_train, y_train, epochs=10, batch_size=32):\n",
        "        self.model.fit(X_train, y_train, epochs=epochs, batch_size=batch_size, verbose=1)\n",
        "\n",
        "    def predict(self, X_test):\n",
        "        return np.argmax(self.model.predict(X_test), axis=-1)\n",
        "\n",
        "    def evaluate(self, X_test, y_test):\n",
        "        y_pred = self.predict(X_test)\n",
        "        accuracy = accuracy_score(y_test, y_pred)\n",
        "        print(\"Test Accuracy:\", accuracy)\n",
        "        return accuracy\n",
        "\n",
        "# 예제 사용\n",
        "if __name__ == \"__main__\":\n",
        "    from sklearn.datasets import make_classification\n",
        "    from sklearn.model_selection import train_test_split\n",
        "\n",
        "    # 데이터 생성\n",
        "    X, y = make_classification(n_samples=1000, n_features=20, n_classes=2, random_state=42)\n",
        "    X = np.reshape(X, (1000, 20, 1))  # 시계열 데이터 형태로 변환\n",
        "\n",
        "    # 데이터 분할\n",
        "    X_train, X_test, y_train, y_test = train_test_split(X, y, test_size=0.2, random_state=42)\n",
        "\n",
        "    # RNN 모델 생성 및 학습\n",
        "    rnn = SimpleRNN()\n",
        "    rnn.fit(X_train, y_train)\n",
        "\n",
        "    # 평가\n",
        "    rnn.evaluate(X_test, y_test)\n",
        "\n",
        "    for layer in rnn.model.layers:\n",
        "      print(\"Layer Name:\", layer.name)\n",
        "      print(\"Input Shape:\", layer.input_shape)\n",
        "      print(\"Output Shape:\", layer.output_shape)\n",
        "      print()\n"
      ],
      "metadata": {
        "colab": {
          "base_uri": "https://localhost:8080/"
        },
        "id": "opEPKcJD4dxE",
        "outputId": "ce5f9554-06c6-4a75-fc87-baea5a0c2837"
      },
      "execution_count": 38,
      "outputs": [
        {
          "output_type": "stream",
          "name": "stdout",
          "text": [
            "Epoch 1/10\n",
            "25/25 [==============================] - 1s 4ms/step - loss: 0.4642 - accuracy: 0.8075\n",
            "Epoch 2/10\n",
            "25/25 [==============================] - 0s 6ms/step - loss: 0.3407 - accuracy: 0.8725\n",
            "Epoch 3/10\n",
            "25/25 [==============================] - 0s 7ms/step - loss: 0.3300 - accuracy: 0.8675\n",
            "Epoch 4/10\n",
            "25/25 [==============================] - 0s 5ms/step - loss: 0.3228 - accuracy: 0.8813\n",
            "Epoch 5/10\n",
            "25/25 [==============================] - 0s 5ms/step - loss: 0.3144 - accuracy: 0.8788\n",
            "Epoch 6/10\n",
            "25/25 [==============================] - 0s 6ms/step - loss: 0.3060 - accuracy: 0.8813\n",
            "Epoch 7/10\n",
            "25/25 [==============================] - 0s 13ms/step - loss: 0.3004 - accuracy: 0.8888\n",
            "Epoch 8/10\n",
            "25/25 [==============================] - 0s 13ms/step - loss: 0.2973 - accuracy: 0.8850\n",
            "Epoch 9/10\n",
            "25/25 [==============================] - 0s 14ms/step - loss: 0.2914 - accuracy: 0.8925\n",
            "Epoch 10/10\n",
            "25/25 [==============================] - 0s 11ms/step - loss: 0.2808 - accuracy: 0.8925\n",
            "7/7 [==============================] - 0s 3ms/step\n",
            "Test Accuracy: 0.88\n",
            "Layer Name: simple_rnn_5\n",
            "Input Shape: (None, 20, 1)\n",
            "Output Shape: (None, 64)\n",
            "\n",
            "Layer Name: dense_5\n",
            "Input Shape: (None, 64)\n",
            "Output Shape: (None, 2)\n",
            "\n"
          ]
        }
      ]
    },
    {
      "cell_type": "markdown",
      "source": [
        "### **은닉 상태(hidden state) 연산**\n",
        "\n",
        "은닉 상태의 계산은 내적 연산이 아닙니다.\n",
        "\n",
        "RNN의 각 유닛에서는 다음과 같이 새로운 은닉 상태를 계산합니다.\n",
        "\n",
        "현재 시간 단계의 입력과 이전 시간 단계의 은닉 상태를 함께 입력으로 받아 가중치 행렬과의 내적 연산을 수행합니다. 그런 다음 활성화 함수를 통과시켜 새로운 은닉 상태를 생성합니다.\n",
        "\n",
        "따라서 첫 번째 레이어에서는 현재 시간 단계의 입력과 이전 시간 단계의 은닉 상태를 사용하여 내적 연산을 수행하여 새로운 은닉 상태를 계산합니다.\n",
        "\n",
        "각 시간 단계에서의 새로운 은닉 상태는 다음 시간 단계의 입력과 함께 사용되어 다음 시간 단계의 은닉 상태를 계산합니다. 이 과정이 반복되면서 RNN은 시퀀스의 각 시간 단계에서 새로운 은닉 상태를 계산합니다."
      ],
      "metadata": {
        "id": "YMi1Ct9pVf00"
      }
    },
    {
      "cell_type": "code",
      "source": [
        "import numpy as np\n",
        "\n",
        "# 간단한 RNN 셀 구현\n",
        "class SimpleRNNCell:\n",
        "    def __init__(self, input_size, hidden_size):\n",
        "        self.input_size = input_size\n",
        "        self.hidden_size = hidden_size\n",
        "        self.W_x = np.random.randn(input_size, hidden_size)\n",
        "        self.W_h = np.random.randn(hidden_size, hidden_size)\n",
        "        self.b = np.zeros((1, hidden_size))\n",
        "\n",
        "    def step(self, x, h_prev):\n",
        "        # 현재 입력과 이전 은닉 상태를 이용하여 새로운 은닉 상태 계산\n",
        "        h_new = np.tanh(np.dot(x, self.W_x) + np.dot(h_prev, self.W_h) + self.b)\n",
        "        return h_new\n",
        "\n",
        "# 입력 데이터\n",
        "X = np.random.randn(5, 3)  # (시퀀스 길이, 입력 크기)\n",
        "\n",
        "# RNN 셀 생성\n",
        "cell = SimpleRNNCell(input_size=3, hidden_size=2)\n",
        "\n",
        "# 초기 은닉 상태 초기화\n",
        "h_prev = np.zeros((1, 2))  # 초기 은닉 상태 (배치 크기=1, 은닉 크기=2)\n",
        "\n",
        "# 각 시간 단계에서의 새로운 은닉 상태 계산\n",
        "for t in range(X.shape[0]):\n",
        "    x_t = X[t].reshape(1, -1)  # 현재 시간 단계의 입력 벡터\n",
        "    h_prev = cell.step(x_t, h_prev)\n",
        "    print(f\"Time step {t+1}: New hidden state = {h_prev}\")\n",
        "\n"
      ],
      "metadata": {
        "colab": {
          "base_uri": "https://localhost:8080/"
        },
        "id": "NTOY9zL4TYOq",
        "outputId": "f568af90-be0c-48be-a85f-2d7c12583a5f"
      },
      "execution_count": 40,
      "outputs": [
        {
          "output_type": "stream",
          "name": "stdout",
          "text": [
            "Time step 1: New hidden state = [[0.69731534 0.707768  ]]\n",
            "Time step 2: New hidden state = [[-0.48176102 -0.99118998]]\n",
            "Time step 3: New hidden state = [[0.68042769 0.99791234]]\n",
            "Time step 4: New hidden state = [[ 0.95361996 -0.32266359]]\n",
            "Time step 5: New hidden state = [[-0.92223133 -0.94444636]]\n"
          ]
        }
      ]
    },
    {
      "cell_type": "code",
      "source": [
        "rnn.model.summary()"
      ],
      "metadata": {
        "colab": {
          "base_uri": "https://localhost:8080/"
        },
        "id": "AqsFjXRDPTk7",
        "outputId": "9a4d4a64-5cb7-4988-ab39-27f7df06b1ee"
      },
      "execution_count": 39,
      "outputs": [
        {
          "output_type": "stream",
          "name": "stdout",
          "text": [
            "Model: \"sequential_5\"\n",
            "_________________________________________________________________\n",
            " Layer (type)                Output Shape              Param #   \n",
            "=================================================================\n",
            " simple_rnn_5 (SimpleRNN)    (None, 64)                4224      \n",
            "                                                                 \n",
            " dense_5 (Dense)             (None, 2)                 130       \n",
            "                                                                 \n",
            "=================================================================\n",
            "Total params: 4354 (17.01 KB)\n",
            "Trainable params: 4354 (17.01 KB)\n",
            "Non-trainable params: 0 (0.00 Byte)\n",
            "_________________________________________________________________\n"
          ]
        }
      ]
    },
    {
      "cell_type": "markdown",
      "source": [
        "### **RNN 주가 예측**"
      ],
      "metadata": {
        "id": "8VX1zOLZVzxf"
      }
    },
    {
      "cell_type": "code",
      "source": [
        "!pip install -U finance-datareader\n"
      ],
      "metadata": {
        "colab": {
          "base_uri": "https://localhost:8080/"
        },
        "id": "bwNek29ZKuaZ",
        "outputId": "606dc6f2-d158-4b62-cbea-6f790a6251b6"
      },
      "execution_count": 41,
      "outputs": [
        {
          "output_type": "stream",
          "name": "stdout",
          "text": [
            "Collecting finance-datareader\n",
            "  Downloading finance_datareader-0.9.70-py3-none-any.whl (24 kB)\n",
            "Requirement already satisfied: pandas>=0.19.2 in /usr/local/lib/python3.10/dist-packages (from finance-datareader) (1.5.3)\n",
            "Requirement already satisfied: requests>=2.3.0 in /usr/local/lib/python3.10/dist-packages (from finance-datareader) (2.31.0)\n",
            "Collecting requests-file (from finance-datareader)\n",
            "  Downloading requests_file-2.0.0-py2.py3-none-any.whl (4.2 kB)\n",
            "Requirement already satisfied: lxml in /usr/local/lib/python3.10/dist-packages (from finance-datareader) (4.9.4)\n",
            "Requirement already satisfied: tqdm in /usr/local/lib/python3.10/dist-packages (from finance-datareader) (4.66.2)\n",
            "Requirement already satisfied: python-dateutil>=2.8.1 in /usr/local/lib/python3.10/dist-packages (from pandas>=0.19.2->finance-datareader) (2.8.2)\n",
            "Requirement already satisfied: pytz>=2020.1 in /usr/local/lib/python3.10/dist-packages (from pandas>=0.19.2->finance-datareader) (2023.4)\n",
            "Requirement already satisfied: numpy>=1.21.0 in /usr/local/lib/python3.10/dist-packages (from pandas>=0.19.2->finance-datareader) (1.25.2)\n",
            "Requirement already satisfied: charset-normalizer<4,>=2 in /usr/local/lib/python3.10/dist-packages (from requests>=2.3.0->finance-datareader) (3.3.2)\n",
            "Requirement already satisfied: idna<4,>=2.5 in /usr/local/lib/python3.10/dist-packages (from requests>=2.3.0->finance-datareader) (3.6)\n",
            "Requirement already satisfied: urllib3<3,>=1.21.1 in /usr/local/lib/python3.10/dist-packages (from requests>=2.3.0->finance-datareader) (2.0.7)\n",
            "Requirement already satisfied: certifi>=2017.4.17 in /usr/local/lib/python3.10/dist-packages (from requests>=2.3.0->finance-datareader) (2024.2.2)\n",
            "Requirement already satisfied: six>=1.5 in /usr/local/lib/python3.10/dist-packages (from python-dateutil>=2.8.1->pandas>=0.19.2->finance-datareader) (1.16.0)\n",
            "Installing collected packages: requests-file, finance-datareader\n",
            "Successfully installed finance-datareader-0.9.70 requests-file-2.0.0\n"
          ]
        }
      ]
    },
    {
      "cell_type": "markdown",
      "source": [
        "### **2-1. 데이터 로드**"
      ],
      "metadata": {
        "id": "xruR4IQUWI_e"
      }
    },
    {
      "cell_type": "code",
      "source": [
        "import FinanceDataReader as fdr\n",
        "import numpy as np\n",
        "import matplotlib.pyplot as plt\n"
      ],
      "metadata": {
        "id": "v0xIUoajWPsh"
      },
      "execution_count": 136,
      "outputs": []
    },
    {
      "cell_type": "markdown",
      "source": [
        "삼성전자 종목에 대한 데이터를 2018년 5월 4일부터 2020년 1월 22일까지 로드합니다.\n",
        "\n"
      ],
      "metadata": {
        "id": "Adi98YPIWZGQ"
      }
    },
    {
      "cell_type": "code",
      "source": [
        "df = fdr.DataReader('005930', '2018-05-04', '2020-01-22')\n",
        "df.head()"
      ],
      "metadata": {
        "colab": {
          "base_uri": "https://localhost:8080/",
          "height": 237
        },
        "id": "8mbm7hIMWWUX",
        "outputId": "e2762e62-c7c1-4baa-b982-b8f9caf3d5d0"
      },
      "execution_count": 137,
      "outputs": [
        {
          "output_type": "execute_result",
          "data": {
            "text/plain": [
              "             Open   High    Low  Close    Volume    Change\n",
              "Date                                                      \n",
              "2018-05-04  53000  53900  51800  51900  39565391 -0.020755\n",
              "2018-05-08  52600  53200  51900  52600  23104720  0.013487\n",
              "2018-05-09  52600  52800  50900  50900  16128305 -0.032319\n",
              "2018-05-10  51700  51700  50600  51600  13905263  0.013752\n",
              "2018-05-11  52000  52200  51200  51300  10314997 -0.005814"
            ],
            "text/html": [
              "\n",
              "  <div id=\"df-81373274-36d9-4585-a2aa-f51097a2b3e5\" class=\"colab-df-container\">\n",
              "    <div>\n",
              "<style scoped>\n",
              "    .dataframe tbody tr th:only-of-type {\n",
              "        vertical-align: middle;\n",
              "    }\n",
              "\n",
              "    .dataframe tbody tr th {\n",
              "        vertical-align: top;\n",
              "    }\n",
              "\n",
              "    .dataframe thead th {\n",
              "        text-align: right;\n",
              "    }\n",
              "</style>\n",
              "<table border=\"1\" class=\"dataframe\">\n",
              "  <thead>\n",
              "    <tr style=\"text-align: right;\">\n",
              "      <th></th>\n",
              "      <th>Open</th>\n",
              "      <th>High</th>\n",
              "      <th>Low</th>\n",
              "      <th>Close</th>\n",
              "      <th>Volume</th>\n",
              "      <th>Change</th>\n",
              "    </tr>\n",
              "    <tr>\n",
              "      <th>Date</th>\n",
              "      <th></th>\n",
              "      <th></th>\n",
              "      <th></th>\n",
              "      <th></th>\n",
              "      <th></th>\n",
              "      <th></th>\n",
              "    </tr>\n",
              "  </thead>\n",
              "  <tbody>\n",
              "    <tr>\n",
              "      <th>2018-05-04</th>\n",
              "      <td>53000</td>\n",
              "      <td>53900</td>\n",
              "      <td>51800</td>\n",
              "      <td>51900</td>\n",
              "      <td>39565391</td>\n",
              "      <td>-0.020755</td>\n",
              "    </tr>\n",
              "    <tr>\n",
              "      <th>2018-05-08</th>\n",
              "      <td>52600</td>\n",
              "      <td>53200</td>\n",
              "      <td>51900</td>\n",
              "      <td>52600</td>\n",
              "      <td>23104720</td>\n",
              "      <td>0.013487</td>\n",
              "    </tr>\n",
              "    <tr>\n",
              "      <th>2018-05-09</th>\n",
              "      <td>52600</td>\n",
              "      <td>52800</td>\n",
              "      <td>50900</td>\n",
              "      <td>50900</td>\n",
              "      <td>16128305</td>\n",
              "      <td>-0.032319</td>\n",
              "    </tr>\n",
              "    <tr>\n",
              "      <th>2018-05-10</th>\n",
              "      <td>51700</td>\n",
              "      <td>51700</td>\n",
              "      <td>50600</td>\n",
              "      <td>51600</td>\n",
              "      <td>13905263</td>\n",
              "      <td>0.013752</td>\n",
              "    </tr>\n",
              "    <tr>\n",
              "      <th>2018-05-11</th>\n",
              "      <td>52000</td>\n",
              "      <td>52200</td>\n",
              "      <td>51200</td>\n",
              "      <td>51300</td>\n",
              "      <td>10314997</td>\n",
              "      <td>-0.005814</td>\n",
              "    </tr>\n",
              "  </tbody>\n",
              "</table>\n",
              "</div>\n",
              "    <div class=\"colab-df-buttons\">\n",
              "\n",
              "  <div class=\"colab-df-container\">\n",
              "    <button class=\"colab-df-convert\" onclick=\"convertToInteractive('df-81373274-36d9-4585-a2aa-f51097a2b3e5')\"\n",
              "            title=\"Convert this dataframe to an interactive table.\"\n",
              "            style=\"display:none;\">\n",
              "\n",
              "  <svg xmlns=\"http://www.w3.org/2000/svg\" height=\"24px\" viewBox=\"0 -960 960 960\">\n",
              "    <path d=\"M120-120v-720h720v720H120Zm60-500h600v-160H180v160Zm220 220h160v-160H400v160Zm0 220h160v-160H400v160ZM180-400h160v-160H180v160Zm440 0h160v-160H620v160ZM180-180h160v-160H180v160Zm440 0h160v-160H620v160Z\"/>\n",
              "  </svg>\n",
              "    </button>\n",
              "\n",
              "  <style>\n",
              "    .colab-df-container {\n",
              "      display:flex;\n",
              "      gap: 12px;\n",
              "    }\n",
              "\n",
              "    .colab-df-convert {\n",
              "      background-color: #E8F0FE;\n",
              "      border: none;\n",
              "      border-radius: 50%;\n",
              "      cursor: pointer;\n",
              "      display: none;\n",
              "      fill: #1967D2;\n",
              "      height: 32px;\n",
              "      padding: 0 0 0 0;\n",
              "      width: 32px;\n",
              "    }\n",
              "\n",
              "    .colab-df-convert:hover {\n",
              "      background-color: #E2EBFA;\n",
              "      box-shadow: 0px 1px 2px rgba(60, 64, 67, 0.3), 0px 1px 3px 1px rgba(60, 64, 67, 0.15);\n",
              "      fill: #174EA6;\n",
              "    }\n",
              "\n",
              "    .colab-df-buttons div {\n",
              "      margin-bottom: 4px;\n",
              "    }\n",
              "\n",
              "    [theme=dark] .colab-df-convert {\n",
              "      background-color: #3B4455;\n",
              "      fill: #D2E3FC;\n",
              "    }\n",
              "\n",
              "    [theme=dark] .colab-df-convert:hover {\n",
              "      background-color: #434B5C;\n",
              "      box-shadow: 0px 1px 3px 1px rgba(0, 0, 0, 0.15);\n",
              "      filter: drop-shadow(0px 1px 2px rgba(0, 0, 0, 0.3));\n",
              "      fill: #FFFFFF;\n",
              "    }\n",
              "  </style>\n",
              "\n",
              "    <script>\n",
              "      const buttonEl =\n",
              "        document.querySelector('#df-81373274-36d9-4585-a2aa-f51097a2b3e5 button.colab-df-convert');\n",
              "      buttonEl.style.display =\n",
              "        google.colab.kernel.accessAllowed ? 'block' : 'none';\n",
              "\n",
              "      async function convertToInteractive(key) {\n",
              "        const element = document.querySelector('#df-81373274-36d9-4585-a2aa-f51097a2b3e5');\n",
              "        const dataTable =\n",
              "          await google.colab.kernel.invokeFunction('convertToInteractive',\n",
              "                                                    [key], {});\n",
              "        if (!dataTable) return;\n",
              "\n",
              "        const docLinkHtml = 'Like what you see? Visit the ' +\n",
              "          '<a target=\"_blank\" href=https://colab.research.google.com/notebooks/data_table.ipynb>data table notebook</a>'\n",
              "          + ' to learn more about interactive tables.';\n",
              "        element.innerHTML = '';\n",
              "        dataTable['output_type'] = 'display_data';\n",
              "        await google.colab.output.renderOutput(dataTable, element);\n",
              "        const docLink = document.createElement('div');\n",
              "        docLink.innerHTML = docLinkHtml;\n",
              "        element.appendChild(docLink);\n",
              "      }\n",
              "    </script>\n",
              "  </div>\n",
              "\n",
              "\n",
              "<div id=\"df-6189bbaa-8118-4d4e-ab31-5fccdb043e71\">\n",
              "  <button class=\"colab-df-quickchart\" onclick=\"quickchart('df-6189bbaa-8118-4d4e-ab31-5fccdb043e71')\"\n",
              "            title=\"Suggest charts\"\n",
              "            style=\"display:none;\">\n",
              "\n",
              "<svg xmlns=\"http://www.w3.org/2000/svg\" height=\"24px\"viewBox=\"0 0 24 24\"\n",
              "     width=\"24px\">\n",
              "    <g>\n",
              "        <path d=\"M19 3H5c-1.1 0-2 .9-2 2v14c0 1.1.9 2 2 2h14c1.1 0 2-.9 2-2V5c0-1.1-.9-2-2-2zM9 17H7v-7h2v7zm4 0h-2V7h2v10zm4 0h-2v-4h2v4z\"/>\n",
              "    </g>\n",
              "</svg>\n",
              "  </button>\n",
              "\n",
              "<style>\n",
              "  .colab-df-quickchart {\n",
              "      --bg-color: #E8F0FE;\n",
              "      --fill-color: #1967D2;\n",
              "      --hover-bg-color: #E2EBFA;\n",
              "      --hover-fill-color: #174EA6;\n",
              "      --disabled-fill-color: #AAA;\n",
              "      --disabled-bg-color: #DDD;\n",
              "  }\n",
              "\n",
              "  [theme=dark] .colab-df-quickchart {\n",
              "      --bg-color: #3B4455;\n",
              "      --fill-color: #D2E3FC;\n",
              "      --hover-bg-color: #434B5C;\n",
              "      --hover-fill-color: #FFFFFF;\n",
              "      --disabled-bg-color: #3B4455;\n",
              "      --disabled-fill-color: #666;\n",
              "  }\n",
              "\n",
              "  .colab-df-quickchart {\n",
              "    background-color: var(--bg-color);\n",
              "    border: none;\n",
              "    border-radius: 50%;\n",
              "    cursor: pointer;\n",
              "    display: none;\n",
              "    fill: var(--fill-color);\n",
              "    height: 32px;\n",
              "    padding: 0;\n",
              "    width: 32px;\n",
              "  }\n",
              "\n",
              "  .colab-df-quickchart:hover {\n",
              "    background-color: var(--hover-bg-color);\n",
              "    box-shadow: 0 1px 2px rgba(60, 64, 67, 0.3), 0 1px 3px 1px rgba(60, 64, 67, 0.15);\n",
              "    fill: var(--button-hover-fill-color);\n",
              "  }\n",
              "\n",
              "  .colab-df-quickchart-complete:disabled,\n",
              "  .colab-df-quickchart-complete:disabled:hover {\n",
              "    background-color: var(--disabled-bg-color);\n",
              "    fill: var(--disabled-fill-color);\n",
              "    box-shadow: none;\n",
              "  }\n",
              "\n",
              "  .colab-df-spinner {\n",
              "    border: 2px solid var(--fill-color);\n",
              "    border-color: transparent;\n",
              "    border-bottom-color: var(--fill-color);\n",
              "    animation:\n",
              "      spin 1s steps(1) infinite;\n",
              "  }\n",
              "\n",
              "  @keyframes spin {\n",
              "    0% {\n",
              "      border-color: transparent;\n",
              "      border-bottom-color: var(--fill-color);\n",
              "      border-left-color: var(--fill-color);\n",
              "    }\n",
              "    20% {\n",
              "      border-color: transparent;\n",
              "      border-left-color: var(--fill-color);\n",
              "      border-top-color: var(--fill-color);\n",
              "    }\n",
              "    30% {\n",
              "      border-color: transparent;\n",
              "      border-left-color: var(--fill-color);\n",
              "      border-top-color: var(--fill-color);\n",
              "      border-right-color: var(--fill-color);\n",
              "    }\n",
              "    40% {\n",
              "      border-color: transparent;\n",
              "      border-right-color: var(--fill-color);\n",
              "      border-top-color: var(--fill-color);\n",
              "    }\n",
              "    60% {\n",
              "      border-color: transparent;\n",
              "      border-right-color: var(--fill-color);\n",
              "    }\n",
              "    80% {\n",
              "      border-color: transparent;\n",
              "      border-right-color: var(--fill-color);\n",
              "      border-bottom-color: var(--fill-color);\n",
              "    }\n",
              "    90% {\n",
              "      border-color: transparent;\n",
              "      border-bottom-color: var(--fill-color);\n",
              "    }\n",
              "  }\n",
              "</style>\n",
              "\n",
              "  <script>\n",
              "    async function quickchart(key) {\n",
              "      const quickchartButtonEl =\n",
              "        document.querySelector('#' + key + ' button');\n",
              "      quickchartButtonEl.disabled = true;  // To prevent multiple clicks.\n",
              "      quickchartButtonEl.classList.add('colab-df-spinner');\n",
              "      try {\n",
              "        const charts = await google.colab.kernel.invokeFunction(\n",
              "            'suggestCharts', [key], {});\n",
              "      } catch (error) {\n",
              "        console.error('Error during call to suggestCharts:', error);\n",
              "      }\n",
              "      quickchartButtonEl.classList.remove('colab-df-spinner');\n",
              "      quickchartButtonEl.classList.add('colab-df-quickchart-complete');\n",
              "    }\n",
              "    (() => {\n",
              "      let quickchartButtonEl =\n",
              "        document.querySelector('#df-6189bbaa-8118-4d4e-ab31-5fccdb043e71 button');\n",
              "      quickchartButtonEl.style.display =\n",
              "        google.colab.kernel.accessAllowed ? 'block' : 'none';\n",
              "    })();\n",
              "  </script>\n",
              "</div>\n",
              "\n",
              "    </div>\n",
              "  </div>\n"
            ],
            "application/vnd.google.colaboratory.intrinsic+json": {
              "type": "dataframe",
              "variable_name": "df",
              "summary": "{\n  \"name\": \"df\",\n  \"rows\": 421,\n  \"fields\": [\n    {\n      \"column\": \"Open\",\n      \"properties\": {\n        \"dtype\": \"number\",\n        \"std\": 4316,\n        \"min\": 37450,\n        \"max\": 62000,\n        \"num_unique_values\": 198,\n        \"samples\": [\n          44550,\n          40000,\n          50800\n        ],\n        \"semantic_type\": \"\",\n        \"description\": \"\"\n      }\n    },\n    {\n      \"column\": \"High\",\n      \"properties\": {\n        \"dtype\": \"number\",\n        \"std\": 4332,\n        \"min\": 37600,\n        \"max\": 62800,\n        \"num_unique_values\": 200,\n        \"samples\": [\n          42900,\n          51200,\n          47150\n        ],\n        \"semantic_type\": \"\",\n        \"description\": \"\"\n      }\n    },\n    {\n      \"column\": \"Low\",\n      \"properties\": {\n        \"dtype\": \"number\",\n        \"std\": 4260,\n        \"min\": 36850,\n        \"max\": 61700,\n        \"num_unique_values\": 196,\n        \"samples\": [\n          43250,\n          41950,\n          49950\n        ],\n        \"semantic_type\": \"\",\n        \"description\": \"\"\n      }\n    },\n    {\n      \"column\": \"Close\",\n      \"properties\": {\n        \"dtype\": \"number\",\n        \"std\": 4305,\n        \"min\": 37450,\n        \"max\": 62400,\n        \"num_unique_values\": 205,\n        \"samples\": [\n          50700,\n          49500,\n          38950\n        ],\n        \"semantic_type\": \"\",\n        \"description\": \"\"\n      }\n    },\n    {\n      \"column\": \"Volume\",\n      \"properties\": {\n        \"dtype\": \"number\",\n        \"std\": 5020585,\n        \"min\": 4406531,\n        \"max\": 63491109,\n        \"num_unique_values\": 421,\n        \"samples\": [\n          11433083,\n          10413027,\n          11071079\n        ],\n        \"semantic_type\": \"\",\n        \"description\": \"\"\n      }\n    },\n    {\n      \"column\": \"Change\",\n      \"properties\": {\n        \"dtype\": \"number\",\n        \"std\": 0.015105944913686574,\n        \"min\": -0.04856512141280356,\n        \"max\": 0.04744958481613293,\n        \"num_unique_values\": 386,\n        \"samples\": [\n          -0.009765625,\n          0.013129102844638973,\n          0.014285714285714235\n        ],\n        \"semantic_type\": \"\",\n        \"description\": \"\"\n      }\n    }\n  ]\n}"
            }
          },
          "metadata": {},
          "execution_count": 137
        }
      ]
    },
    {
      "cell_type": "code",
      "source": [
        "print(df.shape)"
      ],
      "metadata": {
        "colab": {
          "base_uri": "https://localhost:8080/"
        },
        "id": "Ti7A4NU1WivO",
        "outputId": "01a61ff7-deb6-4d5c-935d-2b828f5a23ea"
      },
      "execution_count": 112,
      "outputs": [
        {
          "output_type": "stream",
          "name": "stdout",
          "text": [
            "(421, 6)\n"
          ]
        }
      ]
    },
    {
      "cell_type": "markdown",
      "source": [
        "### **2-2. 데이터 전처리 - MinMaxScaler**"
      ],
      "metadata": {
        "id": "1uicxpreWlch"
      }
    },
    {
      "cell_type": "markdown",
      "source": [
        "MinMaxScaler는 데이터의 값의 범위를 줄여주는 기법으로 머신 러닝과 데이터 분석에서 자주 사용되는 방법입니다. 이를 사용하면 값의 범위가 0~1 사이로 변환됩니다.\n",
        "\n",
        "수식은 다음과 같습니다.\n",
        "\n",
        "> ($X$ - $Xmin$) / ($Xmax$ - $Xmin$)\n",
        "\n",
        "<br>숫자 단위가 클수록 계산에 소요되는 시간이 늘어납니다. 시간 소요를 줄이기 위해서 삼성전자 데이터에 MinMaxScaler를 적용해봅시다. 0으로 나누기 에러가 발생하지 않도록 매우 작은 값(1e-7)을 더해서 나눕니다."
      ],
      "metadata": {
        "id": "FQWDn2lcWsz0"
      }
    },
    {
      "cell_type": "code",
      "source": [
        "def MinMaxScaler(data):\n",
        "    \"\"\"최솟값과 최댓값을 이용하여 0 ~ 1 값으로 변환\"\"\"\n",
        "    numerator = data - np.min(data, 0)\n",
        "    denominator = np.max(data, 0) - np.min(data, 0)\n",
        "    # 0으로 나누기 에러가 발생하지 않도록 매우 작은 값(1e-7)을 더해서 나눔\n",
        "    return numerator / (denominator + 1e-7)\n"
      ],
      "metadata": {
        "id": "miqeXybtWpAj"
      },
      "execution_count": 113,
      "outputs": []
    },
    {
      "cell_type": "code",
      "source": [
        "dfx = df[['Open','High','Low','Volume', 'Close']]\n",
        "dfx = MinMaxScaler(dfx)\n",
        "dfy = dfx[['Close']]\n",
        "dfx = dfx[['Open','High','Low','Volume']]\n",
        "dfx"
      ],
      "metadata": {
        "colab": {
          "base_uri": "https://localhost:8080/",
          "height": 455
        },
        "id": "I4qqfWM6W8ki",
        "outputId": "e7a74ceb-b293-413e-d4da-09c0915235b2"
      },
      "execution_count": 130,
      "outputs": [
        {
          "output_type": "execute_result",
          "data": {
            "text/plain": [
              "                Open      High       Low    Volume\n",
              "Date                                              \n",
              "2018-05-04  0.633401  0.646825  0.601610  0.595060\n",
              "2018-05-08  0.617108  0.619048  0.605634  0.316465\n",
              "2018-05-09  0.617108  0.603175  0.565392  0.198390\n",
              "2018-05-10  0.580448  0.559524  0.553320  0.160765\n",
              "2018-05-11  0.592668  0.579365  0.577465  0.100000\n",
              "...              ...       ...       ...       ...\n",
              "2020-01-16  0.881874  0.916667  0.891348  0.168830\n",
              "2020-01-17  0.995927  0.968254  0.971831  0.196653\n",
              "2020-01-20  1.000000  1.000000  1.000000  0.137469\n",
              "2020-01-21  1.000000  0.984127  0.979879  0.114009\n",
              "2020-01-22  0.938900  0.992063  0.947686  0.185040\n",
              "\n",
              "[421 rows x 4 columns]"
            ],
            "text/html": [
              "\n",
              "  <div id=\"df-fa8e694c-522a-4a02-a541-24b01d50ba5f\" class=\"colab-df-container\">\n",
              "    <div>\n",
              "<style scoped>\n",
              "    .dataframe tbody tr th:only-of-type {\n",
              "        vertical-align: middle;\n",
              "    }\n",
              "\n",
              "    .dataframe tbody tr th {\n",
              "        vertical-align: top;\n",
              "    }\n",
              "\n",
              "    .dataframe thead th {\n",
              "        text-align: right;\n",
              "    }\n",
              "</style>\n",
              "<table border=\"1\" class=\"dataframe\">\n",
              "  <thead>\n",
              "    <tr style=\"text-align: right;\">\n",
              "      <th></th>\n",
              "      <th>Open</th>\n",
              "      <th>High</th>\n",
              "      <th>Low</th>\n",
              "      <th>Volume</th>\n",
              "    </tr>\n",
              "    <tr>\n",
              "      <th>Date</th>\n",
              "      <th></th>\n",
              "      <th></th>\n",
              "      <th></th>\n",
              "      <th></th>\n",
              "    </tr>\n",
              "  </thead>\n",
              "  <tbody>\n",
              "    <tr>\n",
              "      <th>2018-05-04</th>\n",
              "      <td>0.633401</td>\n",
              "      <td>0.646825</td>\n",
              "      <td>0.601610</td>\n",
              "      <td>0.595060</td>\n",
              "    </tr>\n",
              "    <tr>\n",
              "      <th>2018-05-08</th>\n",
              "      <td>0.617108</td>\n",
              "      <td>0.619048</td>\n",
              "      <td>0.605634</td>\n",
              "      <td>0.316465</td>\n",
              "    </tr>\n",
              "    <tr>\n",
              "      <th>2018-05-09</th>\n",
              "      <td>0.617108</td>\n",
              "      <td>0.603175</td>\n",
              "      <td>0.565392</td>\n",
              "      <td>0.198390</td>\n",
              "    </tr>\n",
              "    <tr>\n",
              "      <th>2018-05-10</th>\n",
              "      <td>0.580448</td>\n",
              "      <td>0.559524</td>\n",
              "      <td>0.553320</td>\n",
              "      <td>0.160765</td>\n",
              "    </tr>\n",
              "    <tr>\n",
              "      <th>2018-05-11</th>\n",
              "      <td>0.592668</td>\n",
              "      <td>0.579365</td>\n",
              "      <td>0.577465</td>\n",
              "      <td>0.100000</td>\n",
              "    </tr>\n",
              "    <tr>\n",
              "      <th>...</th>\n",
              "      <td>...</td>\n",
              "      <td>...</td>\n",
              "      <td>...</td>\n",
              "      <td>...</td>\n",
              "    </tr>\n",
              "    <tr>\n",
              "      <th>2020-01-16</th>\n",
              "      <td>0.881874</td>\n",
              "      <td>0.916667</td>\n",
              "      <td>0.891348</td>\n",
              "      <td>0.168830</td>\n",
              "    </tr>\n",
              "    <tr>\n",
              "      <th>2020-01-17</th>\n",
              "      <td>0.995927</td>\n",
              "      <td>0.968254</td>\n",
              "      <td>0.971831</td>\n",
              "      <td>0.196653</td>\n",
              "    </tr>\n",
              "    <tr>\n",
              "      <th>2020-01-20</th>\n",
              "      <td>1.000000</td>\n",
              "      <td>1.000000</td>\n",
              "      <td>1.000000</td>\n",
              "      <td>0.137469</td>\n",
              "    </tr>\n",
              "    <tr>\n",
              "      <th>2020-01-21</th>\n",
              "      <td>1.000000</td>\n",
              "      <td>0.984127</td>\n",
              "      <td>0.979879</td>\n",
              "      <td>0.114009</td>\n",
              "    </tr>\n",
              "    <tr>\n",
              "      <th>2020-01-22</th>\n",
              "      <td>0.938900</td>\n",
              "      <td>0.992063</td>\n",
              "      <td>0.947686</td>\n",
              "      <td>0.185040</td>\n",
              "    </tr>\n",
              "  </tbody>\n",
              "</table>\n",
              "<p>421 rows × 4 columns</p>\n",
              "</div>\n",
              "    <div class=\"colab-df-buttons\">\n",
              "\n",
              "  <div class=\"colab-df-container\">\n",
              "    <button class=\"colab-df-convert\" onclick=\"convertToInteractive('df-fa8e694c-522a-4a02-a541-24b01d50ba5f')\"\n",
              "            title=\"Convert this dataframe to an interactive table.\"\n",
              "            style=\"display:none;\">\n",
              "\n",
              "  <svg xmlns=\"http://www.w3.org/2000/svg\" height=\"24px\" viewBox=\"0 -960 960 960\">\n",
              "    <path d=\"M120-120v-720h720v720H120Zm60-500h600v-160H180v160Zm220 220h160v-160H400v160Zm0 220h160v-160H400v160ZM180-400h160v-160H180v160Zm440 0h160v-160H620v160ZM180-180h160v-160H180v160Zm440 0h160v-160H620v160Z\"/>\n",
              "  </svg>\n",
              "    </button>\n",
              "\n",
              "  <style>\n",
              "    .colab-df-container {\n",
              "      display:flex;\n",
              "      gap: 12px;\n",
              "    }\n",
              "\n",
              "    .colab-df-convert {\n",
              "      background-color: #E8F0FE;\n",
              "      border: none;\n",
              "      border-radius: 50%;\n",
              "      cursor: pointer;\n",
              "      display: none;\n",
              "      fill: #1967D2;\n",
              "      height: 32px;\n",
              "      padding: 0 0 0 0;\n",
              "      width: 32px;\n",
              "    }\n",
              "\n",
              "    .colab-df-convert:hover {\n",
              "      background-color: #E2EBFA;\n",
              "      box-shadow: 0px 1px 2px rgba(60, 64, 67, 0.3), 0px 1px 3px 1px rgba(60, 64, 67, 0.15);\n",
              "      fill: #174EA6;\n",
              "    }\n",
              "\n",
              "    .colab-df-buttons div {\n",
              "      margin-bottom: 4px;\n",
              "    }\n",
              "\n",
              "    [theme=dark] .colab-df-convert {\n",
              "      background-color: #3B4455;\n",
              "      fill: #D2E3FC;\n",
              "    }\n",
              "\n",
              "    [theme=dark] .colab-df-convert:hover {\n",
              "      background-color: #434B5C;\n",
              "      box-shadow: 0px 1px 3px 1px rgba(0, 0, 0, 0.15);\n",
              "      filter: drop-shadow(0px 1px 2px rgba(0, 0, 0, 0.3));\n",
              "      fill: #FFFFFF;\n",
              "    }\n",
              "  </style>\n",
              "\n",
              "    <script>\n",
              "      const buttonEl =\n",
              "        document.querySelector('#df-fa8e694c-522a-4a02-a541-24b01d50ba5f button.colab-df-convert');\n",
              "      buttonEl.style.display =\n",
              "        google.colab.kernel.accessAllowed ? 'block' : 'none';\n",
              "\n",
              "      async function convertToInteractive(key) {\n",
              "        const element = document.querySelector('#df-fa8e694c-522a-4a02-a541-24b01d50ba5f');\n",
              "        const dataTable =\n",
              "          await google.colab.kernel.invokeFunction('convertToInteractive',\n",
              "                                                    [key], {});\n",
              "        if (!dataTable) return;\n",
              "\n",
              "        const docLinkHtml = 'Like what you see? Visit the ' +\n",
              "          '<a target=\"_blank\" href=https://colab.research.google.com/notebooks/data_table.ipynb>data table notebook</a>'\n",
              "          + ' to learn more about interactive tables.';\n",
              "        element.innerHTML = '';\n",
              "        dataTable['output_type'] = 'display_data';\n",
              "        await google.colab.output.renderOutput(dataTable, element);\n",
              "        const docLink = document.createElement('div');\n",
              "        docLink.innerHTML = docLinkHtml;\n",
              "        element.appendChild(docLink);\n",
              "      }\n",
              "    </script>\n",
              "  </div>\n",
              "\n",
              "\n",
              "<div id=\"df-675d3b2b-f6b7-4e07-97f3-5919e8dffc3c\">\n",
              "  <button class=\"colab-df-quickchart\" onclick=\"quickchart('df-675d3b2b-f6b7-4e07-97f3-5919e8dffc3c')\"\n",
              "            title=\"Suggest charts\"\n",
              "            style=\"display:none;\">\n",
              "\n",
              "<svg xmlns=\"http://www.w3.org/2000/svg\" height=\"24px\"viewBox=\"0 0 24 24\"\n",
              "     width=\"24px\">\n",
              "    <g>\n",
              "        <path d=\"M19 3H5c-1.1 0-2 .9-2 2v14c0 1.1.9 2 2 2h14c1.1 0 2-.9 2-2V5c0-1.1-.9-2-2-2zM9 17H7v-7h2v7zm4 0h-2V7h2v10zm4 0h-2v-4h2v4z\"/>\n",
              "    </g>\n",
              "</svg>\n",
              "  </button>\n",
              "\n",
              "<style>\n",
              "  .colab-df-quickchart {\n",
              "      --bg-color: #E8F0FE;\n",
              "      --fill-color: #1967D2;\n",
              "      --hover-bg-color: #E2EBFA;\n",
              "      --hover-fill-color: #174EA6;\n",
              "      --disabled-fill-color: #AAA;\n",
              "      --disabled-bg-color: #DDD;\n",
              "  }\n",
              "\n",
              "  [theme=dark] .colab-df-quickchart {\n",
              "      --bg-color: #3B4455;\n",
              "      --fill-color: #D2E3FC;\n",
              "      --hover-bg-color: #434B5C;\n",
              "      --hover-fill-color: #FFFFFF;\n",
              "      --disabled-bg-color: #3B4455;\n",
              "      --disabled-fill-color: #666;\n",
              "  }\n",
              "\n",
              "  .colab-df-quickchart {\n",
              "    background-color: var(--bg-color);\n",
              "    border: none;\n",
              "    border-radius: 50%;\n",
              "    cursor: pointer;\n",
              "    display: none;\n",
              "    fill: var(--fill-color);\n",
              "    height: 32px;\n",
              "    padding: 0;\n",
              "    width: 32px;\n",
              "  }\n",
              "\n",
              "  .colab-df-quickchart:hover {\n",
              "    background-color: var(--hover-bg-color);\n",
              "    box-shadow: 0 1px 2px rgba(60, 64, 67, 0.3), 0 1px 3px 1px rgba(60, 64, 67, 0.15);\n",
              "    fill: var(--button-hover-fill-color);\n",
              "  }\n",
              "\n",
              "  .colab-df-quickchart-complete:disabled,\n",
              "  .colab-df-quickchart-complete:disabled:hover {\n",
              "    background-color: var(--disabled-bg-color);\n",
              "    fill: var(--disabled-fill-color);\n",
              "    box-shadow: none;\n",
              "  }\n",
              "\n",
              "  .colab-df-spinner {\n",
              "    border: 2px solid var(--fill-color);\n",
              "    border-color: transparent;\n",
              "    border-bottom-color: var(--fill-color);\n",
              "    animation:\n",
              "      spin 1s steps(1) infinite;\n",
              "  }\n",
              "\n",
              "  @keyframes spin {\n",
              "    0% {\n",
              "      border-color: transparent;\n",
              "      border-bottom-color: var(--fill-color);\n",
              "      border-left-color: var(--fill-color);\n",
              "    }\n",
              "    20% {\n",
              "      border-color: transparent;\n",
              "      border-left-color: var(--fill-color);\n",
              "      border-top-color: var(--fill-color);\n",
              "    }\n",
              "    30% {\n",
              "      border-color: transparent;\n",
              "      border-left-color: var(--fill-color);\n",
              "      border-top-color: var(--fill-color);\n",
              "      border-right-color: var(--fill-color);\n",
              "    }\n",
              "    40% {\n",
              "      border-color: transparent;\n",
              "      border-right-color: var(--fill-color);\n",
              "      border-top-color: var(--fill-color);\n",
              "    }\n",
              "    60% {\n",
              "      border-color: transparent;\n",
              "      border-right-color: var(--fill-color);\n",
              "    }\n",
              "    80% {\n",
              "      border-color: transparent;\n",
              "      border-right-color: var(--fill-color);\n",
              "      border-bottom-color: var(--fill-color);\n",
              "    }\n",
              "    90% {\n",
              "      border-color: transparent;\n",
              "      border-bottom-color: var(--fill-color);\n",
              "    }\n",
              "  }\n",
              "</style>\n",
              "\n",
              "  <script>\n",
              "    async function quickchart(key) {\n",
              "      const quickchartButtonEl =\n",
              "        document.querySelector('#' + key + ' button');\n",
              "      quickchartButtonEl.disabled = true;  // To prevent multiple clicks.\n",
              "      quickchartButtonEl.classList.add('colab-df-spinner');\n",
              "      try {\n",
              "        const charts = await google.colab.kernel.invokeFunction(\n",
              "            'suggestCharts', [key], {});\n",
              "      } catch (error) {\n",
              "        console.error('Error during call to suggestCharts:', error);\n",
              "      }\n",
              "      quickchartButtonEl.classList.remove('colab-df-spinner');\n",
              "      quickchartButtonEl.classList.add('colab-df-quickchart-complete');\n",
              "    }\n",
              "    (() => {\n",
              "      let quickchartButtonEl =\n",
              "        document.querySelector('#df-675d3b2b-f6b7-4e07-97f3-5919e8dffc3c button');\n",
              "      quickchartButtonEl.style.display =\n",
              "        google.colab.kernel.accessAllowed ? 'block' : 'none';\n",
              "    })();\n",
              "  </script>\n",
              "</div>\n",
              "\n",
              "  <div id=\"id_d162468c-6ee2-43d7-b892-d68e2026a9a5\">\n",
              "    <style>\n",
              "      .colab-df-generate {\n",
              "        background-color: #E8F0FE;\n",
              "        border: none;\n",
              "        border-radius: 50%;\n",
              "        cursor: pointer;\n",
              "        display: none;\n",
              "        fill: #1967D2;\n",
              "        height: 32px;\n",
              "        padding: 0 0 0 0;\n",
              "        width: 32px;\n",
              "      }\n",
              "\n",
              "      .colab-df-generate:hover {\n",
              "        background-color: #E2EBFA;\n",
              "        box-shadow: 0px 1px 2px rgba(60, 64, 67, 0.3), 0px 1px 3px 1px rgba(60, 64, 67, 0.15);\n",
              "        fill: #174EA6;\n",
              "      }\n",
              "\n",
              "      [theme=dark] .colab-df-generate {\n",
              "        background-color: #3B4455;\n",
              "        fill: #D2E3FC;\n",
              "      }\n",
              "\n",
              "      [theme=dark] .colab-df-generate:hover {\n",
              "        background-color: #434B5C;\n",
              "        box-shadow: 0px 1px 3px 1px rgba(0, 0, 0, 0.15);\n",
              "        filter: drop-shadow(0px 1px 2px rgba(0, 0, 0, 0.3));\n",
              "        fill: #FFFFFF;\n",
              "      }\n",
              "    </style>\n",
              "    <button class=\"colab-df-generate\" onclick=\"generateWithVariable('dfx')\"\n",
              "            title=\"Generate code using this dataframe.\"\n",
              "            style=\"display:none;\">\n",
              "\n",
              "  <svg xmlns=\"http://www.w3.org/2000/svg\" height=\"24px\"viewBox=\"0 0 24 24\"\n",
              "       width=\"24px\">\n",
              "    <path d=\"M7,19H8.4L18.45,9,17,7.55,7,17.6ZM5,21V16.75L18.45,3.32a2,2,0,0,1,2.83,0l1.4,1.43a1.91,1.91,0,0,1,.58,1.4,1.91,1.91,0,0,1-.58,1.4L9.25,21ZM18.45,9,17,7.55Zm-12,3A5.31,5.31,0,0,0,4.9,8.1,5.31,5.31,0,0,0,1,6.5,5.31,5.31,0,0,0,4.9,4.9,5.31,5.31,0,0,0,6.5,1,5.31,5.31,0,0,0,8.1,4.9,5.31,5.31,0,0,0,12,6.5,5.46,5.46,0,0,0,6.5,12Z\"/>\n",
              "  </svg>\n",
              "    </button>\n",
              "    <script>\n",
              "      (() => {\n",
              "      const buttonEl =\n",
              "        document.querySelector('#id_d162468c-6ee2-43d7-b892-d68e2026a9a5 button.colab-df-generate');\n",
              "      buttonEl.style.display =\n",
              "        google.colab.kernel.accessAllowed ? 'block' : 'none';\n",
              "\n",
              "      buttonEl.onclick = () => {\n",
              "        google.colab.notebook.generateWithVariable('dfx');\n",
              "      }\n",
              "      })();\n",
              "    </script>\n",
              "  </div>\n",
              "\n",
              "    </div>\n",
              "  </div>\n"
            ],
            "application/vnd.google.colaboratory.intrinsic+json": {
              "type": "dataframe",
              "variable_name": "dfx",
              "summary": "{\n  \"name\": \"dfx\",\n  \"rows\": 421,\n  \"fields\": [\n    {\n      \"column\": \"Open\",\n      \"properties\": {\n        \"dtype\": \"number\",\n        \"std\": 0.17583411319297682,\n        \"min\": 0.0,\n        \"max\": 0.9999999999959267,\n        \"num_unique_values\": 198,\n        \"samples\": [\n          0.2892057026464798,\n          0.10386965376739768,\n          0.5437881873704937\n        ],\n        \"semantic_type\": \"\",\n        \"description\": \"\"\n      }\n    },\n    {\n      \"column\": \"High\",\n      \"properties\": {\n        \"dtype\": \"number\",\n        \"std\": 0.17193055511721883,\n        \"min\": 0.0,\n        \"max\": 0.9999999999960317,\n        \"num_unique_values\": 200,\n        \"samples\": [\n          0.2103174603166257,\n          0.539682539680398,\n          0.3789682539667501\n        ],\n        \"semantic_type\": \"\",\n        \"description\": \"\"\n      }\n    },\n    {\n      \"column\": \"Low\",\n      \"properties\": {\n        \"dtype\": \"number\",\n        \"std\": 0.17143243799275718,\n        \"min\": 0.0,\n        \"max\": 0.9999999999959758,\n        \"num_unique_values\": 196,\n        \"samples\": [\n          0.25754527162874224,\n          0.205231388329154,\n          0.5271629778650818\n        ],\n        \"semantic_type\": \"\",\n        \"description\": \"\"\n      }\n    },\n    {\n      \"column\": \"Volume\",\n      \"properties\": {\n        \"dtype\": \"number\",\n        \"std\": 0.08497285385309607,\n        \"min\": 0.0,\n        \"max\": 0.9999999999999983,\n        \"num_unique_values\": 421,\n        \"samples\": [\n          0.11892362165978385,\n          0.10165928577843088,\n          0.11279674367818941\n        ],\n        \"semantic_type\": \"\",\n        \"description\": \"\"\n      }\n    }\n  ]\n}"
            }
          },
          "metadata": {},
          "execution_count": 130
        }
      ]
    },
    {
      "cell_type": "code",
      "source": [
        "dfx.describe()"
      ],
      "metadata": {
        "colab": {
          "base_uri": "https://localhost:8080/",
          "height": 300
        },
        "id": "OV_yod-3ZJrS",
        "outputId": "d125c754-b445-4120-d184-e9e72c0f5737"
      },
      "execution_count": 115,
      "outputs": [
        {
          "output_type": "execute_result",
          "data": {
            "text/plain": [
              "             Open        High         Low      Volume\n",
              "count  421.000000  421.000000  421.000000  421.000000\n",
              "mean     0.372409    0.374434    0.373457    0.117439\n",
              "std      0.175834    0.171931    0.171432    0.084973\n",
              "min      0.000000    0.000000    0.000000    0.000000\n",
              "25%      0.262729    0.267857    0.269618    0.064016\n",
              "50%      0.350305    0.349206    0.352113    0.101418\n",
              "75%      0.443992    0.452381    0.444668    0.146095\n",
              "max      1.000000    1.000000    1.000000    1.000000"
            ],
            "text/html": [
              "\n",
              "  <div id=\"df-df8915d1-212c-4f4a-9eff-58c70761cadd\" class=\"colab-df-container\">\n",
              "    <div>\n",
              "<style scoped>\n",
              "    .dataframe tbody tr th:only-of-type {\n",
              "        vertical-align: middle;\n",
              "    }\n",
              "\n",
              "    .dataframe tbody tr th {\n",
              "        vertical-align: top;\n",
              "    }\n",
              "\n",
              "    .dataframe thead th {\n",
              "        text-align: right;\n",
              "    }\n",
              "</style>\n",
              "<table border=\"1\" class=\"dataframe\">\n",
              "  <thead>\n",
              "    <tr style=\"text-align: right;\">\n",
              "      <th></th>\n",
              "      <th>Open</th>\n",
              "      <th>High</th>\n",
              "      <th>Low</th>\n",
              "      <th>Volume</th>\n",
              "    </tr>\n",
              "  </thead>\n",
              "  <tbody>\n",
              "    <tr>\n",
              "      <th>count</th>\n",
              "      <td>421.000000</td>\n",
              "      <td>421.000000</td>\n",
              "      <td>421.000000</td>\n",
              "      <td>421.000000</td>\n",
              "    </tr>\n",
              "    <tr>\n",
              "      <th>mean</th>\n",
              "      <td>0.372409</td>\n",
              "      <td>0.374434</td>\n",
              "      <td>0.373457</td>\n",
              "      <td>0.117439</td>\n",
              "    </tr>\n",
              "    <tr>\n",
              "      <th>std</th>\n",
              "      <td>0.175834</td>\n",
              "      <td>0.171931</td>\n",
              "      <td>0.171432</td>\n",
              "      <td>0.084973</td>\n",
              "    </tr>\n",
              "    <tr>\n",
              "      <th>min</th>\n",
              "      <td>0.000000</td>\n",
              "      <td>0.000000</td>\n",
              "      <td>0.000000</td>\n",
              "      <td>0.000000</td>\n",
              "    </tr>\n",
              "    <tr>\n",
              "      <th>25%</th>\n",
              "      <td>0.262729</td>\n",
              "      <td>0.267857</td>\n",
              "      <td>0.269618</td>\n",
              "      <td>0.064016</td>\n",
              "    </tr>\n",
              "    <tr>\n",
              "      <th>50%</th>\n",
              "      <td>0.350305</td>\n",
              "      <td>0.349206</td>\n",
              "      <td>0.352113</td>\n",
              "      <td>0.101418</td>\n",
              "    </tr>\n",
              "    <tr>\n",
              "      <th>75%</th>\n",
              "      <td>0.443992</td>\n",
              "      <td>0.452381</td>\n",
              "      <td>0.444668</td>\n",
              "      <td>0.146095</td>\n",
              "    </tr>\n",
              "    <tr>\n",
              "      <th>max</th>\n",
              "      <td>1.000000</td>\n",
              "      <td>1.000000</td>\n",
              "      <td>1.000000</td>\n",
              "      <td>1.000000</td>\n",
              "    </tr>\n",
              "  </tbody>\n",
              "</table>\n",
              "</div>\n",
              "    <div class=\"colab-df-buttons\">\n",
              "\n",
              "  <div class=\"colab-df-container\">\n",
              "    <button class=\"colab-df-convert\" onclick=\"convertToInteractive('df-df8915d1-212c-4f4a-9eff-58c70761cadd')\"\n",
              "            title=\"Convert this dataframe to an interactive table.\"\n",
              "            style=\"display:none;\">\n",
              "\n",
              "  <svg xmlns=\"http://www.w3.org/2000/svg\" height=\"24px\" viewBox=\"0 -960 960 960\">\n",
              "    <path d=\"M120-120v-720h720v720H120Zm60-500h600v-160H180v160Zm220 220h160v-160H400v160Zm0 220h160v-160H400v160ZM180-400h160v-160H180v160Zm440 0h160v-160H620v160ZM180-180h160v-160H180v160Zm440 0h160v-160H620v160Z\"/>\n",
              "  </svg>\n",
              "    </button>\n",
              "\n",
              "  <style>\n",
              "    .colab-df-container {\n",
              "      display:flex;\n",
              "      gap: 12px;\n",
              "    }\n",
              "\n",
              "    .colab-df-convert {\n",
              "      background-color: #E8F0FE;\n",
              "      border: none;\n",
              "      border-radius: 50%;\n",
              "      cursor: pointer;\n",
              "      display: none;\n",
              "      fill: #1967D2;\n",
              "      height: 32px;\n",
              "      padding: 0 0 0 0;\n",
              "      width: 32px;\n",
              "    }\n",
              "\n",
              "    .colab-df-convert:hover {\n",
              "      background-color: #E2EBFA;\n",
              "      box-shadow: 0px 1px 2px rgba(60, 64, 67, 0.3), 0px 1px 3px 1px rgba(60, 64, 67, 0.15);\n",
              "      fill: #174EA6;\n",
              "    }\n",
              "\n",
              "    .colab-df-buttons div {\n",
              "      margin-bottom: 4px;\n",
              "    }\n",
              "\n",
              "    [theme=dark] .colab-df-convert {\n",
              "      background-color: #3B4455;\n",
              "      fill: #D2E3FC;\n",
              "    }\n",
              "\n",
              "    [theme=dark] .colab-df-convert:hover {\n",
              "      background-color: #434B5C;\n",
              "      box-shadow: 0px 1px 3px 1px rgba(0, 0, 0, 0.15);\n",
              "      filter: drop-shadow(0px 1px 2px rgba(0, 0, 0, 0.3));\n",
              "      fill: #FFFFFF;\n",
              "    }\n",
              "  </style>\n",
              "\n",
              "    <script>\n",
              "      const buttonEl =\n",
              "        document.querySelector('#df-df8915d1-212c-4f4a-9eff-58c70761cadd button.colab-df-convert');\n",
              "      buttonEl.style.display =\n",
              "        google.colab.kernel.accessAllowed ? 'block' : 'none';\n",
              "\n",
              "      async function convertToInteractive(key) {\n",
              "        const element = document.querySelector('#df-df8915d1-212c-4f4a-9eff-58c70761cadd');\n",
              "        const dataTable =\n",
              "          await google.colab.kernel.invokeFunction('convertToInteractive',\n",
              "                                                    [key], {});\n",
              "        if (!dataTable) return;\n",
              "\n",
              "        const docLinkHtml = 'Like what you see? Visit the ' +\n",
              "          '<a target=\"_blank\" href=https://colab.research.google.com/notebooks/data_table.ipynb>data table notebook</a>'\n",
              "          + ' to learn more about interactive tables.';\n",
              "        element.innerHTML = '';\n",
              "        dataTable['output_type'] = 'display_data';\n",
              "        await google.colab.output.renderOutput(dataTable, element);\n",
              "        const docLink = document.createElement('div');\n",
              "        docLink.innerHTML = docLinkHtml;\n",
              "        element.appendChild(docLink);\n",
              "      }\n",
              "    </script>\n",
              "  </div>\n",
              "\n",
              "\n",
              "<div id=\"df-d342e3a2-ecb2-490b-ba63-b9b01f6fc3ad\">\n",
              "  <button class=\"colab-df-quickchart\" onclick=\"quickchart('df-d342e3a2-ecb2-490b-ba63-b9b01f6fc3ad')\"\n",
              "            title=\"Suggest charts\"\n",
              "            style=\"display:none;\">\n",
              "\n",
              "<svg xmlns=\"http://www.w3.org/2000/svg\" height=\"24px\"viewBox=\"0 0 24 24\"\n",
              "     width=\"24px\">\n",
              "    <g>\n",
              "        <path d=\"M19 3H5c-1.1 0-2 .9-2 2v14c0 1.1.9 2 2 2h14c1.1 0 2-.9 2-2V5c0-1.1-.9-2-2-2zM9 17H7v-7h2v7zm4 0h-2V7h2v10zm4 0h-2v-4h2v4z\"/>\n",
              "    </g>\n",
              "</svg>\n",
              "  </button>\n",
              "\n",
              "<style>\n",
              "  .colab-df-quickchart {\n",
              "      --bg-color: #E8F0FE;\n",
              "      --fill-color: #1967D2;\n",
              "      --hover-bg-color: #E2EBFA;\n",
              "      --hover-fill-color: #174EA6;\n",
              "      --disabled-fill-color: #AAA;\n",
              "      --disabled-bg-color: #DDD;\n",
              "  }\n",
              "\n",
              "  [theme=dark] .colab-df-quickchart {\n",
              "      --bg-color: #3B4455;\n",
              "      --fill-color: #D2E3FC;\n",
              "      --hover-bg-color: #434B5C;\n",
              "      --hover-fill-color: #FFFFFF;\n",
              "      --disabled-bg-color: #3B4455;\n",
              "      --disabled-fill-color: #666;\n",
              "  }\n",
              "\n",
              "  .colab-df-quickchart {\n",
              "    background-color: var(--bg-color);\n",
              "    border: none;\n",
              "    border-radius: 50%;\n",
              "    cursor: pointer;\n",
              "    display: none;\n",
              "    fill: var(--fill-color);\n",
              "    height: 32px;\n",
              "    padding: 0;\n",
              "    width: 32px;\n",
              "  }\n",
              "\n",
              "  .colab-df-quickchart:hover {\n",
              "    background-color: var(--hover-bg-color);\n",
              "    box-shadow: 0 1px 2px rgba(60, 64, 67, 0.3), 0 1px 3px 1px rgba(60, 64, 67, 0.15);\n",
              "    fill: var(--button-hover-fill-color);\n",
              "  }\n",
              "\n",
              "  .colab-df-quickchart-complete:disabled,\n",
              "  .colab-df-quickchart-complete:disabled:hover {\n",
              "    background-color: var(--disabled-bg-color);\n",
              "    fill: var(--disabled-fill-color);\n",
              "    box-shadow: none;\n",
              "  }\n",
              "\n",
              "  .colab-df-spinner {\n",
              "    border: 2px solid var(--fill-color);\n",
              "    border-color: transparent;\n",
              "    border-bottom-color: var(--fill-color);\n",
              "    animation:\n",
              "      spin 1s steps(1) infinite;\n",
              "  }\n",
              "\n",
              "  @keyframes spin {\n",
              "    0% {\n",
              "      border-color: transparent;\n",
              "      border-bottom-color: var(--fill-color);\n",
              "      border-left-color: var(--fill-color);\n",
              "    }\n",
              "    20% {\n",
              "      border-color: transparent;\n",
              "      border-left-color: var(--fill-color);\n",
              "      border-top-color: var(--fill-color);\n",
              "    }\n",
              "    30% {\n",
              "      border-color: transparent;\n",
              "      border-left-color: var(--fill-color);\n",
              "      border-top-color: var(--fill-color);\n",
              "      border-right-color: var(--fill-color);\n",
              "    }\n",
              "    40% {\n",
              "      border-color: transparent;\n",
              "      border-right-color: var(--fill-color);\n",
              "      border-top-color: var(--fill-color);\n",
              "    }\n",
              "    60% {\n",
              "      border-color: transparent;\n",
              "      border-right-color: var(--fill-color);\n",
              "    }\n",
              "    80% {\n",
              "      border-color: transparent;\n",
              "      border-right-color: var(--fill-color);\n",
              "      border-bottom-color: var(--fill-color);\n",
              "    }\n",
              "    90% {\n",
              "      border-color: transparent;\n",
              "      border-bottom-color: var(--fill-color);\n",
              "    }\n",
              "  }\n",
              "</style>\n",
              "\n",
              "  <script>\n",
              "    async function quickchart(key) {\n",
              "      const quickchartButtonEl =\n",
              "        document.querySelector('#' + key + ' button');\n",
              "      quickchartButtonEl.disabled = true;  // To prevent multiple clicks.\n",
              "      quickchartButtonEl.classList.add('colab-df-spinner');\n",
              "      try {\n",
              "        const charts = await google.colab.kernel.invokeFunction(\n",
              "            'suggestCharts', [key], {});\n",
              "      } catch (error) {\n",
              "        console.error('Error during call to suggestCharts:', error);\n",
              "      }\n",
              "      quickchartButtonEl.classList.remove('colab-df-spinner');\n",
              "      quickchartButtonEl.classList.add('colab-df-quickchart-complete');\n",
              "    }\n",
              "    (() => {\n",
              "      let quickchartButtonEl =\n",
              "        document.querySelector('#df-d342e3a2-ecb2-490b-ba63-b9b01f6fc3ad button');\n",
              "      quickchartButtonEl.style.display =\n",
              "        google.colab.kernel.accessAllowed ? 'block' : 'none';\n",
              "    })();\n",
              "  </script>\n",
              "</div>\n",
              "\n",
              "    </div>\n",
              "  </div>\n"
            ],
            "application/vnd.google.colaboratory.intrinsic+json": {
              "type": "dataframe",
              "summary": "{\n  \"name\": \"dfx\",\n  \"rows\": 8,\n  \"fields\": [\n    {\n      \"column\": \"Open\",\n      \"properties\": {\n        \"dtype\": \"number\",\n        \"std\": 148.7146742884763,\n        \"min\": 0.0,\n        \"max\": 421.0,\n        \"num_unique_values\": 8,\n        \"samples\": [\n          0.3724088219769941,\n          0.35030549898024316,\n          421.0\n        ],\n        \"semantic_type\": \"\",\n        \"description\": \"\"\n      }\n    },\n    {\n      \"column\": \"High\",\n      \"properties\": {\n        \"dtype\": \"number\",\n        \"std\": 148.71414278504963,\n        \"min\": 0.0,\n        \"max\": 421.0,\n        \"num_unique_values\": 8,\n        \"samples\": [\n          0.37443445311467743,\n          0.34920634920496346,\n          421.0\n        ],\n        \"semantic_type\": \"\",\n        \"description\": \"\"\n      }\n    },\n    {\n      \"column\": \"Low\",\n      \"properties\": {\n        \"dtype\": \"number\",\n        \"std\": 148.71437046526398,\n        \"min\": 0.0,\n        \"max\": 421.0,\n        \"num_unique_values\": 8,\n        \"samples\": [\n          0.3734568933777752,\n          0.3521126760549211,\n          421.0\n        ],\n        \"semantic_type\": \"\",\n        \"description\": \"\"\n      }\n    },\n    {\n      \"column\": \"Volume\",\n      \"properties\": {\n        \"dtype\": \"number\",\n        \"std\": 148.7698620704873,\n        \"min\": 0.0,\n        \"max\": 421.0,\n        \"num_unique_values\": 8,\n        \"samples\": [\n          0.11743882338746792,\n          0.1014177168194379,\n          421.0\n        ],\n        \"semantic_type\": \"\",\n        \"description\": \"\"\n      }\n    }\n  ]\n}"
            }
          },
          "metadata": {},
          "execution_count": 115
        }
      ]
    },
    {
      "cell_type": "code",
      "source": [
        "dfy.head()"
      ],
      "metadata": {
        "colab": {
          "base_uri": "https://localhost:8080/",
          "height": 237
        },
        "id": "pAV_k1gJZNQ-",
        "outputId": "9ef26ea6-8b17-4b5a-f8f8-feecb06c4396"
      },
      "execution_count": 116,
      "outputs": [
        {
          "output_type": "execute_result",
          "data": {
            "text/plain": [
              "               Close\n",
              "Date                \n",
              "2018-05-04  0.579158\n",
              "2018-05-08  0.607214\n",
              "2018-05-09  0.539078\n",
              "2018-05-10  0.567134\n",
              "2018-05-11  0.555110"
            ],
            "text/html": [
              "\n",
              "  <div id=\"df-a5f9d92d-1f7b-4b25-aae7-c94e509274c2\" class=\"colab-df-container\">\n",
              "    <div>\n",
              "<style scoped>\n",
              "    .dataframe tbody tr th:only-of-type {\n",
              "        vertical-align: middle;\n",
              "    }\n",
              "\n",
              "    .dataframe tbody tr th {\n",
              "        vertical-align: top;\n",
              "    }\n",
              "\n",
              "    .dataframe thead th {\n",
              "        text-align: right;\n",
              "    }\n",
              "</style>\n",
              "<table border=\"1\" class=\"dataframe\">\n",
              "  <thead>\n",
              "    <tr style=\"text-align: right;\">\n",
              "      <th></th>\n",
              "      <th>Close</th>\n",
              "    </tr>\n",
              "    <tr>\n",
              "      <th>Date</th>\n",
              "      <th></th>\n",
              "    </tr>\n",
              "  </thead>\n",
              "  <tbody>\n",
              "    <tr>\n",
              "      <th>2018-05-04</th>\n",
              "      <td>0.579158</td>\n",
              "    </tr>\n",
              "    <tr>\n",
              "      <th>2018-05-08</th>\n",
              "      <td>0.607214</td>\n",
              "    </tr>\n",
              "    <tr>\n",
              "      <th>2018-05-09</th>\n",
              "      <td>0.539078</td>\n",
              "    </tr>\n",
              "    <tr>\n",
              "      <th>2018-05-10</th>\n",
              "      <td>0.567134</td>\n",
              "    </tr>\n",
              "    <tr>\n",
              "      <th>2018-05-11</th>\n",
              "      <td>0.555110</td>\n",
              "    </tr>\n",
              "  </tbody>\n",
              "</table>\n",
              "</div>\n",
              "    <div class=\"colab-df-buttons\">\n",
              "\n",
              "  <div class=\"colab-df-container\">\n",
              "    <button class=\"colab-df-convert\" onclick=\"convertToInteractive('df-a5f9d92d-1f7b-4b25-aae7-c94e509274c2')\"\n",
              "            title=\"Convert this dataframe to an interactive table.\"\n",
              "            style=\"display:none;\">\n",
              "\n",
              "  <svg xmlns=\"http://www.w3.org/2000/svg\" height=\"24px\" viewBox=\"0 -960 960 960\">\n",
              "    <path d=\"M120-120v-720h720v720H120Zm60-500h600v-160H180v160Zm220 220h160v-160H400v160Zm0 220h160v-160H400v160ZM180-400h160v-160H180v160Zm440 0h160v-160H620v160ZM180-180h160v-160H180v160Zm440 0h160v-160H620v160Z\"/>\n",
              "  </svg>\n",
              "    </button>\n",
              "\n",
              "  <style>\n",
              "    .colab-df-container {\n",
              "      display:flex;\n",
              "      gap: 12px;\n",
              "    }\n",
              "\n",
              "    .colab-df-convert {\n",
              "      background-color: #E8F0FE;\n",
              "      border: none;\n",
              "      border-radius: 50%;\n",
              "      cursor: pointer;\n",
              "      display: none;\n",
              "      fill: #1967D2;\n",
              "      height: 32px;\n",
              "      padding: 0 0 0 0;\n",
              "      width: 32px;\n",
              "    }\n",
              "\n",
              "    .colab-df-convert:hover {\n",
              "      background-color: #E2EBFA;\n",
              "      box-shadow: 0px 1px 2px rgba(60, 64, 67, 0.3), 0px 1px 3px 1px rgba(60, 64, 67, 0.15);\n",
              "      fill: #174EA6;\n",
              "    }\n",
              "\n",
              "    .colab-df-buttons div {\n",
              "      margin-bottom: 4px;\n",
              "    }\n",
              "\n",
              "    [theme=dark] .colab-df-convert {\n",
              "      background-color: #3B4455;\n",
              "      fill: #D2E3FC;\n",
              "    }\n",
              "\n",
              "    [theme=dark] .colab-df-convert:hover {\n",
              "      background-color: #434B5C;\n",
              "      box-shadow: 0px 1px 3px 1px rgba(0, 0, 0, 0.15);\n",
              "      filter: drop-shadow(0px 1px 2px rgba(0, 0, 0, 0.3));\n",
              "      fill: #FFFFFF;\n",
              "    }\n",
              "  </style>\n",
              "\n",
              "    <script>\n",
              "      const buttonEl =\n",
              "        document.querySelector('#df-a5f9d92d-1f7b-4b25-aae7-c94e509274c2 button.colab-df-convert');\n",
              "      buttonEl.style.display =\n",
              "        google.colab.kernel.accessAllowed ? 'block' : 'none';\n",
              "\n",
              "      async function convertToInteractive(key) {\n",
              "        const element = document.querySelector('#df-a5f9d92d-1f7b-4b25-aae7-c94e509274c2');\n",
              "        const dataTable =\n",
              "          await google.colab.kernel.invokeFunction('convertToInteractive',\n",
              "                                                    [key], {});\n",
              "        if (!dataTable) return;\n",
              "\n",
              "        const docLinkHtml = 'Like what you see? Visit the ' +\n",
              "          '<a target=\"_blank\" href=https://colab.research.google.com/notebooks/data_table.ipynb>data table notebook</a>'\n",
              "          + ' to learn more about interactive tables.';\n",
              "        element.innerHTML = '';\n",
              "        dataTable['output_type'] = 'display_data';\n",
              "        await google.colab.output.renderOutput(dataTable, element);\n",
              "        const docLink = document.createElement('div');\n",
              "        docLink.innerHTML = docLinkHtml;\n",
              "        element.appendChild(docLink);\n",
              "      }\n",
              "    </script>\n",
              "  </div>\n",
              "\n",
              "\n",
              "<div id=\"df-4674911e-8cee-4501-aa7b-459c4d56d874\">\n",
              "  <button class=\"colab-df-quickchart\" onclick=\"quickchart('df-4674911e-8cee-4501-aa7b-459c4d56d874')\"\n",
              "            title=\"Suggest charts\"\n",
              "            style=\"display:none;\">\n",
              "\n",
              "<svg xmlns=\"http://www.w3.org/2000/svg\" height=\"24px\"viewBox=\"0 0 24 24\"\n",
              "     width=\"24px\">\n",
              "    <g>\n",
              "        <path d=\"M19 3H5c-1.1 0-2 .9-2 2v14c0 1.1.9 2 2 2h14c1.1 0 2-.9 2-2V5c0-1.1-.9-2-2-2zM9 17H7v-7h2v7zm4 0h-2V7h2v10zm4 0h-2v-4h2v4z\"/>\n",
              "    </g>\n",
              "</svg>\n",
              "  </button>\n",
              "\n",
              "<style>\n",
              "  .colab-df-quickchart {\n",
              "      --bg-color: #E8F0FE;\n",
              "      --fill-color: #1967D2;\n",
              "      --hover-bg-color: #E2EBFA;\n",
              "      --hover-fill-color: #174EA6;\n",
              "      --disabled-fill-color: #AAA;\n",
              "      --disabled-bg-color: #DDD;\n",
              "  }\n",
              "\n",
              "  [theme=dark] .colab-df-quickchart {\n",
              "      --bg-color: #3B4455;\n",
              "      --fill-color: #D2E3FC;\n",
              "      --hover-bg-color: #434B5C;\n",
              "      --hover-fill-color: #FFFFFF;\n",
              "      --disabled-bg-color: #3B4455;\n",
              "      --disabled-fill-color: #666;\n",
              "  }\n",
              "\n",
              "  .colab-df-quickchart {\n",
              "    background-color: var(--bg-color);\n",
              "    border: none;\n",
              "    border-radius: 50%;\n",
              "    cursor: pointer;\n",
              "    display: none;\n",
              "    fill: var(--fill-color);\n",
              "    height: 32px;\n",
              "    padding: 0;\n",
              "    width: 32px;\n",
              "  }\n",
              "\n",
              "  .colab-df-quickchart:hover {\n",
              "    background-color: var(--hover-bg-color);\n",
              "    box-shadow: 0 1px 2px rgba(60, 64, 67, 0.3), 0 1px 3px 1px rgba(60, 64, 67, 0.15);\n",
              "    fill: var(--button-hover-fill-color);\n",
              "  }\n",
              "\n",
              "  .colab-df-quickchart-complete:disabled,\n",
              "  .colab-df-quickchart-complete:disabled:hover {\n",
              "    background-color: var(--disabled-bg-color);\n",
              "    fill: var(--disabled-fill-color);\n",
              "    box-shadow: none;\n",
              "  }\n",
              "\n",
              "  .colab-df-spinner {\n",
              "    border: 2px solid var(--fill-color);\n",
              "    border-color: transparent;\n",
              "    border-bottom-color: var(--fill-color);\n",
              "    animation:\n",
              "      spin 1s steps(1) infinite;\n",
              "  }\n",
              "\n",
              "  @keyframes spin {\n",
              "    0% {\n",
              "      border-color: transparent;\n",
              "      border-bottom-color: var(--fill-color);\n",
              "      border-left-color: var(--fill-color);\n",
              "    }\n",
              "    20% {\n",
              "      border-color: transparent;\n",
              "      border-left-color: var(--fill-color);\n",
              "      border-top-color: var(--fill-color);\n",
              "    }\n",
              "    30% {\n",
              "      border-color: transparent;\n",
              "      border-left-color: var(--fill-color);\n",
              "      border-top-color: var(--fill-color);\n",
              "      border-right-color: var(--fill-color);\n",
              "    }\n",
              "    40% {\n",
              "      border-color: transparent;\n",
              "      border-right-color: var(--fill-color);\n",
              "      border-top-color: var(--fill-color);\n",
              "    }\n",
              "    60% {\n",
              "      border-color: transparent;\n",
              "      border-right-color: var(--fill-color);\n",
              "    }\n",
              "    80% {\n",
              "      border-color: transparent;\n",
              "      border-right-color: var(--fill-color);\n",
              "      border-bottom-color: var(--fill-color);\n",
              "    }\n",
              "    90% {\n",
              "      border-color: transparent;\n",
              "      border-bottom-color: var(--fill-color);\n",
              "    }\n",
              "  }\n",
              "</style>\n",
              "\n",
              "  <script>\n",
              "    async function quickchart(key) {\n",
              "      const quickchartButtonEl =\n",
              "        document.querySelector('#' + key + ' button');\n",
              "      quickchartButtonEl.disabled = true;  // To prevent multiple clicks.\n",
              "      quickchartButtonEl.classList.add('colab-df-spinner');\n",
              "      try {\n",
              "        const charts = await google.colab.kernel.invokeFunction(\n",
              "            'suggestCharts', [key], {});\n",
              "      } catch (error) {\n",
              "        console.error('Error during call to suggestCharts:', error);\n",
              "      }\n",
              "      quickchartButtonEl.classList.remove('colab-df-spinner');\n",
              "      quickchartButtonEl.classList.add('colab-df-quickchart-complete');\n",
              "    }\n",
              "    (() => {\n",
              "      let quickchartButtonEl =\n",
              "        document.querySelector('#df-4674911e-8cee-4501-aa7b-459c4d56d874 button');\n",
              "      quickchartButtonEl.style.display =\n",
              "        google.colab.kernel.accessAllowed ? 'block' : 'none';\n",
              "    })();\n",
              "  </script>\n",
              "</div>\n",
              "\n",
              "    </div>\n",
              "  </div>\n"
            ],
            "application/vnd.google.colaboratory.intrinsic+json": {
              "type": "dataframe",
              "variable_name": "dfy",
              "summary": "{\n  \"name\": \"dfy\",\n  \"rows\": 421,\n  \"fields\": [\n    {\n      \"column\": \"Close\",\n      \"properties\": {\n        \"dtype\": \"number\",\n        \"std\": 0.17256384251204232,\n        \"min\": 0.0,\n        \"max\": 0.999999999995992,\n        \"num_unique_values\": 205,\n        \"samples\": [\n          0.5310621242463684,\n          0.4829659318617917,\n          0.06012024048072096\n        ],\n        \"semantic_type\": \"\",\n        \"description\": \"\"\n      }\n    }\n  ]\n}"
            }
          },
          "metadata": {},
          "execution_count": 116
        }
      ]
    },
    {
      "cell_type": "code",
      "source": [
        "X = dfx.values.tolist()\n",
        "y = dfy.values.tolist()"
      ],
      "metadata": {
        "id": "FGxqCifkZQ5y"
      },
      "execution_count": 117,
      "outputs": []
    },
    {
      "cell_type": "code",
      "source": [
        "X[:5]"
      ],
      "metadata": {
        "colab": {
          "base_uri": "https://localhost:8080/"
        },
        "id": "9EaF5P7BZWD8",
        "outputId": "859ff228-505a-49b8-ea65-ade31e31ec6e"
      },
      "execution_count": 118,
      "outputs": [
        {
          "output_type": "execute_result",
          "data": {
            "text/plain": [
              "[[0.6334012219933466,\n",
              "  0.64682539682283,\n",
              "  0.6016096579452651,\n",
              "  0.5950598479352758],\n",
              " [0.6171079429710097,\n",
              "  0.6190476190451625,\n",
              "  0.6056338028144642,\n",
              "  0.3164647972944813],\n",
              " [0.6171079429710097,\n",
              "  0.6031746031722096,\n",
              "  0.5653923541224732,\n",
              "  0.19838973885875907],\n",
              " [0.5804480651707518,\n",
              "  0.5595238095215892,\n",
              "  0.5533199195148759,\n",
              "  0.16076499691679247],\n",
              " [0.5926680244375044,\n",
              "  0.5793650793627803,\n",
              "  0.5774647887300706,\n",
              "  0.10000013878410015]]"
            ]
          },
          "metadata": {},
          "execution_count": 118
        }
      ]
    },
    {
      "cell_type": "code",
      "source": [
        "y[:5]"
      ],
      "metadata": {
        "colab": {
          "base_uri": "https://localhost:8080/"
        },
        "id": "YAIU6lNIZXq6",
        "outputId": "02d1e8f8-b36b-4b93-ff4a-5104f31742d3"
      },
      "execution_count": 119,
      "outputs": [
        {
          "output_type": "execute_result",
          "data": {
            "text/plain": [
              "[[0.5791583166309452],\n",
              " [0.6072144288552817],\n",
              " [0.5390781563104646],\n",
              " [0.5671342685348011],\n",
              " [0.5551102204386569]]"
            ]
          },
          "metadata": {},
          "execution_count": 119
        }
      ]
    },
    {
      "cell_type": "markdown",
      "source": [
        "### **2-3 데이터 전처리 - 10일 동안의 OHLVC 데이터로 다음 날의 종가를 예측**\n",
        "\n",
        "10일간의 데이터를 가지고 종가를 예측한다는 것은 이런 의미입니다.\n",
        "\n",
        "6월 1일 ~ 6월 10일까지의 OHLV 데이터로 6월 11일 종가 예측<br>\n",
        "6월 2일 ~ 6월 11일까지의 OHLV 데이터로 6월 12일 종가 예측"
      ],
      "metadata": {
        "id": "A4L_gpdeZauG"
      }
    },
    {
      "cell_type": "code",
      "source": [
        "window_size = 10\n",
        "\n",
        "data_X = []\n",
        "data_y = []\n",
        "for i in range(len(y) - window_size):\n",
        "    _X = X[i : i + window_size] # 다음 날 종가(i+windows_size)는 포함되지 않음\n",
        "    _y = y[i + window_size]     # 다음 날 종가\n",
        "    data_X.append(_X)\n",
        "    data_y.append(_y)\n",
        "print(_X, \"->\", _y)\n"
      ],
      "metadata": {
        "colab": {
          "base_uri": "https://localhost:8080/"
        },
        "id": "EdXfaN_UZZ2C",
        "outputId": "a8668804-37d6-4d24-ac3a-b950a6f56255"
      },
      "execution_count": 120,
      "outputs": [
        {
          "output_type": "stream",
          "name": "stdout",
          "text": [
            "[[0.7637474541720417, 0.7857142857111677, 0.7665995975824281, 0.323174686971615], [0.8533604887948947, 0.8333333333300265, 0.8269617706204146, 0.33335345138624783], [0.8696537678172315, 0.8769841269806469, 0.8631790744432065, 0.19622106804249292], [0.9022403258619053, 0.8888888888853615, 0.8953722333967993, 0.117672127572782], [0.9348268839065791, 0.9285714285677438, 0.927565392350392, 0.21155713424914332], [0.898167006106321, 0.8730158730124087, 0.8873239436584011, 0.1674615836301646], [0.8818737270839841, 0.9166666666630291, 0.8913480885276002, 0.16882989330989187], [0.9959266802403425, 0.968253968250126, 0.9718309859115821, 0.19665250042066781], [0.9999999999959267, 0.9999999999960317, 0.9999999999959758, 0.13746944253371812], [0.9999999999959267, 0.9841269841230789, 0.9798792756499803, 0.11400880277083453]] -> [0.9959919839639438]\n"
          ]
        }
      ]
    },
    {
      "cell_type": "code",
      "source": [
        "data_X[0]"
      ],
      "metadata": {
        "colab": {
          "base_uri": "https://localhost:8080/"
        },
        "id": "tkrlQ8sWZuGN",
        "outputId": "fde5df77-bae4-404f-bf19-72919c8d10b3"
      },
      "execution_count": 121,
      "outputs": [
        {
          "output_type": "execute_result",
          "data": {
            "text/plain": [
              "[[0.6334012219933466,\n",
              "  0.64682539682283,\n",
              "  0.6016096579452651,\n",
              "  0.5950598479352758],\n",
              " [0.6171079429710097,\n",
              "  0.6190476190451625,\n",
              "  0.6056338028144642,\n",
              "  0.3164647972944813],\n",
              " [0.6171079429710097,\n",
              "  0.6031746031722096,\n",
              "  0.5653923541224732,\n",
              "  0.19838973885875907],\n",
              " [0.5804480651707518,\n",
              "  0.5595238095215892,\n",
              "  0.5533199195148759,\n",
              "  0.16076499691679247],\n",
              " [0.5926680244375044,\n",
              "  0.5793650793627803,\n",
              "  0.5774647887300706,\n",
              "  0.10000013878410015],\n",
              " [0.5519348268816622,\n",
              "  0.5357142857121598,\n",
              "  0.5251509054304823,\n",
              "  0.17775773908379244],\n",
              " [0.5193482688369884,\n",
              "  0.5079365079344923,\n",
              "  0.4929577464768895,\n",
              "  0.24207018961868487],\n",
              " [0.47861507128114616,\n",
              "  0.49999999999801586,\n",
              "  0.49496981891148906,\n",
              "  0.19484190950809502],\n",
              " [0.5234215885925726,\n",
              "  0.5119047619027305,\n",
              "  0.5050301810844868,\n",
              "  0.100853881024588],\n",
              " [0.5071283095702357,\n",
              "  0.4880952380933012,\n",
              "  0.5030181086498873,\n",
              "  0.03892790771899896]]"
            ]
          },
          "metadata": {},
          "execution_count": 121
        }
      ]
    },
    {
      "cell_type": "code",
      "source": [
        "# data_X[0]을 넣었을 때의 정답인 data_y[0]\n",
        "data_y[0]"
      ],
      "metadata": {
        "colab": {
          "base_uri": "https://localhost:8080/"
        },
        "id": "vBI1sfcIZyg0",
        "outputId": "8f5160f3-3954-4689-8f17-0e1ebef046b0"
      },
      "execution_count": 122,
      "outputs": [
        {
          "output_type": "execute_result",
          "data": {
            "text/plain": [
              "[0.503006012022032]"
            ]
          },
          "metadata": {},
          "execution_count": 122
        }
      ]
    },
    {
      "cell_type": "markdown",
      "source": [
        "### **2-4. 훈련 데이터와 테스트 데이터를 분리**"
      ],
      "metadata": {
        "id": "8Y_h1pOfZ2n_"
      }
    },
    {
      "cell_type": "code",
      "source": [
        "print('전체 데이터의 크기 :', len(data_X), len(data_y))"
      ],
      "metadata": {
        "colab": {
          "base_uri": "https://localhost:8080/"
        },
        "id": "1bXXaRP_Z5QA",
        "outputId": "d63347b7-5057-43cc-87d0-e9b3237c224e"
      },
      "execution_count": 123,
      "outputs": [
        {
          "output_type": "stream",
          "name": "stdout",
          "text": [
            "전체 데이터의 크기 : 411 411\n"
          ]
        }
      ]
    },
    {
      "cell_type": "code",
      "source": [
        "train_size = int(len(data_y) * 0.7)\n",
        "train_X = np.array(data_X[:train_size])\n",
        "train_y = np.array(data_y[:train_size])\n",
        "\n",
        "test_size = len(data_y) - train_size\n",
        "test_X = np.array(data_X[train_size:len(data_X)])\n",
        "test_y = np.array(data_y[train_size:len(data_y)])\n",
        "\n",
        "print(\"훈련 데이터의 크기:\", train_X.shape, train_y.shape)\n",
        "print(\"테스트 데이터의 크기:\", test_X.shape, test_y.shape)"
      ],
      "metadata": {
        "colab": {
          "base_uri": "https://localhost:8080/"
        },
        "id": "o4KfkWPtZ8d0",
        "outputId": "09f11bc0-e1c1-45a4-e030-8b4d6c66f5eb"
      },
      "execution_count": 124,
      "outputs": [
        {
          "output_type": "stream",
          "name": "stdout",
          "text": [
            "훈련 데이터의 크기: (287, 10, 4) (287, 1)\n",
            "테스트 데이터의 크기: (124, 10, 4) (124, 1)\n"
          ]
        }
      ]
    },
    {
      "cell_type": "markdown",
      "source": [
        "### **3. 모델 학습**\n",
        "\n",
        "* `input_shape`는 LSTM의 입력으로 들어갈 데이터의 크기를 말합니다.\n",
        "`input_shape(데이터의 길이, 입력의 차원)`\n",
        "\n",
        "* 데이터의 길이는 LSTM이 얼마나 펼쳐질 지를 결정하는 건데,<br> 우리는 10일치의 데이터를 다루고 있기 때문에 데이터의 길이는 10으로 해주어야 합니다.\n",
        "\n",
        "* 입력의 차원이라는 말은 이제 LSTM이 입력을 매 시점마다 받을 때, (여기서는 총 10번 받겠죠.),<br> 한 번 받을 때 데이터가 몇 차원인지를 물어보는 건데요.\n",
        "\n",
        "  * 우리는 4차원 데이터를(숫자 4개)를 10번 넣는 것이기 때문에 여기서는 입력의 차원이라는 건 4를 넣어주어야 합니다.\n",
        "\n",
        "  * 다시 말해서 input_shape(L, D)이라는 의미는 LSTM은 한 번에 'D'차원의 숫자를 입력받는데 그걸 'L'번 할거야. 이런 의미입니다."
      ],
      "metadata": {
        "id": "xnkG6xZjawk5"
      }
    },
    {
      "cell_type": "code",
      "source": [
        "from tensorflow.keras import Sequential\n",
        "from tensorflow.keras.layers import Dense, LSTM, Dropout"
      ],
      "metadata": {
        "id": "p0AeByT7azSG"
      },
      "execution_count": 125,
      "outputs": []
    },
    {
      "cell_type": "code",
      "source": [
        "model = Sequential()\n",
        "model.add(LSTM(units=20, activation='relu', return_sequences=True, input_shape=(10, 4)))\n",
        "model.add(Dropout(0.1))\n",
        "model.add(LSTM(units=20, activation='relu'))\n",
        "model.add(Dropout(0.1))\n",
        "model.add(Dense(units=1))\n",
        "model.summary()\n",
        "\n",
        "for layers in model.layers:\n",
        "  print(\"Layer Name:\", layer.name)\n",
        "  print(\"Input Shape:\", layer.input_shape)\n",
        "  print(\"Output Shape:\", layer.output_shape)\n",
        "  print()\n",
        "\n"
      ],
      "metadata": {
        "colab": {
          "base_uri": "https://localhost:8080/"
        },
        "id": "h9ihS-ztbcea",
        "outputId": "c1f3df1d-2251-4a2b-e91c-5305e4c32fa8"
      },
      "execution_count": 98,
      "outputs": [
        {
          "output_type": "stream",
          "name": "stdout",
          "text": [
            "Model: \"sequential_11\"\n",
            "_________________________________________________________________\n",
            " Layer (type)                Output Shape              Param #   \n",
            "=================================================================\n",
            " lstm_10 (LSTM)              (None, 10, 20)            2000      \n",
            "                                                                 \n",
            " dropout_10 (Dropout)        (None, 10, 20)            0         \n",
            "                                                                 \n",
            " lstm_11 (LSTM)              (None, 20)                3280      \n",
            "                                                                 \n",
            " dropout_11 (Dropout)        (None, 20)                0         \n",
            "                                                                 \n",
            " dense_11 (Dense)            (None, 1)                 21        \n",
            "                                                                 \n",
            "=================================================================\n",
            "Total params: 5301 (20.71 KB)\n",
            "Trainable params: 5301 (20.71 KB)\n",
            "Non-trainable params: 0 (0.00 Byte)\n",
            "_________________________________________________________________\n",
            "Layer Name: dense_5\n",
            "Input Shape: (None, 64)\n",
            "Output Shape: (None, 2)\n",
            "\n",
            "Layer Name: dense_5\n",
            "Input Shape: (None, 64)\n",
            "Output Shape: (None, 2)\n",
            "\n",
            "Layer Name: dense_5\n",
            "Input Shape: (None, 64)\n",
            "Output Shape: (None, 2)\n",
            "\n",
            "Layer Name: dense_5\n",
            "Input Shape: (None, 64)\n",
            "Output Shape: (None, 2)\n",
            "\n",
            "Layer Name: dense_5\n",
            "Input Shape: (None, 64)\n",
            "Output Shape: (None, 2)\n",
            "\n"
          ]
        }
      ]
    },
    {
      "cell_type": "code",
      "source": [
        "model.compile(optimizer='adam', loss='mean_squared_error')\n",
        "model.fit(train_X, train_y, epochs=70, batch_size=30)\n",
        "pred_y = model.predict(test_X)"
      ],
      "metadata": {
        "id": "9y61haDYbyLK"
      },
      "execution_count": null,
      "outputs": []
    },
    {
      "cell_type": "code",
      "source": [
        "pred_y = model.predict(test_X)\n",
        "\n",
        "plt.figure()\n",
        "plt.plot(test_y, color='red', label='real SEC stock price')\n",
        "plt.plot(pred_y, color='blue', label='predicted SEC stock price')\n",
        "plt.title('SEC stock price prediction')\n",
        "plt.xlabel('time')\n",
        "plt.ylabel('stock price')\n",
        "plt.legend()\n",
        "plt.show()\n",
        "\n",
        "print(\"내일 SEC 주가 :\", df.Close[-1] * pred_y[-1] / dfy.Close[-1], 'KRW')\n"
      ],
      "metadata": {
        "colab": {
          "base_uri": "https://localhost:8080/",
          "height": 507
        },
        "id": "nw6JW32bb56f",
        "outputId": "f9d2b88e-9575-4b40-aa62-db3e80352c7d"
      },
      "execution_count": 100,
      "outputs": [
        {
          "output_type": "stream",
          "name": "stdout",
          "text": [
            "4/4 [==============================] - 0s 3ms/step\n"
          ]
        },
        {
          "output_type": "display_data",
          "data": {
            "text/plain": [
              "<Figure size 640x480 with 1 Axes>"
            ],
            "image/png": "[encoded data removed]"
          },
          "metadata": {}
        },
        {
          "output_type": "stream",
          "name": "stdout",
          "text": [
            "내일 SEC 주가 : [58234.08] KRW\n"
          ]
        }
      ]
    },
    {
      "cell_type": "markdown",
      "source": [
        "### **Pytorch로 구현하기**\n",
        "\n",
        "*  torch의 모든 모듈은 nn.Module을 상속받아야 합니다."
      ],
      "metadata": {
        "id": "IXl0p5oraz-h"
      }
    },
    {
      "cell_type": "code",
      "source": [
        "import FinanceDataReader as fdr\n",
        "import numpy as np\n",
        "import matplotlib.pyplot as plt\n",
        "import torch\n",
        "import torch.nn as nn\n",
        "import torch.optim as optim\n",
        "\n",
        "df = fdr.DataReader('005930', '2018-05-04', '2020-01-22')\n",
        "df.head()\n",
        "\n",
        "def MinMaxScaler(data):\n",
        "    \"\"\"최솟값과 최댓값을 이용하여 0 ~ 1 값으로 변환\"\"\"\n",
        "    numerator = data - np.min(data, 0)\n",
        "    denominator = np.max(data, 0) - np.min(data, 0)\n",
        "    # 0으로 나누기 에러가 발생하지 않도록 매우 작은 값(1e-7)을 더해서 나눔\n",
        "    return numerator / (denominator + 1e-7)\n"
      ],
      "metadata": {
        "id": "st2-33-q9XBC"
      },
      "execution_count": 2,
      "outputs": []
    },
    {
      "cell_type": "code",
      "source": [
        "device = torch.device('cuda:0' if torch.cuda.is_available() else 'cpu')\n",
        "device"
      ],
      "metadata": {
        "colab": {
          "base_uri": "https://localhost:8080/"
        },
        "id": "Fm0k1CD90eVz",
        "outputId": "748d1253-3ac0-4ff8-b691-29354f4c0fb3"
      },
      "execution_count": 3,
      "outputs": [
        {
          "output_type": "execute_result",
          "data": {
            "text/plain": [
              "device(type='cpu')"
            ]
          },
          "metadata": {},
          "execution_count": 3
        }
      ]
    },
    {
      "cell_type": "code",
      "source": [
        "#넘파이 배열로 변경\n",
        "dfx = df[['Open','High','Low','Volume', 'Close']]\n",
        "dfx = MinMaxScaler(dfx)\n",
        "y = dfx[['Close']].values\n",
        "x = dfx[['Open','High','Low','Volume']].values\n",
        "\n",
        "#시퀀스 데이터 생성\n",
        "def seq_data(x, y, sequence_length):\n",
        "  x_seq = []\n",
        "  y_seq = []\n",
        "  for i in range(len(x) - sequence_length):\n",
        "    x_seq.append(x[ i : i + sequence_length])\n",
        "    y_seq.append(y[i + sequence_length])\n",
        "  #gpu용 텐서로 변환\n",
        "  return torch.FloatTensor(x_seq).to(device), torch.FloatTensor(y_seq).to(device).view(-1,1)\n"
      ],
      "metadata": {
        "id": "tWVeXPZN0ihi"
      },
      "execution_count": 4,
      "outputs": []
    },
    {
      "cell_type": "code",
      "source": [
        "x"
      ],
      "metadata": {
        "colab": {
          "base_uri": "https://localhost:8080/"
        },
        "id": "aaVJaatS59G7",
        "outputId": "248dc211-ca58-482d-92f2-503b709de8d0"
      },
      "execution_count": 176,
      "outputs": [
        {
          "output_type": "execute_result",
          "data": {
            "text/plain": [
              "array([[0.63340122, 0.6468254 , 0.60160966, 0.59505985],\n",
              "       [0.61710794, 0.61904762, 0.6056338 , 0.3164648 ],\n",
              "       [0.61710794, 0.6031746 , 0.56539235, 0.19838974],\n",
              "       ...,\n",
              "       [1.        , 1.        , 1.        , 0.13746944],\n",
              "       [1.        , 0.98412698, 0.97987928, 0.1140088 ],\n",
              "       [0.9389002 , 0.99206349, 0.94768612, 0.1850404 ]])"
            ]
          },
          "metadata": {},
          "execution_count": 176
        }
      ]
    },
    {
      "cell_type": "code",
      "source": [
        "split = 200\n",
        "sequence_length=5\n",
        "x_seq, y_seq = seq_data(x, y, sequence_length)\n",
        "\n",
        "#순서대로 200개는 학습, 나머지는 평가\n",
        "x_train_seq = x_seq[:split]\n",
        "y_train_seq = y_seq[:split]\n",
        "\n",
        "x_test_seq = x_seq[split:]\n",
        "y_test_seq = y_seq[split:]\n",
        "\n",
        "print(x_train_seq.size(), y_train_seq.size())\n",
        "print(x_test_seq.size(), y_test_seq.size())"
      ],
      "metadata": {
        "colab": {
          "base_uri": "https://localhost:8080/"
        },
        "id": "RZl_xrFU2kyT",
        "outputId": "616bc25d-e369-4c13-dac5-7b89caea4685"
      },
      "execution_count": 5,
      "outputs": [
        {
          "output_type": "stream",
          "name": "stdout",
          "text": [
            "torch.Size([200, 5, 4]) torch.Size([200, 1])\n",
            "torch.Size([216, 5, 4]) torch.Size([216, 1])\n"
          ]
        },
        {
          "output_type": "stream",
          "name": "stderr",
          "text": [
            "<ipython-input-4-b7e05d97e718>:15: UserWarning: Creating a tensor from a list of numpy.ndarrays is extremely slow. Please consider converting the list to a single numpy.ndarray with numpy.array() before converting to a tensor. (Triggered internally at ../torch/csrc/utils/tensor_new.cpp:261.)\n",
            "  return torch.FloatTensor(x_seq).to(device), torch.FloatTensor(y_seq).to(device).view(-1,1)\n"
          ]
        }
      ]
    },
    {
      "cell_type": "code",
      "source": [
        "x_train_seq"
      ],
      "metadata": {
        "colab": {
          "base_uri": "https://localhost:8080/"
        },
        "id": "in53qbhj-xYG",
        "outputId": "3ffbed94-c0f7-4451-ee88-c65113c1effc"
      },
      "execution_count": 6,
      "outputs": [
        {
          "output_type": "execute_result",
          "data": {
            "text/plain": [
              "tensor([[[0.6334, 0.6468, 0.6016, 0.5951],\n",
              "         [0.6171, 0.6190, 0.6056, 0.3165],\n",
              "         [0.6171, 0.6032, 0.5654, 0.1984],\n",
              "         [0.5804, 0.5595, 0.5533, 0.1608],\n",
              "         [0.5927, 0.5794, 0.5775, 0.1000]],\n",
              "\n",
              "        [[0.6171, 0.6190, 0.6056, 0.3165],\n",
              "         [0.6171, 0.6032, 0.5654, 0.1984],\n",
              "         [0.5804, 0.5595, 0.5533, 0.1608],\n",
              "         [0.5927, 0.5794, 0.5775, 0.1000],\n",
              "         [0.5519, 0.5357, 0.5252, 0.1778]],\n",
              "\n",
              "        [[0.6171, 0.6032, 0.5654, 0.1984],\n",
              "         [0.5804, 0.5595, 0.5533, 0.1608],\n",
              "         [0.5927, 0.5794, 0.5775, 0.1000],\n",
              "         [0.5519, 0.5357, 0.5252, 0.1778],\n",
              "         [0.5193, 0.5079, 0.4930, 0.2421]],\n",
              "\n",
              "        ...,\n",
              "\n",
              "        [[0.3890, 0.3829, 0.3984, 0.0616],\n",
              "         [0.3646, 0.3532, 0.3320, 0.3243],\n",
              "         [0.3483, 0.3373, 0.3199, 0.1442],\n",
              "         [0.2912, 0.2976, 0.2938, 0.1050],\n",
              "         [0.2668, 0.2659, 0.2757, 0.0981]],\n",
              "\n",
              "        [[0.3646, 0.3532, 0.3320, 0.3243],\n",
              "         [0.3483, 0.3373, 0.3199, 0.1442],\n",
              "         [0.2912, 0.2976, 0.2938, 0.1050],\n",
              "         [0.2668, 0.2659, 0.2757, 0.0981],\n",
              "         [0.2424, 0.2917, 0.2636, 0.1124]],\n",
              "\n",
              "        [[0.3483, 0.3373, 0.3199, 0.1442],\n",
              "         [0.2912, 0.2976, 0.2938, 0.1050],\n",
              "         [0.2668, 0.2659, 0.2757, 0.0981],\n",
              "         [0.2424, 0.2917, 0.2636, 0.1124],\n",
              "         [0.2851, 0.2857, 0.2797, 0.0562]]])"
            ]
          },
          "metadata": {},
          "execution_count": 6
        }
      ]
    },
    {
      "cell_type": "code",
      "source": [
        "train = torch.utils.data.TensorDataset(x_train_seq, y_train_seq)\n",
        "test = torch.utils.data.TensorDataset(x_test_seq, y_test_seq)\n",
        "\n",
        "batch_size = 20\n",
        "train_loader = torch.utils.data.DataLoader(dataset=train, batch_size = batch_size, shuffle=True)\n",
        "test_loader = torch.utils.data.DataLoader(dataset=test, batch_size = batch_size)"
      ],
      "metadata": {
        "id": "OnysnXEx6dOm"
      },
      "execution_count": 25,
      "outputs": []
    },
    {
      "cell_type": "code",
      "source": [
        "input_size"
      ],
      "metadata": {
        "colab": {
          "base_uri": "https://localhost:8080/"
        },
        "id": "katSJjrl68c2",
        "outputId": "49eda56f-b58b-4ec7-da9d-09bb3741d644"
      },
      "execution_count": 184,
      "outputs": [
        {
          "output_type": "execute_result",
          "data": {
            "text/plain": [
              "4"
            ]
          },
          "metadata": {},
          "execution_count": 184
        }
      ]
    },
    {
      "cell_type": "code",
      "source": [
        "#하이퍼 파라미터 정의\n",
        "input_size = x_seq.size(2)\n",
        "num_layers = 2\n",
        "hidden_size = 8\n",
        "\n",
        "class LSTM(nn.Module):\n",
        "  def __init__(self, input_size, hidden_size, sequence_length, num_layers, device):\n",
        "    super(LSTM, self).__init__()\n",
        "    self.device = device\n",
        "    self.hidden_size = hidden_size\n",
        "    self.num_layers = num_layers\n",
        "    self.lstm = nn.LSTM(input_size, hidden_size, num_layers, batch_first = True)\n",
        "    self.fc = nn.Linear(hidden_size*sequence_length ,1)\n",
        "\n",
        "  def forward(self, x):\n",
        "    h0 = torch.zeros(self.num_layers, x.size()[0], self.hidden_size).to(self.device)\n",
        "    c0 = torch.zeros(self.num_layers, x.size()[0], self.hidden_size).to(self.device)\n",
        "    out, _ = self.lstm(x,(h0,c0))\n",
        "    out = out.reshape(out.shape[0], -1)\n",
        "    out = self.fc(out)\n",
        "    return out"
      ],
      "metadata": {
        "id": "BGNk2vdMAtxz"
      },
      "execution_count": 31,
      "outputs": []
    },
    {
      "cell_type": "code",
      "source": [
        "model = LSTM(input_size = input_size,\n",
        "             hidden_size=hidden_size,\n",
        "             sequence_length=sequence_length,\n",
        "             num_layers = num_layers,\n",
        "             device=device).to(device)"
      ],
      "metadata": {
        "id": "vKCU2kjxAz53"
      },
      "execution_count": 32,
      "outputs": []
    },
    {
      "cell_type": "code",
      "source": [
        "criterion = nn.MSELoss()\n",
        "num_epochs = 400\n",
        "optimizer = optim.Adam(model.parameters(), lr=1e-3)\n"
      ],
      "metadata": {
        "id": "1hNsYxyXA1xj"
      },
      "execution_count": 33,
      "outputs": []
    },
    {
      "cell_type": "code",
      "source": [
        "loss_graph = []\n",
        "n = len(train_loader)\n",
        "\n",
        "for epoch in range(num_epochs):\n",
        "    running_loss = 0.0\n",
        "\n",
        "    for data in train_loader:\n",
        "\n",
        "        seq, target = data # 배치 데이터\n",
        "        out = model(seq)\n",
        "        loss = criterion(out, target)\n",
        "\n",
        "        optimizer.zero_grad()\n",
        "        loss.backward()\n",
        "        optimizer.step()\n",
        "        running_loss += loss.item()\n",
        "\n",
        "    loss_graph.append(running_loss/n)\n",
        "    if epoch % 100 == 0:\n",
        "        print('[epoch: %d] loss: %.4f' %(epoch, running_loss/n))\n"
      ],
      "metadata": {
        "colab": {
          "base_uri": "https://localhost:8080/"
        },
        "id": "BYTBagwUA48e",
        "outputId": "2c5c7f18-66d2-4724-f102-a7fd37ce643a"
      },
      "execution_count": 34,
      "outputs": [
        {
          "output_type": "stream",
          "name": "stdout",
          "text": [
            "[epoch: 0] loss: 0.1084\n",
            "[epoch: 100] loss: 0.0025\n",
            "[epoch: 200] loss: 0.0014\n",
            "[epoch: 300] loss: 0.0014\n"
          ]
        }
      ]
    },
    {
      "cell_type": "code",
      "source": [
        "concatdata = torch.utils.data.ConcatDataset([train, test])\n",
        "data_loader = torch.utils.data.DataLoader(dataset=concatdata, batch_size=100, shuffle=False)\n",
        "\n",
        "with torch.no_grad():\n",
        "    pred = []\n",
        "    model.eval()\n",
        "    for data in data_loader:\n",
        "        seq, target = data\n",
        "        out = model(seq)\n",
        "        pred += out.cpu().tolist()\n",
        "\n",
        "plt.figure(figsize=(20,10))\n",
        "plt.plot(np.ones(100)*len(train),np.linspace(0,1,100),'--', linewidth=0.6)\n",
        "plt.plot(df['Close'][sequence_length:].values,'--')\n",
        "plt.plot(pred,'b', linewidth=0.6)\n",
        "plt.legend(['train boundary','actual','prediction'])\n",
        "plt.show()"
      ],
      "metadata": {
        "colab": {
          "base_uri": "https://localhost:8080/",
          "height": 830
        },
        "id": "Q-DBse7hBDFC",
        "outputId": "99e87f40-9ec6-478b-c58b-c1519b14c948"
      },
      "execution_count": 35,
      "outputs": [
        {
          "output_type": "display_data",
          "data": {
            "text/plain": [
              "<Figure size 2000x1000 with 1 Axes>"
            ],
            "image/png": "[encoded data removed]"
          },
          "metadata": {}
        }
      ]
    },
    {
      "cell_type": "code",
      "source": [
        "import tensorflow as tf\n",
        "from tensorflow import keras\n",
        "from tensorflow.keras import layers\n",
        "from keras.models import Sequential             # Sequential 생성자를 불러옵니다.\n",
        "from keras.layers import Dense, Activation, Dropout\n",
        "\n",
        "model = Sequential([\n",
        "\n",
        "layers.Conv2D(64, 3, padding='same', activation='relu',input_shape=(8,8,3)), # [1] # in: 8행 8열 3차원 데이터,\n",
        "# conv2d(필터, 커널, 입력(가로, 세로, 채널))\n",
        "#  차원 = 3,  3* 3* 3* 64\n",
        "# 가중치 = (필터 크기)*(필터 수)*(입력 데이터의 채널 수)\n",
        "# 편향치 = (채널 수)\n",
        "# 파라미터 수 = (가중치) + (편향치)\n",
        "\n",
        " # {(3 * 3 * 3) * 64} +  64\n",
        "\n",
        "layers.MaxPooling2D(), # [2] # 8*8에서 2*2커널로 가장 높은 갚을 추출하여 4*4*3행렬로 변환합니다.\n",
        "\n",
        "layers.Conv2D(32, 3, activation='relu'), # [3] 4 * 4 * 32\n",
        " # ((3*3*32) * 32) + 32\n",
        "\n",
        "layers.Dropout(0.2), # [4]\n",
        "\n",
        "layers.Flatten(), # [5] (2 * 2 * 32) = 차원으로 변환: 128\n",
        "\n",
        "layers.Dense(64, activation='relu'), # [6] (128 * 64) + 64\n",
        "\n",
        "# 가중치 = (이전 Layer의 뉴런 수) * (Dense Layer의 뉴런 수)\n",
        "# 편향치 = (Dense Layer의 뉴런 수)\n",
        "# 파라미터 수 = (가중치) + (편향치)\n",
        "\n",
        "\n",
        "layers.Dropout(0.2), # [7]\n",
        "\n",
        "layers.Dense(64, activation='relu'), # [8] (none, 64) = 64 * 64\n",
        "\n",
        "layers.Dense(3, activation='softmax') # [9]\n",
        "\n",
        "])\n",
        "\n",
        "for layer in model.layers:\n",
        "  print(layer, \"input:\", layer.input.shape)\n",
        "  print(layer,\"output:\",layer.output.shape)\n",
        "  print(\"-\"*50)\n"
      ],
      "metadata": {
        "colab": {
          "base_uri": "https://localhost:8080/"
        },
        "id": "ePQ1-mI7IKgz",
        "outputId": "7ae71e36-2f04-4a1a-b6e7-83ac7e16045b"
      },
      "execution_count": 57,
      "outputs": [
        {
          "output_type": "stream",
          "name": "stdout",
          "text": [
            "<keras.src.layers.convolutional.conv2d.Conv2D object at 0x7858c097baf0> input: (None, 8, 8, 3)\n",
            "<keras.src.layers.convolutional.conv2d.Conv2D object at 0x7858c097baf0> output: (None, 8, 8, 64)\n",
            "--------------------------------------------------\n",
            "<keras.src.layers.pooling.max_pooling2d.MaxPooling2D object at 0x7858c3469e10> input: (None, 8, 8, 64)\n",
            "<keras.src.layers.pooling.max_pooling2d.MaxPooling2D object at 0x7858c3469e10> output: (None, 4, 4, 64)\n",
            "--------------------------------------------------\n",
            "<keras.src.layers.convolutional.conv2d.Conv2D object at 0x7858c0951720> input: (None, 4, 4, 64)\n",
            "<keras.src.layers.convolutional.conv2d.Conv2D object at 0x7858c0951720> output: (None, 2, 2, 32)\n",
            "--------------------------------------------------\n",
            "<keras.src.layers.regularization.dropout.Dropout object at 0x7858c0989b70> input: (None, 2, 2, 32)\n",
            "<keras.src.layers.regularization.dropout.Dropout object at 0x7858c0989b70> output: (None, 2, 2, 32)\n",
            "--------------------------------------------------\n",
            "<keras.src.layers.reshaping.flatten.Flatten object at 0x7858c09dcfa0> input: (None, 2, 2, 32)\n",
            "<keras.src.layers.reshaping.flatten.Flatten object at 0x7858c09dcfa0> output: (None, 128)\n",
            "--------------------------------------------------\n",
            "<keras.src.layers.core.dense.Dense object at 0x7858c3d864a0> input: (None, 128)\n",
            "<keras.src.layers.core.dense.Dense object at 0x7858c3d864a0> output: (None, 64)\n",
            "--------------------------------------------------\n",
            "<keras.src.layers.regularization.dropout.Dropout object at 0x7858c0b3be50> input: (None, 64)\n",
            "<keras.src.layers.regularization.dropout.Dropout object at 0x7858c0b3be50> output: (None, 64)\n",
            "--------------------------------------------------\n",
            "<keras.src.layers.core.dense.Dense object at 0x7858c09dfc40> input: (None, 64)\n",
            "<keras.src.layers.core.dense.Dense object at 0x7858c09dfc40> output: (None, 64)\n",
            "--------------------------------------------------\n",
            "<keras.src.layers.core.dense.Dense object at 0x7858c09dfbb0> input: (None, 64)\n",
            "<keras.src.layers.core.dense.Dense object at 0x7858c09dfbb0> output: (None, 3)\n",
            "--------------------------------------------------\n"
          ]
        }
      ]
    },
    {
      "cell_type": "code",
      "source": [
        "model.summary()"
      ],
      "metadata": {
        "colab": {
          "base_uri": "https://localhost:8080/"
        },
        "id": "9HLSGjK0Lmf6",
        "outputId": "2b5142e3-67a0-4290-d9bd-48fb8c44910b"
      },
      "execution_count": 54,
      "outputs": [
        {
          "output_type": "stream",
          "name": "stdout",
          "text": [
            "Model: \"sequential_7\"\n",
            "_________________________________________________________________\n",
            " Layer (type)                Output Shape              Param #   \n",
            "=================================================================\n",
            " conv2d_14 (Conv2D)          (None, 8, 8, 64)          1792      \n",
            "                                                                 \n",
            " max_pooling2d_7 (MaxPoolin  (None, 4, 4, 64)          0         \n",
            " g2D)                                                            \n",
            "                                                                 \n",
            " conv2d_15 (Conv2D)          (None, 2, 2, 32)          18464     \n",
            "                                                                 \n",
            " dropout_14 (Dropout)        (None, 2, 2, 32)          0         \n",
            "                                                                 \n",
            " flatten_7 (Flatten)         (None, 128)               0         \n",
            "                                                                 \n",
            " dense_21 (Dense)            (None, 64)                8256      \n",
            "                                                                 \n",
            " dropout_15 (Dropout)        (None, 64)                0         \n",
            "                                                                 \n",
            " dense_22 (Dense)            (None, 64)                4160      \n",
            "                                                                 \n",
            " dense_23 (Dense)            (None, 3)                 195       \n",
            "                                                                 \n",
            "=================================================================\n",
            "Total params: 32867 (128.39 KB)\n",
            "Trainable params: 32867 (128.39 KB)\n",
            "Non-trainable params: 0 (0.00 Byte)\n",
            "_________________________________________________________________\n"
          ]
        }
      ]
    },
    {
      "cell_type": "code",
      "source": [
        "model2 = Sequential([\n",
        "\n",
        "layers.Conv2D(64, 3, padding='same', activation='relu',input_shape=(22,22,3)), # [1] # in: 8행 8열 3차원 데이터,\n",
        "layers.Dense(3, activation='softmax') # [9]\n",
        "\n",
        " ])"
      ],
      "metadata": {
        "id": "CLkpDAnvM5S9"
      },
      "execution_count": 52,
      "outputs": []
    }
  ]
}