{
 "cells": [
  {
   "cell_type": "markdown",
   "metadata": {},
   "source": [
    "### **이미지 분석에서의 통계 분석**\n",
    "* 구간 척도: 이미지 픽셀 값의 분포를 확인하여 밝기 확인.\n",
    "    * 픽셀이 많이 분포한 구간을 파악하여 0~255 사이의 값 분포에 따라 밝고 어두움 파악 가능\n",
    "* 히스토그램: 픽셀 값의 분포를 확인"
   ]
  },
  {
   "cell_type": "markdown",
   "metadata": {},
   "source": [
    "**분산(Variance):** 데이터 집합 내 값들이 평균으로부터 얼마나 퍼져있는지를 나타내는 측도입니다. 분산은 각 데이터 포인트와 평균 간의 차이를 제곱하고, 그 제곱값들의 평균으로 계산됩니다. 분산은 제곱값을 사용하기 때문에 원래 데이터의 단위와는 다르게 제곱된 단위를 가지게 됩니다.\n",
    "\n",
    "**편차(Deviation):** 각 데이터 포인트가 평균으로부터 얼마나 떨어져 있는지를 나타내는 값입니다. 편차는 단순히 각 데이터 값에서 평균을 뺀 것입니다. 하지만 편차의 합은 항상 0이므로 편차를 단독으로 사용하면 데이터의 분포를 파악하는 데 한계가 있습니다.\n",
    "\n",
    "**표준편차(Standard Deviation):** 분산의 양의 제곱근으로, 데이터의 산포 정도를 나타내는 또 다른 측도입니다. 표준편차는 원래 데이터의 단위와 동일한 단위를 가지며, 분산보다 해석이 용이합니다. 표준편차는 분산과 달리 제곱을 하지 않기 때문에 원래 데이터의 단위를 그대로 유지하면서 데이터의 산포 정도를 표현할 수 있습니다."
   ]
  },
  {
   "cell_type": "code",
   "execution_count": 1,
   "metadata": {},
   "outputs": [
    {
     "name": "stdout",
     "output_type": "stream",
     "text": [
      "분산: 2.0\n",
      "표준편차: 1.4142135623730951\n"
     ]
    }
   ],
   "source": [
    "import numpy as np\n",
    "\n",
    "def calculate_variance(data):\n",
    "    mean = np.mean(data)\n",
    "    variance = np.mean((data - mean) ** 2)\n",
    "    return variance\n",
    "\n",
    "def calculate_standard_deviation(data):\n",
    "    variance = calculate_variance(data)\n",
    "    std_deviation = np.sqrt(variance)\n",
    "    return std_deviation\n",
    "\n",
    "# 예시 데이터\n",
    "data = np.array([1, 2, 3, 4, 5])\n",
    "\n",
    "# 분산 계산\n",
    "variance_result = calculate_variance(data)\n",
    "print(\"분산:\", variance_result)\n",
    "\n",
    "# 표준편차 계산\n",
    "std_deviation_result = calculate_standard_deviation(data)\n",
    "print(\"표준편차:\", std_deviation_result)\n"
   ]
  },
  {
   "cell_type": "code",
   "execution_count": null,
   "metadata": {},
   "outputs": [],
   "source": [
    "### OpenCV에서 기초 통계량 확인하기\n",
    "import cv2\n",
    "import numpy as np\n",
    "\n",
    "# 이미지 불러오기\n",
    "image = cv2.imread('your_image_path.jpg')\n",
    "\n",
    "# 이미지를 1차원 배열로 변환\n",
    "pixels = image.flatten()\n",
    "\n",
    "# 평균과 표준편차 계산\n",
    "mean, std_dev = cv2.meanStdDev(pixels)\n",
    "\n",
    "print(\"평균:\", mean)\n",
    "print(\"표준편차:\", std_dev)\n"
   ]
  },
  {
   "cell_type": "code",
   "execution_count": 3,
   "metadata": {},
   "outputs": [],
   "source": [
    "import cv2\n",
    "import mediapipe as mp\n",
    "\n",
    "# Mediapipe 초기화\n",
    "mp_drawing = mp.solutions.drawing_utils\n",
    "mp_face_mesh = mp.solutions.face_mesh\n",
    "\n",
    "def detect_eyes(image):\n",
    "    with mp_face_mesh.FaceMesh(static_image_mode=False, max_num_faces=1, min_detection_confidence=0.2) as face_mesh:\n",
    "        # 이미지를 BGR에서 RGB로 변환\n",
    "        image_rgb = cv2.cvtColor(image, cv2.COLOR_BGR2RGB)\n",
    "\n",
    "        # 미디어파이프에 이미지 전달\n",
    "        results = face_mesh.process(image_rgb)\n",
    "\n",
    "        # 결과에서 눈 좌표 추출\n",
    "        if results.multi_face_landmarks:\n",
    "            face_landmarks = results.multi_face_landmarks[0]\n",
    "            left_eye = [landmark for landmark in face_landmarks.landmark if 145 <= landmark.x * image.shape[1] <= 175 and 120 <= landmark.y * image.shape[0] <= 150]\n",
    "            right_eye = [landmark for landmark in face_landmarks.landmark if 260 <= landmark.x * image.shape[1] <= 290 and 120 <= landmark.y * image.shape[0] <= 150]\n",
    "\n",
    "            return left_eye, right_eye\n",
    "\n",
    "    return None, None\n",
    "\n",
    "# 웹캠에서 영상 읽기\n",
    "cap = cv2.VideoCapture(0)\n",
    "\n",
    "while cap.isOpened():\n",
    "    ret, frame = cap.read()\n",
    "    if not ret:\n",
    "        break\n",
    "\n",
    "    # 눈 좌표 추적\n",
    "    left_eye, right_eye = detect_eyes(frame)\n",
    "\n",
    "    # 결과 표시\n",
    "    if left_eye and right_eye:\n",
    "        for eye in [left_eye, right_eye]:\n",
    "            for landmark in eye:\n",
    "                x, y = int(landmark.x * frame.shape[1]), int(landmark.y * frame.shape[0])\n",
    "                cv2.circle(frame, (x, y), 5, (0, 255, 0), -1)\n",
    "\n",
    "    # 화면에 출력\n",
    "    cv2.imshow('Eye Tracking', frame)\n",
    "\n",
    "    # 종료 조건\n",
    "    if cv2.waitKey(1) & 0xFF == 27:  # ESC 키를 누르면 종료\n",
    "        break\n",
    "\n",
    "# 해제\n",
    "cap.release()\n",
    "cv2.destroyAllWindows()\n"
   ]
  }
 ],
 "metadata": {
  "kernelspec": {
   "display_name": "mp",
   "language": "python",
   "name": "python3"
  },
  "language_info": {
   "codemirror_mode": {
    "name": "ipython",
    "version": 3
   },
   "file_extension": ".py",
   "mimetype": "text/x-python",
   "name": "python",
   "nbconvert_exporter": "python",
   "pygments_lexer": "ipython3",
   "version": "3.7.1"
  }
 },
 "nbformat": 4,
 "nbformat_minor": 2
}
