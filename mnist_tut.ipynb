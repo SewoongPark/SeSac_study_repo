{
  "nbformat": 4,
  "nbformat_minor": 0,
  "metadata": {
    "colab": {
      "provenance": [],
      "authorship_tag": "ABX9TyNy9hMR2XGTYP3IdmdfevdC",
      "include_colab_link": true
    },
    "kernelspec": {
      "name": "python3",
      "display_name": "Python 3"
    },
    "language_info": {
      "name": "python"
    },
    "accelerator": "TPU"
  },
  "cells": [
    {
      "cell_type": "markdown",
      "metadata": {
        "id": "view-in-github",
        "colab_type": "text"
      },
      "source": [
        "<a href=\"https://colab.research.google.com/github/SewoongPark/SeSac_study_repo/blob/main/mnist_tut.ipynb\" target=\"_parent\"><img src=\"https://colab.research.google.com/assets/colab-badge.svg\" alt=\"Open In Colab\"/></a>"
      ]
    },
    {
      "cell_type": "code",
      "execution_count": 47,
      "metadata": {
        "id": "HSXGkNGgONkk"
      },
      "outputs": [],
      "source": [
        "import tensorflow as tf\n",
        "\n",
        "mnist = tf.keras.datasets.mnist\n",
        "\n",
        "(x_train, y_train), (x_test, y_test) = mnist.load_data()\n",
        "x_train, x_test = x_train / 255.0, x_test / 255.0"
      ]
    },
    {
      "cell_type": "code",
      "source": [
        "import matplotlib.pyplot as plt\n",
        "import numpy as np\n",
        "\n",
        "img = np.hstack(x_train[:10])\n",
        "plt.imshow(img, cmap = \"gray\")\n",
        "print(y_train[:10])"
      ],
      "metadata": {
        "colab": {
          "base_uri": "https://localhost:8080/",
          "height": 131
        },
        "id": "aDXx4JSEOsp_",
        "outputId": "6ec6720c-1b6d-48a1-f5ec-d3a7ce40a728"
      },
      "execution_count": 48,
      "outputs": [
        {
          "output_type": "stream",
          "name": "stdout",
          "text": [
            "[5 0 4 1 9 2 1 3 1 4]\n"
          ]
        },
        {
          "output_type": "display_data",
          "data": {
            "text/plain": [
              "<Figure size 640x480 with 1 Axes>"
            ],
            "image/png": "[encoded data removed]"
          },
          "metadata": {}
        }
      ]
    },
    {
      "cell_type": "markdown",
      "source": [
        "**10개의 라벨 중에서 분류하는 다항 분류 task**\n",
        "* 반드시 원핫인코딩 해주어야 함\n",
        "* loss함수를 `sparse_Categorical_crossentrophy`로 지정해줄 시 알아서 원핫인코딩 함"
      ],
      "metadata": {
        "id": "H2xpMRk1SxfN"
      }
    },
    {
      "cell_type": "code",
      "source": [
        "len(y_train), len(y_test), np.unique(y_train, return_counts = True)"
      ],
      "metadata": {
        "colab": {
          "base_uri": "https://localhost:8080/"
        },
        "id": "YQPEOPDzQI7u",
        "outputId": "95808a13-5606-4525-b419-44c6f8d1f3e7"
      },
      "execution_count": 49,
      "outputs": [
        {
          "output_type": "execute_result",
          "data": {
            "text/plain": [
              "(60000,\n",
              " 10000,\n",
              " (array([0, 1, 2, 3, 4, 5, 6, 7, 8, 9], dtype=uint8),\n",
              "  array([5923, 6742, 5958, 6131, 5842, 5421, 5918, 6265, 5851, 5949])))"
            ]
          },
          "metadata": {},
          "execution_count": 49
        }
      ]
    },
    {
      "cell_type": "code",
      "source": [
        "# 28 * 28 흑백 이미지 60000, 10000장\n",
        "np.shape(x_train), np.shape(x_test)"
      ],
      "metadata": {
        "colab": {
          "base_uri": "https://localhost:8080/"
        },
        "id": "l9CFQJnYQ0YV",
        "outputId": "c85bd889-0952-43ac-a4a7-f30531ed9f8a"
      },
      "execution_count": 50,
      "outputs": [
        {
          "output_type": "execute_result",
          "data": {
            "text/plain": [
              "((60000, 28, 28), (10000, 28, 28))"
            ]
          },
          "metadata": {},
          "execution_count": 50
        }
      ]
    },
    {
      "cell_type": "code",
      "source": [
        "model = tf.keras.models.Sequential([\n",
        "  tf.keras.layers.Flatten(input_shape=(28, 28)),\n",
        "  tf.keras.layers.Dense(100, activation='relu'), # parameter 계산: w(28 * 28) + b(1) * 100\n",
        "  tf.keras.layers.Dropout(0.2),\n",
        "  tf.keras.layers.Dense(10, activation='softmax')\n",
        "])\n",
        "\n",
        "model.compile(optimizer='adam',\n",
        "              loss='sparse_categorical_crossentropy',\n",
        "              metrics=['accuracy'])"
      ],
      "metadata": {
        "id": "alIT70PjRNFF"
      },
      "execution_count": 51,
      "outputs": []
    },
    {
      "cell_type": "markdown",
      "source": [
        "**모델 구조 및 결과 시각화**"
      ],
      "metadata": {
        "id": "29pye7qtUUbc"
      }
    },
    {
      "cell_type": "code",
      "source": [
        "model.summary()"
      ],
      "metadata": {
        "colab": {
          "base_uri": "https://localhost:8080/"
        },
        "id": "LWokkFC1TgRh",
        "outputId": "9c09426c-a752-4d61-f8d1-8fcdf24d0279"
      },
      "execution_count": 52,
      "outputs": [
        {
          "output_type": "stream",
          "name": "stdout",
          "text": [
            "Model: \"sequential_4\"\n",
            "_________________________________________________________________\n",
            " Layer (type)                Output Shape              Param #   \n",
            "=================================================================\n",
            " flatten_4 (Flatten)         (None, 784)               0         \n",
            "                                                                 \n",
            " dense_8 (Dense)             (None, 100)               78500     \n",
            "                                                                 \n",
            " dropout_3 (Dropout)         (None, 100)               0         \n",
            "                                                                 \n",
            " dense_9 (Dense)             (None, 10)                1010      \n",
            "                                                                 \n",
            "=================================================================\n",
            "Total params: 79,510\n",
            "Trainable params: 79,510\n",
            "Non-trainable params: 0\n",
            "_________________________________________________________________\n"
          ]
        }
      ]
    },
    {
      "cell_type": "code",
      "source": [
        "model.weights[:10] #78500개의 params"
      ],
      "metadata": {
        "colab": {
          "base_uri": "https://localhost:8080/"
        },
        "id": "mQ6-jMC2Wnm3",
        "outputId": "43cdb7c1-3493-4c9c-936c-f825dac0d8f3"
      },
      "execution_count": 53,
      "outputs": [
        {
          "output_type": "execute_result",
          "data": {
            "text/plain": [
              "[<tf.Variable 'dense_8/kernel:0' shape=(784, 100) dtype=float32, numpy=\n",
              " array([[ 0.04230648,  0.02210847, -0.00073674, ..., -0.07818484,\n",
              "          0.05496535, -0.06170717],\n",
              "        [-0.02227657, -0.07511667, -0.0535548 , ..., -0.06327952,\n",
              "          0.01621638,  0.0422317 ],\n",
              "        [ 0.03436336, -0.06436048,  0.04342419, ..., -0.06755383,\n",
              "         -0.01280735,  0.01866252],\n",
              "        ...,\n",
              "        [-0.02037691,  0.04445022,  0.03642219, ..., -0.02515654,\n",
              "          0.00991421, -0.01787248],\n",
              "        [ 0.04946189, -0.01632593,  0.02596191, ...,  0.05174957,\n",
              "          0.05225632, -0.0151009 ],\n",
              "        [ 0.0268011 , -0.05688671, -0.04977157, ..., -0.0423766 ,\n",
              "         -0.04791133, -0.03807449]], dtype=float32)>,\n",
              " <tf.Variable 'dense_8/bias:0' shape=(100,) dtype=float32, numpy=\n",
              " array([0., 0., 0., 0., 0., 0., 0., 0., 0., 0., 0., 0., 0., 0., 0., 0., 0.,\n",
              "        0., 0., 0., 0., 0., 0., 0., 0., 0., 0., 0., 0., 0., 0., 0., 0., 0.,\n",
              "        0., 0., 0., 0., 0., 0., 0., 0., 0., 0., 0., 0., 0., 0., 0., 0., 0.,\n",
              "        0., 0., 0., 0., 0., 0., 0., 0., 0., 0., 0., 0., 0., 0., 0., 0., 0.,\n",
              "        0., 0., 0., 0., 0., 0., 0., 0., 0., 0., 0., 0., 0., 0., 0., 0., 0.,\n",
              "        0., 0., 0., 0., 0., 0., 0., 0., 0., 0., 0., 0., 0., 0., 0.],\n",
              "       dtype=float32)>,\n",
              " <tf.Variable 'dense_9/kernel:0' shape=(100, 10) dtype=float32, numpy=\n",
              " array([[-0.21101311, -0.17424428, -0.14788559,  0.22785932,  0.21428263,\n",
              "         -0.06818244,  0.12498096,  0.05912873, -0.18619749, -0.14242318],\n",
              "        [ 0.15028161,  0.18083826,  0.0031572 , -0.16736281,  0.19311929,\n",
              "          0.191464  , -0.04892644,  0.07220232, -0.08529052,  0.2119365 ],\n",
              "        [-0.22210497,  0.13885945,  0.16606617,  0.17238644, -0.08120753,\n",
              "         -0.07076822,  0.23034054,  0.04973623, -0.00251736,  0.10139102],\n",
              "        [ 0.10591981,  0.16122001, -0.22172643,  0.14918706, -0.15593846,\n",
              "          0.17765546,  0.17694098, -0.01460627,  0.17831981, -0.23279607],\n",
              "        [ 0.03664032, -0.17025986, -0.15182541, -0.00143109, -0.06908505,\n",
              "         -0.0067935 ,  0.0191924 ,  0.05561331,  0.0396387 ,  0.08149737],\n",
              "        [-0.18198577, -0.02871679, -0.18802483, -0.12398312, -0.1283282 ,\n",
              "          0.14793026, -0.2181613 ,  0.1287325 ,  0.08360964, -0.0576131 ],\n",
              "        [ 0.09629998,  0.15107125,  0.22448015,  0.12517947, -0.01665972,\n",
              "         -0.086697  ,  0.10655236,  0.19400224,  0.20549491, -0.09230809],\n",
              "        [ 0.09214461, -0.12579459, -0.07811336, -0.03110491, -0.04193577,\n",
              "          0.21390587,  0.05128399,  0.02650681,  0.15092507,  0.0468888 ],\n",
              "        [-0.23038553,  0.04355797,  0.09161645,  0.06556898,  0.10932902,\n",
              "          0.01718399, -0.20116575, -0.19673854, -0.06590585, -0.17408669],\n",
              "        [-0.11856771, -0.21952742, -0.01865283, -0.08838202,  0.0412612 ,\n",
              "          0.20785066,  0.21244961,  0.1388193 ,  0.11678743, -0.17679566],\n",
              "        [ 0.13275102,  0.19428757, -0.11965686, -0.18736398, -0.05007145,\n",
              "         -0.15285988, -0.14895558, -0.17882718,  0.05788928, -0.13406762],\n",
              "        [ 0.08508855, -0.05540022,  0.11886516,  0.11149779, -0.16020498,\n",
              "         -0.1285467 ,  0.18061522,  0.18254283,  0.17005518,  0.05056891],\n",
              "        [-0.07817529,  0.22697017,  0.20078555,  0.13591847,  0.18351626,\n",
              "         -0.17713393, -0.22710682, -0.02083743,  0.0002709 , -0.04975767],\n",
              "        [ 0.07519817,  0.14266735,  0.02003264,  0.02650958,  0.19591016,\n",
              "          0.20852873, -0.02588148, -0.10156292,  0.16586739, -0.17365533],\n",
              "        [ 0.07111567,  0.03918034, -0.05053885, -0.17224099, -0.01055764,\n",
              "         -0.22542538, -0.1431514 ,  0.20695052, -0.05816308, -0.13803624],\n",
              "        [ 0.14336312,  0.02866951, -0.22438745,  0.18122065,  0.07031286,\n",
              "          0.2293672 ,  0.20864826,  0.0202516 ,  0.1465491 , -0.02279645],\n",
              "        [-0.01121926,  0.163973  , -0.16657817, -0.18314971,  0.22739491,\n",
              "          0.12221175, -0.05696546, -0.06715815,  0.10070211,  0.16830975],\n",
              "        [-0.1860266 ,  0.05830458,  0.07003856,  0.06131455, -0.09362726,\n",
              "          0.00260015,  0.10696959,  0.17157832,  0.10686624,  0.07651991],\n",
              "        [-0.007624  , -0.17211464,  0.13616726,  0.10819471, -0.19263802,\n",
              "          0.10592154,  0.1883421 , -0.04581128,  0.0765242 ,  0.00978805],\n",
              "        [-0.02757919, -0.21692431,  0.11622396,  0.02628848, -0.1583925 ,\n",
              "         -0.10352929,  0.13879713, -0.0657015 ,  0.1490295 ,  0.06970629],\n",
              "        [-0.19729091, -0.08784485,  0.02167574, -0.15811649,  0.03966478,\n",
              "          0.01330775, -0.02904019,  0.15917173, -0.16874245, -0.14264753],\n",
              "        [-0.16852857,  0.098555  ,  0.02631649, -0.21315366, -0.0909639 ,\n",
              "         -0.18319036,  0.03193718, -0.01478617, -0.21834478, -0.01388134],\n",
              "        [ 0.0096969 , -0.17324795, -0.09832875,  0.07277435,  0.04981592,\n",
              "          0.07999977, -0.00914152,  0.0508416 , -0.06715888,  0.17381749],\n",
              "        [-0.04833165,  0.05648944,  0.21082512, -0.1570808 , -0.00129919,\n",
              "         -0.20652403, -0.09483646, -0.18788546, -0.09026331, -0.06766586],\n",
              "        [-0.12495283, -0.03625844,  0.14710915,  0.12641785,  0.13476303,\n",
              "          0.22172478, -0.08535583,  0.05964088,  0.11827576, -0.1388261 ],\n",
              "        [-0.18281356,  0.09326461,  0.15852815,  0.14987707, -0.10502125,\n",
              "          0.02755117, -0.07469679, -0.11582178, -0.05022864,  0.06420758],\n",
              "        [-0.01294431,  0.09051099, -0.06239279,  0.1886757 ,  0.03960156,\n",
              "         -0.09047741, -0.21976964,  0.17239535,  0.02071369,  0.00784785],\n",
              "        [ 0.1315893 ,  0.14714205, -0.21230634, -0.19162254,  0.21074271,\n",
              "          0.10226217,  0.05397525,  0.08092177, -0.04885545,  0.19648531],\n",
              "        [ 0.06877115, -0.17695741,  0.14205307, -0.11942851,  0.09613341,\n",
              "          0.02354553, -0.11219027, -0.17872389, -0.00646569, -0.08797464],\n",
              "        [ 0.06553054,  0.19236985, -0.11265834,  0.07665598, -0.17178461,\n",
              "          0.23245329,  0.1743722 ,  0.04054743, -0.23107621, -0.04468226],\n",
              "        [ 0.19823274, -0.01921427, -0.0037853 ,  0.06479454,  0.15513358,\n",
              "          0.16204569,  0.01429105,  0.12930432,  0.1294952 ,  0.1932807 ],\n",
              "        [-0.13092646,  0.17055893, -0.20412657, -0.03213146, -0.04608892,\n",
              "          0.22655162,  0.13992918, -0.0271437 , -0.04199146,  0.08314592],\n",
              "        [ 0.17757177, -0.14961699, -0.20718192,  0.22833419, -0.04976892,\n",
              "         -0.21463755, -0.16360155,  0.00136784, -0.20584698, -0.21504691],\n",
              "        [-0.18092936,  0.0802238 ,  0.17540464,  0.11198309, -0.20496514,\n",
              "          0.01709628, -0.10357417, -0.13761294,  0.20832002, -0.12608853],\n",
              "        [-0.04232723,  0.1540266 ,  0.11509451, -0.10382424,  0.12477353,\n",
              "          0.11892864, -0.04502749,  0.15239537, -0.01870567, -0.1770817 ],\n",
              "        [ 0.16465005, -0.18639684, -0.17508921, -0.04978473, -0.00581315,\n",
              "          0.19762412,  0.01311453,  0.04457882,  0.22588268, -0.1016681 ],\n",
              "        [-0.08316311, -0.07884331,  0.14121789, -0.08300631,  0.18287358,\n",
              "         -0.10808079, -0.15865873,  0.05447683, -0.05667256, -0.0923906 ],\n",
              "        [ 0.05254185, -0.0248023 , -0.08551453,  0.183471  ,  0.00403982,\n",
              "          0.16165906, -0.11235543, -0.18351549,  0.14969823,  0.21087769],\n",
              "        [-0.02051342,  0.09670499, -0.06349273, -0.19061562, -0.07367519,\n",
              "          0.06415853,  0.09724063,  0.09589583,  0.0261848 , -0.14422858],\n",
              "        [-0.16202924, -0.13901636, -0.06991577,  0.15932769,  0.22033978,\n",
              "          0.17213207,  0.0168035 , -0.10322337, -0.20183305, -0.01997329],\n",
              "        [-0.01313202, -0.1100373 ,  0.11283657, -0.15571305,  0.18372902,\n",
              "          0.206054  , -0.06970368,  0.04504582, -0.1734615 ,  0.14192465],\n",
              "        [-0.08362415, -0.04670554,  0.07852831, -0.03916474,  0.17954448,\n",
              "         -0.0534285 ,  0.08120152, -0.13184533,  0.18583995,  0.14790443],\n",
              "        [-0.03305474, -0.16133428,  0.1432684 ,  0.12940603,  0.1913884 ,\n",
              "          0.1553503 , -0.14050454, -0.00314935, -0.00531468, -0.2210883 ],\n",
              "        [-0.18937981,  0.22547466, -0.19640985, -0.14992435,  0.23008382,\n",
              "          0.23023874,  0.10347995, -0.12026875, -0.22864193,  0.12434477],\n",
              "        [ 0.20569524,  0.0740546 ,  0.15033814,  0.1486533 ,  0.12602472,\n",
              "         -0.14552699,  0.10871485, -0.22730772,  0.08680448,  0.00064141],\n",
              "        [ 0.16051629,  0.07150719, -0.0649201 ,  0.00841114,  0.17462799,\n",
              "          0.08326706, -0.10236324,  0.08104226,  0.01598485, -0.01261072],\n",
              "        [-0.06838155, -0.18743204,  0.07569703, -0.20462537,  0.22309628,\n",
              "         -0.00985537,  0.07094842, -0.11205307, -0.03606895,  0.23031303],\n",
              "        [-0.15148431, -0.01094525, -0.18454628,  0.07424766,  0.01869777,\n",
              "          0.15043011, -0.1090932 , -0.12890078, -0.20884249, -0.15047996],\n",
              "        [-0.17378707, -0.07904077, -0.05595955, -0.05970837,  0.10343564,\n",
              "          0.02298912, -0.07998496, -0.12363633, -0.07781206, -0.01504031],\n",
              "        [-0.18170898, -0.17628154, -0.02784491, -0.05621062, -0.19622682,\n",
              "          0.14946368, -0.22042641,  0.14950645,  0.05548069, -0.05238006],\n",
              "        [-0.07455897, -0.1635858 ,  0.19214913, -0.07943816,  0.07069695,\n",
              "         -0.09304325, -0.00108865, -0.19068734,  0.22436753,  0.05746216],\n",
              "        [-0.20209503, -0.14205942,  0.10240886,  0.17980748,  0.04339579,\n",
              "         -0.01116063, -0.21181895,  0.04421604,  0.21847013, -0.00028069],\n",
              "        [ 0.14649224,  0.03217986, -0.08560462, -0.07693584,  0.06016374,\n",
              "          0.0330857 , -0.04891075,  0.12497717,  0.0263716 ,  0.12196892],\n",
              "        [-0.13010916, -0.0788957 , -0.1003418 ,  0.20961955,  0.2045095 ,\n",
              "          0.02362123, -0.16388759,  0.13174438,  0.05488199,  0.1382975 ],\n",
              "        [ 0.14968053,  0.03034785,  0.05418321, -0.20547658,  0.1708492 ,\n",
              "         -0.13990796,  0.15444633, -0.08172677,  0.07466027, -0.00307919],\n",
              "        [-0.10008922, -0.0991704 , -0.03281447, -0.07742268,  0.02021462,\n",
              "         -0.18650103,  0.17621282,  0.06010678, -0.00476141,  0.1722064 ],\n",
              "        [ 0.0906007 ,  0.00112696,  0.2041117 , -0.0156702 ,  0.14238015,\n",
              "         -0.05479918, -0.13679652, -0.08584411,  0.01055074, -0.07596664],\n",
              "        [ 0.03722396, -0.05635233,  0.02724537, -0.21205415, -0.1217429 ,\n",
              "         -0.18853483, -0.0320161 , -0.01519705, -0.08991802,  0.14809713],\n",
              "        [ 0.18111956, -0.07027248, -0.06336044, -0.02921125, -0.21718022,\n",
              "         -0.07066867,  0.17697111, -0.1922669 , -0.1306457 ,  0.07793769],\n",
              "        [ 0.08581951,  0.18328881, -0.138468  , -0.07665704,  0.16948926,\n",
              "         -0.11315737,  0.07794797,  0.17372003, -0.19133255, -0.02119741],\n",
              "        [ 0.12274447,  0.22177461, -0.11396554,  0.00357014, -0.05535288,\n",
              "          0.15778735,  0.20874465, -0.02031545,  0.08937883,  0.09028178],\n",
              "        [ 0.13743475, -0.2192137 ,  0.01529182,  0.05184072, -0.01766385,\n",
              "          0.16125286,  0.01564786, -0.01810792,  0.08354175, -0.20022978],\n",
              "        [-0.01497906, -0.15780026,  0.032682  ,  0.17790586, -0.13313094,\n",
              "          0.06653044, -0.06694132,  0.05986062, -0.05968294, -0.09931156],\n",
              "        [-0.03314438, -0.0880198 ,  0.22610414, -0.06479922, -0.09114388,\n",
              "          0.08178195,  0.13076109, -0.21579958,  0.07160631, -0.01312122],\n",
              "        [-0.05222347, -0.18395716, -0.16233896, -0.19702263, -0.17131348,\n",
              "         -0.00812609,  0.04949012,  0.16870308, -0.08979474,  0.02023727],\n",
              "        [-0.08597492, -0.21543843,  0.05968761,  0.00717136, -0.12324978,\n",
              "         -0.10812244, -0.0925381 ,  0.12091583, -0.04702505,  0.00607932],\n",
              "        [-0.04381301,  0.07037422,  0.20192882, -0.21088454, -0.14391191,\n",
              "          0.01673433, -0.15361172, -0.03395547, -0.01578763, -0.02419364],\n",
              "        [-0.09377782, -0.03248121,  0.02886531,  0.18177435,  0.11966822,\n",
              "          0.12911049, -0.0215231 ,  0.10632858,  0.05989859,  0.11548617],\n",
              "        [ 0.12826696,  0.06127316,  0.12494338,  0.2145161 , -0.21882927,\n",
              "          0.14287382, -0.06591499, -0.05539855, -0.19435327,  0.06315753],\n",
              "        [-0.07325366,  0.13927379, -0.0264392 ,  0.2073307 , -0.01600997,\n",
              "         -0.04427601,  0.07143858,  0.19576299,  0.11831486, -0.13505682],\n",
              "        [ 0.08025953,  0.0507952 ,  0.02855903, -0.04378161, -0.06388274,\n",
              "         -0.10542455, -0.17743434,  0.21767268, -0.01142484,  0.06634581],\n",
              "        [-0.20244339,  0.09453121,  0.19279945,  0.21119264, -0.19717637,\n",
              "          0.19158828, -0.10025081,  0.21011585,  0.10173202,  0.18833905],\n",
              "        [ 0.2080513 ,  0.07819644, -0.15492092,  0.04931802, -0.16794592,\n",
              "          0.1817053 ,  0.00205496, -0.03919023,  0.19301894,  0.1266138 ],\n",
              "        [ 0.03160304, -0.02509414, -0.21458909, -0.2085516 ,  0.21253079,\n",
              "          0.11450607, -0.06928863,  0.06485859, -0.05029513,  0.22957745],\n",
              "        [-0.06792106,  0.00735533,  0.01911309,  0.17524034, -0.18034025,\n",
              "          0.01353388,  0.04561317,  0.04332167, -0.18626988,  0.03307986],\n",
              "        [-0.02088203,  0.13072479,  0.16874272, -0.1402724 ,  0.03524384,\n",
              "          0.21117875, -0.19523945, -0.21509291, -0.09986922,  0.0849784 ],\n",
              "        [-0.0789452 ,  0.00235581, -0.13977715, -0.02226658,  0.15873018,\n",
              "          0.17923972,  0.09110951,  0.02492592, -0.07619983, -0.17389014],\n",
              "        [ 0.18477279, -0.2207423 , -0.22469643,  0.15891308,  0.11108342,\n",
              "          0.07667381,  0.1334736 ,  0.13536936, -0.15016586, -0.13743898],\n",
              "        [-0.1167122 ,  0.07106367, -0.2184763 ,  0.14247972, -0.2297988 ,\n",
              "         -0.0099723 ,  0.18416709,  0.1063377 , -0.2221406 , -0.12968135],\n",
              "        [-0.01193245, -0.03173846, -0.02172317,  0.05086532, -0.01589231,\n",
              "         -0.20912257,  0.00291421, -0.14767885,  0.20409876, -0.07878435],\n",
              "        [ 0.16607714, -0.1627951 ,  0.07824188,  0.14835995,  0.17214715,\n",
              "          0.21049109, -0.22150733, -0.04338169, -0.22753757,  0.19390568],\n",
              "        [ 0.03472829,  0.20103207, -0.07511285,  0.09657297, -0.204146  ,\n",
              "         -0.22417413, -0.10519375, -0.1847473 , -0.10139531, -0.15261105],\n",
              "        [ 0.04700074, -0.14538188,  0.17648143,  0.01373105, -0.00108916,\n",
              "          0.05301365, -0.08901919,  0.1856581 , -0.08048344, -0.14548829],\n",
              "        [-0.19885787,  0.15250775, -0.07608825,  0.02459902,  0.04234722,\n",
              "          0.02682921,  0.22188067,  0.06036896, -0.13959506,  0.21440339],\n",
              "        [-0.07178932, -0.06461607, -0.12725553,  0.11625272,  0.07197028,\n",
              "         -0.22018625, -0.12270448,  0.07559952,  0.06783286, -0.0428654 ],\n",
              "        [-0.11849465,  0.19372237,  0.104352  , -0.23256978, -0.22780809,\n",
              "         -0.04300261, -0.20283723,  0.19267684, -0.08849967,  0.19459689],\n",
              "        [ 0.23090258,  0.21870765, -0.18737769, -0.0042282 , -0.01593915,\n",
              "          0.2103321 ,  0.22147876,  0.00294037,  0.05058563, -0.03722838],\n",
              "        [ 0.02066153, -0.1639308 ,  0.08243418,  0.01296441,  0.0657931 ,\n",
              "         -0.21942964,  0.0427435 ,  0.02373987,  0.21499541, -0.13133484],\n",
              "        [ 0.19850439, -0.16625711,  0.16153741, -0.1347366 ,  0.15667859,\n",
              "          0.03271776,  0.07239437, -0.14212173, -0.15880483, -0.06058866],\n",
              "        [-0.18477029, -0.12160018,  0.16374281,  0.05947468, -0.09531127,\n",
              "          0.00409183, -0.04846489,  0.07995981,  0.12040931, -0.15292057],\n",
              "        [-0.12334789,  0.01181696, -0.05803584, -0.15509176, -0.18499514,\n",
              "          0.05976814, -0.07669023, -0.1531916 , -0.1483917 ,  0.1178259 ],\n",
              "        [ 0.08757722,  0.16798538,  0.18529266,  0.02500895, -0.07993247,\n",
              "          0.13374195, -0.08066535, -0.14492011,  0.00310859, -0.08386293],\n",
              "        [-0.09821294,  0.17604774, -0.08507441,  0.15887833, -0.22909597,\n",
              "          0.18286756,  0.03680858, -0.0030719 , -0.08286053,  0.2184273 ],\n",
              "        [-0.20695947,  0.10750285,  0.1725992 ,  0.00903562,  0.04063788,\n",
              "          0.04186368, -0.17338032, -0.22215396, -0.17517847,  0.1457338 ],\n",
              "        [-0.1908373 ,  0.02986977,  0.0479334 , -0.21154304, -0.14526322,\n",
              "         -0.06706578, -0.13669038,  0.07407454,  0.05502883, -0.08842967],\n",
              "        [-0.13523184,  0.03468642, -0.18284473,  0.22276938,  0.1655916 ,\n",
              "         -0.11714942,  0.16175625, -0.07184745,  0.1385063 ,  0.05093998],\n",
              "        [-0.04807439,  0.16544911,  0.08080828, -0.00890809,  0.13110599,\n",
              "         -0.07791892,  0.21296462,  0.16258514,  0.21888879,  0.22502786],\n",
              "        [ 0.1380046 ,  0.06040603, -0.16320482,  0.0425494 , -0.22313654,\n",
              "         -0.0436352 , -0.19998567,  0.11360493, -0.13661745, -0.04656951],\n",
              "        [ 0.22441897,  0.06212148,  0.08535472,  0.0422751 , -0.11991607,\n",
              "         -0.04909138,  0.06543222,  0.0726679 , -0.01807573, -0.1542241 ],\n",
              "        [-0.00392835,  0.1453248 , -0.1841398 , -0.20339768,  0.00650801,\n",
              "         -0.13625628, -0.22016527,  0.03844675, -0.16248646, -0.04533799]],\n",
              "       dtype=float32)>,\n",
              " <tf.Variable 'dense_9/bias:0' shape=(10,) dtype=float32, numpy=array([0., 0., 0., 0., 0., 0., 0., 0., 0., 0.], dtype=float32)>]"
            ]
          },
          "metadata": {},
          "execution_count": 53
        }
      ]
    },
    {
      "cell_type": "code",
      "source": [
        "from tensorflow.keras.utils import plot_model\n",
        "plot_model(model, to_file = \"model.png\", show_shapes = True)"
      ],
      "metadata": {
        "colab": {
          "base_uri": "https://localhost:8080/",
          "height": 533
        },
        "id": "E41KlA8PUDlO",
        "outputId": "0e815793-8044-4a7c-89bf-51a5527f1cf0"
      },
      "execution_count": 54,
      "outputs": [
        {
          "output_type": "execute_result",
          "data": {
            "image/png": "[encoded data removed]",
            "text/plain": [
              "<IPython.core.display.Image object>"
            ]
          },
          "metadata": {},
          "execution_count": 54
        }
      ]
    },
    {
      "cell_type": "markdown",
      "source": [
        "**모델 훈련 및 평가**"
      ],
      "metadata": {
        "id": "LIwY7jwdZyN7"
      }
    },
    {
      "cell_type": "code",
      "source": [
        "history = model.fit(x_train, y_train, epochs = 5, validation_data=(x_train, y_train), batch_size = 100) # model.complie다시 하고 fit하는게 적절함"
      ],
      "metadata": {
        "colab": {
          "base_uri": "https://localhost:8080/"
        },
        "id": "A7mYpSx1YcYx",
        "outputId": "4d700b61-3987-408e-f458-eac70c0336f7"
      },
      "execution_count": 55,
      "outputs": [
        {
          "output_type": "stream",
          "name": "stdout",
          "text": [
            "Epoch 1/5\n",
            "600/600 [==============================] - 5s 7ms/step - loss: 0.3970 - accuracy: 0.8856 - val_loss: 0.1956 - val_accuracy: 0.9451\n",
            "Epoch 2/5\n",
            "600/600 [==============================] - 5s 8ms/step - loss: 0.1960 - accuracy: 0.9436 - val_loss: 0.1303 - val_accuracy: 0.9633\n",
            "Epoch 3/5\n",
            "600/600 [==============================] - 4s 6ms/step - loss: 0.1487 - accuracy: 0.9569 - val_loss: 0.0985 - val_accuracy: 0.9718\n",
            "Epoch 4/5\n",
            "600/600 [==============================] - 4s 6ms/step - loss: 0.1247 - accuracy: 0.9627 - val_loss: 0.0788 - val_accuracy: 0.9775\n",
            "Epoch 5/5\n",
            "600/600 [==============================] - 5s 8ms/step - loss: 0.1067 - accuracy: 0.9685 - val_loss: 0.0709 - val_accuracy: 0.9793\n"
          ]
        }
      ]
    },
    {
      "cell_type": "code",
      "source": [
        "model.evaluate(x_test,  y_test, verbose=2)"
      ],
      "metadata": {
        "colab": {
          "base_uri": "https://localhost:8080/"
        },
        "id": "FpR7PWCJZ5nl",
        "outputId": "9cdbb443-b147-4f83-f21e-9f52197c643a"
      },
      "execution_count": 56,
      "outputs": [
        {
          "output_type": "stream",
          "name": "stdout",
          "text": [
            "313/313 - 1s - loss: 0.0950 - accuracy: 0.9716 - 629ms/epoch - 2ms/step\n"
          ]
        },
        {
          "output_type": "execute_result",
          "data": {
            "text/plain": [
              "[0.09501305222511292, 0.9715999960899353]"
            ]
          },
          "metadata": {},
          "execution_count": 56
        }
      ]
    },
    {
      "cell_type": "code",
      "source": [
        "print(type(history))\n",
        "print(history.history.keys())"
      ],
      "metadata": {
        "colab": {
          "base_uri": "https://localhost:8080/"
        },
        "id": "6TpsA813f_Wc",
        "outputId": "f10e8fa9-58ac-4e18-d6df-3a1b73e529ef"
      },
      "execution_count": 63,
      "outputs": [
        {
          "output_type": "stream",
          "name": "stdout",
          "text": [
            "<class 'keras.callbacks.History'>\n",
            "dict_keys(['loss', 'accuracy', 'val_loss', 'val_accuracy'])\n"
          ]
        }
      ]
    },
    {
      "cell_type": "code",
      "source": [
        "acc = history.history['accuracy']\n",
        "val_acc = history.history['val_accuracy']\n",
        "\n",
        "print(acc)\n",
        "print(val_acc)\n",
        "\n",
        "loss = history.history['loss']\n",
        "val_loss = history.history['val_loss']\n",
        "print(\"-\"* 50)\n",
        "print(loss)\n",
        "print(val_loss)\n",
        "\n",
        "epochs_range = range(5)\n",
        "\n",
        "plt.figure(figsize=(12, 6))\n",
        "plt.plot(epochs_range, loss, label='Training Loss')\n",
        "plt.plot(epochs_range, val_loss, label='Validation Loss')\n",
        "plt.legend(loc='upper right')\n",
        "plt.title('Training and Validation Loss')\n",
        "\n",
        "plt.plot(epochs_range, acc, label='Training Accuracy')\n",
        "plt.plot(epochs_range, val_acc, label='Validation Accuracy')\n",
        "plt.legend(loc='lower right')\n",
        "plt.title('Training and Validation Accuracy')\n",
        "\n",
        "plt.show()\n"
      ],
      "metadata": {
        "colab": {
          "base_uri": "https://localhost:8080/",
          "height": 627
        },
        "id": "ge5v1JJ_ZWGw",
        "outputId": "de760309-e0e8-437f-ad35-ab99e316a4d2"
      },
      "execution_count": 57,
      "outputs": [
        {
          "output_type": "stream",
          "name": "stdout",
          "text": [
            "[0.885616660118103, 0.9436166882514954, 0.956933319568634, 0.9627000093460083, 0.9685333371162415]\n",
            "[0.9450500011444092, 0.963283360004425, 0.971750020980835, 0.977483332157135, 0.9792666435241699]\n",
            "--------------------------------------------------\n",
            "[0.3970475196838379, 0.19598808884620667, 0.14873117208480835, 0.12465526163578033, 0.10670679807662964]\n",
            "[0.19559022784233093, 0.13033317029476166, 0.09854569286108017, 0.0787980780005455, 0.07090164721012115]\n"
          ]
        },
        {
          "output_type": "display_data",
          "data": {
            "text/plain": [
              "<Figure size 1200x600 with 1 Axes>"
            ],
            "image/png": "[encoded data removed]"
          },
          "metadata": {}
        }
      ]
    },
    {
      "cell_type": "markdown",
      "source": [
        "### 모델 저장\n",
        "* weight값만 저장하거나 모델 전체를 저장할 수 있음"
      ],
      "metadata": {
        "id": "qLqj5zgqbELK"
      }
    },
    {
      "cell_type": "code",
      "source": [
        "model.save_weights(\"mnist_model_weights.h5\")"
      ],
      "metadata": {
        "id": "DerQk7M6a_n1"
      },
      "execution_count": 58,
      "outputs": []
    },
    {
      "cell_type": "code",
      "source": [
        "model.save(\"mnist_model.h5\")"
      ],
      "metadata": {
        "id": "A51uT9d1bIwz"
      },
      "execution_count": 59,
      "outputs": []
    },
    {
      "cell_type": "markdown",
      "source": [
        "**모델이 계산한 클래스 분류 확률 반환**"
      ],
      "metadata": {
        "id": "_UWEKtSfhISQ"
      }
    },
    {
      "cell_type": "code",
      "source": [
        "probability_model = tf.keras.Sequential([\n",
        "  model,\n",
        "  tf.keras.layers.Softmax()\n",
        "])"
      ],
      "metadata": {
        "id": "sGRI1DbfgdV2"
      },
      "execution_count": 65,
      "outputs": []
    },
    {
      "cell_type": "code",
      "source": [
        "probability_model(x_test[:5]) # 확률 반환\n",
        "# 각 행은 각 샘플에 대한 결과, 각 열은 클래스에 대한 확률\n",
        "# 5는 샘플의 수(x_test[:5]), 10은 클래스의 수"
      ],
      "metadata": {
        "colab": {
          "base_uri": "https://localhost:8080/"
        },
        "id": "mRxYScw-gWmp",
        "outputId": "11e1dcf1-d874-444c-fc59-c49967ad12f4"
      },
      "execution_count": 68,
      "outputs": [
        {
          "output_type": "execute_result",
          "data": {
            "text/plain": [
              "<tf.Tensor: shape=(5, 10), dtype=float32, numpy=\n",
              "array([[0.08533971, 0.08533967, 0.0853432 , 0.08535434, 0.08533967,\n",
              "        0.08534001, 0.08533967, 0.23192298, 0.08533975, 0.08534099],\n",
              "       [0.08535647, 0.0853873 , 0.23168798, 0.08543599, 0.08535451,\n",
              "        0.08535771, 0.08535489, 0.08535451, 0.08535612, 0.08535451],\n",
              "       [0.08538412, 0.23122694, 0.08542116, 0.08539051, 0.0853921 ,\n",
              "        0.08539374, 0.08538602, 0.08560599, 0.08541409, 0.08538535],\n",
              "       [0.2318935 , 0.08534154, 0.08535397, 0.08534184, 0.0853419 ,\n",
              "        0.08534167, 0.08534174, 0.08535144, 0.0853416 , 0.08535076],\n",
              "       [0.08543686, 0.08543354, 0.08544127, 0.08543339, 0.23043302,\n",
              "        0.08543369, 0.08543947, 0.08544394, 0.08543367, 0.08607115]],\n",
              "      dtype=float32)>"
            ]
          },
          "metadata": {},
          "execution_count": 68
        }
      ]
    },
    {
      "cell_type": "markdown",
      "source": [
        "**학습한 모델로 새로운 데이터 예측하기**"
      ],
      "metadata": {
        "id": "R32p2Mmujo5N"
      }
    },
    {
      "cell_type": "code",
      "source": [
        "load_model = tf.keras.models.load_model(\"mnist_model.h5\")"
      ],
      "metadata": {
        "id": "OtjnY6_OhcZQ"
      },
      "execution_count": 70,
      "outputs": []
    },
    {
      "cell_type": "code",
      "source": [
        "from PIL import Image\n",
        "img = Image.open(\"num2.png\").resize((28, 28)).convert(\"L\")\n",
        "img = np.array(img);img=255 - img;img = img / 255.0\n",
        "\n",
        "\n",
        "print(np.shape(img)) # x_train의 shape은 (60000, 28, 28)\n",
        "plt.imshow(img, cmap = \"gray\")"
      ],
      "metadata": {
        "colab": {
          "base_uri": "https://localhost:8080/",
          "height": 465
        },
        "id": "daAf3NTdhsZc",
        "outputId": "8eb05ea2-fc77-46bf-e694-c43bb021b4bd"
      },
      "execution_count": 84,
      "outputs": [
        {
          "output_type": "stream",
          "name": "stdout",
          "text": [
            "(28, 28)\n"
          ]
        },
        {
          "output_type": "execute_result",
          "data": {
            "text/plain": [
              "<matplotlib.image.AxesImage at 0x79f0456f7160>"
            ]
          },
          "metadata": {},
          "execution_count": 84
        },
        {
          "output_type": "display_data",
          "data": {
            "text/plain": [
              "<Figure size 640x480 with 1 Axes>"
            ],
            "image/png": "[encoded data removed]"
          },
          "metadata": {}
        }
      ]
    },
    {
      "cell_type": "code",
      "source": [
        "new_img = np.reshape(img, (1, 28, 28)) # 훈련 데이터가 3차원이기 때문에 맞춰주기\n",
        "np.shape(new_img)"
      ],
      "metadata": {
        "colab": {
          "base_uri": "https://localhost:8080/"
        },
        "id": "IeTLVZIJitAk",
        "outputId": "a7b3f20a-90bd-437e-876a-0a2f117d1a34"
      },
      "execution_count": 89,
      "outputs": [
        {
          "output_type": "execute_result",
          "data": {
            "text/plain": [
              "(1, 28, 28)"
            ]
          },
          "metadata": {},
          "execution_count": 89
        }
      ]
    },
    {
      "cell_type": "code",
      "source": [
        "model.predict(new_img) # y값이 원핫인코딩되어서 들어간 자료에서만 사용"
      ],
      "metadata": {
        "colab": {
          "base_uri": "https://localhost:8080/"
        },
        "id": "eodlilIwjtNd",
        "outputId": "782a067c-d5c6-4aed-ce1f-54da0e2470aa"
      },
      "execution_count": 91,
      "outputs": [
        {
          "output_type": "stream",
          "name": "stdout",
          "text": [
            "1/1 [==============================] - 0s 141ms/step\n"
          ]
        },
        {
          "output_type": "execute_result",
          "data": {
            "text/plain": [
              "array([[2.2795282e-06, 1.1638895e-06, 9.9970704e-01, 2.7722883e-04,\n",
              "        6.4132846e-13, 9.9602648e-06, 1.0424284e-10, 2.5275128e-07,\n",
              "        2.0243244e-06, 5.1271240e-08]], dtype=float32)"
            ]
          },
          "metadata": {},
          "execution_count": 91
        }
      ]
    },
    {
      "cell_type": "code",
      "source": [
        "# y값에서 원핫인코딩하지 않을 시 model의 loss함수에서 sparse_categorical_crossentropy, tf.nn.softmax로 예측 수행해야 함\n",
        "prediction = model(new_img)\n",
        "result = tf.nn.softmax(prediction) # 총합이 1이 됨\n",
        "num = np.argmax(result) # 최대 값의 인덱스 반환"
      ],
      "metadata": {
        "id": "KhVwo4HJkwPC"
      },
      "execution_count": 97,
      "outputs": []
    },
    {
      "cell_type": "code",
      "source": [
        "### 만약 레이블이 따로 있다면\n",
        "class_num = ['숫자0', '숫자1', '숫자2', '숫자3', '숫자4' '숫자5', '숫자6', '숫자7', '숫자8', '숫자9']\n",
        "class_num[num]"
      ],
      "metadata": {
        "colab": {
          "base_uri": "https://localhost:8080/",
          "height": 35
        },
        "id": "bGWTdo3vl_Ut",
        "outputId": "4b8fdcdc-a3a8-4abb-f3ef-042b6928780d"
      },
      "execution_count": 98,
      "outputs": [
        {
          "output_type": "execute_result",
          "data": {
            "text/plain": [
              "'숫자2'"
            ],
            "application/vnd.google.colaboratory.intrinsic+json": {
              "type": "string"
            }
          },
          "metadata": {},
          "execution_count": 98
        }
      ]
    },
    {
      "cell_type": "code",
      "source": [
        "testData = x_test[:30]\n",
        "print(np.shape(testData))\n",
        "\n",
        "prediction = model(new_img)\n",
        "result = tf.nn.softmax(prediction)\n",
        "\n",
        "plt.imshow(np.hstack(testData))\n",
        "np.argmax(result, axis = 1) # 열 단위에서 최대값 반환"
      ],
      "metadata": {
        "colab": {
          "base_uri": "https://localhost:8080/",
          "height": 117
        },
        "id": "85BoHV4FnQXX",
        "outputId": "b0f1d854-7de3-429c-bde7-7a66a83f5e86"
      },
      "execution_count": 106,
      "outputs": [
        {
          "output_type": "stream",
          "name": "stdout",
          "text": [
            "(30, 28, 28)\n"
          ]
        },
        {
          "output_type": "execute_result",
          "data": {
            "text/plain": [
              "array([2])"
            ]
          },
          "metadata": {},
          "execution_count": 106
        },
        {
          "output_type": "display_data",
          "data": {
            "text/plain": [
              "<Figure size 640x480 with 1 Axes>"
            ],
            "image/png": "[encoded data removed]"
          },
          "metadata": {}
        }
      ]
    }
  ]
}