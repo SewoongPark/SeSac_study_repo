{
 "cells": [
  {
   "cell_type": "code",
   "execution_count": 1,
   "metadata": {},
   "outputs": [],
   "source": [
    "a = 3\n"
   ]
  },
  {
   "cell_type": "code",
   "execution_count": 4,
   "metadata": {},
   "outputs": [
    {
     "name": "stdout",
     "output_type": "stream",
     "text": [
      "3\n"
     ]
    }
   ],
   "source": [
    "print(a)"
   ]
  },
  {
   "cell_type": "markdown",
   "metadata": {},
   "source": [
    "#### 파이썬 마크다운을 이용하면\n",
    "* 문서화에 필요한 입력할 수 있어요\n",
    "* 구글검색 '파이썬 마크다운'"
   ]
  },
  {
   "cell_type": "code",
   "execution_count": 8,
   "metadata": {},
   "outputs": [
    {
     "data": {
      "text/plain": [
       "array([5.49257456e-114, 8.16734535e-201, 1.63703856e-309, 4.67026629e-085,\n",
       "       8.98216876e-076, 9.59575053e-071, 5.23709585e-322, 0.00000000e+000,\n",
       "       1.21251436e-099, 5.23709585e-322, 0.00000000e+000, 5.50912547e-310,\n",
       "       0.00000000e+000, 0.00000000e+000, 1.44954188e-311, 6.94066118e-307,\n",
       "       0.00000000e+000, 2.63000357e-310, 0.00000000e+000, 0.00000000e+000,\n",
       "       1.26927747e-277, 5.64600555e-061, 6.47083642e-172, 2.43927377e-051,\n",
       "       1.04794037e-041, 1.69679495e-309, 4.47322647e-032, 1.70765974e-309,\n",
       "       1.92123614e-022, 1.86085473e-157, 2.55883873e-307, 1.39829471e-022,\n",
       "       4.63927641e-321, 6.03561038e-013, 2.21192656e-316, 2.55883833e-307,\n",
       "       1.39907019e-022, 4.63927641e-321, 3.95549762e-008, 2.10966031e-321,\n",
       "       1.44273106e-128, 5.45775372e-291, 1.58691406e-003, 1.27146148e-300,\n",
       "       1.39067116e-309, 3.58750788e-306, 1.99304638e-311, 3.13091991e-309,\n",
       "       9.06625980e-312, 2.78136354e-309, 1.74423621e-104, 3.04114742e-316,\n",
       "       9.10731317e-018, 1.38341409e-316, 8.57339487e-201])"
      ]
     },
     "execution_count": 8,
     "metadata": {},
     "output_type": "execute_result"
    }
   ],
   "source": [
    "import numpy as np\n",
    "a = [1,2,3,4,5]\n",
    "b = [1,2,3,4,5]\n",
    "c = np.dot(a,b)\n",
    "d = np.ndarray(c)\n",
    "d"
   ]
  },
  {
   "cell_type": "code",
   "execution_count": 11,
   "metadata": {},
   "outputs": [
    {
     "name": "stdout",
     "output_type": "stream",
     "text": [
      "help\n"
     ]
    }
   ],
   "source": [
    "print(\"help\")"
   ]
  },
  {
   "cell_type": "code",
   "execution_count": 12,
   "metadata": {},
   "outputs": [
    {
     "ename": "ModuleNotFoundError",
     "evalue": "No module named 'pillow'",
     "output_type": "error",
     "traceback": [
      "\u001b[1;31m---------------------------------------------------------------------------\u001b[0m",
      "\u001b[1;31mModuleNotFoundError\u001b[0m                       Traceback (most recent call last)",
      "Cell \u001b[1;32mIn[12], line 1\u001b[0m\n\u001b[1;32m----> 1\u001b[0m \u001b[38;5;28;01mimport\u001b[39;00m \u001b[38;5;21;01mpillow\u001b[39;00m \u001b[38;5;28;01mas\u001b[39;00m \u001b[38;5;21;01mPIL\u001b[39;00m\n",
      "\u001b[1;31mModuleNotFoundError\u001b[0m: No module named 'pillow'"
     ]
    }
   ],
   "source": [
    "import pillow as PIL"
   ]
  }
 ],
 "metadata": {
  "kernelspec": {
   "display_name": "psw_conda",
   "language": "python",
   "name": "python3"
  },
  "language_info": {
   "codemirror_mode": {
    "name": "ipython",
    "version": 3
   },
   "file_extension": ".py",
   "mimetype": "text/x-python",
   "name": "python",
   "nbconvert_exporter": "python",
   "pygments_lexer": "ipython3",
   "version": "3.12.0"
  }
 },
 "nbformat": 4,
 "nbformat_minor": 2
}
