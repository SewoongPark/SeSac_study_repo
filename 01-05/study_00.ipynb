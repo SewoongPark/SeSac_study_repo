{
 "cells": [
  {
   "cell_type": "code",
   "execution_count": 1,
   "metadata": {},
   "outputs": [],
   "source": [
    "import cv2\n",
    "import numpy as np\n",
    "import matplotlib.pyplot as plt"
   ]
  },
  {
   "cell_type": "code",
   "execution_count": 3,
   "metadata": {},
   "outputs": [],
   "source": [
    "img = np.full((300,300,3),255,dtype=np.uint8)\n",
    "# cv2.imshow('ttt',img)\n",
    "\n",
    "# while True:\n",
    "#     if cv2.waitKey() == chr(27):\n",
    "#         break\n",
    "# cv2.destroyAllWindows()"
   ]
  },
  {
   "cell_type": "code",
   "execution_count": 22,
   "metadata": {},
   "outputs": [
    {
     "data": {
      "text/plain": [
       "(255, 255)"
      ]
     },
     "execution_count": 22,
     "metadata": {},
     "output_type": "execute_result"
    }
   ],
   "source": [
    "img = np.zeros((300,300,3), dtype=np.uint8)\n",
    "img[:,:,:]=255\n",
    "\n",
    "np.min(img),np.max(img)"
   ]
  },
  {
   "cell_type": "code",
   "execution_count": 38,
   "metadata": {},
   "outputs": [
    {
     "data": {
      "text/plain": [
       "-1"
      ]
     },
     "execution_count": 38,
     "metadata": {},
     "output_type": "execute_result"
    }
   ],
   "source": [
    "import numpy as np, cv2\n",
    "\n",
    "def draw_bar(img, pt, w, bars):\n",
    "    pt = np.array(pt,int)\n",
    "    for bar in bars:\n",
    "        (x,y), h = pt, w*6\n",
    "        cv2.rectangle(img, (x, y, w, h), (0,0,0), -1)\n",
    "        if bar == 0:\n",
    "            y, h = y + w*3-w//4 , w//2\n",
    "            cv2.rectangle(img, (x, y, w, h), (255,255,255), -1)\n",
    "        pt += (int(w*1.5), 0)\n",
    "\n",
    "c= 200\n",
    "r, sr, c2, c4 = c//2, c//4, c*2, c*4\n",
    "img = np.full((c4,c4,3), 255, np.uint8)\n",
    "\n",
    "blue, red = (255,0,0), (0,0,255)\n",
    "\n",
    "cv2.ellipse(img, (c2,c2), (r,r),  0,0 , 180, blue, -1)\n",
    "cv2.ellipse(img, (c2,c2), (r,r),  180,0 , 180, red, -1)\n",
    "cv2.ellipse(img, (c2+r-sr,c2), (sr,sr),  180,0 , 180, blue, -1)\n",
    "cv2.ellipse(img, (c2  -sr,c2), (sr,sr),  0,0 , 180, red, -1)\n",
    "\n",
    "left = (c2 -c * (18+8)/24, c2-sr)\n",
    "right = (c2 +c * (18+0)/24, c2-sr)\n",
    "\n",
    "draw_bar(img, left, c//12, (1,1,1))\n",
    "draw_bar(img, right, c//12, (0,0,0))\n",
    "angle = cv2.fastAtan2(2,3)\n",
    "img = cv2.warpAffine(img, cv2.getRotationMatrix2D((c2,c2), -angle*2, 1), (c4,c4))\n",
    "\n",
    "draw_bar(img, left, c//12, (1,0,1))\n",
    "draw_bar(img, right, c//12, (0,1,0))\n",
    "ang = cv2.getRotationMatrix2D((c2,c2), angle, 1)\n",
    "img = cv2.warpAffine(img, ang, (c4,c4))\n",
    "\n",
    "cv2.imshow('img', img[c2-c:c2+c, c2-r*3:c2+r*3])\n",
    "cv2.waitKey(0)"
   ]
  },
  {
   "cell_type": "code",
   "execution_count": 15,
   "metadata": {},
   "outputs": [
    {
     "data": {
      "text/plain": [
       "<matplotlib.image.AxesImage at 0x19ba7c2c0b0>"
      ]
     },
     "execution_count": 15,
     "metadata": {},
     "output_type": "execute_result"
    },
    {
     "data": {
      "image/png": "[encoded data removed]",
      "text/plain": [
       "<Figure size 640x480 with 1 Axes>"
      ]
     },
     "metadata": {},
     "output_type": "display_data"
    }
   ],
   "source": [
    "plt.imshow(img)"
   ]
  },
  {
   "cell_type": "markdown",
   "metadata": {},
   "source": [
    "### **모자이크 효과의 원리**\n",
    "* 원본에서 모자이크 할 영역을 추출한다\n",
    "* 추출한 영역을 resize를 통해서 화질을 저하시킨다\n",
    "* 효과를 적용한 영역을 원본 이미지의 원래 영역에 위치시킨다"
   ]
  },
  {
   "cell_type": "code",
   "execution_count": null,
   "metadata": {},
   "outputs": [],
   "source": []
  },
  {
   "cell_type": "markdown",
   "metadata": {},
   "source": [
    "#### **OpenCV에서의 얼굴 검출**\n",
    "* Harr cascading\n",
    "* 정면, 측면, 반측면등의 얼굴 위치를 찾는 좌표를 기록해놓은 xml 자료\n",
    "* github에서 clone해와서 활용해보자"
   ]
  },
  {
   "cell_type": "markdown",
   "metadata": {},
   "source": [
    "#### Harr cascading 이용한 눈, 얼굴 검출\n",
    "* FaceDetection.py 참조"
   ]
  }
 ],
 "metadata": {
  "kernelspec": {
   "display_name": "psw_conda",
   "language": "python",
   "name": "python3"
  },
  "language_info": {
   "codemirror_mode": {
    "name": "ipython",
    "version": 3
   },
   "file_extension": ".py",
   "mimetype": "text/x-python",
   "name": "python",
   "nbconvert_exporter": "python",
   "pygments_lexer": "ipython3",
   "version": "3.12.1"
  }
 },
 "nbformat": 4,
 "nbformat_minor": 2
}
