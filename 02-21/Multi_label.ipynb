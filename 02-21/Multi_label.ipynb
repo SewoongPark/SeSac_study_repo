{
  "cells": [
    {
      "cell_type": "markdown",
      "metadata": {
        "id": "RWi8aM-tMbKU"
      },
      "source": [
        "금요일까지 제출\n",
        "* 멀티레이블 작업\n",
        "* 오토인코더(텐서)\n",
        "\n",
        "금요일:\n",
        "* 1) 오토인코더 등 주제잡고 pytorch로 작업, Tensor로 작업한 내용 Torch로 변환\n",
        "* 2) Tensorhub 또는 hugging-face또는 교재 gpt 모델"
      ]
    },
    {
      "cell_type": "code",
      "execution_count": 1,
      "metadata": {
        "colab": {
          "base_uri": "https://localhost:8080/",
          "height": 35
        },
        "id": "w7nkTUy7RrV7",
        "outputId": "f656ffe1-29f4-4557-cab7-927b3d68c808"
      },
      "outputs": [
        {
          "data": {
            "text/plain": [
              "'c:\\\\Users\\\\openeg\\\\Downloads'"
            ]
          },
          "execution_count": 1,
          "metadata": {},
          "output_type": "execute_result"
        }
      ],
      "source": [
        "%pwd"
      ]
    },
    {
      "cell_type": "code",
      "execution_count": null,
      "metadata": {
        "colab": {
          "base_uri": "https://localhost:8080/"
        },
        "id": "QucAiFfKQCod",
        "outputId": "e72f03b7-dfd8-49b4-ce0e-c997018a2169"
      },
      "outputs": [
        {
          "name": "stdout",
          "output_type": "stream",
          "text": [
            "/content/drive/MyDrive/Task_Multilabel\n"
          ]
        }
      ],
      "source": [
        "%cd ./drive/MyDrive/Task_Multilabel"
      ]
    },
    {
      "cell_type": "code",
      "execution_count": 16,
      "metadata": {
        "id": "-usUs1ZXMAac"
      },
      "outputs": [
        {
          "name": "stderr",
          "output_type": "stream",
          "text": [
            "'unzip' is not recognized as an internal or external command,\n",
            "operable program or batch file.\n"
          ]
        }
      ],
      "source": [
        "!unzip -qq \"/content/drive/MyDrive/Task_Multilabel/archive (2).zip\""
      ]
    },
    {
      "cell_type": "code",
      "execution_count": 2,
      "metadata": {
        "colab": {
          "base_uri": "https://localhost:8080/"
        },
        "id": "QLt5qWjrQbLv",
        "outputId": "3b4a982b-f8d5-4d08-a8a9-ee7a4d32a611"
      },
      "outputs": [
        {
          "name": "stdout",
          "output_type": "stream",
          "text": [
            "   Unnamed: 0                                              image  black  blue  \\\n",
            "0           0  ./clothes_dataset\\blue_shorts\\256d854b55ac32ea...    0.0   1.0   \n",
            "1           1  ./clothes_dataset\\red_pants\\584f778aece14f07c2...    0.0   0.0   \n",
            "2           2  ./clothes_dataset\\green_pants\\ec543ca241cefb2b...    0.0   0.0   \n",
            "3           3  ./clothes_dataset\\brown_shorts\\c8db9e0f7010592...    0.0   0.0   \n",
            "4           4  ./clothes_dataset\\white_dress\\551373c80717c5b0...    0.0   0.0   \n",
            "\n",
            "   brown  green  red  white  dress  shirt  pants  shorts  shoes  \n",
            "0    0.0    0.0  0.0    0.0    0.0    0.0    0.0     1.0    0.0  \n",
            "1    0.0    0.0  1.0    0.0    0.0    0.0    1.0     0.0    0.0  \n",
            "2    0.0    1.0  0.0    0.0    0.0    0.0    1.0     0.0    0.0  \n",
            "3    1.0    0.0  0.0    0.0    0.0    0.0    0.0     1.0    0.0  \n",
            "4    0.0    0.0  0.0    1.0    1.0    0.0    0.0     0.0    0.0  \n"
          ]
        },
        {
          "name": "stderr",
          "output_type": "stream",
          "text": [
            "C:\\Users\\openeg\\AppData\\Local\\Temp\\ipykernel_12712\\4200818186.py:1: DeprecationWarning: \n",
            "Pyarrow will become a required dependency of pandas in the next major release of pandas (pandas 3.0),\n",
            "(to allow more performant data types, such as the Arrow string type, and better interoperability with other libraries)\n",
            "but was not found to be installed on your system.\n",
            "If this would cause problems for you,\n",
            "please provide us feedback at https://github.com/pandas-dev/pandas/issues/54466\n",
            "        \n",
            "  import pandas as pd\n"
          ]
        }
      ],
      "source": [
        "import pandas as pd\n",
        "DATA_PATH = \"./archive\"\n",
        "train_df = pd.read_csv(DATA_PATH + '/train.csv')\n",
        "test_df = pd.read_csv(DATA_PATH + '/test.csv')\n",
        "val_df = pd.read_csv(DATA_PATH + '/val.csv')\n",
        "\n",
        "print(train_df.head())"
      ]
    },
    {
      "cell_type": "code",
      "execution_count": 24,
      "metadata": {
        "colab": {
          "base_uri": "https://localhost:8080/"
        },
        "id": "Q6wC-ULHXEaT",
        "outputId": "908da594-17fb-4261-8c4e-d01ab0b2d919"
      },
      "outputs": [
        {
          "data": {
            "text/plain": [
              "pandas.core.indexes.base.Index"
            ]
          },
          "execution_count": 24,
          "metadata": {},
          "output_type": "execute_result"
        }
      ],
      "source": [
        "type(train_df.columns[2:])"
      ]
    },
    {
      "cell_type": "markdown",
      "metadata": {
        "id": "SeTNoJ-KVkWe"
      },
      "source": [
        "### 2. 이미지 제너레이터 정의 및 모델 구상하기\n",
        "> 이미지 제너레이터 정의"
      ]
    },
    {
      "cell_type": "code",
      "execution_count": 3,
      "metadata": {
        "id": "F65k3VmOR41w"
      },
      "outputs": [],
      "source": [
        "from keras.preprocessing.image import ImageDataGenerator # Keras에서 이미지 데이터를 처리하기 위한 ImageDataGenerator 모듈을 호출합니다.\n",
        "\n",
        "train_datagen = ImageDataGenerator(rescale=1. / 255) # 학습 데이터용 이미지 데이터 생성기를 정의하고 이미지의 픽셀을 255로 나누어서 0에서 1사이의 값을 가지도록 정규화해줍니다.\n",
        "val_datagen = ImageDataGenerator(rescale=1. / 255)\n",
        "\n",
        "def get_steps(num_samples, batch_size): # 모델의 훈련시에 사용할 batch size를 가변적으로 정의하기 위한 함수\n",
        "    if (num_samples % batch_size) > 0: # 샘플 수를 batch size로 나눈 크기가 0보다 크다면\n",
        "        return (num_samples // batch_size) + 1 # 샘플 수를 batch size로 나눈 몫에 1을 더한 값을 반환합니다. \n",
        "    else:\n",
        "        return num_samples // batch_size # 그렇지 않다면 batch size로 나눈 몫을 반환합니다. 이 경우 나머지가 0이므로 추가적인 batch는 필요하지 않습니다. "
      ]
    },
    {
      "cell_type": "markdown",
      "metadata": {},
      "source": [
        "dropout와 l1, l2 규제 적용해보기"
      ]
    },
    {
      "cell_type": "code",
      "execution_count": 34,
      "metadata": {
        "id": "6kwF1TveV78O"
      },
      "outputs": [
        {
          "name": "stdout",
          "output_type": "stream",
          "text": [
            "레이어 이름: flatten_3\n",
            "입력 모양: (None, 112, 112, 3)\n",
            "가중치 모양: None\n",
            "출력 모양: (None, 37632)\n",
            "\n",
            "레이어 이름: dense_10\n",
            "입력 모양: (None, 37632)\n",
            "가중치 모양: (37632, 128)\n",
            "출력 모양: (None, 128)\n",
            "\n",
            "레이어 이름: dense_11\n",
            "입력 모양: (None, 128)\n",
            "가중치 모양: (128, 64)\n",
            "출력 모양: (None, 64)\n",
            "\n",
            "레이어 이름: dense_12\n",
            "입력 모양: (None, 64)\n",
            "가중치 모양: (64, 11)\n",
            "출력 모양: (None, 11)\n",
            "\n"
          ]
        }
      ],
      "source": [
        "from tensorflow.keras.models import Sequential\n",
        "from tensorflow.keras.layers import Dense, Flatten\n",
        "\n",
        "model = Sequential()\n",
        "# 입력 데이터의 형태를 꼭 명시해야 합니다.\n",
        "model.add(Flatten(input_shape = (112, 112, 3))) # (112, 112, 3) -> (112 * 112 * 3)\n",
        " # in: (112, 112, 3) w: flatten 층이므로 없음 out: (37632, )\n",
        "model.flatten()\n",
        "model.add(Dense(128, activation = 'relu')) # 128개의 출력을 가지는 Dense 층\n",
        " # in: (37632, ) w: (37632, 128) out: (128,)\n",
        "model.add(Dense(64, activation = 'relu')) # 64개의 출력을 가지는 Dense 층\n",
        " # in: (128, ) w: (128, 64) out: (64, )\n",
        "model.add(Dense(11, activation = 'sigmoid')) # 11개의 출력을 가지는 신경망\n",
        "    # in: (64, ) w: (64, 11) out: (11, )\n",
        "model.compile(optimizer = 'adam',\n",
        "              loss = 'binary_crossentropy',\n",
        "              metrics = ['acc'])\n",
        "\n",
        "# 각 레이어의 input, weight, output의 shape 출력\n",
        "for layer in model.layers:\n",
        "    print(\"레이어 이름:\", layer.name)\n",
        "    print(\"입력 모양:\", layer.input_shape)\n",
        "    print(\"가중치 모양:\", layer.get_weights()[0].shape if layer.get_weights() else None)\n",
        "    print(\"출력 모양:\", layer.output_shape)\n",
        "    print()"
      ]
    },
    {
      "cell_type": "code",
      "execution_count": 4,
      "metadata": {},
      "outputs": [
        {
          "name": "stdout",
          "output_type": "stream",
          "text": [
            "레이어 이름: flatten\n",
            "입력 모양: (None, 112, 112, 3)\n",
            "가중치 모양: None\n",
            "출력 모양: (None, 37632)\n",
            "\n",
            "레이어 이름: dense\n",
            "입력 모양: (None, 37632)\n",
            "가중치 모양: (37632, 64)\n",
            "출력 모양: (None, 64)\n",
            "\n",
            "레이어 이름: dense_1\n",
            "입력 모양: (None, 64)\n",
            "가중치 모양: (64, 11)\n",
            "출력 모양: (None, 11)\n",
            "\n"
          ]
        }
      ],
      "source": [
        "from tensorflow.keras.models import Sequential\n",
        "from tensorflow.keras.layers import Dense, Flatten\n",
        "\n",
        "model = Sequential()\n",
        "# 입력 데이터의 형태를 꼭 명시해야 합니다.\n",
        "model.add(Flatten(input_shape = (112, 112, 3))) # (112, 112, 3) -> (112 * 112 * 3)\n",
        "#  # in: (112, 112, 3) w: flatten 층이므로 없음 out: (37632, )\n",
        "# model.add(Dense(128, activation = 'relu')) # 128개의 출력을 가지는 Dense 층\n",
        "#  # in: (37632, ) w: (37632, 128) out: (128,)\n",
        "model.add(Dense(64, activation = 'relu')) # 64개의 출력을 가지는 Dense 층\n",
        "#  # in: (128, ) w: (128, 64) out: (64, )\n",
        "model.add(Dense(11, activation = 'sigmoid')) # 11개의 출력을 가지는 신경망\n",
        "    # in: (64, ) w: (64, 11) out: (11, )\n",
        "model.compile(optimizer = 'adam',\n",
        "              loss = 'binary_crossentropy',\n",
        "              metrics = ['acc'])\n",
        "\n",
        "# 각 레이어의 input, weight, output의 shape 출력\n",
        "for layer in model.layers:\n",
        "    print(\"레이어 이름:\", layer.name)\n",
        "    print(\"입력 모양:\", layer.input_shape)\n",
        "    print(\"가중치 모양:\", layer.get_weights()[0].shape if layer.get_weights() else None)\n",
        "    print(\"출력 모양:\", layer.output_shape)\n",
        "    print()"
      ]
    },
    {
      "cell_type": "code",
      "execution_count": null,
      "metadata": {
        "colab": {
          "base_uri": "https://localhost:8080/",
          "height": 35
        },
        "id": "WjV7mkCQbJwI",
        "outputId": "43e445eb-4b76-4e0f-daa0-69c856a1fa17"
      },
      "outputs": [
        {
          "data": {
            "application/vnd.google.colaboratory.intrinsic+json": {
              "type": "string"
            },
            "text/plain": [
              "'/content/drive/MyDrive/Task_Multilabel'"
            ]
          },
          "execution_count": 73,
          "metadata": {},
          "output_type": "execute_result"
        }
      ],
      "source": [
        "%pwd"
      ]
    },
    {
      "cell_type": "markdown",
      "metadata": {
        "id": "6n19_saAhjGF"
      },
      "source": [
        "**역 슬래시 기호를 \"/\"로 변경**"
      ]
    },
    {
      "cell_type": "code",
      "execution_count": 4,
      "metadata": {
        "colab": {
          "base_uri": "https://localhost:8080/",
          "height": 35
        },
        "id": "gUl7Kehzhf1F",
        "outputId": "70a10e07-71da-400c-88d0-67719dc68540"
      },
      "outputs": [
        {
          "data": {
            "text/plain": [
              "'./clothes_dataset\\\\blue_shorts\\\\256d854b55ac32ea4d0d6398dffccc4d8909a388.jpg'"
            ]
          },
          "execution_count": 4,
          "metadata": {},
          "output_type": "execute_result"
        }
      ],
      "source": [
        "train_df['image'][0] # '\\'기호를 인식하지 못하여 이미지가 저장된 경로에 접근하지 못하는 문제 발생"
      ]
    },
    {
      "cell_type": "code",
      "execution_count": 5,
      "metadata": {
        "colab": {
          "base_uri": "https://localhost:8080/",
          "height": 243
        },
        "id": "6dPLVDELe7RY",
        "outputId": "b9cf2ba0-0286-4c1c-c437-9c9bfb0622ef"
      },
      "outputs": [
        {
          "data": {
            "text/html": [
              "<div>\n",
              "<style scoped>\n",
              "    .dataframe tbody tr th:only-of-type {\n",
              "        vertical-align: middle;\n",
              "    }\n",
              "\n",
              "    .dataframe tbody tr th {\n",
              "        vertical-align: top;\n",
              "    }\n",
              "\n",
              "    .dataframe thead th {\n",
              "        text-align: right;\n",
              "    }\n",
              "</style>\n",
              "<table border=\"1\" class=\"dataframe\">\n",
              "  <thead>\n",
              "    <tr style=\"text-align: right;\">\n",
              "      <th></th>\n",
              "      <th>Unnamed: 0</th>\n",
              "      <th>image</th>\n",
              "      <th>black</th>\n",
              "      <th>blue</th>\n",
              "      <th>brown</th>\n",
              "      <th>green</th>\n",
              "      <th>red</th>\n",
              "      <th>white</th>\n",
              "      <th>dress</th>\n",
              "      <th>shirt</th>\n",
              "      <th>pants</th>\n",
              "      <th>shorts</th>\n",
              "      <th>shoes</th>\n",
              "    </tr>\n",
              "  </thead>\n",
              "  <tbody>\n",
              "    <tr>\n",
              "      <th>0</th>\n",
              "      <td>0</td>\n",
              "      <td>.\\clothes_dataset\\blue_shorts\\256d854b55ac32ea...</td>\n",
              "      <td>0.0</td>\n",
              "      <td>1.0</td>\n",
              "      <td>0.0</td>\n",
              "      <td>0.0</td>\n",
              "      <td>0.0</td>\n",
              "      <td>0.0</td>\n",
              "      <td>0.0</td>\n",
              "      <td>0.0</td>\n",
              "      <td>0.0</td>\n",
              "      <td>1.0</td>\n",
              "      <td>0.0</td>\n",
              "    </tr>\n",
              "    <tr>\n",
              "      <th>1</th>\n",
              "      <td>1</td>\n",
              "      <td>.\\clothes_dataset\\red_pants\\584f778aece14f07c2...</td>\n",
              "      <td>0.0</td>\n",
              "      <td>0.0</td>\n",
              "      <td>0.0</td>\n",
              "      <td>0.0</td>\n",
              "      <td>1.0</td>\n",
              "      <td>0.0</td>\n",
              "      <td>0.0</td>\n",
              "      <td>0.0</td>\n",
              "      <td>1.0</td>\n",
              "      <td>0.0</td>\n",
              "      <td>0.0</td>\n",
              "    </tr>\n",
              "    <tr>\n",
              "      <th>2</th>\n",
              "      <td>2</td>\n",
              "      <td>.\\clothes_dataset\\green_pants\\ec543ca241cefb2b...</td>\n",
              "      <td>0.0</td>\n",
              "      <td>0.0</td>\n",
              "      <td>0.0</td>\n",
              "      <td>1.0</td>\n",
              "      <td>0.0</td>\n",
              "      <td>0.0</td>\n",
              "      <td>0.0</td>\n",
              "      <td>0.0</td>\n",
              "      <td>1.0</td>\n",
              "      <td>0.0</td>\n",
              "      <td>0.0</td>\n",
              "    </tr>\n",
              "    <tr>\n",
              "      <th>3</th>\n",
              "      <td>3</td>\n",
              "      <td>.\\clothes_dataset\\brown_shorts\\c8db9e0f7010592...</td>\n",
              "      <td>0.0</td>\n",
              "      <td>0.0</td>\n",
              "      <td>1.0</td>\n",
              "      <td>0.0</td>\n",
              "      <td>0.0</td>\n",
              "      <td>0.0</td>\n",
              "      <td>0.0</td>\n",
              "      <td>0.0</td>\n",
              "      <td>0.0</td>\n",
              "      <td>1.0</td>\n",
              "      <td>0.0</td>\n",
              "    </tr>\n",
              "    <tr>\n",
              "      <th>4</th>\n",
              "      <td>4</td>\n",
              "      <td>.\\clothes_dataset\\white_dress\\551373c80717c5b0...</td>\n",
              "      <td>0.0</td>\n",
              "      <td>0.0</td>\n",
              "      <td>0.0</td>\n",
              "      <td>0.0</td>\n",
              "      <td>0.0</td>\n",
              "      <td>1.0</td>\n",
              "      <td>1.0</td>\n",
              "      <td>0.0</td>\n",
              "      <td>0.0</td>\n",
              "      <td>0.0</td>\n",
              "      <td>0.0</td>\n",
              "    </tr>\n",
              "  </tbody>\n",
              "</table>\n",
              "</div>"
            ],
            "text/plain": [
              "   Unnamed: 0                                              image  black  blue  \\\n",
              "0           0  .\\clothes_dataset\\blue_shorts\\256d854b55ac32ea...    0.0   1.0   \n",
              "1           1  .\\clothes_dataset\\red_pants\\584f778aece14f07c2...    0.0   0.0   \n",
              "2           2  .\\clothes_dataset\\green_pants\\ec543ca241cefb2b...    0.0   0.0   \n",
              "3           3  .\\clothes_dataset\\brown_shorts\\c8db9e0f7010592...    0.0   0.0   \n",
              "4           4  .\\clothes_dataset\\white_dress\\551373c80717c5b0...    0.0   0.0   \n",
              "\n",
              "   brown  green  red  white  dress  shirt  pants  shorts  shoes  \n",
              "0    0.0    0.0  0.0    0.0    0.0    0.0    0.0     1.0    0.0  \n",
              "1    0.0    0.0  1.0    0.0    0.0    0.0    1.0     0.0    0.0  \n",
              "2    0.0    1.0  0.0    0.0    0.0    0.0    1.0     0.0    0.0  \n",
              "3    1.0    0.0  0.0    0.0    0.0    0.0    0.0     1.0    0.0  \n",
              "4    0.0    0.0  0.0    1.0    1.0    0.0    0.0     0.0    0.0  "
            ]
          },
          "execution_count": 5,
          "metadata": {},
          "output_type": "execute_result"
        }
      ],
      "source": [
        "train_df['image'] = train_df['image'].apply(lambda x: x.replace('/', '\\\\'))\n",
        "train_df.head() # lambda 함수를 사용하여 dataframe 내의 역슬래시 기호를 '/'로 변환하였습니다."
      ]
    },
    {
      "cell_type": "code",
      "execution_count": 6,
      "metadata": {
        "colab": {
          "base_uri": "https://localhost:8080/",
          "height": 243
        },
        "id": "9caoWQ6tfOKA",
        "outputId": "f6a0b658-0f12-4ff7-b70f-6c2fcd151acc"
      },
      "outputs": [
        {
          "data": {
            "text/html": [
              "<div>\n",
              "<style scoped>\n",
              "    .dataframe tbody tr th:only-of-type {\n",
              "        vertical-align: middle;\n",
              "    }\n",
              "\n",
              "    .dataframe tbody tr th {\n",
              "        vertical-align: top;\n",
              "    }\n",
              "\n",
              "    .dataframe thead th {\n",
              "        text-align: right;\n",
              "    }\n",
              "</style>\n",
              "<table border=\"1\" class=\"dataframe\">\n",
              "  <thead>\n",
              "    <tr style=\"text-align: right;\">\n",
              "      <th></th>\n",
              "      <th>Unnamed: 0</th>\n",
              "      <th>image</th>\n",
              "      <th>black</th>\n",
              "      <th>blue</th>\n",
              "      <th>brown</th>\n",
              "      <th>green</th>\n",
              "      <th>red</th>\n",
              "      <th>white</th>\n",
              "      <th>dress</th>\n",
              "      <th>shirt</th>\n",
              "      <th>pants</th>\n",
              "      <th>shorts</th>\n",
              "      <th>shoes</th>\n",
              "    </tr>\n",
              "  </thead>\n",
              "  <tbody>\n",
              "    <tr>\n",
              "      <th>0</th>\n",
              "      <td>0</td>\n",
              "      <td>.\\clothes_dataset\\blue_shorts\\256d854b55ac32ea...</td>\n",
              "      <td>1.0</td>\n",
              "      <td>0.0</td>\n",
              "      <td>0.0</td>\n",
              "      <td>0.0</td>\n",
              "      <td>0.0</td>\n",
              "      <td>0.0</td>\n",
              "      <td>0.0</td>\n",
              "      <td>1.0</td>\n",
              "      <td>0.0</td>\n",
              "      <td>0.0</td>\n",
              "      <td>0.0</td>\n",
              "    </tr>\n",
              "    <tr>\n",
              "      <th>1</th>\n",
              "      <td>1</td>\n",
              "      <td>.\\clothes_dataset\\red_pants\\584f778aece14f07c2...</td>\n",
              "      <td>0.0</td>\n",
              "      <td>1.0</td>\n",
              "      <td>0.0</td>\n",
              "      <td>0.0</td>\n",
              "      <td>0.0</td>\n",
              "      <td>0.0</td>\n",
              "      <td>0.0</td>\n",
              "      <td>0.0</td>\n",
              "      <td>1.0</td>\n",
              "      <td>0.0</td>\n",
              "      <td>0.0</td>\n",
              "    </tr>\n",
              "    <tr>\n",
              "      <th>2</th>\n",
              "      <td>2</td>\n",
              "      <td>.\\clothes_dataset\\green_pants\\ec543ca241cefb2b...</td>\n",
              "      <td>0.0</td>\n",
              "      <td>0.0</td>\n",
              "      <td>0.0</td>\n",
              "      <td>0.0</td>\n",
              "      <td>1.0</td>\n",
              "      <td>0.0</td>\n",
              "      <td>1.0</td>\n",
              "      <td>0.0</td>\n",
              "      <td>0.0</td>\n",
              "      <td>0.0</td>\n",
              "      <td>0.0</td>\n",
              "    </tr>\n",
              "    <tr>\n",
              "      <th>3</th>\n",
              "      <td>3</td>\n",
              "      <td>.\\clothes_dataset\\brown_shorts\\c8db9e0f7010592...</td>\n",
              "      <td>0.0</td>\n",
              "      <td>1.0</td>\n",
              "      <td>0.0</td>\n",
              "      <td>0.0</td>\n",
              "      <td>0.0</td>\n",
              "      <td>0.0</td>\n",
              "      <td>1.0</td>\n",
              "      <td>0.0</td>\n",
              "      <td>0.0</td>\n",
              "      <td>0.0</td>\n",
              "      <td>0.0</td>\n",
              "    </tr>\n",
              "    <tr>\n",
              "      <th>4</th>\n",
              "      <td>4</td>\n",
              "      <td>.\\clothes_dataset\\white_dress\\551373c80717c5b0...</td>\n",
              "      <td>0.0</td>\n",
              "      <td>0.0</td>\n",
              "      <td>0.0</td>\n",
              "      <td>0.0</td>\n",
              "      <td>0.0</td>\n",
              "      <td>1.0</td>\n",
              "      <td>0.0</td>\n",
              "      <td>0.0</td>\n",
              "      <td>0.0</td>\n",
              "      <td>0.0</td>\n",
              "      <td>1.0</td>\n",
              "    </tr>\n",
              "  </tbody>\n",
              "</table>\n",
              "</div>"
            ],
            "text/plain": [
              "   Unnamed: 0                                              image  black  blue  \\\n",
              "0           0  .\\clothes_dataset\\blue_shorts\\256d854b55ac32ea...    1.0   0.0   \n",
              "1           1  .\\clothes_dataset\\red_pants\\584f778aece14f07c2...    0.0   1.0   \n",
              "2           2  .\\clothes_dataset\\green_pants\\ec543ca241cefb2b...    0.0   0.0   \n",
              "3           3  .\\clothes_dataset\\brown_shorts\\c8db9e0f7010592...    0.0   1.0   \n",
              "4           4  .\\clothes_dataset\\white_dress\\551373c80717c5b0...    0.0   0.0   \n",
              "\n",
              "   brown  green  red  white  dress  shirt  pants  shorts  shoes  \n",
              "0    0.0    0.0  0.0    0.0    0.0    1.0    0.0     0.0    0.0  \n",
              "1    0.0    0.0  0.0    0.0    0.0    0.0    1.0     0.0    0.0  \n",
              "2    0.0    0.0  1.0    0.0    1.0    0.0    0.0     0.0    0.0  \n",
              "3    0.0    0.0  0.0    0.0    1.0    0.0    0.0     0.0    0.0  \n",
              "4    0.0    0.0  0.0    1.0    0.0    0.0    0.0     0.0    1.0  "
            ]
          },
          "execution_count": 6,
          "metadata": {},
          "output_type": "execute_result"
        }
      ],
      "source": [
        "val_df['image'] = train_df['image'].apply(lambda x: x.replace('/', '\\\\'))\n",
        "test_df['image'] = test_df['image'].apply(lambda x: x.replace('/', '\\\\'))\n",
        "\n",
        "val_df.head()"
      ]
    },
    {
      "cell_type": "code",
      "execution_count": 23,
      "metadata": {
        "colab": {
          "base_uri": "https://localhost:8080/"
        },
        "id": "cNtlgYlLpbY1",
        "outputId": "bbebab82-903c-4cfa-f36f-b3f5881d8fc9"
      },
      "outputs": [
        {
          "data": {
            "text/plain": [
              "Index(['black', 'blue', 'brown', 'green', 'red', 'white', 'dress', 'shirt',\n",
              "       'pants', 'shorts', 'shoes'],\n",
              "      dtype='object')"
            ]
          },
          "execution_count": 23,
          "metadata": {},
          "output_type": "execute_result"
        }
      ],
      "source": [
        "train_df.columns[2:] # target data를 위해 train_dataframe의 columns를 list로 변환하였습니다. "
      ]
    },
    {
      "cell_type": "code",
      "execution_count": 7,
      "metadata": {
        "colab": {
          "base_uri": "https://localhost:8080/"
        },
        "id": "Bb1XmmckWCq5",
        "outputId": "5a8e5921-991b-4495-eb32-582b6384764f"
      },
      "outputs": [
        {
          "name": "stdout",
          "output_type": "stream",
          "text": [
            "Found 5578 validated image filenames.\n",
            "Found 2391 validated image filenames.\n"
          ]
        },
        {
          "data": {
            "text/plain": [
              "698"
            ]
          },
          "execution_count": 7,
          "metadata": {},
          "output_type": "execute_result"
        }
      ],
      "source": [
        "# Make Generator\n",
        "batch_size = 8\n",
        "train_generator = train_datagen.flow_from_dataframe( # 데이터프레임에서 이미지 데이터를 가져오는 제너레이터를 생성합니다.\n",
        "    dataframe=train_df, # 이미지 데이터를 포함하고 있는 데이터프레임을 정의합니다.\n",
        "    directory='./archive', # 이미지 파일을 불러올 경로를 정의합니다. \n",
        "    x_col = 'image', # 이미지 파일의 경로(train_df의 image column에 적힌 이미지 경로)\n",
        "    y_col = list(train_df.columns[2:]), # 이미지와 클래스 분류를 수행하기 위한 열 목록을 지정합니다.\n",
        "    target_size = (112, 112), # 입력 이미지의 크기를 지정합니다. (224, 224)로 테스트 해봤는데 학습 속도가 너무 오래 걸리는 문제를 확인했습니다. \n",
        "    color_mode='rgb', # 이미지의 색상 모드를 R,G,B 3개의 채널로 지정합니다. \n",
        "    class_mode='raw', # 클래스 모드를 지정합니다. 이 경우에는 다중 클래스 분류 문제를 다루고 있으므로 'other'로 설정합니다. \n",
        "    batch_size=batch_size, # batch의 크기를 지정합니다. 정밀한 학습을 위해 8로 지정했습니다. \n",
        "    seed=42 # 난수 생성 알고리즘의 초기값을 지정합니다. 학습 과정을 재현하기 위해 데이터를 섞지 않고 seed 값을 고정합니다. \n",
        ")\n",
        "\n",
        "val_generator = val_datagen.flow_from_dataframe(\n",
        "    dataframe=val_df,\n",
        "    directory='./archive',\n",
        "    x_col = 'image',\n",
        "    y_col = list(val_df.columns[2:]),\n",
        "    target_size = (112, 112),\n",
        "    color_mode='rgb',\n",
        "    class_mode='raw',\n",
        "    batch_size=batch_size,\n",
        "    shuffle=True\n",
        ")\n",
        "\n",
        "len(train_generator)"
      ]
    },
    {
      "cell_type": "code",
      "execution_count": 8,
      "metadata": {
        "colab": {
          "base_uri": "https://localhost:8080/"
        },
        "id": "0i2TcObVXnvV",
        "outputId": "8c70a531-ac93-4fff-e613-972c5185d91f"
      },
      "outputs": [
        {
          "name": "stdout",
          "output_type": "stream",
          "text": [
            "Epoch 1/40\n",
            "698/698 [==============================] - 16s 22ms/step - loss: 0.5313 - acc: 0.2193 - val_loss: 0.5779 - val_acc: 0.1117\n",
            "Epoch 2/40\n",
            "698/698 [==============================] - 15s 22ms/step - loss: 0.4036 - acc: 0.1045 - val_loss: 0.5947 - val_acc: 0.0318\n",
            "Epoch 3/40\n",
            "698/698 [==============================] - 15s 22ms/step - loss: 0.3723 - acc: 0.0762 - val_loss: 0.7337 - val_acc: 0.0452\n",
            "Epoch 4/40\n",
            "698/698 [==============================] - 15s 22ms/step - loss: 0.3538 - acc: 0.1067 - val_loss: 0.7489 - val_acc: 0.0335\n",
            "Epoch 5/40\n",
            "698/698 [==============================] - 16s 22ms/step - loss: 0.3437 - acc: 0.1804 - val_loss: 0.7208 - val_acc: 0.0548\n",
            "Epoch 6/40\n",
            "698/698 [==============================] - 16s 22ms/step - loss: 0.3329 - acc: 0.2297 - val_loss: 0.7972 - val_acc: 0.1138\n",
            "Epoch 7/40\n",
            "698/698 [==============================] - 15s 22ms/step - loss: 0.3300 - acc: 0.2608 - val_loss: 0.8175 - val_acc: 0.1125\n",
            "Epoch 8/40\n",
            "698/698 [==============================] - 15s 22ms/step - loss: 0.3248 - acc: 0.2831 - val_loss: 0.8304 - val_acc: 0.0690\n",
            "Epoch 9/40\n",
            "698/698 [==============================] - 15s 22ms/step - loss: 0.3154 - acc: 0.3184 - val_loss: 0.8169 - val_acc: 0.1008\n",
            "Epoch 10/40\n",
            "698/698 [==============================] - 15s 22ms/step - loss: 0.3096 - acc: 0.3363 - val_loss: 0.8358 - val_acc: 0.0987\n",
            "Epoch 11/40\n",
            "698/698 [==============================] - 15s 22ms/step - loss: 0.3038 - acc: 0.3691 - val_loss: 0.8934 - val_acc: 0.1209\n",
            "Epoch 12/40\n",
            "698/698 [==============================] - 15s 22ms/step - loss: 0.2972 - acc: 0.4521 - val_loss: 0.8781 - val_acc: 0.1209\n",
            "Epoch 13/40\n",
            "698/698 [==============================] - 15s 22ms/step - loss: 0.2948 - acc: 0.4785 - val_loss: 0.8377 - val_acc: 0.1359\n",
            "Epoch 14/40\n",
            "698/698 [==============================] - 15s 22ms/step - loss: 0.2912 - acc: 0.4925 - val_loss: 0.8976 - val_acc: 0.1330\n",
            "Epoch 15/40\n",
            "698/698 [==============================] - 15s 21ms/step - loss: 0.2866 - acc: 0.5047 - val_loss: 1.0175 - val_acc: 0.1547\n",
            "Epoch 16/40\n",
            "698/698 [==============================] - 15s 21ms/step - loss: 0.2813 - acc: 0.5231 - val_loss: 1.0434 - val_acc: 0.1351\n",
            "Epoch 17/40\n",
            "698/698 [==============================] - 15s 21ms/step - loss: 0.2806 - acc: 0.5247 - val_loss: 0.9852 - val_acc: 0.1322\n",
            "Epoch 18/40\n",
            "698/698 [==============================] - 15s 21ms/step - loss: 0.2807 - acc: 0.5133 - val_loss: 0.9853 - val_acc: 0.1330\n",
            "Epoch 19/40\n",
            "698/698 [==============================] - 15s 21ms/step - loss: 0.2781 - acc: 0.5154 - val_loss: 1.0566 - val_acc: 0.1251\n",
            "Epoch 20/40\n",
            "698/698 [==============================] - 15s 22ms/step - loss: 0.2779 - acc: 0.5070 - val_loss: 1.1679 - val_acc: 0.1455\n",
            "Epoch 21/40\n",
            "698/698 [==============================] - 15s 21ms/step - loss: 0.2775 - acc: 0.5292 - val_loss: 1.0460 - val_acc: 0.1326\n",
            "Epoch 22/40\n",
            "698/698 [==============================] - 15s 22ms/step - loss: 0.2720 - acc: 0.5201 - val_loss: 1.0741 - val_acc: 0.1393\n",
            "Epoch 23/40\n",
            "698/698 [==============================] - 15s 22ms/step - loss: 0.2710 - acc: 0.5269 - val_loss: 1.0693 - val_acc: 0.1259\n",
            "Epoch 24/40\n",
            "698/698 [==============================] - 15s 22ms/step - loss: 0.2728 - acc: 0.5152 - val_loss: 1.0448 - val_acc: 0.1309\n",
            "Epoch 25/40\n",
            "698/698 [==============================] - 15s 22ms/step - loss: 0.2746 - acc: 0.5097 - val_loss: 1.1648 - val_acc: 0.1330\n",
            "Epoch 26/40\n",
            "698/698 [==============================] - 15s 22ms/step - loss: 0.2706 - acc: 0.5305 - val_loss: 1.1677 - val_acc: 0.1535\n",
            "Epoch 27/40\n",
            "698/698 [==============================] - 16s 22ms/step - loss: 0.2701 - acc: 0.5366 - val_loss: 1.2238 - val_acc: 0.1614\n",
            "Epoch 28/40\n",
            "698/698 [==============================] - 15s 22ms/step - loss: 0.2668 - acc: 0.5588 - val_loss: 1.2846 - val_acc: 0.1514\n",
            "Epoch 29/40\n",
            "698/698 [==============================] - 15s 22ms/step - loss: 0.2655 - acc: 0.5622 - val_loss: 1.1267 - val_acc: 0.1481\n",
            "Epoch 30/40\n",
            "698/698 [==============================] - 16s 22ms/step - loss: 0.2635 - acc: 0.5604 - val_loss: 1.3793 - val_acc: 0.1685\n",
            "Epoch 31/40\n",
            "698/698 [==============================] - 15s 22ms/step - loss: 0.2654 - acc: 0.5669 - val_loss: 1.2806 - val_acc: 0.1460\n",
            "Epoch 32/40\n",
            "698/698 [==============================] - 15s 22ms/step - loss: 0.2638 - acc: 0.5595 - val_loss: 1.2466 - val_acc: 0.1443\n",
            "Epoch 33/40\n",
            "698/698 [==============================] - 16s 22ms/step - loss: 0.2644 - acc: 0.5662 - val_loss: 1.2460 - val_acc: 0.1719\n",
            "Epoch 34/40\n",
            "698/698 [==============================] - 16s 22ms/step - loss: 0.2660 - acc: 0.5726 - val_loss: 1.2428 - val_acc: 0.1556\n",
            "Epoch 35/40\n",
            "698/698 [==============================] - 15s 22ms/step - loss: 0.2673 - acc: 0.5735 - val_loss: 0.9966 - val_acc: 0.1752\n",
            "Epoch 36/40\n",
            "698/698 [==============================] - 15s 22ms/step - loss: 0.2588 - acc: 0.5843 - val_loss: 1.4118 - val_acc: 0.1916\n",
            "Epoch 37/40\n",
            "698/698 [==============================] - 15s 22ms/step - loss: 0.2603 - acc: 0.5828 - val_loss: 1.2354 - val_acc: 0.1639\n",
            "Epoch 38/40\n",
            "698/698 [==============================] - 15s 22ms/step - loss: 0.2594 - acc: 0.5737 - val_loss: 1.1779 - val_acc: 0.1744\n",
            "Epoch 39/40\n",
            "698/698 [==============================] - 15s 22ms/step - loss: 0.2568 - acc: 0.5844 - val_loss: 1.3676 - val_acc: 0.1769\n",
            "Epoch 40/40\n",
            "698/698 [==============================] - 15s 22ms/step - loss: 0.2585 - acc: 0.5748 - val_loss: 1.2613 - val_acc: 0.1727\n"
          ]
        }
      ],
      "source": [
        "history = model.fit(train_generator,\n",
        "         steps_per_epoch=get_steps(len(train_df), batch_size), # 전체 데이터의 길이와 batch 사이즈의 크기를 비교하여 epoch 횟수를 할당합니다. \n",
        "         validation_data = val_generator, # 검증 데이터를 사용하여 학습 데이터에 대한 과적합을 방지하고, 모델의 성능을 모니터링하며 하이퍼퍼라미터를 조정합니다. \n",
        "         validation_steps=get_steps(len(val_df), batch_size),\n",
        "         epochs = 40)"
      ]
    },
    {
      "cell_type": "markdown",
      "metadata": {},
      "source": [
        "### 레이어의 수를 줄였더니(Dropout말고 물리적으로) 성능이 미세하게 향상되는 것 확인"
      ]
    },
    {
      "cell_type": "code",
      "execution_count": 8,
      "metadata": {},
      "outputs": [
        {
          "name": "stdout",
          "output_type": "stream",
          "text": [
            "Epoch 1/20\n",
            "698/698 [==============================] - 44s 62ms/step - loss: 0.5131 - acc: 0.2551 - val_loss: 0.6945 - val_acc: 0.0519\n",
            "Epoch 2/20\n",
            "698/698 [==============================] - 15s 21ms/step - loss: 0.3634 - acc: 0.3530 - val_loss: 0.8460 - val_acc: 0.1221\n",
            "Epoch 3/20\n",
            "698/698 [==============================] - 15s 21ms/step - loss: 0.3088 - acc: 0.4953 - val_loss: 0.9479 - val_acc: 0.1476\n",
            "Epoch 4/20\n",
            "698/698 [==============================] - 15s 22ms/step - loss: 0.2774 - acc: 0.5746 - val_loss: 1.0165 - val_acc: 0.1380\n",
            "Epoch 5/20\n",
            "698/698 [==============================] - 15s 22ms/step - loss: 0.2666 - acc: 0.5934 - val_loss: 1.0273 - val_acc: 0.1372\n",
            "Epoch 6/20\n",
            "698/698 [==============================] - 15s 22ms/step - loss: 0.2705 - acc: 0.5895 - val_loss: 1.0563 - val_acc: 0.1380\n",
            "Epoch 7/20\n",
            "698/698 [==============================] - 15s 22ms/step - loss: 0.2559 - acc: 0.5961 - val_loss: 1.0750 - val_acc: 0.1489\n",
            "Epoch 8/20\n",
            "698/698 [==============================] - 15s 21ms/step - loss: 0.2491 - acc: 0.6079 - val_loss: 1.1365 - val_acc: 0.1439\n",
            "Epoch 9/20\n",
            "698/698 [==============================] - 15s 22ms/step - loss: 0.2479 - acc: 0.6072 - val_loss: 1.1091 - val_acc: 0.1230\n",
            "Epoch 10/20\n",
            "698/698 [==============================] - 15s 21ms/step - loss: 0.2469 - acc: 0.6015 - val_loss: 1.1522 - val_acc: 0.1418\n",
            "Epoch 11/20\n",
            "698/698 [==============================] - 15s 22ms/step - loss: 0.2395 - acc: 0.6149 - val_loss: 1.1785 - val_acc: 0.1506\n",
            "Epoch 12/20\n",
            "698/698 [==============================] - 15s 22ms/step - loss: 0.2438 - acc: 0.6113 - val_loss: 1.2381 - val_acc: 0.1313\n",
            "Epoch 13/20\n",
            "698/698 [==============================] - 15s 22ms/step - loss: 0.2354 - acc: 0.6183 - val_loss: 1.1959 - val_acc: 0.1389\n",
            "Epoch 14/20\n",
            "698/698 [==============================] - 15s 22ms/step - loss: 0.2328 - acc: 0.6181 - val_loss: 1.2872 - val_acc: 0.1635\n",
            "Epoch 15/20\n",
            "698/698 [==============================] - 15s 22ms/step - loss: 0.2347 - acc: 0.6180 - val_loss: 1.2738 - val_acc: 0.1435\n",
            "Epoch 16/20\n",
            "698/698 [==============================] - 15s 22ms/step - loss: 0.2250 - acc: 0.6287 - val_loss: 1.2750 - val_acc: 0.1326\n",
            "Epoch 17/20\n",
            "698/698 [==============================] - 15s 21ms/step - loss: 0.2297 - acc: 0.6260 - val_loss: 1.3183 - val_acc: 0.1447\n",
            "Epoch 18/20\n",
            "698/698 [==============================] - 15s 22ms/step - loss: 0.2305 - acc: 0.6232 - val_loss: 1.2639 - val_acc: 0.1443\n",
            "Epoch 19/20\n",
            "698/698 [==============================] - 15s 22ms/step - loss: 0.2228 - acc: 0.6302 - val_loss: 1.3150 - val_acc: 0.1280\n",
            "Epoch 20/20\n",
            "698/698 [==============================] - 15s 22ms/step - loss: 0.2188 - acc: 0.6452 - val_loss: 1.3631 - val_acc: 0.1251\n"
          ]
        }
      ],
      "source": [
        "history = model.fit(train_generator, # 레이어 1개\n",
        "         steps_per_epoch=get_steps(len(train_df), batch_size), # 전체 데이터의 길이와 batch 사이즈의 크기를 비교하여 epoch 횟수를 할당합니다. \n",
        "         validation_data = val_generator, # 검증 데이터를 사용하여 학습 데이터에 대한 과적합을 방지하고, 모델의 성능을 모니터링하며 하이퍼퍼라미터를 조정합니다. \n",
        "         validation_steps=get_steps(len(val_df), batch_size),\n",
        "         epochs = 20)"
      ]
    },
    {
      "cell_type": "markdown",
      "metadata": {},
      "source": [
        "### 모델 성능 그래프"
      ]
    },
    {
      "cell_type": "code",
      "execution_count": 9,
      "metadata": {},
      "outputs": [
        {
          "data": {
            "image/png": "[encoded data removed]",
            "text/plain": [
              "<Figure size 1200x600 with 1 Axes>"
            ]
          },
          "metadata": {},
          "output_type": "display_data"
        },
        {
          "data": {
            "image/png": "[encoded data removed]",
            "text/plain": [
              "<Figure size 1200x600 with 1 Axes>"
            ]
          },
          "metadata": {},
          "output_type": "display_data"
        }
      ],
      "source": [
        "import matplotlib.pyplot as plt\n",
        "hist = history.history\n",
        "# 훈련 및 검증 정확도 데이터 추출\n",
        "train_acc, train_loss = hist['acc'], hist['loss']\n",
        "val_acc, val_loss = hist['val_acc'], hist['val_loss']\n",
        "\n",
        "# 정확도 그래프 시각화\n",
        "plt.figure(figsize=(12, 6))\n",
        "plt.subplot(1, 2, 1)\n",
        "plt.plot(train_acc, label='Training Accuracy')\n",
        "plt.plot(val_acc, label='Validation Accuracy')\n",
        "plt.xlabel('Epoch')\n",
        "plt.ylabel('Accuracy')\n",
        "plt.title('Training and Validation Accuracy')\n",
        "plt.legend()  # 범례 표시\n",
        "plt.show()\n",
        "\n",
        "# 정확도 그래프 시각화\n",
        "plt.figure(figsize=(12, 6))\n",
        "plt.subplot(1, 2, 2)\n",
        "plt.plot(train_loss, label='Training Accuracy')\n",
        "plt.plot(val_loss, label='Validation Accuracy')\n",
        "plt.xlabel('Epoch')\n",
        "plt.ylabel('Accuracy')\n",
        "plt.title('Training and Validation Accuracy')\n",
        "plt.legend()  # 범례 표시\n",
        "plt.show()"
      ]
    },
    {
      "cell_type": "code",
      "execution_count": 10,
      "metadata": {
        "id": "vtdQ9e5NWWso"
      },
      "outputs": [],
      "source": [
        "# 6. 모델 저장하기\n",
        "import os\n",
        "save_path = os.path.join('model', 'img_generator_light_model.h5')\n",
        "model.save(save_path)"
      ]
    },
    {
      "cell_type": "code",
      "execution_count": null,
      "metadata": {
        "id": "OCjF7_75npIz"
      },
      "outputs": [],
      "source": [
        "test_df['image'].tolist()"
      ]
    },
    {
      "cell_type": "code",
      "execution_count": 11,
      "metadata": {
        "id": "6_MOXM8_sbye"
      },
      "outputs": [],
      "source": [
        "from keras.models import load_model\n",
        "\n",
        "# 모델 파일 경로\n",
        "model_path = r'C:\\Users\\openeg\\Downloads\\model\\img_generator_light_model.h5'\n",
        "# r'C:\\Users\\openeg\\Downloads\\model\\img_generator_model.h5'\n",
        "\n",
        "# 모델 로드\n",
        "model = load_model(model_path)"
      ]
    },
    {
      "cell_type": "code",
      "execution_count": 13,
      "metadata": {},
      "outputs": [
        {
          "name": "stdout",
          "output_type": "stream",
          "text": [
            "c:\\Users\\openeg\\Downloads\\archive\n"
          ]
        }
      ],
      "source": [
        "%cd ./archive"
      ]
    },
    {
      "cell_type": "markdown",
      "metadata": {
        "id": "IIQ9XAFDivGr"
      },
      "source": [
        "### 클래스화"
      ]
    },
    {
      "cell_type": "code",
      "execution_count": 12,
      "metadata": {
        "colab": {
          "base_uri": "https://localhost:8080/",
          "height": 650
        },
        "id": "dwEN2U24j398",
        "outputId": "14428da6-f1a2-4410-9f01-643970c9b2c7"
      },
      "outputs": [
        {
          "ename": "error",
          "evalue": "OpenCV(4.9.0) D:\\a\\opencv-python\\opencv-python\\opencv\\modules\\imgproc\\src\\resize.cpp:4152: error: (-215:Assertion failed) !ssize.empty() in function 'cv::resize'\n",
          "output_type": "error",
          "traceback": [
            "\u001b[1;31m---------------------------------------------------------------------------\u001b[0m",
            "\u001b[1;31merror\u001b[0m                                     Traceback (most recent call last)",
            "Cell \u001b[1;32mIn[12], line 41\u001b[0m\n\u001b[0;32m     39\u001b[0m predictor \u001b[38;5;241m=\u001b[39m ImagePredictor(model, test_df)\n\u001b[0;32m     40\u001b[0m \u001b[38;5;66;03m# 이미지 예측 및 시각화\u001b[39;00m\n\u001b[1;32m---> 41\u001b[0m \u001b[43mpredictor\u001b[49m\u001b[38;5;241;43m.\u001b[39;49m\u001b[43mpredict_and_visualize\u001b[49m\u001b[43m(\u001b[49m\u001b[43m)\u001b[49m\n",
            "Cell \u001b[1;32mIn[12], line 18\u001b[0m, in \u001b[0;36mImagePredictor.predict_and_visualize\u001b[1;34m(self, num_images)\u001b[0m\n\u001b[0;32m     16\u001b[0m \u001b[38;5;28;01mfor\u001b[39;00m i, img_path \u001b[38;5;129;01min\u001b[39;00m \u001b[38;5;28menumerate\u001b[39m(test_image_paths[:num_images]): \u001b[38;5;66;03m# 지정한 num_images 수만큼의 이미지를 보여줍니다. \u001b[39;00m\n\u001b[0;32m     17\u001b[0m     image \u001b[38;5;241m=\u001b[39m cv2\u001b[38;5;241m.\u001b[39mimread(img_path) \u001b[38;5;66;03m# OPENCV 라이브러리를 사용하여 이미지를 읽어옵니다. \u001b[39;00m\n\u001b[1;32m---> 18\u001b[0m     image \u001b[38;5;241m=\u001b[39m \u001b[43mcv2\u001b[49m\u001b[38;5;241;43m.\u001b[39;49m\u001b[43mresize\u001b[49m\u001b[43m(\u001b[49m\u001b[43mimage\u001b[49m\u001b[43m,\u001b[49m\u001b[43m \u001b[49m\u001b[43m(\u001b[49m\u001b[38;5;241;43m112\u001b[39;49m\u001b[43m,\u001b[49m\u001b[43m \u001b[49m\u001b[38;5;241;43m112\u001b[39;49m\u001b[43m)\u001b[49m\u001b[43m)\u001b[49m \u001b[38;5;66;03m# 입력 데이터 사이즈를 변환합니다. 학습한 모델의 입력 사이즈와 동일하게 설정합니다.  \u001b[39;00m\n\u001b[0;32m     19\u001b[0m     image \u001b[38;5;241m=\u001b[39m image\u001b[38;5;241m.\u001b[39mastype(np\u001b[38;5;241m.\u001b[39mfloat32) \u001b[38;5;241m/\u001b[39m \u001b[38;5;241m255.0\u001b[39m \u001b[38;5;66;03m# 이미지의 픽셀 값을 float 타입으로 변환합니다 (pixel.)\u001b[39;00m\n\u001b[0;32m     20\u001b[0m     image \u001b[38;5;241m=\u001b[39m np\u001b[38;5;241m.\u001b[39mexpand_dims(image, axis\u001b[38;5;241m=\u001b[39m\u001b[38;5;241m0\u001b[39m) \u001b[38;5;66;03m# array 연산을 하기 위해 이미지를 numpy array로 변환하고, 축을 할당하여 batch의 차원을 만듭니다.\u001b[39;00m\n",
            "\u001b[1;31merror\u001b[0m: OpenCV(4.9.0) D:\\a\\opencv-python\\opencv-python\\opencv\\modules\\imgproc\\src\\resize.cpp:4152: error: (-215:Assertion failed) !ssize.empty() in function 'cv::resize'\n"
          ]
        },
        {
          "data": {
            "text/plain": [
              "<Figure size 1200x600 with 0 Axes>"
            ]
          },
          "metadata": {},
          "output_type": "display_data"
        }
      ],
      "source": [
        "import numpy as np\n",
        "import cv2\n",
        "import matplotlib.pyplot as plt\n",
        "\n",
        "class ImagePredictor: # 이미지 예측기 클래스를 정의합니다. \n",
        "    def __init__(self, model, test_df): # 이미지 예측기 클래스의 생성자를 지정합니다. model과 test_dataframe을 인수로 받습니다. \n",
        "        self.model = model # 인스턴스 변수 model을 할당합니다.\n",
        "        self.test_df = test_df # 인스턴스 변수에 test_dataframe을 할당합니다. \n",
        "\n",
        "    def predict_and_visualize(self, num_images=8): # 이미지를 예측하고 시각화하는 메서드를 정의합니다. \n",
        "        preds = [] # 예측 결과를 저장할 빈 리스트를 생성합니다. \n",
        "        test_image_paths = self.test_df['image'].tolist() # test_dataframe에서 이미지 경로를 가져와 iterable한 리스트로 변환합니다. \n",
        "\n",
        "        plt.figure(figsize=(12, 6)) # 이미지를 시각화하기 위한 plot을 생성합니다. \n",
        "\n",
        "        for i, img_path in enumerate(test_image_paths[:num_images]): # 지정한 num_images 수만큼의 이미지를 보여줍니다. \n",
        "            image = cv2.imread(img_path) # OPENCV 라이브러리를 사용하여 이미지를 읽어옵니다. \n",
        "            image = cv2.resize(image, (112, 112)) # 입력 데이터 사이즈를 변환합니다. 학습한 모델의 입력 사이즈와 동일하게 설정합니다.  \n",
        "            image = image.astype(np.float32) / 255.0 # 이미지의 픽셀 값을 float 타입으로 변환합니다 (pixel.)\n",
        "            image = np.expand_dims(image, axis=0) # array 연산을 하기 위해 이미지를 numpy array로 변환하고, 축을 할당하여 batch의 차원을 만듭니다.\n",
        "                                                    #  이는 이미지를 하나의 배치로 간주함을 의미합니다.  \n",
        "\n",
        "            pred = self.model.predict(image) # 모델을 사용하여 이미지를 예측합니다. \n",
        "            preds.append(pred)\n",
        "\n",
        "            classes = list(self.test_df.columns[2:]) # 클래스 라벨을 가져와 리스트로 변환합니다.\n",
        "            top_classes = np.argsort(pred[0])[::-1][:2] # 가장 높은 확률을 갖는 상위 2개 클래스의 인덱스를 가져옵니다.\n",
        "            top_probs = pred[0][top_classes]  # 예측 확률 중 상위 클래스에 해당하는 확률을 가져옵니다.\n",
        "            top_class_names = [classes[idx] for idx in top_classes] # 상위 클래스와 대응하는 클래스 값을 가져옵니다.\n",
        "\n",
        "            plt.subplot(2, 4, i + 1) # 이미지를 시각화할 서브플롯을 생성합니다. 이미지가 8개 이므로 2행 4열\n",
        "            plt.imshow(cv2.cvtColor(cv2.imread(img_path), cv2.COLOR_BGR2RGB)) # openCV의 채널 구조인 BGR을 RGB로 변환하여 plot에 출력합니다. \n",
        "            plt.title(f'{top_class_names[0]}: {top_probs[0]:.2f}, {top_class_names[1]}: {top_probs[1]:.2f}') # 서브 플롯의 제목을 설정합니다. 예측 결과와 확률을 표시합니다. \n",
        "\n",
        "        plt.tight_layout()\n",
        "        plt.show()\n",
        "\n",
        "# ImagePredictor 객체 생성\n",
        "predictor = ImagePredictor(model, test_df)\n",
        "# 이미지 예측 및 시각화\n",
        "predictor.predict_and_visualize()\n"
      ]
    },
    {
      "cell_type": "code",
      "execution_count": 49,
      "metadata": {
        "colab": {
          "base_uri": "https://localhost:8080/",
          "height": 650
        },
        "id": "qDKltbzctz7q",
        "outputId": "e6aba036-7148-4b12-ed6b-28ecbe1ecc9a"
      },
      "outputs": [
        {
          "ename": "error",
          "evalue": "OpenCV(4.9.0) D:\\a\\opencv-python\\opencv-python\\opencv\\modules\\imgproc\\src\\resize.cpp:4152: error: (-215:Assertion failed) !ssize.empty() in function 'cv::resize'\n",
          "output_type": "error",
          "traceback": [
            "\u001b[1;31m---------------------------------------------------------------------------\u001b[0m",
            "\u001b[1;31merror\u001b[0m                                     Traceback (most recent call last)",
            "Cell \u001b[1;32mIn[49], line 16\u001b[0m\n\u001b[0;32m     13\u001b[0m \u001b[38;5;28;01mfor\u001b[39;00m i, img_path \u001b[38;5;129;01min\u001b[39;00m \u001b[38;5;28menumerate\u001b[39m(test_image_paths[:\u001b[38;5;241m8\u001b[39m]):\n\u001b[0;32m     14\u001b[0m     \u001b[38;5;66;03m# 이미지 전처리\u001b[39;00m\n\u001b[0;32m     15\u001b[0m     image \u001b[38;5;241m=\u001b[39m cv2\u001b[38;5;241m.\u001b[39mimread(img_path)\n\u001b[1;32m---> 16\u001b[0m     image \u001b[38;5;241m=\u001b[39m \u001b[43mcv2\u001b[49m\u001b[38;5;241;43m.\u001b[39;49m\u001b[43mresize\u001b[49m\u001b[43m(\u001b[49m\u001b[43mimage\u001b[49m\u001b[43m,\u001b[49m\u001b[43m \u001b[49m\u001b[43m(\u001b[49m\u001b[38;5;241;43m112\u001b[39;49m\u001b[43m,\u001b[49m\u001b[43m \u001b[49m\u001b[38;5;241;43m112\u001b[39;49m\u001b[43m)\u001b[49m\u001b[43m)\u001b[49m  \u001b[38;5;66;03m# 이미지 크기 조정\u001b[39;00m\n\u001b[0;32m     17\u001b[0m     image \u001b[38;5;241m=\u001b[39m image\u001b[38;5;241m.\u001b[39mastype(np\u001b[38;5;241m.\u001b[39mfloat32) \u001b[38;5;241m/\u001b[39m \u001b[38;5;241m255.0\u001b[39m  \u001b[38;5;66;03m# 이미지 스케일 조정\u001b[39;00m\n\u001b[0;32m     18\u001b[0m     image \u001b[38;5;241m=\u001b[39m np\u001b[38;5;241m.\u001b[39mexpand_dims(image, axis\u001b[38;5;241m=\u001b[39m\u001b[38;5;241m0\u001b[39m)  \u001b[38;5;66;03m# 배치 차원 추가\u001b[39;00m\n",
            "\u001b[1;31merror\u001b[0m: OpenCV(4.9.0) D:\\a\\opencv-python\\opencv-python\\opencv\\modules\\imgproc\\src\\resize.cpp:4152: error: (-215:Assertion failed) !ssize.empty() in function 'cv::resize'\n"
          ]
        },
        {
          "data": {
            "text/plain": [
              "<Figure size 1200x600 with 0 Axes>"
            ]
          },
          "metadata": {},
          "output_type": "display_data"
        }
      ],
      "source": [
        "import numpy as np\n",
        "import cv2\n",
        "import matplotlib.pyplot as plt\n",
        "\n",
        "# 예측값을 저장할 리스트\n",
        "preds = []\n",
        "test_image_paths = test_df['image'].tolist()\n",
        "\n",
        "# 이미지와 예측값을 함께 시각화\n",
        "plt.figure(figsize=(12, 6))\n",
        "\n",
        "# 상위 8개 이미지에 대해 예측 및 시각화\n",
        "for i, img_path in enumerate(test_image_paths[:8]):\n",
        "    # 이미지 전처리\n",
        "    image = cv2.imread(img_path)\n",
        "    image = cv2.resize(image, (112, 112))  # 이미지 크기 조정\n",
        "    image = image.astype(np.float32) / 255.0  # 이미지 스케일 조정\n",
        "    image = np.expand_dims(image, axis=0)  # 배치 차원 추가\n",
        "\n",
        "    # 이미지를 모델에 입력하여 예측값 얻기\n",
        "    pred = model.predict(image)\n",
        "    preds.append(pred)\n",
        "\n",
        "    # 예측 결과와 해당 클래스의 확률 표시\n",
        "    classes = list(train_df.columns[2:])\n",
        "    top_classes = np.argsort(pred[0])[::-1][:2]  # 확률이 가장 높은 상위 2개 클래스 인덱스\n",
        "    top_probs = pred[0][top_classes]  # 상위 2개 클래스에 대한 확률\n",
        "    top_class_names = [classes[idx] for idx in top_classes]  # 상위 2개 클래스의 이름\n",
        "\n",
        "    # 이미지를 시각화\n",
        "    plt.subplot(2, 4, i + 1)\n",
        "    plt.imshow(cv2.cvtColor(cv2.imread(img_path), cv2.COLOR_BGR2RGB))  # 이미지를 RGB 형식으로 변환하여 시각화\n",
        "    plt.title(f'{top_class_names[0]}: {top_probs[0]:.2f}, {top_class_names[1]}: {top_probs[1]:.2f}')  # 상위 2개 클래스와 확률 표시\n",
        "\n",
        "plt.tight_layout()\n",
        "plt.show()\n"
      ]
    },
    {
      "cell_type": "code",
      "execution_count": 32,
      "metadata": {},
      "outputs": [
        {
          "name": "stdout",
          "output_type": "stream",
          "text": [
            "Epoch 1/20\n",
            "698/698 [==============================] - 16s 22ms/step - loss: 0.9222 - accuracy: 0.3767 - val_loss: 3.0434 - val_accuracy: 0.0970\n",
            "Epoch 2/20\n",
            "698/698 [==============================] - 15s 21ms/step - loss: 0.8366 - accuracy: 0.4532 - val_loss: 3.7241 - val_accuracy: 0.1317\n",
            "Epoch 3/20\n",
            "698/698 [==============================] - 15s 21ms/step - loss: 0.8612 - accuracy: 0.4776 - val_loss: 4.4471 - val_accuracy: 0.1861\n",
            "Epoch 4/20\n",
            "698/698 [==============================] - 14s 21ms/step - loss: 0.9014 - accuracy: 0.4846 - val_loss: 5.0071 - val_accuracy: 0.1150\n",
            "Epoch 5/20\n",
            "698/698 [==============================] - 15s 21ms/step - loss: 0.8903 - accuracy: 0.4968 - val_loss: 5.0619 - val_accuracy: 0.1531\n",
            "Epoch 6/20\n",
            "629/698 [==========================>...] - ETA: 1s - loss: 0.8275 - accuracy: 0.5008"
          ]
        },
        {
          "ename": "KeyboardInterrupt",
          "evalue": "",
          "output_type": "error",
          "traceback": [
            "\u001b[1;31m---------------------------------------------------------------------------\u001b[0m",
            "\u001b[1;31mKeyboardInterrupt\u001b[0m                         Traceback (most recent call last)",
            "Cell \u001b[1;32mIn[32], line 43\u001b[0m\n\u001b[0;32m     38\u001b[0m model\u001b[38;5;241m.\u001b[39mcompile(optimizer\u001b[38;5;241m=\u001b[39m\u001b[38;5;124m'\u001b[39m\u001b[38;5;124madam\u001b[39m\u001b[38;5;124m'\u001b[39m,\n\u001b[0;32m     39\u001b[0m               loss\u001b[38;5;241m=\u001b[39m\u001b[38;5;124m'\u001b[39m\u001b[38;5;124mbinary_crossentropy\u001b[39m\u001b[38;5;124m'\u001b[39m,\n\u001b[0;32m     40\u001b[0m               metrics\u001b[38;5;241m=\u001b[39m[\u001b[38;5;124m'\u001b[39m\u001b[38;5;124maccuracy\u001b[39m\u001b[38;5;124m'\u001b[39m])\n\u001b[0;32m     42\u001b[0m \u001b[38;5;66;03m# 모델 훈련\u001b[39;00m\n\u001b[1;32m---> 43\u001b[0m history \u001b[38;5;241m=\u001b[39m \u001b[43mmodel\u001b[49m\u001b[38;5;241;43m.\u001b[39;49m\u001b[43mfit\u001b[49m\u001b[43m(\u001b[49m\u001b[43mtrain_generator\u001b[49m\u001b[43m,\u001b[49m\n\u001b[0;32m     44\u001b[0m \u001b[43m                    \u001b[49m\u001b[43msteps_per_epoch\u001b[49m\u001b[38;5;241;43m=\u001b[39;49m\u001b[43mget_steps\u001b[49m\u001b[43m(\u001b[49m\u001b[38;5;28;43mlen\u001b[39;49m\u001b[43m(\u001b[49m\u001b[43mtrain_df\u001b[49m\u001b[43m)\u001b[49m\u001b[43m,\u001b[49m\u001b[43m \u001b[49m\u001b[43mbatch_size\u001b[49m\u001b[43m)\u001b[49m\u001b[43m,\u001b[49m\u001b[43m \u001b[49m\n\u001b[0;32m     45\u001b[0m \u001b[43m                    \u001b[49m\u001b[43mvalidation_data\u001b[49m\u001b[38;5;241;43m=\u001b[39;49m\u001b[43mval_generator\u001b[49m\u001b[43m,\u001b[49m\n\u001b[0;32m     46\u001b[0m \u001b[43m                    \u001b[49m\u001b[43mvalidation_steps\u001b[49m\u001b[38;5;241;43m=\u001b[39;49m\u001b[43mget_steps\u001b[49m\u001b[43m(\u001b[49m\u001b[38;5;28;43mlen\u001b[39;49m\u001b[43m(\u001b[49m\u001b[43mval_df\u001b[49m\u001b[43m)\u001b[49m\u001b[43m,\u001b[49m\u001b[43m \u001b[49m\u001b[43mbatch_size\u001b[49m\u001b[43m)\u001b[49m\u001b[43m,\u001b[49m\n\u001b[0;32m     47\u001b[0m \u001b[43m                    \u001b[49m\u001b[43mepochs\u001b[49m\u001b[38;5;241;43m=\u001b[39;49m\u001b[38;5;241;43m20\u001b[39;49m\u001b[43m)\u001b[49m\n",
            "File \u001b[1;32mc:\\Users\\openeg\\miniconda3\\envs\\gpu\\lib\\site-packages\\keras\\utils\\traceback_utils.py:64\u001b[0m, in \u001b[0;36mfilter_traceback.<locals>.error_handler\u001b[1;34m(*args, **kwargs)\u001b[0m\n\u001b[0;32m     62\u001b[0m filtered_tb \u001b[38;5;241m=\u001b[39m \u001b[38;5;28;01mNone\u001b[39;00m\n\u001b[0;32m     63\u001b[0m \u001b[38;5;28;01mtry\u001b[39;00m:\n\u001b[1;32m---> 64\u001b[0m   \u001b[38;5;28;01mreturn\u001b[39;00m fn(\u001b[38;5;241m*\u001b[39margs, \u001b[38;5;241m*\u001b[39m\u001b[38;5;241m*\u001b[39mkwargs)\n\u001b[0;32m     65\u001b[0m \u001b[38;5;28;01mexcept\u001b[39;00m \u001b[38;5;167;01mException\u001b[39;00m \u001b[38;5;28;01mas\u001b[39;00m e:  \u001b[38;5;66;03m# pylint: disable=broad-except\u001b[39;00m\n\u001b[0;32m     66\u001b[0m   filtered_tb \u001b[38;5;241m=\u001b[39m _process_traceback_frames(e\u001b[38;5;241m.\u001b[39m__traceback__)\n",
            "File \u001b[1;32mc:\\Users\\openeg\\miniconda3\\envs\\gpu\\lib\\site-packages\\keras\\engine\\training.py:1384\u001b[0m, in \u001b[0;36mModel.fit\u001b[1;34m(self, x, y, batch_size, epochs, verbose, callbacks, validation_split, validation_data, shuffle, class_weight, sample_weight, initial_epoch, steps_per_epoch, validation_steps, validation_batch_size, validation_freq, max_queue_size, workers, use_multiprocessing)\u001b[0m\n\u001b[0;32m   1377\u001b[0m \u001b[38;5;28;01mwith\u001b[39;00m tf\u001b[38;5;241m.\u001b[39mprofiler\u001b[38;5;241m.\u001b[39mexperimental\u001b[38;5;241m.\u001b[39mTrace(\n\u001b[0;32m   1378\u001b[0m     \u001b[38;5;124m'\u001b[39m\u001b[38;5;124mtrain\u001b[39m\u001b[38;5;124m'\u001b[39m,\n\u001b[0;32m   1379\u001b[0m     epoch_num\u001b[38;5;241m=\u001b[39mepoch,\n\u001b[0;32m   1380\u001b[0m     step_num\u001b[38;5;241m=\u001b[39mstep,\n\u001b[0;32m   1381\u001b[0m     batch_size\u001b[38;5;241m=\u001b[39mbatch_size,\n\u001b[0;32m   1382\u001b[0m     _r\u001b[38;5;241m=\u001b[39m\u001b[38;5;241m1\u001b[39m):\n\u001b[0;32m   1383\u001b[0m   callbacks\u001b[38;5;241m.\u001b[39mon_train_batch_begin(step)\n\u001b[1;32m-> 1384\u001b[0m   tmp_logs \u001b[38;5;241m=\u001b[39m \u001b[38;5;28;43mself\u001b[39;49m\u001b[38;5;241;43m.\u001b[39;49m\u001b[43mtrain_function\u001b[49m\u001b[43m(\u001b[49m\u001b[43miterator\u001b[49m\u001b[43m)\u001b[49m\n\u001b[0;32m   1385\u001b[0m   \u001b[38;5;28;01mif\u001b[39;00m data_handler\u001b[38;5;241m.\u001b[39mshould_sync:\n\u001b[0;32m   1386\u001b[0m     context\u001b[38;5;241m.\u001b[39masync_wait()\n",
            "File \u001b[1;32mc:\\Users\\openeg\\miniconda3\\envs\\gpu\\lib\\site-packages\\tensorflow\\python\\util\\traceback_utils.py:150\u001b[0m, in \u001b[0;36mfilter_traceback.<locals>.error_handler\u001b[1;34m(*args, **kwargs)\u001b[0m\n\u001b[0;32m    148\u001b[0m filtered_tb \u001b[38;5;241m=\u001b[39m \u001b[38;5;28;01mNone\u001b[39;00m\n\u001b[0;32m    149\u001b[0m \u001b[38;5;28;01mtry\u001b[39;00m:\n\u001b[1;32m--> 150\u001b[0m   \u001b[38;5;28;01mreturn\u001b[39;00m fn(\u001b[38;5;241m*\u001b[39margs, \u001b[38;5;241m*\u001b[39m\u001b[38;5;241m*\u001b[39mkwargs)\n\u001b[0;32m    151\u001b[0m \u001b[38;5;28;01mexcept\u001b[39;00m \u001b[38;5;167;01mException\u001b[39;00m \u001b[38;5;28;01mas\u001b[39;00m e:\n\u001b[0;32m    152\u001b[0m   filtered_tb \u001b[38;5;241m=\u001b[39m _process_traceback_frames(e\u001b[38;5;241m.\u001b[39m__traceback__)\n",
            "File \u001b[1;32mc:\\Users\\openeg\\miniconda3\\envs\\gpu\\lib\\site-packages\\tensorflow\\python\\eager\\def_function.py:915\u001b[0m, in \u001b[0;36mFunction.__call__\u001b[1;34m(self, *args, **kwds)\u001b[0m\n\u001b[0;32m    912\u001b[0m compiler \u001b[38;5;241m=\u001b[39m \u001b[38;5;124m\"\u001b[39m\u001b[38;5;124mxla\u001b[39m\u001b[38;5;124m\"\u001b[39m \u001b[38;5;28;01mif\u001b[39;00m \u001b[38;5;28mself\u001b[39m\u001b[38;5;241m.\u001b[39m_jit_compile \u001b[38;5;28;01melse\u001b[39;00m \u001b[38;5;124m\"\u001b[39m\u001b[38;5;124mnonXla\u001b[39m\u001b[38;5;124m\"\u001b[39m\n\u001b[0;32m    914\u001b[0m \u001b[38;5;28;01mwith\u001b[39;00m OptionalXlaContext(\u001b[38;5;28mself\u001b[39m\u001b[38;5;241m.\u001b[39m_jit_compile):\n\u001b[1;32m--> 915\u001b[0m   result \u001b[38;5;241m=\u001b[39m \u001b[38;5;28mself\u001b[39m\u001b[38;5;241m.\u001b[39m_call(\u001b[38;5;241m*\u001b[39margs, \u001b[38;5;241m*\u001b[39m\u001b[38;5;241m*\u001b[39mkwds)\n\u001b[0;32m    917\u001b[0m new_tracing_count \u001b[38;5;241m=\u001b[39m \u001b[38;5;28mself\u001b[39m\u001b[38;5;241m.\u001b[39mexperimental_get_tracing_count()\n\u001b[0;32m    918\u001b[0m without_tracing \u001b[38;5;241m=\u001b[39m (tracing_count \u001b[38;5;241m==\u001b[39m new_tracing_count)\n",
            "File \u001b[1;32mc:\\Users\\openeg\\miniconda3\\envs\\gpu\\lib\\site-packages\\tensorflow\\python\\eager\\def_function.py:947\u001b[0m, in \u001b[0;36mFunction._call\u001b[1;34m(self, *args, **kwds)\u001b[0m\n\u001b[0;32m    944\u001b[0m   \u001b[38;5;28mself\u001b[39m\u001b[38;5;241m.\u001b[39m_lock\u001b[38;5;241m.\u001b[39mrelease()\n\u001b[0;32m    945\u001b[0m   \u001b[38;5;66;03m# In this case we have created variables on the first call, so we run the\u001b[39;00m\n\u001b[0;32m    946\u001b[0m   \u001b[38;5;66;03m# defunned version which is guaranteed to never create variables.\u001b[39;00m\n\u001b[1;32m--> 947\u001b[0m   \u001b[38;5;28;01mreturn\u001b[39;00m \u001b[38;5;28mself\u001b[39m\u001b[38;5;241m.\u001b[39m_stateless_fn(\u001b[38;5;241m*\u001b[39margs, \u001b[38;5;241m*\u001b[39m\u001b[38;5;241m*\u001b[39mkwds)  \u001b[38;5;66;03m# pylint: disable=not-callable\u001b[39;00m\n\u001b[0;32m    948\u001b[0m \u001b[38;5;28;01melif\u001b[39;00m \u001b[38;5;28mself\u001b[39m\u001b[38;5;241m.\u001b[39m_stateful_fn \u001b[38;5;129;01mis\u001b[39;00m \u001b[38;5;129;01mnot\u001b[39;00m \u001b[38;5;28;01mNone\u001b[39;00m:\n\u001b[0;32m    949\u001b[0m   \u001b[38;5;66;03m# Release the lock early so that multiple threads can perform the call\u001b[39;00m\n\u001b[0;32m    950\u001b[0m   \u001b[38;5;66;03m# in parallel.\u001b[39;00m\n\u001b[0;32m    951\u001b[0m   \u001b[38;5;28mself\u001b[39m\u001b[38;5;241m.\u001b[39m_lock\u001b[38;5;241m.\u001b[39mrelease()\n",
            "File \u001b[1;32mc:\\Users\\openeg\\miniconda3\\envs\\gpu\\lib\\site-packages\\tensorflow\\python\\eager\\function.py:2956\u001b[0m, in \u001b[0;36mFunction.__call__\u001b[1;34m(self, *args, **kwargs)\u001b[0m\n\u001b[0;32m   2953\u001b[0m \u001b[38;5;28;01mwith\u001b[39;00m \u001b[38;5;28mself\u001b[39m\u001b[38;5;241m.\u001b[39m_lock:\n\u001b[0;32m   2954\u001b[0m   (graph_function,\n\u001b[0;32m   2955\u001b[0m    filtered_flat_args) \u001b[38;5;241m=\u001b[39m \u001b[38;5;28mself\u001b[39m\u001b[38;5;241m.\u001b[39m_maybe_define_function(args, kwargs)\n\u001b[1;32m-> 2956\u001b[0m \u001b[38;5;28;01mreturn\u001b[39;00m \u001b[43mgraph_function\u001b[49m\u001b[38;5;241;43m.\u001b[39;49m\u001b[43m_call_flat\u001b[49m\u001b[43m(\u001b[49m\n\u001b[0;32m   2957\u001b[0m \u001b[43m    \u001b[49m\u001b[43mfiltered_flat_args\u001b[49m\u001b[43m,\u001b[49m\u001b[43m \u001b[49m\u001b[43mcaptured_inputs\u001b[49m\u001b[38;5;241;43m=\u001b[39;49m\u001b[43mgraph_function\u001b[49m\u001b[38;5;241;43m.\u001b[39;49m\u001b[43mcaptured_inputs\u001b[49m\u001b[43m)\u001b[49m\n",
            "File \u001b[1;32mc:\\Users\\openeg\\miniconda3\\envs\\gpu\\lib\\site-packages\\tensorflow\\python\\eager\\function.py:1853\u001b[0m, in \u001b[0;36mConcreteFunction._call_flat\u001b[1;34m(self, args, captured_inputs, cancellation_manager)\u001b[0m\n\u001b[0;32m   1849\u001b[0m possible_gradient_type \u001b[38;5;241m=\u001b[39m gradients_util\u001b[38;5;241m.\u001b[39mPossibleTapeGradientTypes(args)\n\u001b[0;32m   1850\u001b[0m \u001b[38;5;28;01mif\u001b[39;00m (possible_gradient_type \u001b[38;5;241m==\u001b[39m gradients_util\u001b[38;5;241m.\u001b[39mPOSSIBLE_GRADIENT_TYPES_NONE\n\u001b[0;32m   1851\u001b[0m     \u001b[38;5;129;01mand\u001b[39;00m executing_eagerly):\n\u001b[0;32m   1852\u001b[0m   \u001b[38;5;66;03m# No tape is watching; skip to running the function.\u001b[39;00m\n\u001b[1;32m-> 1853\u001b[0m   \u001b[38;5;28;01mreturn\u001b[39;00m \u001b[38;5;28mself\u001b[39m\u001b[38;5;241m.\u001b[39m_build_call_outputs(\u001b[38;5;28;43mself\u001b[39;49m\u001b[38;5;241;43m.\u001b[39;49m\u001b[43m_inference_function\u001b[49m\u001b[38;5;241;43m.\u001b[39;49m\u001b[43mcall\u001b[49m\u001b[43m(\u001b[49m\n\u001b[0;32m   1854\u001b[0m \u001b[43m      \u001b[49m\u001b[43mctx\u001b[49m\u001b[43m,\u001b[49m\u001b[43m \u001b[49m\u001b[43margs\u001b[49m\u001b[43m,\u001b[49m\u001b[43m \u001b[49m\u001b[43mcancellation_manager\u001b[49m\u001b[38;5;241;43m=\u001b[39;49m\u001b[43mcancellation_manager\u001b[49m\u001b[43m)\u001b[49m)\n\u001b[0;32m   1855\u001b[0m forward_backward \u001b[38;5;241m=\u001b[39m \u001b[38;5;28mself\u001b[39m\u001b[38;5;241m.\u001b[39m_select_forward_and_backward_functions(\n\u001b[0;32m   1856\u001b[0m     args,\n\u001b[0;32m   1857\u001b[0m     possible_gradient_type,\n\u001b[0;32m   1858\u001b[0m     executing_eagerly)\n\u001b[0;32m   1859\u001b[0m forward_function, args_with_tangents \u001b[38;5;241m=\u001b[39m forward_backward\u001b[38;5;241m.\u001b[39mforward()\n",
            "File \u001b[1;32mc:\\Users\\openeg\\miniconda3\\envs\\gpu\\lib\\site-packages\\tensorflow\\python\\eager\\function.py:499\u001b[0m, in \u001b[0;36m_EagerDefinedFunction.call\u001b[1;34m(self, ctx, args, cancellation_manager)\u001b[0m\n\u001b[0;32m    497\u001b[0m \u001b[38;5;28;01mwith\u001b[39;00m _InterpolateFunctionError(\u001b[38;5;28mself\u001b[39m):\n\u001b[0;32m    498\u001b[0m   \u001b[38;5;28;01mif\u001b[39;00m cancellation_manager \u001b[38;5;129;01mis\u001b[39;00m \u001b[38;5;28;01mNone\u001b[39;00m:\n\u001b[1;32m--> 499\u001b[0m     outputs \u001b[38;5;241m=\u001b[39m \u001b[43mexecute\u001b[49m\u001b[38;5;241;43m.\u001b[39;49m\u001b[43mexecute\u001b[49m\u001b[43m(\u001b[49m\n\u001b[0;32m    500\u001b[0m \u001b[43m        \u001b[49m\u001b[38;5;28;43mstr\u001b[39;49m\u001b[43m(\u001b[49m\u001b[38;5;28;43mself\u001b[39;49m\u001b[38;5;241;43m.\u001b[39;49m\u001b[43msignature\u001b[49m\u001b[38;5;241;43m.\u001b[39;49m\u001b[43mname\u001b[49m\u001b[43m)\u001b[49m\u001b[43m,\u001b[49m\n\u001b[0;32m    501\u001b[0m \u001b[43m        \u001b[49m\u001b[43mnum_outputs\u001b[49m\u001b[38;5;241;43m=\u001b[39;49m\u001b[38;5;28;43mself\u001b[39;49m\u001b[38;5;241;43m.\u001b[39;49m\u001b[43m_num_outputs\u001b[49m\u001b[43m,\u001b[49m\n\u001b[0;32m    502\u001b[0m \u001b[43m        \u001b[49m\u001b[43minputs\u001b[49m\u001b[38;5;241;43m=\u001b[39;49m\u001b[43margs\u001b[49m\u001b[43m,\u001b[49m\n\u001b[0;32m    503\u001b[0m \u001b[43m        \u001b[49m\u001b[43mattrs\u001b[49m\u001b[38;5;241;43m=\u001b[39;49m\u001b[43mattrs\u001b[49m\u001b[43m,\u001b[49m\n\u001b[0;32m    504\u001b[0m \u001b[43m        \u001b[49m\u001b[43mctx\u001b[49m\u001b[38;5;241;43m=\u001b[39;49m\u001b[43mctx\u001b[49m\u001b[43m)\u001b[49m\n\u001b[0;32m    505\u001b[0m   \u001b[38;5;28;01melse\u001b[39;00m:\n\u001b[0;32m    506\u001b[0m     outputs \u001b[38;5;241m=\u001b[39m execute\u001b[38;5;241m.\u001b[39mexecute_with_cancellation(\n\u001b[0;32m    507\u001b[0m         \u001b[38;5;28mstr\u001b[39m(\u001b[38;5;28mself\u001b[39m\u001b[38;5;241m.\u001b[39msignature\u001b[38;5;241m.\u001b[39mname),\n\u001b[0;32m    508\u001b[0m         num_outputs\u001b[38;5;241m=\u001b[39m\u001b[38;5;28mself\u001b[39m\u001b[38;5;241m.\u001b[39m_num_outputs,\n\u001b[1;32m   (...)\u001b[0m\n\u001b[0;32m    511\u001b[0m         ctx\u001b[38;5;241m=\u001b[39mctx,\n\u001b[0;32m    512\u001b[0m         cancellation_manager\u001b[38;5;241m=\u001b[39mcancellation_manager)\n",
            "File \u001b[1;32mc:\\Users\\openeg\\miniconda3\\envs\\gpu\\lib\\site-packages\\tensorflow\\python\\eager\\execute.py:54\u001b[0m, in \u001b[0;36mquick_execute\u001b[1;34m(op_name, num_outputs, inputs, attrs, ctx, name)\u001b[0m\n\u001b[0;32m     52\u001b[0m \u001b[38;5;28;01mtry\u001b[39;00m:\n\u001b[0;32m     53\u001b[0m   ctx\u001b[38;5;241m.\u001b[39mensure_initialized()\n\u001b[1;32m---> 54\u001b[0m   tensors \u001b[38;5;241m=\u001b[39m \u001b[43mpywrap_tfe\u001b[49m\u001b[38;5;241;43m.\u001b[39;49m\u001b[43mTFE_Py_Execute\u001b[49m\u001b[43m(\u001b[49m\u001b[43mctx\u001b[49m\u001b[38;5;241;43m.\u001b[39;49m\u001b[43m_handle\u001b[49m\u001b[43m,\u001b[49m\u001b[43m \u001b[49m\u001b[43mdevice_name\u001b[49m\u001b[43m,\u001b[49m\u001b[43m \u001b[49m\u001b[43mop_name\u001b[49m\u001b[43m,\u001b[49m\n\u001b[0;32m     55\u001b[0m \u001b[43m                                      \u001b[49m\u001b[43minputs\u001b[49m\u001b[43m,\u001b[49m\u001b[43m \u001b[49m\u001b[43mattrs\u001b[49m\u001b[43m,\u001b[49m\u001b[43m \u001b[49m\u001b[43mnum_outputs\u001b[49m\u001b[43m)\u001b[49m\n\u001b[0;32m     56\u001b[0m \u001b[38;5;28;01mexcept\u001b[39;00m core\u001b[38;5;241m.\u001b[39m_NotOkStatusException \u001b[38;5;28;01mas\u001b[39;00m e:\n\u001b[0;32m     57\u001b[0m   \u001b[38;5;28;01mif\u001b[39;00m name \u001b[38;5;129;01mis\u001b[39;00m \u001b[38;5;129;01mnot\u001b[39;00m \u001b[38;5;28;01mNone\u001b[39;00m:\n",
            "\u001b[1;31mKeyboardInterrupt\u001b[0m: "
          ]
        }
      ],
      "source": [
        "import tensorflow as tf\n",
        "from tensorflow.keras.models import Sequential\n",
        "from tensorflow.keras.layers import Dense, Flatten, Dropout, SeparableConv2D\n",
        "from tensorflow.keras.applications import ResNet50\n",
        "\n",
        "class MyModel(tf.keras.Model):\n",
        "    def __init__(self, num_classes):\n",
        "        super(MyModel, self).__init__()\n",
        "        self.model = Sequential()\n",
        "        self.flatten = Flatten()\n",
        "        # self.depthwise_conv = SeparableConv2D(64, kernel_size=(3, 3), activation='relu', padding='same')\n",
        "\n",
        "        # self.dense1 = Dense(128, activation='relu')\n",
        "        # self.dense2 = Dense(64, activation='relu')\n",
        "        # self.dense3 = Dropout(0.3)\n",
        "        self.dense4 = Dense(32, activation='relu')\n",
        "        self.dense5 = Dropout(0.3)\n",
        "        self.dense6 = Dense(num_classes, activation='sigmoid')\n",
        "\n",
        "    def call(self, inputs):\n",
        "        x = self.model(inputs)\n",
        "        x = self.flatten(x)\n",
        "        # x = self.dense1(x)\n",
        "        # x = self.dense2(x)\n",
        "        # x = self.dense3(x)\n",
        "        # x = self.dense4(x)\n",
        "        x = self.dense5(x)\n",
        "        return self.dense6(x)\n",
        "\n",
        "# 이미지 제너레이터 객체 생성 및 데이터셋 로드\n",
        "train_generator = train_generator \n",
        "val_generator = val_generator\n",
        "\n",
        "# 모델 생성\n",
        "model = MyModel(num_classes=11)\n",
        "\n",
        "# 모델 컴파일\n",
        "model.compile(optimizer='adam',\n",
        "              loss='binary_crossentropy',\n",
        "              metrics=['accuracy'])\n",
        "\n",
        "# 모델 훈련\n",
        "history = model.fit(train_generator,\n",
        "                    steps_per_epoch=get_steps(len(train_df), batch_size), \n",
        "                    validation_data=val_generator,\n",
        "                    validation_steps=get_steps(len(val_df), batch_size),\n",
        "                    epochs=20)\n"
      ]
    },
    {
      "cell_type": "code",
      "execution_count": 18,
      "metadata": {},
      "outputs": [
        {
          "ename": "PermissionError",
          "evalue": "[Errno 13] Permission denied: 'C:\\\\Users\\\\openeg\\\\Downloads\\\\RangeRoverSportOBJ'",
          "output_type": "error",
          "traceback": [
            "\u001b[1;31m---------------------------------------------------------------------------\u001b[0m",
            "\u001b[1;31mPermissionError\u001b[0m                           Traceback (most recent call last)",
            "Cell \u001b[1;32mIn[18], line 34\u001b[0m\n\u001b[0;32m     31\u001b[0m model_file_path \u001b[38;5;241m=\u001b[39m \u001b[38;5;124mr\u001b[39m\u001b[38;5;124m'\u001b[39m\u001b[38;5;124mC:\u001b[39m\u001b[38;5;124m\\\u001b[39m\u001b[38;5;124mUsers\u001b[39m\u001b[38;5;124m\\\u001b[39m\u001b[38;5;124mopeneg\u001b[39m\u001b[38;5;124m\\\u001b[39m\u001b[38;5;124mDownloads\u001b[39m\u001b[38;5;124m\\\u001b[39m\u001b[38;5;124mRangeRoverSportOBJ\u001b[39m\u001b[38;5;124m'\u001b[39m\n\u001b[0;32m     33\u001b[0m \u001b[38;5;66;03m# 3D 모델 데이터를 로드합니다.\u001b[39;00m\n\u001b[1;32m---> 34\u001b[0m model_data \u001b[38;5;241m=\u001b[39m \u001b[43mload_3d_model_data\u001b[49m\u001b[43m(\u001b[49m\u001b[43mmodel_file_path\u001b[49m\u001b[43m)\u001b[49m\n\u001b[0;32m     36\u001b[0m \u001b[38;5;66;03m# 시각화 함수를 사용하여 3D 모델을 시각화합니다.\u001b[39;00m\n\u001b[0;32m     37\u001b[0m visualize_3d_model(model_data)\n",
            "Cell \u001b[1;32mIn[18], line 9\u001b[0m, in \u001b[0;36mload_3d_model_data\u001b[1;34m(file_path)\u001b[0m\n\u001b[0;32m      6\u001b[0m \u001b[38;5;28;01mdef\u001b[39;00m \u001b[38;5;21mload_3d_model_data\u001b[39m(file_path):\n\u001b[0;32m      7\u001b[0m     \u001b[38;5;66;03m# 파일에서 데이터를 로드합니다. (파일 형식 및 데이터 구조에 따라 적절한 방법을 사용하세요)\u001b[39;00m\n\u001b[0;32m      8\u001b[0m     \u001b[38;5;66;03m# 예시로 numpy 배열로 가정합니다.\u001b[39;00m\n\u001b[1;32m----> 9\u001b[0m     model_data \u001b[38;5;241m=\u001b[39m \u001b[43mnp\u001b[49m\u001b[38;5;241;43m.\u001b[39;49m\u001b[43mload\u001b[49m\u001b[43m(\u001b[49m\u001b[43mfile_path\u001b[49m\u001b[43m)\u001b[49m\n\u001b[0;32m     10\u001b[0m     \u001b[38;5;28;01mreturn\u001b[39;00m model_data\n",
            "File \u001b[1;32mc:\\Users\\openeg\\miniconda3\\envs\\gpu\\lib\\site-packages\\numpy\\lib\\npyio.py:427\u001b[0m, in \u001b[0;36mload\u001b[1;34m(file, mmap_mode, allow_pickle, fix_imports, encoding, max_header_size)\u001b[0m\n\u001b[0;32m    425\u001b[0m     own_fid \u001b[38;5;241m=\u001b[39m \u001b[38;5;28;01mFalse\u001b[39;00m\n\u001b[0;32m    426\u001b[0m \u001b[38;5;28;01melse\u001b[39;00m:\n\u001b[1;32m--> 427\u001b[0m     fid \u001b[38;5;241m=\u001b[39m stack\u001b[38;5;241m.\u001b[39menter_context(\u001b[38;5;28;43mopen\u001b[39;49m\u001b[43m(\u001b[49m\u001b[43mos_fspath\u001b[49m\u001b[43m(\u001b[49m\u001b[43mfile\u001b[49m\u001b[43m)\u001b[49m\u001b[43m,\u001b[49m\u001b[43m \u001b[49m\u001b[38;5;124;43m\"\u001b[39;49m\u001b[38;5;124;43mrb\u001b[39;49m\u001b[38;5;124;43m\"\u001b[39;49m\u001b[43m)\u001b[49m)\n\u001b[0;32m    428\u001b[0m     own_fid \u001b[38;5;241m=\u001b[39m \u001b[38;5;28;01mTrue\u001b[39;00m\n\u001b[0;32m    430\u001b[0m \u001b[38;5;66;03m# Code to distinguish from NumPy binary files and pickles.\u001b[39;00m\n",
            "\u001b[1;31mPermissionError\u001b[0m: [Errno 13] Permission denied: 'C:\\\\Users\\\\openeg\\\\Downloads\\\\RangeRoverSportOBJ'"
          ]
        }
      ],
      "source": [
        "import numpy as np\n",
        "import matplotlib.pyplot as plt\n",
        "from mpl_toolkits.mplot3d import Axes3D\n",
        "\n",
        "# 3D 모델 데이터를 로드합니다.\n",
        "def load_3d_model_data(file_path):\n",
        "    # 파일에서 데이터를 로드합니다. (파일 형식 및 데이터 구조에 따라 적절한 방법을 사용하세요)\n",
        "    # 예시로 numpy 배열로 가정합니다.\n",
        "    model_data = np.load(file_path)\n",
        "    return model_data\n",
        "\n",
        "# 3D 모델 데이터를 시각화합니다.\n",
        "def visualize_3d_model(model_data):\n",
        "    fig = plt.figure()\n",
        "    ax = fig.add_subplot(111, projection='3d')\n",
        "    \n",
        "    # 모델 데이터에서 x, y, z 좌표를 추출합니다.\n",
        "    x, y, z = model_data[:, 0], model_data[:, 1], model_data[:, 2]\n",
        "    \n",
        "    # 3D 산점도를 생성하여 시각화합니다.\n",
        "    ax.scatter(x, y, z, c=z, cmap='viridis')  # z 좌표를 색상으로 표시합니다.\n",
        "    \n",
        "    # 각 축의 레이블을 추가합니다.\n",
        "    ax.set_xlabel('X')\n",
        "    ax.set_ylabel('Y')\n",
        "    ax.set_zlabel('Z')\n",
        "    \n",
        "    plt.show()\n",
        "\n",
        "# 3D 모델 데이터 파일 경로\n",
        "model_file_path = r'C:\\Users\\openeg\\Downloads\\RangeRoverSportOBJ'\n",
        "\n",
        "# 3D 모델 데이터를 로드합니다.\n",
        "model_data = load_3d_model_data(model_file_path)\n",
        "\n",
        "# 시각화 함수를 사용하여 3D 모델을 시각화합니다.\n",
        "visualize_3d_model(model_data)\n"
      ]
    }
  ],
  "metadata": {
    "accelerator": "TPU",
    "colab": {
      "provenance": []
    },
    "kernelspec": {
      "display_name": "Python 3",
      "name": "python3"
    },
    "language_info": {
      "codemirror_mode": {
        "name": "ipython",
        "version": 3
      },
      "file_extension": ".py",
      "mimetype": "text/x-python",
      "name": "python",
      "nbconvert_exporter": "python",
      "pygments_lexer": "ipython3",
      "version": "3.9.18"
    }
  },
  "nbformat": 4,
  "nbformat_minor": 0
}
